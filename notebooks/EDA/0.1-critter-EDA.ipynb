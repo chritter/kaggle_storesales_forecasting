{
 "cells": [
  {
   "cell_type": "markdown",
   "metadata": {},
   "source": [
    "# EDA 1\n",
    "\n",
    "### Goals\n",
    "\n",
    "* Initial Exploration of Dataset\n",
    "* Postpone holidays and oil analysis due to scope for next EDA notebook. Both\n",
    "are not directly related to the sales.\n",
    "\n",
    "### Commments"
   ]
  },
  {
   "cell_type": "code",
   "execution_count": 516,
   "metadata": {},
   "outputs": [],
   "source": [
    "import pandas as pd\n",
    "import missingno as msno\n",
    "import seaborn as sns\n",
    "sns.set_context(\"talk\", font_scale=1.4)\n",
    "import plotly_express as px\n",
    "\n",
    "from plotly.subplots import make_subplots\n",
    "import plotly.graph_objects as go\n"
   ]
  },
  {
   "cell_type": "markdown",
   "metadata": {},
   "source": [
    "## TOC:\n",
    "* [I. Goals](#first-bullet)\n",
    "* [II. Data Extraction](#second-bullet)\n",
    "* [III. Meet & Greet](#third-bullet)\n",
    "* [IV. Univariate Analysis](#fourth-bullet)\n",
    "* [V. Multivariate Analysis](#fifth-bullet)\n"
   ]
  },
  {
   "cell_type": "markdown",
   "metadata": {},
   "source": [
    "# I. Goals  <a class=\"anchor\" id=\"first-bullet\"></a>"
   ]
  },
  {
   "cell_type": "markdown",
   "metadata": {},
   "source": [
    "Use regression models to predict sales of thousands pf production families sold\n",
    "at Favoriata Stores in Ecuador.\n",
    "\n",
    "## Forecasting Scenario\n",
    "\n",
    "Unclear what the forecasting scenario should be, e.g. forecasting horizon\n",
    "which would inform the evaluation strategy and the data can be considered as \n",
    "features. \n",
    "In a scenario if predictions are done at the end of the day for that day\n",
    "(same-day predictions) all features of that day could\n",
    "be used as they are available, assuming all features are available at end of day (e.g. oilprice). other\n",
    "scenarios would have different constraints.\n",
    "\n",
    "> I assume the same-day predictions described above!\n",
    "\n",
    "## Evaluation: \n",
    "\n",
    "### Train/Test Splits\n",
    "\n",
    "Test Set construction via split in time. The dates in the test data are for the 15 days after the last date in the training data.\n",
    "\n",
    "\n",
    "### Metric\n",
    "\n",
    "RMSLE = $ [\\sqrt{ \\frac{1}{n} \\sum_{i=1}^n \\left(\\log (1 + \\hat{y}_i) - \\log (1 + y_i)\\right)^2}]$\n",
    "\n",
    "Note that this metric penalizes an under-predicted estimate greater than an over-predicted estimate.\n",
    "\n",
    "> is it worse to have more products in stock or to have less products than what\n",
    "the demand is? Former looses money, latter does not earn money at capacity.\n",
    "This metric is best to use when targets having exponential growth.\n",
    "\n",
    "> effect of overprediction\n",
    "\n",
    "\n",
    "### Domain Transfer\n",
    "\n",
    "NOte that the transfer of the model to new stores as different domains is questionable\n",
    "and could be investigated using the existing data, as data has store labels. Note\n",
    "this is not specified in the goals.\n",
    "\n",
    "### Product Categories\n",
    "\n",
    "* HOw well are product categories defined? Is there overlap? Errors or noise?\n",
    "* No definition is provided\n",
    "\n",
    "### Sales vs Promotion\n",
    "\n",
    "* Sales can be float, e.g. 1.5g of X, but onpromotion gives integer values.\n",
    "\n"
   ]
  },
  {
   "cell_type": "code",
   "execution_count": 283,
   "metadata": {},
   "outputs": [],
   "source": [
    "from sklearn.metrics import mean_squared_log_error \n",
    "import numpy as np\n",
    "from pathlib import Path"
   ]
  },
  {
   "cell_type": "code",
   "execution_count": 284,
   "metadata": {},
   "outputs": [],
   "source": [
    "def rmsle(y, y_pred):\n",
    "    return np.sqrt(mean_squared_log_error(y, y_pred))"
   ]
  },
  {
   "cell_type": "markdown",
   "metadata": {},
   "source": [
    "# II. Data Extraction <a class=\"anchor\" id=\"second-bullet\"></a>\n",
    "\n",
    "Data from some (all?) stores of the Favoriate chain, across a fixed \n",
    "time range, spread over multiple files and provided by kaggle.\n",
    "\n",
    "> Note that the transactions.csv is not described on the Kaggle website\n",
    "but provided as a file. The containing transactions variable need to \n",
    "be used under assumptions to be made."
   ]
  },
  {
   "cell_type": "code",
   "execution_count": 285,
   "metadata": {},
   "outputs": [],
   "source": [
    "raw_data_path = Path(\"../../data/raw/\")"
   ]
  },
  {
   "cell_type": "code",
   "execution_count": 286,
   "metadata": {},
   "outputs": [
    {
     "name": "stdout",
     "output_type": "stream",
     "text": [
      "holidays_events.csv                     stores.csv\n",
      "oil.csv                                 test.csv\n",
      "sample_submission.csv                   train.csv\n",
      "store-sales-time-series-forecasting.zip transactions.csv\n"
     ]
    }
   ],
   "source": [
    "! ls $raw_data_path"
   ]
  },
  {
   "cell_type": "code",
   "execution_count": 287,
   "metadata": {},
   "outputs": [
    {
     "name": "stdout",
     "output_type": "stream",
     "text": [
      " 24K\t../../data/raw/holidays_events.csv\n",
      " 24K\t../../data/raw/oil.csv\n",
      "336K\t../../data/raw/sample_submission.csv\n",
      " 21M\t../../data/raw/store-sales-time-series-forecasting.zip\n",
      "4.0K\t../../data/raw/stores.csv\n",
      "1.0M\t../../data/raw/test.csv\n",
      "116M\t../../data/raw/train.csv\n",
      "1.5M\t../../data/raw/transactions.csv\n"
     ]
    }
   ],
   "source": [
    "! du -h $raw_data_path/*"
   ]
  },
  {
   "cell_type": "code",
   "execution_count": 288,
   "metadata": {},
   "outputs": [],
   "source": [
    "train = pd.read_csv(raw_data_path/\"train.csv\", na_values=\"\") "
   ]
  },
  {
   "cell_type": "code",
   "execution_count": 289,
   "metadata": {},
   "outputs": [
    {
     "data": {
      "text/plain": [
       "(3000888, 6)"
      ]
     },
     "execution_count": 289,
     "metadata": {},
     "output_type": "execute_result"
    }
   ],
   "source": [
    "train.shape"
   ]
  },
  {
   "cell_type": "markdown",
   "metadata": {},
   "source": [
    "Note train data size as above >1M rows, can justify distributed\n",
    "computing such as using Dask, PySpark."
   ]
  },
  {
   "cell_type": "code",
   "execution_count": 290,
   "metadata": {},
   "outputs": [],
   "source": [
    "test = pd.read_csv(raw_data_path/\"test.csv\", na_values=\"\")"
   ]
  },
  {
   "cell_type": "code",
   "execution_count": 291,
   "metadata": {},
   "outputs": [
    {
     "data": {
      "text/plain": [
       "(28512, 5)"
      ]
     },
     "execution_count": 291,
     "metadata": {},
     "output_type": "execute_result"
    }
   ],
   "source": [
    "test.shape"
   ]
  },
  {
   "cell_type": "code",
   "execution_count": 292,
   "metadata": {},
   "outputs": [],
   "source": [
    "stores = pd.read_csv(raw_data_path/\"stores.csv\", na_values=\"\")"
   ]
  },
  {
   "cell_type": "code",
   "execution_count": 293,
   "metadata": {},
   "outputs": [
    {
     "data": {
      "text/plain": [
       "(54, 5)"
      ]
     },
     "execution_count": 293,
     "metadata": {},
     "output_type": "execute_result"
    }
   ],
   "source": [
    "stores.shape"
   ]
  },
  {
   "cell_type": "code",
   "execution_count": 327,
   "metadata": {},
   "outputs": [],
   "source": [
    "transactions = pd.read_csv(raw_data_path/\"transactions.csv\", na_values=\"\")"
   ]
  },
  {
   "cell_type": "code",
   "execution_count": 328,
   "metadata": {},
   "outputs": [
    {
     "data": {
      "text/plain": [
       "(83488, 3)"
      ]
     },
     "execution_count": 328,
     "metadata": {},
     "output_type": "execute_result"
    }
   ],
   "source": [
    "transactions.shape"
   ]
  },
  {
   "cell_type": "markdown",
   "metadata": {},
   "source": [
    "# III. Meet & Greet  <a class=\"anchor\" id=\"third-bullet\"></a>\n",
    "\n",
    "Variables:\n",
    "\n",
    "* store_nbr: identifies the store at which the products are sold.\n",
    "* family: identifies the type of product sold.\n",
    "* sales: gives the total sales for a product family at a particular store at a given date. Fractional values are possible since products can be sold in fractional units (1.5 kg of cheese, for instance, as opposed to 1 bag of chips). Can be 0!\n",
    "* onpromotion: gives the total number of items in a product family that were being promoted at a store at a given date.\n",
    "\n",
    "\n",
    "* city: city of store\n",
    "* type: type of store, not clear how type is defined.\n",
    "* cluster: similar to other stores of same type of store. Not clear how cluster\n",
    "was done, based on which similarity attributes.\n",
    "\n",
    "\n",
    "* transactions: assume number of transactions. I define a transaction as a single\n",
    "payment by a customer (can have multiple products sold.)\n"
   ]
  },
  {
   "cell_type": "markdown",
   "metadata": {},
   "source": [
    "> data from 54 stores."
   ]
  },
  {
   "cell_type": "code",
   "execution_count": 295,
   "metadata": {},
   "outputs": [
    {
     "data": {
      "text/plain": [
       "0.9905882352941177"
      ]
     },
     "execution_count": 295,
     "metadata": {},
     "output_type": "execute_result"
    }
   ],
   "source": [
    "train.shape[0]/(train.shape[0] + test.shape[0])"
   ]
  },
  {
   "cell_type": "markdown",
   "metadata": {},
   "source": [
    "> Odd train-test ratio of just 1% of data being test data for Kaggle\n",
    "submission."
   ]
  },
  {
   "cell_type": "code",
   "execution_count": 296,
   "metadata": {},
   "outputs": [
    {
     "data": {
      "text/html": [
       "<div>\n",
       "<style scoped>\n",
       "    .dataframe tbody tr th:only-of-type {\n",
       "        vertical-align: middle;\n",
       "    }\n",
       "\n",
       "    .dataframe tbody tr th {\n",
       "        vertical-align: top;\n",
       "    }\n",
       "\n",
       "    .dataframe thead th {\n",
       "        text-align: right;\n",
       "    }\n",
       "</style>\n",
       "<table border=\"1\" class=\"dataframe\">\n",
       "  <thead>\n",
       "    <tr style=\"text-align: right;\">\n",
       "      <th></th>\n",
       "      <th>id</th>\n",
       "      <th>date</th>\n",
       "      <th>store_nbr</th>\n",
       "      <th>family</th>\n",
       "      <th>sales</th>\n",
       "      <th>onpromotion</th>\n",
       "    </tr>\n",
       "  </thead>\n",
       "  <tbody>\n",
       "    <tr>\n",
       "      <th>0</th>\n",
       "      <td>0</td>\n",
       "      <td>2013-01-01</td>\n",
       "      <td>1</td>\n",
       "      <td>AUTOMOTIVE</td>\n",
       "      <td>0.0</td>\n",
       "      <td>0</td>\n",
       "    </tr>\n",
       "    <tr>\n",
       "      <th>1</th>\n",
       "      <td>1</td>\n",
       "      <td>2013-01-01</td>\n",
       "      <td>1</td>\n",
       "      <td>BABY CARE</td>\n",
       "      <td>0.0</td>\n",
       "      <td>0</td>\n",
       "    </tr>\n",
       "    <tr>\n",
       "      <th>2</th>\n",
       "      <td>2</td>\n",
       "      <td>2013-01-01</td>\n",
       "      <td>1</td>\n",
       "      <td>BEAUTY</td>\n",
       "      <td>0.0</td>\n",
       "      <td>0</td>\n",
       "    </tr>\n",
       "    <tr>\n",
       "      <th>3</th>\n",
       "      <td>3</td>\n",
       "      <td>2013-01-01</td>\n",
       "      <td>1</td>\n",
       "      <td>BEVERAGES</td>\n",
       "      <td>0.0</td>\n",
       "      <td>0</td>\n",
       "    </tr>\n",
       "    <tr>\n",
       "      <th>4</th>\n",
       "      <td>4</td>\n",
       "      <td>2013-01-01</td>\n",
       "      <td>1</td>\n",
       "      <td>BOOKS</td>\n",
       "      <td>0.0</td>\n",
       "      <td>0</td>\n",
       "    </tr>\n",
       "  </tbody>\n",
       "</table>\n",
       "</div>"
      ],
      "text/plain": [
       "   id        date  store_nbr      family  sales  onpromotion\n",
       "0   0  2013-01-01          1  AUTOMOTIVE    0.0            0\n",
       "1   1  2013-01-01          1   BABY CARE    0.0            0\n",
       "2   2  2013-01-01          1      BEAUTY    0.0            0\n",
       "3   3  2013-01-01          1   BEVERAGES    0.0            0\n",
       "4   4  2013-01-01          1       BOOKS    0.0            0"
      ]
     },
     "execution_count": 296,
     "metadata": {},
     "output_type": "execute_result"
    }
   ],
   "source": [
    "train.head()"
   ]
  },
  {
   "cell_type": "code",
   "execution_count": 297,
   "metadata": {},
   "outputs": [
    {
     "data": {
      "text/html": [
       "<div>\n",
       "<style scoped>\n",
       "    .dataframe tbody tr th:only-of-type {\n",
       "        vertical-align: middle;\n",
       "    }\n",
       "\n",
       "    .dataframe tbody tr th {\n",
       "        vertical-align: top;\n",
       "    }\n",
       "\n",
       "    .dataframe thead th {\n",
       "        text-align: right;\n",
       "    }\n",
       "</style>\n",
       "<table border=\"1\" class=\"dataframe\">\n",
       "  <thead>\n",
       "    <tr style=\"text-align: right;\">\n",
       "      <th></th>\n",
       "      <th>id</th>\n",
       "      <th>date</th>\n",
       "      <th>store_nbr</th>\n",
       "      <th>family</th>\n",
       "      <th>sales</th>\n",
       "      <th>onpromotion</th>\n",
       "    </tr>\n",
       "  </thead>\n",
       "  <tbody>\n",
       "    <tr>\n",
       "      <th>1016895</th>\n",
       "      <td>1016895</td>\n",
       "      <td>2014-07-26</td>\n",
       "      <td>41</td>\n",
       "      <td>AUTOMOTIVE</td>\n",
       "      <td>3.000</td>\n",
       "      <td>0</td>\n",
       "    </tr>\n",
       "    <tr>\n",
       "      <th>121235</th>\n",
       "      <td>121235</td>\n",
       "      <td>2013-03-10</td>\n",
       "      <td>10</td>\n",
       "      <td>PET SUPPLIES</td>\n",
       "      <td>0.000</td>\n",
       "      <td>0</td>\n",
       "    </tr>\n",
       "    <tr>\n",
       "      <th>488669</th>\n",
       "      <td>488669</td>\n",
       "      <td>2013-10-02</td>\n",
       "      <td>20</td>\n",
       "      <td>BREAD/BAKERY</td>\n",
       "      <td>0.000</td>\n",
       "      <td>0</td>\n",
       "    </tr>\n",
       "    <tr>\n",
       "      <th>2066791</th>\n",
       "      <td>2066791</td>\n",
       "      <td>2016-03-08</td>\n",
       "      <td>5</td>\n",
       "      <td>BABY CARE</td>\n",
       "      <td>0.000</td>\n",
       "      <td>0</td>\n",
       "    </tr>\n",
       "    <tr>\n",
       "      <th>2502014</th>\n",
       "      <td>2502014</td>\n",
       "      <td>2016-11-08</td>\n",
       "      <td>11</td>\n",
       "      <td>LAWN AND GARDEN</td>\n",
       "      <td>1.000</td>\n",
       "      <td>0</td>\n",
       "    </tr>\n",
       "    <tr>\n",
       "      <th>197514</th>\n",
       "      <td>197514</td>\n",
       "      <td>2013-04-21</td>\n",
       "      <td>50</td>\n",
       "      <td>DELI</td>\n",
       "      <td>571.485</td>\n",
       "      <td>0</td>\n",
       "    </tr>\n",
       "    <tr>\n",
       "      <th>2349454</th>\n",
       "      <td>2349454</td>\n",
       "      <td>2016-08-14</td>\n",
       "      <td>30</td>\n",
       "      <td>LADIESWEAR</td>\n",
       "      <td>1.000</td>\n",
       "      <td>0</td>\n",
       "    </tr>\n",
       "    <tr>\n",
       "      <th>2318771</th>\n",
       "      <td>2318771</td>\n",
       "      <td>2016-07-28</td>\n",
       "      <td>2</td>\n",
       "      <td>PET SUPPLIES</td>\n",
       "      <td>5.000</td>\n",
       "      <td>0</td>\n",
       "    </tr>\n",
       "    <tr>\n",
       "      <th>2219510</th>\n",
       "      <td>2219510</td>\n",
       "      <td>2016-06-02</td>\n",
       "      <td>34</td>\n",
       "      <td>PREPARED FOODS</td>\n",
       "      <td>31.000</td>\n",
       "      <td>0</td>\n",
       "    </tr>\n",
       "    <tr>\n",
       "      <th>1800913</th>\n",
       "      <td>1800913</td>\n",
       "      <td>2015-10-10</td>\n",
       "      <td>4</td>\n",
       "      <td>BOOKS</td>\n",
       "      <td>0.000</td>\n",
       "      <td>0</td>\n",
       "    </tr>\n",
       "    <tr>\n",
       "      <th>1667247</th>\n",
       "      <td>1667247</td>\n",
       "      <td>2015-07-27</td>\n",
       "      <td>39</td>\n",
       "      <td>LINGERIE</td>\n",
       "      <td>6.000</td>\n",
       "      <td>0</td>\n",
       "    </tr>\n",
       "    <tr>\n",
       "      <th>2519551</th>\n",
       "      <td>2519551</td>\n",
       "      <td>2016-11-17</td>\n",
       "      <td>53</td>\n",
       "      <td>BABY CARE</td>\n",
       "      <td>0.000</td>\n",
       "      <td>0</td>\n",
       "    </tr>\n",
       "    <tr>\n",
       "      <th>1869765</th>\n",
       "      <td>1869765</td>\n",
       "      <td>2015-11-18</td>\n",
       "      <td>21</td>\n",
       "      <td>HOME CARE</td>\n",
       "      <td>234.000</td>\n",
       "      <td>0</td>\n",
       "    </tr>\n",
       "    <tr>\n",
       "      <th>1971396</th>\n",
       "      <td>1971396</td>\n",
       "      <td>2016-01-15</td>\n",
       "      <td>23</td>\n",
       "      <td>DELI</td>\n",
       "      <td>113.468</td>\n",
       "      <td>44</td>\n",
       "    </tr>\n",
       "    <tr>\n",
       "      <th>760142</th>\n",
       "      <td>760142</td>\n",
       "      <td>2014-03-04</td>\n",
       "      <td>37</td>\n",
       "      <td>LAWN AND GARDEN</td>\n",
       "      <td>8.000</td>\n",
       "      <td>0</td>\n",
       "    </tr>\n",
       "    <tr>\n",
       "      <th>2835519</th>\n",
       "      <td>2835519</td>\n",
       "      <td>2017-05-15</td>\n",
       "      <td>19</td>\n",
       "      <td>PLAYERS AND ELECTRONICS</td>\n",
       "      <td>7.000</td>\n",
       "      <td>0</td>\n",
       "    </tr>\n",
       "    <tr>\n",
       "      <th>254707</th>\n",
       "      <td>254707</td>\n",
       "      <td>2013-05-23</td>\n",
       "      <td>6</td>\n",
       "      <td>GROCERY II</td>\n",
       "      <td>51.000</td>\n",
       "      <td>0</td>\n",
       "    </tr>\n",
       "    <tr>\n",
       "      <th>127008</th>\n",
       "      <td>127008</td>\n",
       "      <td>2013-03-13</td>\n",
       "      <td>22</td>\n",
       "      <td>MEATS</td>\n",
       "      <td>0.000</td>\n",
       "      <td>0</td>\n",
       "    </tr>\n",
       "    <tr>\n",
       "      <th>540392</th>\n",
       "      <td>540392</td>\n",
       "      <td>2013-10-31</td>\n",
       "      <td>21</td>\n",
       "      <td>HOME APPLIANCES</td>\n",
       "      <td>0.000</td>\n",
       "      <td>0</td>\n",
       "    </tr>\n",
       "    <tr>\n",
       "      <th>2013544</th>\n",
       "      <td>2013544</td>\n",
       "      <td>2016-02-07</td>\n",
       "      <td>6</td>\n",
       "      <td>HOME AND KITCHEN II</td>\n",
       "      <td>150.000</td>\n",
       "      <td>2</td>\n",
       "    </tr>\n",
       "  </tbody>\n",
       "</table>\n",
       "</div>"
      ],
      "text/plain": [
       "              id        date  store_nbr                   family    sales  \\\n",
       "1016895  1016895  2014-07-26         41               AUTOMOTIVE    3.000   \n",
       "121235    121235  2013-03-10         10             PET SUPPLIES    0.000   \n",
       "488669    488669  2013-10-02         20             BREAD/BAKERY    0.000   \n",
       "2066791  2066791  2016-03-08          5                BABY CARE    0.000   \n",
       "2502014  2502014  2016-11-08         11          LAWN AND GARDEN    1.000   \n",
       "197514    197514  2013-04-21         50                     DELI  571.485   \n",
       "2349454  2349454  2016-08-14         30               LADIESWEAR    1.000   \n",
       "2318771  2318771  2016-07-28          2             PET SUPPLIES    5.000   \n",
       "2219510  2219510  2016-06-02         34           PREPARED FOODS   31.000   \n",
       "1800913  1800913  2015-10-10          4                    BOOKS    0.000   \n",
       "1667247  1667247  2015-07-27         39                 LINGERIE    6.000   \n",
       "2519551  2519551  2016-11-17         53                BABY CARE    0.000   \n",
       "1869765  1869765  2015-11-18         21                HOME CARE  234.000   \n",
       "1971396  1971396  2016-01-15         23                     DELI  113.468   \n",
       "760142    760142  2014-03-04         37          LAWN AND GARDEN    8.000   \n",
       "2835519  2835519  2017-05-15         19  PLAYERS AND ELECTRONICS    7.000   \n",
       "254707    254707  2013-05-23          6               GROCERY II   51.000   \n",
       "127008    127008  2013-03-13         22                    MEATS    0.000   \n",
       "540392    540392  2013-10-31         21          HOME APPLIANCES    0.000   \n",
       "2013544  2013544  2016-02-07          6      HOME AND KITCHEN II  150.000   \n",
       "\n",
       "         onpromotion  \n",
       "1016895            0  \n",
       "121235             0  \n",
       "488669             0  \n",
       "2066791            0  \n",
       "2502014            0  \n",
       "197514             0  \n",
       "2349454            0  \n",
       "2318771            0  \n",
       "2219510            0  \n",
       "1800913            0  \n",
       "1667247            0  \n",
       "2519551            0  \n",
       "1869765            0  \n",
       "1971396           44  \n",
       "760142             0  \n",
       "2835519            0  \n",
       "254707             0  \n",
       "127008             0  \n",
       "540392             0  \n",
       "2013544            2  "
      ]
     },
     "execution_count": 297,
     "metadata": {},
     "output_type": "execute_result"
    }
   ],
   "source": [
    "train.sample(20, random_state=1)"
   ]
  },
  {
   "cell_type": "code",
   "execution_count": 340,
   "metadata": {},
   "outputs": [
    {
     "data": {
      "text/html": [
       "<div>\n",
       "<style scoped>\n",
       "    .dataframe tbody tr th:only-of-type {\n",
       "        vertical-align: middle;\n",
       "    }\n",
       "\n",
       "    .dataframe tbody tr th {\n",
       "        vertical-align: top;\n",
       "    }\n",
       "\n",
       "    .dataframe thead th {\n",
       "        text-align: right;\n",
       "    }\n",
       "</style>\n",
       "<table border=\"1\" class=\"dataframe\">\n",
       "  <thead>\n",
       "    <tr style=\"text-align: right;\">\n",
       "      <th></th>\n",
       "      <th>id</th>\n",
       "      <th>date</th>\n",
       "      <th>store_nbr</th>\n",
       "      <th>family</th>\n",
       "      <th>sales</th>\n",
       "      <th>onpromotion</th>\n",
       "    </tr>\n",
       "  </thead>\n",
       "  <tbody>\n",
       "    <tr>\n",
       "      <th>3000883</th>\n",
       "      <td>3000883</td>\n",
       "      <td>2017-08-15</td>\n",
       "      <td>9</td>\n",
       "      <td>POULTRY</td>\n",
       "      <td>438.133</td>\n",
       "      <td>0</td>\n",
       "    </tr>\n",
       "    <tr>\n",
       "      <th>3000884</th>\n",
       "      <td>3000884</td>\n",
       "      <td>2017-08-15</td>\n",
       "      <td>9</td>\n",
       "      <td>PREPARED FOODS</td>\n",
       "      <td>154.553</td>\n",
       "      <td>1</td>\n",
       "    </tr>\n",
       "    <tr>\n",
       "      <th>3000885</th>\n",
       "      <td>3000885</td>\n",
       "      <td>2017-08-15</td>\n",
       "      <td>9</td>\n",
       "      <td>PRODUCE</td>\n",
       "      <td>2419.729</td>\n",
       "      <td>148</td>\n",
       "    </tr>\n",
       "    <tr>\n",
       "      <th>3000886</th>\n",
       "      <td>3000886</td>\n",
       "      <td>2017-08-15</td>\n",
       "      <td>9</td>\n",
       "      <td>SCHOOL AND OFFICE SUPPLIES</td>\n",
       "      <td>121.000</td>\n",
       "      <td>8</td>\n",
       "    </tr>\n",
       "    <tr>\n",
       "      <th>3000887</th>\n",
       "      <td>3000887</td>\n",
       "      <td>2017-08-15</td>\n",
       "      <td>9</td>\n",
       "      <td>SEAFOOD</td>\n",
       "      <td>16.000</td>\n",
       "      <td>0</td>\n",
       "    </tr>\n",
       "  </tbody>\n",
       "</table>\n",
       "</div>"
      ],
      "text/plain": [
       "              id       date store_nbr                      family     sales  \\\n",
       "3000883  3000883 2017-08-15         9                     POULTRY   438.133   \n",
       "3000884  3000884 2017-08-15         9              PREPARED FOODS   154.553   \n",
       "3000885  3000885 2017-08-15         9                     PRODUCE  2419.729   \n",
       "3000886  3000886 2017-08-15         9  SCHOOL AND OFFICE SUPPLIES   121.000   \n",
       "3000887  3000887 2017-08-15         9                     SEAFOOD    16.000   \n",
       "\n",
       "         onpromotion  \n",
       "3000883            0  \n",
       "3000884            1  \n",
       "3000885          148  \n",
       "3000886            8  \n",
       "3000887            0  "
      ]
     },
     "execution_count": 340,
     "metadata": {},
     "output_type": "execute_result"
    }
   ],
   "source": [
    "train.tail()"
   ]
  },
  {
   "cell_type": "code",
   "execution_count": 298,
   "metadata": {},
   "outputs": [
    {
     "data": {
      "text/html": [
       "<div>\n",
       "<style scoped>\n",
       "    .dataframe tbody tr th:only-of-type {\n",
       "        vertical-align: middle;\n",
       "    }\n",
       "\n",
       "    .dataframe tbody tr th {\n",
       "        vertical-align: top;\n",
       "    }\n",
       "\n",
       "    .dataframe thead th {\n",
       "        text-align: right;\n",
       "    }\n",
       "</style>\n",
       "<table border=\"1\" class=\"dataframe\">\n",
       "  <thead>\n",
       "    <tr style=\"text-align: right;\">\n",
       "      <th></th>\n",
       "      <th>id</th>\n",
       "      <th>date</th>\n",
       "      <th>store_nbr</th>\n",
       "      <th>family</th>\n",
       "      <th>onpromotion</th>\n",
       "    </tr>\n",
       "  </thead>\n",
       "  <tbody>\n",
       "    <tr>\n",
       "      <th>0</th>\n",
       "      <td>3000888</td>\n",
       "      <td>2017-08-16</td>\n",
       "      <td>1</td>\n",
       "      <td>AUTOMOTIVE</td>\n",
       "      <td>0</td>\n",
       "    </tr>\n",
       "    <tr>\n",
       "      <th>1</th>\n",
       "      <td>3000889</td>\n",
       "      <td>2017-08-16</td>\n",
       "      <td>1</td>\n",
       "      <td>BABY CARE</td>\n",
       "      <td>0</td>\n",
       "    </tr>\n",
       "    <tr>\n",
       "      <th>2</th>\n",
       "      <td>3000890</td>\n",
       "      <td>2017-08-16</td>\n",
       "      <td>1</td>\n",
       "      <td>BEAUTY</td>\n",
       "      <td>2</td>\n",
       "    </tr>\n",
       "    <tr>\n",
       "      <th>3</th>\n",
       "      <td>3000891</td>\n",
       "      <td>2017-08-16</td>\n",
       "      <td>1</td>\n",
       "      <td>BEVERAGES</td>\n",
       "      <td>20</td>\n",
       "    </tr>\n",
       "    <tr>\n",
       "      <th>4</th>\n",
       "      <td>3000892</td>\n",
       "      <td>2017-08-16</td>\n",
       "      <td>1</td>\n",
       "      <td>BOOKS</td>\n",
       "      <td>0</td>\n",
       "    </tr>\n",
       "  </tbody>\n",
       "</table>\n",
       "</div>"
      ],
      "text/plain": [
       "        id        date  store_nbr      family  onpromotion\n",
       "0  3000888  2017-08-16          1  AUTOMOTIVE            0\n",
       "1  3000889  2017-08-16          1   BABY CARE            0\n",
       "2  3000890  2017-08-16          1      BEAUTY            2\n",
       "3  3000891  2017-08-16          1   BEVERAGES           20\n",
       "4  3000892  2017-08-16          1       BOOKS            0"
      ]
     },
     "execution_count": 298,
     "metadata": {},
     "output_type": "execute_result"
    }
   ],
   "source": [
    "test.head()"
   ]
  },
  {
   "cell_type": "markdown",
   "metadata": {},
   "source": [
    "> Contrary what is mentioned on the Kaggle site, there is no 15days gap\n",
    "between train and testset. Both are directly connected without gaps."
   ]
  },
  {
   "cell_type": "markdown",
   "metadata": {},
   "source": [
    "* Some categories are little descriptive, e.g. Grocery I, Grocery II.\n",
    "* Some items are not sold at all, sales = 0"
   ]
  },
  {
   "cell_type": "code",
   "execution_count": 299,
   "metadata": {},
   "outputs": [
    {
     "data": {
      "text/html": [
       "<div>\n",
       "<style scoped>\n",
       "    .dataframe tbody tr th:only-of-type {\n",
       "        vertical-align: middle;\n",
       "    }\n",
       "\n",
       "    .dataframe tbody tr th {\n",
       "        vertical-align: top;\n",
       "    }\n",
       "\n",
       "    .dataframe thead th {\n",
       "        text-align: right;\n",
       "    }\n",
       "</style>\n",
       "<table border=\"1\" class=\"dataframe\">\n",
       "  <thead>\n",
       "    <tr style=\"text-align: right;\">\n",
       "      <th></th>\n",
       "      <th>store_nbr</th>\n",
       "      <th>city</th>\n",
       "      <th>state</th>\n",
       "      <th>type</th>\n",
       "      <th>cluster</th>\n",
       "    </tr>\n",
       "  </thead>\n",
       "  <tbody>\n",
       "    <tr>\n",
       "      <th>0</th>\n",
       "      <td>1</td>\n",
       "      <td>Quito</td>\n",
       "      <td>Pichincha</td>\n",
       "      <td>D</td>\n",
       "      <td>13</td>\n",
       "    </tr>\n",
       "    <tr>\n",
       "      <th>1</th>\n",
       "      <td>2</td>\n",
       "      <td>Quito</td>\n",
       "      <td>Pichincha</td>\n",
       "      <td>D</td>\n",
       "      <td>13</td>\n",
       "    </tr>\n",
       "    <tr>\n",
       "      <th>2</th>\n",
       "      <td>3</td>\n",
       "      <td>Quito</td>\n",
       "      <td>Pichincha</td>\n",
       "      <td>D</td>\n",
       "      <td>8</td>\n",
       "    </tr>\n",
       "    <tr>\n",
       "      <th>3</th>\n",
       "      <td>4</td>\n",
       "      <td>Quito</td>\n",
       "      <td>Pichincha</td>\n",
       "      <td>D</td>\n",
       "      <td>9</td>\n",
       "    </tr>\n",
       "    <tr>\n",
       "      <th>4</th>\n",
       "      <td>5</td>\n",
       "      <td>Santo Domingo</td>\n",
       "      <td>Santo Domingo de los Tsachilas</td>\n",
       "      <td>D</td>\n",
       "      <td>4</td>\n",
       "    </tr>\n",
       "  </tbody>\n",
       "</table>\n",
       "</div>"
      ],
      "text/plain": [
       "   store_nbr           city                           state type  cluster\n",
       "0          1          Quito                       Pichincha    D       13\n",
       "1          2          Quito                       Pichincha    D       13\n",
       "2          3          Quito                       Pichincha    D        8\n",
       "3          4          Quito                       Pichincha    D        9\n",
       "4          5  Santo Domingo  Santo Domingo de los Tsachilas    D        4"
      ]
     },
     "execution_count": 299,
     "metadata": {},
     "output_type": "execute_result"
    }
   ],
   "source": [
    "stores.head()"
   ]
  },
  {
   "cell_type": "code",
   "execution_count": 300,
   "metadata": {},
   "outputs": [
    {
     "data": {
      "text/html": [
       "<div>\n",
       "<style scoped>\n",
       "    .dataframe tbody tr th:only-of-type {\n",
       "        vertical-align: middle;\n",
       "    }\n",
       "\n",
       "    .dataframe tbody tr th {\n",
       "        vertical-align: top;\n",
       "    }\n",
       "\n",
       "    .dataframe thead th {\n",
       "        text-align: right;\n",
       "    }\n",
       "</style>\n",
       "<table border=\"1\" class=\"dataframe\">\n",
       "  <thead>\n",
       "    <tr style=\"text-align: right;\">\n",
       "      <th></th>\n",
       "      <th>store_nbr</th>\n",
       "      <th>city</th>\n",
       "      <th>state</th>\n",
       "      <th>type</th>\n",
       "      <th>cluster</th>\n",
       "    </tr>\n",
       "  </thead>\n",
       "  <tbody>\n",
       "    <tr>\n",
       "      <th>19</th>\n",
       "      <td>20</td>\n",
       "      <td>Quito</td>\n",
       "      <td>Pichincha</td>\n",
       "      <td>B</td>\n",
       "      <td>6</td>\n",
       "    </tr>\n",
       "    <tr>\n",
       "      <th>49</th>\n",
       "      <td>50</td>\n",
       "      <td>Ambato</td>\n",
       "      <td>Tungurahua</td>\n",
       "      <td>A</td>\n",
       "      <td>14</td>\n",
       "    </tr>\n",
       "    <tr>\n",
       "      <th>48</th>\n",
       "      <td>49</td>\n",
       "      <td>Quito</td>\n",
       "      <td>Pichincha</td>\n",
       "      <td>A</td>\n",
       "      <td>11</td>\n",
       "    </tr>\n",
       "    <tr>\n",
       "      <th>12</th>\n",
       "      <td>13</td>\n",
       "      <td>Latacunga</td>\n",
       "      <td>Cotopaxi</td>\n",
       "      <td>C</td>\n",
       "      <td>15</td>\n",
       "    </tr>\n",
       "    <tr>\n",
       "      <th>44</th>\n",
       "      <td>45</td>\n",
       "      <td>Quito</td>\n",
       "      <td>Pichincha</td>\n",
       "      <td>A</td>\n",
       "      <td>11</td>\n",
       "    </tr>\n",
       "    <tr>\n",
       "      <th>5</th>\n",
       "      <td>6</td>\n",
       "      <td>Quito</td>\n",
       "      <td>Pichincha</td>\n",
       "      <td>D</td>\n",
       "      <td>13</td>\n",
       "    </tr>\n",
       "    <tr>\n",
       "      <th>17</th>\n",
       "      <td>18</td>\n",
       "      <td>Quito</td>\n",
       "      <td>Pichincha</td>\n",
       "      <td>B</td>\n",
       "      <td>16</td>\n",
       "    </tr>\n",
       "    <tr>\n",
       "      <th>52</th>\n",
       "      <td>53</td>\n",
       "      <td>Manta</td>\n",
       "      <td>Manabi</td>\n",
       "      <td>D</td>\n",
       "      <td>13</td>\n",
       "    </tr>\n",
       "    <tr>\n",
       "      <th>3</th>\n",
       "      <td>4</td>\n",
       "      <td>Quito</td>\n",
       "      <td>Pichincha</td>\n",
       "      <td>D</td>\n",
       "      <td>9</td>\n",
       "    </tr>\n",
       "    <tr>\n",
       "      <th>32</th>\n",
       "      <td>33</td>\n",
       "      <td>Quevedo</td>\n",
       "      <td>Los Rios</td>\n",
       "      <td>C</td>\n",
       "      <td>3</td>\n",
       "    </tr>\n",
       "    <tr>\n",
       "      <th>13</th>\n",
       "      <td>14</td>\n",
       "      <td>Riobamba</td>\n",
       "      <td>Chimborazo</td>\n",
       "      <td>C</td>\n",
       "      <td>7</td>\n",
       "    </tr>\n",
       "    <tr>\n",
       "      <th>8</th>\n",
       "      <td>9</td>\n",
       "      <td>Quito</td>\n",
       "      <td>Pichincha</td>\n",
       "      <td>B</td>\n",
       "      <td>6</td>\n",
       "    </tr>\n",
       "    <tr>\n",
       "      <th>26</th>\n",
       "      <td>27</td>\n",
       "      <td>Daule</td>\n",
       "      <td>Guayas</td>\n",
       "      <td>D</td>\n",
       "      <td>1</td>\n",
       "    </tr>\n",
       "    <tr>\n",
       "      <th>6</th>\n",
       "      <td>7</td>\n",
       "      <td>Quito</td>\n",
       "      <td>Pichincha</td>\n",
       "      <td>D</td>\n",
       "      <td>8</td>\n",
       "    </tr>\n",
       "    <tr>\n",
       "      <th>34</th>\n",
       "      <td>35</td>\n",
       "      <td>Playas</td>\n",
       "      <td>Guayas</td>\n",
       "      <td>C</td>\n",
       "      <td>3</td>\n",
       "    </tr>\n",
       "    <tr>\n",
       "      <th>4</th>\n",
       "      <td>5</td>\n",
       "      <td>Santo Domingo</td>\n",
       "      <td>Santo Domingo de los Tsachilas</td>\n",
       "      <td>D</td>\n",
       "      <td>4</td>\n",
       "    </tr>\n",
       "    <tr>\n",
       "      <th>37</th>\n",
       "      <td>38</td>\n",
       "      <td>Loja</td>\n",
       "      <td>Loja</td>\n",
       "      <td>D</td>\n",
       "      <td>4</td>\n",
       "    </tr>\n",
       "    <tr>\n",
       "      <th>24</th>\n",
       "      <td>25</td>\n",
       "      <td>Salinas</td>\n",
       "      <td>Santa Elena</td>\n",
       "      <td>D</td>\n",
       "      <td>1</td>\n",
       "    </tr>\n",
       "    <tr>\n",
       "      <th>45</th>\n",
       "      <td>46</td>\n",
       "      <td>Quito</td>\n",
       "      <td>Pichincha</td>\n",
       "      <td>A</td>\n",
       "      <td>14</td>\n",
       "    </tr>\n",
       "    <tr>\n",
       "      <th>33</th>\n",
       "      <td>34</td>\n",
       "      <td>Guayaquil</td>\n",
       "      <td>Guayas</td>\n",
       "      <td>B</td>\n",
       "      <td>6</td>\n",
       "    </tr>\n",
       "  </tbody>\n",
       "</table>\n",
       "</div>"
      ],
      "text/plain": [
       "    store_nbr           city                           state type  cluster\n",
       "19         20          Quito                       Pichincha    B        6\n",
       "49         50         Ambato                      Tungurahua    A       14\n",
       "48         49          Quito                       Pichincha    A       11\n",
       "12         13      Latacunga                        Cotopaxi    C       15\n",
       "44         45          Quito                       Pichincha    A       11\n",
       "5           6          Quito                       Pichincha    D       13\n",
       "17         18          Quito                       Pichincha    B       16\n",
       "52         53          Manta                          Manabi    D       13\n",
       "3           4          Quito                       Pichincha    D        9\n",
       "32         33        Quevedo                        Los Rios    C        3\n",
       "13         14       Riobamba                      Chimborazo    C        7\n",
       "8           9          Quito                       Pichincha    B        6\n",
       "26         27          Daule                          Guayas    D        1\n",
       "6           7          Quito                       Pichincha    D        8\n",
       "34         35         Playas                          Guayas    C        3\n",
       "4           5  Santo Domingo  Santo Domingo de los Tsachilas    D        4\n",
       "37         38           Loja                            Loja    D        4\n",
       "24         25        Salinas                     Santa Elena    D        1\n",
       "45         46          Quito                       Pichincha    A       14\n",
       "33         34      Guayaquil                          Guayas    B        6"
      ]
     },
     "execution_count": 300,
     "metadata": {},
     "output_type": "execute_result"
    }
   ],
   "source": [
    "stores.sample(20, random_state=42)"
   ]
  },
  {
   "cell_type": "code",
   "execution_count": 329,
   "metadata": {},
   "outputs": [
    {
     "data": {
      "text/html": [
       "<div>\n",
       "<style scoped>\n",
       "    .dataframe tbody tr th:only-of-type {\n",
       "        vertical-align: middle;\n",
       "    }\n",
       "\n",
       "    .dataframe tbody tr th {\n",
       "        vertical-align: top;\n",
       "    }\n",
       "\n",
       "    .dataframe thead th {\n",
       "        text-align: right;\n",
       "    }\n",
       "</style>\n",
       "<table border=\"1\" class=\"dataframe\">\n",
       "  <thead>\n",
       "    <tr style=\"text-align: right;\">\n",
       "      <th></th>\n",
       "      <th>date</th>\n",
       "      <th>store_nbr</th>\n",
       "      <th>transactions</th>\n",
       "    </tr>\n",
       "  </thead>\n",
       "  <tbody>\n",
       "    <tr>\n",
       "      <th>0</th>\n",
       "      <td>2013-01-01</td>\n",
       "      <td>25</td>\n",
       "      <td>770</td>\n",
       "    </tr>\n",
       "    <tr>\n",
       "      <th>1</th>\n",
       "      <td>2013-01-02</td>\n",
       "      <td>1</td>\n",
       "      <td>2111</td>\n",
       "    </tr>\n",
       "    <tr>\n",
       "      <th>2</th>\n",
       "      <td>2013-01-02</td>\n",
       "      <td>2</td>\n",
       "      <td>2358</td>\n",
       "    </tr>\n",
       "    <tr>\n",
       "      <th>3</th>\n",
       "      <td>2013-01-02</td>\n",
       "      <td>3</td>\n",
       "      <td>3487</td>\n",
       "    </tr>\n",
       "    <tr>\n",
       "      <th>4</th>\n",
       "      <td>2013-01-02</td>\n",
       "      <td>4</td>\n",
       "      <td>1922</td>\n",
       "    </tr>\n",
       "  </tbody>\n",
       "</table>\n",
       "</div>"
      ],
      "text/plain": [
       "         date  store_nbr  transactions\n",
       "0  2013-01-01         25           770\n",
       "1  2013-01-02          1          2111\n",
       "2  2013-01-02          2          2358\n",
       "3  2013-01-02          3          3487\n",
       "4  2013-01-02          4          1922"
      ]
     },
     "execution_count": 329,
     "metadata": {},
     "output_type": "execute_result"
    }
   ],
   "source": [
    "transactions.head()"
   ]
  },
  {
   "cell_type": "code",
   "execution_count": 330,
   "metadata": {},
   "outputs": [
    {
     "data": {
      "text/html": [
       "<div>\n",
       "<style scoped>\n",
       "    .dataframe tbody tr th:only-of-type {\n",
       "        vertical-align: middle;\n",
       "    }\n",
       "\n",
       "    .dataframe tbody tr th {\n",
       "        vertical-align: top;\n",
       "    }\n",
       "\n",
       "    .dataframe thead th {\n",
       "        text-align: right;\n",
       "    }\n",
       "</style>\n",
       "<table border=\"1\" class=\"dataframe\">\n",
       "  <thead>\n",
       "    <tr style=\"text-align: right;\">\n",
       "      <th></th>\n",
       "      <th>date</th>\n",
       "      <th>store_nbr</th>\n",
       "      <th>transactions</th>\n",
       "    </tr>\n",
       "  </thead>\n",
       "  <tbody>\n",
       "    <tr>\n",
       "      <th>4387</th>\n",
       "      <td>2013-04-07</td>\n",
       "      <td>17</td>\n",
       "      <td>1500</td>\n",
       "    </tr>\n",
       "    <tr>\n",
       "      <th>8131</th>\n",
       "      <td>2013-06-26</td>\n",
       "      <td>41</td>\n",
       "      <td>792</td>\n",
       "    </tr>\n",
       "    <tr>\n",
       "      <th>37114</th>\n",
       "      <td>2015-03-06</td>\n",
       "      <td>25</td>\n",
       "      <td>1238</td>\n",
       "    </tr>\n",
       "    <tr>\n",
       "      <th>74716</th>\n",
       "      <td>2017-03-05</td>\n",
       "      <td>39</td>\n",
       "      <td>1664</td>\n",
       "    </tr>\n",
       "    <tr>\n",
       "      <th>75348</th>\n",
       "      <td>2017-03-17</td>\n",
       "      <td>35</td>\n",
       "      <td>726</td>\n",
       "    </tr>\n",
       "    <tr>\n",
       "      <th>22961</th>\n",
       "      <td>2014-05-11</td>\n",
       "      <td>18</td>\n",
       "      <td>1259</td>\n",
       "    </tr>\n",
       "    <tr>\n",
       "      <th>15276</th>\n",
       "      <td>2013-11-26</td>\n",
       "      <td>14</td>\n",
       "      <td>1477</td>\n",
       "    </tr>\n",
       "    <tr>\n",
       "      <th>81550</th>\n",
       "      <td>2017-07-11</td>\n",
       "      <td>7</td>\n",
       "      <td>1752</td>\n",
       "    </tr>\n",
       "    <tr>\n",
       "      <th>52962</th>\n",
       "      <td>2016-01-14</td>\n",
       "      <td>44</td>\n",
       "      <td>3784</td>\n",
       "    </tr>\n",
       "    <tr>\n",
       "      <th>45776</th>\n",
       "      <td>2015-08-27</td>\n",
       "      <td>20</td>\n",
       "      <td>1430</td>\n",
       "    </tr>\n",
       "    <tr>\n",
       "      <th>40071</th>\n",
       "      <td>2015-05-05</td>\n",
       "      <td>33</td>\n",
       "      <td>1113</td>\n",
       "    </tr>\n",
       "    <tr>\n",
       "      <th>2449</th>\n",
       "      <td>2013-02-24</td>\n",
       "      <td>11</td>\n",
       "      <td>2503</td>\n",
       "    </tr>\n",
       "    <tr>\n",
       "      <th>82235</th>\n",
       "      <td>2017-07-23</td>\n",
       "      <td>44</td>\n",
       "      <td>5294</td>\n",
       "    </tr>\n",
       "    <tr>\n",
       "      <th>24523</th>\n",
       "      <td>2014-06-13</td>\n",
       "      <td>54</td>\n",
       "      <td>785</td>\n",
       "    </tr>\n",
       "    <tr>\n",
       "      <th>47759</th>\n",
       "      <td>2015-10-04</td>\n",
       "      <td>28</td>\n",
       "      <td>1393</td>\n",
       "    </tr>\n",
       "    <tr>\n",
       "      <th>20506</th>\n",
       "      <td>2014-03-19</td>\n",
       "      <td>30</td>\n",
       "      <td>660</td>\n",
       "    </tr>\n",
       "    <tr>\n",
       "      <th>28227</th>\n",
       "      <td>2014-08-31</td>\n",
       "      <td>32</td>\n",
       "      <td>745</td>\n",
       "    </tr>\n",
       "    <tr>\n",
       "      <th>72609</th>\n",
       "      <td>2017-01-24</td>\n",
       "      <td>53</td>\n",
       "      <td>916</td>\n",
       "    </tr>\n",
       "    <tr>\n",
       "      <th>41296</th>\n",
       "      <td>2015-05-30</td>\n",
       "      <td>31</td>\n",
       "      <td>1767</td>\n",
       "    </tr>\n",
       "    <tr>\n",
       "      <th>65412</th>\n",
       "      <td>2016-09-06</td>\n",
       "      <td>27</td>\n",
       "      <td>1508</td>\n",
       "    </tr>\n",
       "  </tbody>\n",
       "</table>\n",
       "</div>"
      ],
      "text/plain": [
       "             date  store_nbr  transactions\n",
       "4387   2013-04-07         17          1500\n",
       "8131   2013-06-26         41           792\n",
       "37114  2015-03-06         25          1238\n",
       "74716  2017-03-05         39          1664\n",
       "75348  2017-03-17         35           726\n",
       "22961  2014-05-11         18          1259\n",
       "15276  2013-11-26         14          1477\n",
       "81550  2017-07-11          7          1752\n",
       "52962  2016-01-14         44          3784\n",
       "45776  2015-08-27         20          1430\n",
       "40071  2015-05-05         33          1113\n",
       "2449   2013-02-24         11          2503\n",
       "82235  2017-07-23         44          5294\n",
       "24523  2014-06-13         54           785\n",
       "47759  2015-10-04         28          1393\n",
       "20506  2014-03-19         30           660\n",
       "28227  2014-08-31         32           745\n",
       "72609  2017-01-24         53           916\n",
       "41296  2015-05-30         31          1767\n",
       "65412  2016-09-06         27          1508"
      ]
     },
     "execution_count": 330,
     "metadata": {},
     "output_type": "execute_result"
    }
   ],
   "source": [
    "transactions.sample(20, random_state=42)"
   ]
  },
  {
   "cell_type": "code",
   "execution_count": 341,
   "metadata": {},
   "outputs": [
    {
     "data": {
      "text/html": [
       "<div>\n",
       "<style scoped>\n",
       "    .dataframe tbody tr th:only-of-type {\n",
       "        vertical-align: middle;\n",
       "    }\n",
       "\n",
       "    .dataframe tbody tr th {\n",
       "        vertical-align: top;\n",
       "    }\n",
       "\n",
       "    .dataframe thead th {\n",
       "        text-align: right;\n",
       "    }\n",
       "</style>\n",
       "<table border=\"1\" class=\"dataframe\">\n",
       "  <thead>\n",
       "    <tr style=\"text-align: right;\">\n",
       "      <th></th>\n",
       "      <th>date</th>\n",
       "      <th>store_nbr</th>\n",
       "      <th>transactions</th>\n",
       "    </tr>\n",
       "  </thead>\n",
       "  <tbody>\n",
       "    <tr>\n",
       "      <th>83483</th>\n",
       "      <td>2017-08-15</td>\n",
       "      <td>50</td>\n",
       "      <td>2804</td>\n",
       "    </tr>\n",
       "    <tr>\n",
       "      <th>83484</th>\n",
       "      <td>2017-08-15</td>\n",
       "      <td>51</td>\n",
       "      <td>1573</td>\n",
       "    </tr>\n",
       "    <tr>\n",
       "      <th>83485</th>\n",
       "      <td>2017-08-15</td>\n",
       "      <td>52</td>\n",
       "      <td>2255</td>\n",
       "    </tr>\n",
       "    <tr>\n",
       "      <th>83486</th>\n",
       "      <td>2017-08-15</td>\n",
       "      <td>53</td>\n",
       "      <td>932</td>\n",
       "    </tr>\n",
       "    <tr>\n",
       "      <th>83487</th>\n",
       "      <td>2017-08-15</td>\n",
       "      <td>54</td>\n",
       "      <td>802</td>\n",
       "    </tr>\n",
       "  </tbody>\n",
       "</table>\n",
       "</div>"
      ],
      "text/plain": [
       "            date  store_nbr  transactions\n",
       "83483 2017-08-15         50          2804\n",
       "83484 2017-08-15         51          1573\n",
       "83485 2017-08-15         52          2255\n",
       "83486 2017-08-15         53           932\n",
       "83487 2017-08-15         54           802"
      ]
     },
     "execution_count": 341,
     "metadata": {},
     "output_type": "execute_result"
    }
   ],
   "source": [
    "transactions.tail()"
   ]
  },
  {
   "cell_type": "markdown",
   "metadata": {},
   "source": [
    "## Data Types"
   ]
  },
  {
   "cell_type": "code",
   "execution_count": 303,
   "metadata": {},
   "outputs": [
    {
     "data": {
      "text/plain": [
       "id               int64\n",
       "date            object\n",
       "store_nbr        int64\n",
       "family          object\n",
       "sales          float64\n",
       "onpromotion      int64\n",
       "dtype: object"
      ]
     },
     "execution_count": 303,
     "metadata": {},
     "output_type": "execute_result"
    }
   ],
   "source": [
    "train.dtypes"
   ]
  },
  {
   "cell_type": "code",
   "execution_count": 304,
   "metadata": {},
   "outputs": [
    {
     "data": {
      "text/plain": [
       "id              int64\n",
       "date           object\n",
       "store_nbr       int64\n",
       "family         object\n",
       "onpromotion     int64\n",
       "dtype: object"
      ]
     },
     "execution_count": 304,
     "metadata": {},
     "output_type": "execute_result"
    }
   ],
   "source": [
    "test.dtypes"
   ]
  },
  {
   "cell_type": "code",
   "execution_count": 305,
   "metadata": {},
   "outputs": [
    {
     "data": {
      "text/plain": [
       "0   2013-01-01\n",
       "1   2013-01-01\n",
       "2   2013-01-01\n",
       "3   2013-01-01\n",
       "4   2013-01-01\n",
       "Name: date, dtype: datetime64[ns]"
      ]
     },
     "execution_count": 305,
     "metadata": {},
     "output_type": "execute_result"
    }
   ],
   "source": [
    "train['date'].head().apply(pd.to_datetime)"
   ]
  },
  {
   "cell_type": "code",
   "execution_count": 306,
   "metadata": {},
   "outputs": [],
   "source": [
    "for df in [train, test]:\n",
    "    df['date'] = pd.to_datetime(df['date'])"
   ]
  },
  {
   "cell_type": "markdown",
   "metadata": {},
   "source": []
  },
  {
   "cell_type": "code",
   "execution_count": 307,
   "metadata": {},
   "outputs": [],
   "source": [
    "for df in [train, test]:\n",
    "    df['store_nbr'] = df['store_nbr'].astype(str)\n",
    "    df['id'] = df['id'].astype(str)"
   ]
  },
  {
   "cell_type": "code",
   "execution_count": 308,
   "metadata": {},
   "outputs": [
    {
     "data": {
      "text/plain": [
       "id                     object\n",
       "date           datetime64[ns]\n",
       "store_nbr              object\n",
       "family                 object\n",
       "sales                 float64\n",
       "onpromotion             int64\n",
       "dtype: object"
      ]
     },
     "execution_count": 308,
     "metadata": {},
     "output_type": "execute_result"
    }
   ],
   "source": [
    "train.dtypes"
   ]
  },
  {
   "cell_type": "code",
   "execution_count": 309,
   "metadata": {},
   "outputs": [
    {
     "data": {
      "text/plain": [
       "id                     object\n",
       "date           datetime64[ns]\n",
       "store_nbr              object\n",
       "family                 object\n",
       "onpromotion             int64\n",
       "dtype: object"
      ]
     },
     "execution_count": 309,
     "metadata": {},
     "output_type": "execute_result"
    }
   ],
   "source": [
    "test.dtypes"
   ]
  },
  {
   "cell_type": "code",
   "execution_count": 310,
   "metadata": {},
   "outputs": [
    {
     "data": {
      "text/plain": [
       "store_nbr     int64\n",
       "city         object\n",
       "state        object\n",
       "type         object\n",
       "cluster       int64\n",
       "dtype: object"
      ]
     },
     "execution_count": 310,
     "metadata": {},
     "output_type": "execute_result"
    }
   ],
   "source": [
    "stores.dtypes"
   ]
  },
  {
   "cell_type": "markdown",
   "metadata": {},
   "source": [
    "Cluster as type of category to string conversion for now."
   ]
  },
  {
   "cell_type": "code",
   "execution_count": 311,
   "metadata": {},
   "outputs": [],
   "source": [
    "stores['cluster'] = stores['cluster'].astype('str')\n",
    "stores['store_nbr'] = stores['store_nbr'].astype('str')"
   ]
  },
  {
   "cell_type": "code",
   "execution_count": 331,
   "metadata": {},
   "outputs": [
    {
     "data": {
      "text/plain": [
       "date            object\n",
       "store_nbr        int64\n",
       "transactions     int64\n",
       "dtype: object"
      ]
     },
     "execution_count": 331,
     "metadata": {},
     "output_type": "execute_result"
    }
   ],
   "source": [
    "transactions.dtypes"
   ]
  },
  {
   "cell_type": "code",
   "execution_count": 346,
   "metadata": {},
   "outputs": [],
   "source": [
    "transactions['date'] = pd.to_datetime(transactions['date'])\n",
    "transactions['store_nbr'] = transactions['store_nbr'].astype('str')"
   ]
  },
  {
   "cell_type": "markdown",
   "metadata": {},
   "source": [
    "## Missing Values\n",
    "\n",
    "Set pandas to only treat \"\" as missing values. Overall no missing\n",
    "values of that can find."
   ]
  },
  {
   "cell_type": "code",
   "execution_count": 333,
   "metadata": {},
   "outputs": [
    {
     "data": {
      "text/plain": [
       "id             0\n",
       "date           0\n",
       "store_nbr      0\n",
       "family         0\n",
       "sales          0\n",
       "onpromotion    0\n",
       "dtype: int64"
      ]
     },
     "execution_count": 333,
     "metadata": {},
     "output_type": "execute_result"
    }
   ],
   "source": [
    "train.isna().sum()"
   ]
  },
  {
   "cell_type": "code",
   "execution_count": 315,
   "metadata": {},
   "outputs": [
    {
     "data": {
      "text/plain": [
       "id             0\n",
       "date           0\n",
       "store_nbr      0\n",
       "family         0\n",
       "onpromotion    0\n",
       "dtype: int64"
      ]
     },
     "execution_count": 315,
     "metadata": {},
     "output_type": "execute_result"
    }
   ],
   "source": [
    "test.isna().sum()"
   ]
  },
  {
   "cell_type": "code",
   "execution_count": 316,
   "metadata": {},
   "outputs": [
    {
     "data": {
      "text/plain": [
       "store_nbr    0\n",
       "city         0\n",
       "state        0\n",
       "type         0\n",
       "cluster      0\n",
       "dtype: int64"
      ]
     },
     "execution_count": 316,
     "metadata": {},
     "output_type": "execute_result"
    }
   ],
   "source": [
    "stores.isna().sum()"
   ]
  },
  {
   "cell_type": "code",
   "execution_count": 317,
   "metadata": {},
   "outputs": [
    {
     "data": {
      "text/html": [
       "<div>\n",
       "<style scoped>\n",
       "    .dataframe tbody tr th:only-of-type {\n",
       "        vertical-align: middle;\n",
       "    }\n",
       "\n",
       "    .dataframe tbody tr th {\n",
       "        vertical-align: top;\n",
       "    }\n",
       "\n",
       "    .dataframe thead th {\n",
       "        text-align: right;\n",
       "    }\n",
       "</style>\n",
       "<table border=\"1\" class=\"dataframe\">\n",
       "  <thead>\n",
       "    <tr style=\"text-align: right;\">\n",
       "      <th></th>\n",
       "      <th>store_nbr</th>\n",
       "      <th>city</th>\n",
       "      <th>state</th>\n",
       "      <th>type</th>\n",
       "      <th>cluster</th>\n",
       "    </tr>\n",
       "  </thead>\n",
       "  <tbody>\n",
       "    <tr>\n",
       "      <th>0</th>\n",
       "      <td>1</td>\n",
       "      <td>Quito</td>\n",
       "      <td>Pichincha</td>\n",
       "      <td>D</td>\n",
       "      <td>13</td>\n",
       "    </tr>\n",
       "    <tr>\n",
       "      <th>1</th>\n",
       "      <td>2</td>\n",
       "      <td>Quito</td>\n",
       "      <td>Pichincha</td>\n",
       "      <td>D</td>\n",
       "      <td>13</td>\n",
       "    </tr>\n",
       "    <tr>\n",
       "      <th>2</th>\n",
       "      <td>3</td>\n",
       "      <td>Quito</td>\n",
       "      <td>Pichincha</td>\n",
       "      <td>D</td>\n",
       "      <td>8</td>\n",
       "    </tr>\n",
       "    <tr>\n",
       "      <th>3</th>\n",
       "      <td>4</td>\n",
       "      <td>Quito</td>\n",
       "      <td>Pichincha</td>\n",
       "      <td>D</td>\n",
       "      <td>9</td>\n",
       "    </tr>\n",
       "    <tr>\n",
       "      <th>4</th>\n",
       "      <td>5</td>\n",
       "      <td>Santo Domingo</td>\n",
       "      <td>Santo Domingo de los Tsachilas</td>\n",
       "      <td>D</td>\n",
       "      <td>4</td>\n",
       "    </tr>\n",
       "    <tr>\n",
       "      <th>5</th>\n",
       "      <td>6</td>\n",
       "      <td>Quito</td>\n",
       "      <td>Pichincha</td>\n",
       "      <td>D</td>\n",
       "      <td>13</td>\n",
       "    </tr>\n",
       "    <tr>\n",
       "      <th>6</th>\n",
       "      <td>7</td>\n",
       "      <td>Quito</td>\n",
       "      <td>Pichincha</td>\n",
       "      <td>D</td>\n",
       "      <td>8</td>\n",
       "    </tr>\n",
       "    <tr>\n",
       "      <th>7</th>\n",
       "      <td>8</td>\n",
       "      <td>Quito</td>\n",
       "      <td>Pichincha</td>\n",
       "      <td>D</td>\n",
       "      <td>8</td>\n",
       "    </tr>\n",
       "    <tr>\n",
       "      <th>8</th>\n",
       "      <td>9</td>\n",
       "      <td>Quito</td>\n",
       "      <td>Pichincha</td>\n",
       "      <td>B</td>\n",
       "      <td>6</td>\n",
       "    </tr>\n",
       "    <tr>\n",
       "      <th>9</th>\n",
       "      <td>10</td>\n",
       "      <td>Quito</td>\n",
       "      <td>Pichincha</td>\n",
       "      <td>C</td>\n",
       "      <td>15</td>\n",
       "    </tr>\n",
       "    <tr>\n",
       "      <th>10</th>\n",
       "      <td>11</td>\n",
       "      <td>Cayambe</td>\n",
       "      <td>Pichincha</td>\n",
       "      <td>B</td>\n",
       "      <td>6</td>\n",
       "    </tr>\n",
       "    <tr>\n",
       "      <th>11</th>\n",
       "      <td>12</td>\n",
       "      <td>Latacunga</td>\n",
       "      <td>Cotopaxi</td>\n",
       "      <td>C</td>\n",
       "      <td>15</td>\n",
       "    </tr>\n",
       "    <tr>\n",
       "      <th>12</th>\n",
       "      <td>13</td>\n",
       "      <td>Latacunga</td>\n",
       "      <td>Cotopaxi</td>\n",
       "      <td>C</td>\n",
       "      <td>15</td>\n",
       "    </tr>\n",
       "    <tr>\n",
       "      <th>13</th>\n",
       "      <td>14</td>\n",
       "      <td>Riobamba</td>\n",
       "      <td>Chimborazo</td>\n",
       "      <td>C</td>\n",
       "      <td>7</td>\n",
       "    </tr>\n",
       "    <tr>\n",
       "      <th>14</th>\n",
       "      <td>15</td>\n",
       "      <td>Ibarra</td>\n",
       "      <td>Imbabura</td>\n",
       "      <td>C</td>\n",
       "      <td>15</td>\n",
       "    </tr>\n",
       "    <tr>\n",
       "      <th>15</th>\n",
       "      <td>16</td>\n",
       "      <td>Santo Domingo</td>\n",
       "      <td>Santo Domingo de los Tsachilas</td>\n",
       "      <td>C</td>\n",
       "      <td>3</td>\n",
       "    </tr>\n",
       "    <tr>\n",
       "      <th>16</th>\n",
       "      <td>17</td>\n",
       "      <td>Quito</td>\n",
       "      <td>Pichincha</td>\n",
       "      <td>C</td>\n",
       "      <td>12</td>\n",
       "    </tr>\n",
       "    <tr>\n",
       "      <th>17</th>\n",
       "      <td>18</td>\n",
       "      <td>Quito</td>\n",
       "      <td>Pichincha</td>\n",
       "      <td>B</td>\n",
       "      <td>16</td>\n",
       "    </tr>\n",
       "    <tr>\n",
       "      <th>18</th>\n",
       "      <td>19</td>\n",
       "      <td>Guaranda</td>\n",
       "      <td>Bolivar</td>\n",
       "      <td>C</td>\n",
       "      <td>15</td>\n",
       "    </tr>\n",
       "    <tr>\n",
       "      <th>19</th>\n",
       "      <td>20</td>\n",
       "      <td>Quito</td>\n",
       "      <td>Pichincha</td>\n",
       "      <td>B</td>\n",
       "      <td>6</td>\n",
       "    </tr>\n",
       "    <tr>\n",
       "      <th>20</th>\n",
       "      <td>21</td>\n",
       "      <td>Santo Domingo</td>\n",
       "      <td>Santo Domingo de los Tsachilas</td>\n",
       "      <td>B</td>\n",
       "      <td>6</td>\n",
       "    </tr>\n",
       "    <tr>\n",
       "      <th>21</th>\n",
       "      <td>22</td>\n",
       "      <td>Puyo</td>\n",
       "      <td>Pastaza</td>\n",
       "      <td>C</td>\n",
       "      <td>7</td>\n",
       "    </tr>\n",
       "    <tr>\n",
       "      <th>22</th>\n",
       "      <td>23</td>\n",
       "      <td>Ambato</td>\n",
       "      <td>Tungurahua</td>\n",
       "      <td>D</td>\n",
       "      <td>9</td>\n",
       "    </tr>\n",
       "    <tr>\n",
       "      <th>23</th>\n",
       "      <td>24</td>\n",
       "      <td>Guayaquil</td>\n",
       "      <td>Guayas</td>\n",
       "      <td>D</td>\n",
       "      <td>1</td>\n",
       "    </tr>\n",
       "    <tr>\n",
       "      <th>24</th>\n",
       "      <td>25</td>\n",
       "      <td>Salinas</td>\n",
       "      <td>Santa Elena</td>\n",
       "      <td>D</td>\n",
       "      <td>1</td>\n",
       "    </tr>\n",
       "    <tr>\n",
       "      <th>25</th>\n",
       "      <td>26</td>\n",
       "      <td>Guayaquil</td>\n",
       "      <td>Guayas</td>\n",
       "      <td>D</td>\n",
       "      <td>10</td>\n",
       "    </tr>\n",
       "    <tr>\n",
       "      <th>26</th>\n",
       "      <td>27</td>\n",
       "      <td>Daule</td>\n",
       "      <td>Guayas</td>\n",
       "      <td>D</td>\n",
       "      <td>1</td>\n",
       "    </tr>\n",
       "    <tr>\n",
       "      <th>27</th>\n",
       "      <td>28</td>\n",
       "      <td>Guayaquil</td>\n",
       "      <td>Guayas</td>\n",
       "      <td>E</td>\n",
       "      <td>10</td>\n",
       "    </tr>\n",
       "    <tr>\n",
       "      <th>28</th>\n",
       "      <td>29</td>\n",
       "      <td>Guayaquil</td>\n",
       "      <td>Guayas</td>\n",
       "      <td>E</td>\n",
       "      <td>10</td>\n",
       "    </tr>\n",
       "    <tr>\n",
       "      <th>29</th>\n",
       "      <td>30</td>\n",
       "      <td>Guayaquil</td>\n",
       "      <td>Guayas</td>\n",
       "      <td>C</td>\n",
       "      <td>3</td>\n",
       "    </tr>\n",
       "    <tr>\n",
       "      <th>30</th>\n",
       "      <td>31</td>\n",
       "      <td>Babahoyo</td>\n",
       "      <td>Los Rios</td>\n",
       "      <td>B</td>\n",
       "      <td>10</td>\n",
       "    </tr>\n",
       "    <tr>\n",
       "      <th>31</th>\n",
       "      <td>32</td>\n",
       "      <td>Guayaquil</td>\n",
       "      <td>Guayas</td>\n",
       "      <td>C</td>\n",
       "      <td>3</td>\n",
       "    </tr>\n",
       "    <tr>\n",
       "      <th>32</th>\n",
       "      <td>33</td>\n",
       "      <td>Quevedo</td>\n",
       "      <td>Los Rios</td>\n",
       "      <td>C</td>\n",
       "      <td>3</td>\n",
       "    </tr>\n",
       "    <tr>\n",
       "      <th>33</th>\n",
       "      <td>34</td>\n",
       "      <td>Guayaquil</td>\n",
       "      <td>Guayas</td>\n",
       "      <td>B</td>\n",
       "      <td>6</td>\n",
       "    </tr>\n",
       "    <tr>\n",
       "      <th>34</th>\n",
       "      <td>35</td>\n",
       "      <td>Playas</td>\n",
       "      <td>Guayas</td>\n",
       "      <td>C</td>\n",
       "      <td>3</td>\n",
       "    </tr>\n",
       "    <tr>\n",
       "      <th>35</th>\n",
       "      <td>36</td>\n",
       "      <td>Libertad</td>\n",
       "      <td>Guayas</td>\n",
       "      <td>E</td>\n",
       "      <td>10</td>\n",
       "    </tr>\n",
       "    <tr>\n",
       "      <th>36</th>\n",
       "      <td>37</td>\n",
       "      <td>Cuenca</td>\n",
       "      <td>Azuay</td>\n",
       "      <td>D</td>\n",
       "      <td>2</td>\n",
       "    </tr>\n",
       "    <tr>\n",
       "      <th>37</th>\n",
       "      <td>38</td>\n",
       "      <td>Loja</td>\n",
       "      <td>Loja</td>\n",
       "      <td>D</td>\n",
       "      <td>4</td>\n",
       "    </tr>\n",
       "    <tr>\n",
       "      <th>38</th>\n",
       "      <td>39</td>\n",
       "      <td>Cuenca</td>\n",
       "      <td>Azuay</td>\n",
       "      <td>B</td>\n",
       "      <td>6</td>\n",
       "    </tr>\n",
       "    <tr>\n",
       "      <th>39</th>\n",
       "      <td>40</td>\n",
       "      <td>Machala</td>\n",
       "      <td>El Oro</td>\n",
       "      <td>C</td>\n",
       "      <td>3</td>\n",
       "    </tr>\n",
       "    <tr>\n",
       "      <th>40</th>\n",
       "      <td>41</td>\n",
       "      <td>Machala</td>\n",
       "      <td>El Oro</td>\n",
       "      <td>D</td>\n",
       "      <td>4</td>\n",
       "    </tr>\n",
       "    <tr>\n",
       "      <th>41</th>\n",
       "      <td>42</td>\n",
       "      <td>Cuenca</td>\n",
       "      <td>Azuay</td>\n",
       "      <td>D</td>\n",
       "      <td>2</td>\n",
       "    </tr>\n",
       "    <tr>\n",
       "      <th>42</th>\n",
       "      <td>43</td>\n",
       "      <td>Esmeraldas</td>\n",
       "      <td>Esmeraldas</td>\n",
       "      <td>E</td>\n",
       "      <td>10</td>\n",
       "    </tr>\n",
       "    <tr>\n",
       "      <th>43</th>\n",
       "      <td>44</td>\n",
       "      <td>Quito</td>\n",
       "      <td>Pichincha</td>\n",
       "      <td>A</td>\n",
       "      <td>5</td>\n",
       "    </tr>\n",
       "    <tr>\n",
       "      <th>44</th>\n",
       "      <td>45</td>\n",
       "      <td>Quito</td>\n",
       "      <td>Pichincha</td>\n",
       "      <td>A</td>\n",
       "      <td>11</td>\n",
       "    </tr>\n",
       "    <tr>\n",
       "      <th>45</th>\n",
       "      <td>46</td>\n",
       "      <td>Quito</td>\n",
       "      <td>Pichincha</td>\n",
       "      <td>A</td>\n",
       "      <td>14</td>\n",
       "    </tr>\n",
       "    <tr>\n",
       "      <th>46</th>\n",
       "      <td>47</td>\n",
       "      <td>Quito</td>\n",
       "      <td>Pichincha</td>\n",
       "      <td>A</td>\n",
       "      <td>14</td>\n",
       "    </tr>\n",
       "    <tr>\n",
       "      <th>47</th>\n",
       "      <td>48</td>\n",
       "      <td>Quito</td>\n",
       "      <td>Pichincha</td>\n",
       "      <td>A</td>\n",
       "      <td>14</td>\n",
       "    </tr>\n",
       "    <tr>\n",
       "      <th>48</th>\n",
       "      <td>49</td>\n",
       "      <td>Quito</td>\n",
       "      <td>Pichincha</td>\n",
       "      <td>A</td>\n",
       "      <td>11</td>\n",
       "    </tr>\n",
       "    <tr>\n",
       "      <th>49</th>\n",
       "      <td>50</td>\n",
       "      <td>Ambato</td>\n",
       "      <td>Tungurahua</td>\n",
       "      <td>A</td>\n",
       "      <td>14</td>\n",
       "    </tr>\n",
       "    <tr>\n",
       "      <th>50</th>\n",
       "      <td>51</td>\n",
       "      <td>Guayaquil</td>\n",
       "      <td>Guayas</td>\n",
       "      <td>A</td>\n",
       "      <td>17</td>\n",
       "    </tr>\n",
       "    <tr>\n",
       "      <th>51</th>\n",
       "      <td>52</td>\n",
       "      <td>Manta</td>\n",
       "      <td>Manabi</td>\n",
       "      <td>A</td>\n",
       "      <td>11</td>\n",
       "    </tr>\n",
       "    <tr>\n",
       "      <th>52</th>\n",
       "      <td>53</td>\n",
       "      <td>Manta</td>\n",
       "      <td>Manabi</td>\n",
       "      <td>D</td>\n",
       "      <td>13</td>\n",
       "    </tr>\n",
       "    <tr>\n",
       "      <th>53</th>\n",
       "      <td>54</td>\n",
       "      <td>El Carmen</td>\n",
       "      <td>Manabi</td>\n",
       "      <td>C</td>\n",
       "      <td>3</td>\n",
       "    </tr>\n",
       "  </tbody>\n",
       "</table>\n",
       "</div>"
      ],
      "text/plain": [
       "   store_nbr           city                           state type cluster\n",
       "0          1          Quito                       Pichincha    D      13\n",
       "1          2          Quito                       Pichincha    D      13\n",
       "2          3          Quito                       Pichincha    D       8\n",
       "3          4          Quito                       Pichincha    D       9\n",
       "4          5  Santo Domingo  Santo Domingo de los Tsachilas    D       4\n",
       "5          6          Quito                       Pichincha    D      13\n",
       "6          7          Quito                       Pichincha    D       8\n",
       "7          8          Quito                       Pichincha    D       8\n",
       "8          9          Quito                       Pichincha    B       6\n",
       "9         10          Quito                       Pichincha    C      15\n",
       "10        11        Cayambe                       Pichincha    B       6\n",
       "11        12      Latacunga                        Cotopaxi    C      15\n",
       "12        13      Latacunga                        Cotopaxi    C      15\n",
       "13        14       Riobamba                      Chimborazo    C       7\n",
       "14        15         Ibarra                        Imbabura    C      15\n",
       "15        16  Santo Domingo  Santo Domingo de los Tsachilas    C       3\n",
       "16        17          Quito                       Pichincha    C      12\n",
       "17        18          Quito                       Pichincha    B      16\n",
       "18        19       Guaranda                         Bolivar    C      15\n",
       "19        20          Quito                       Pichincha    B       6\n",
       "20        21  Santo Domingo  Santo Domingo de los Tsachilas    B       6\n",
       "21        22           Puyo                         Pastaza    C       7\n",
       "22        23         Ambato                      Tungurahua    D       9\n",
       "23        24      Guayaquil                          Guayas    D       1\n",
       "24        25        Salinas                     Santa Elena    D       1\n",
       "25        26      Guayaquil                          Guayas    D      10\n",
       "26        27          Daule                          Guayas    D       1\n",
       "27        28      Guayaquil                          Guayas    E      10\n",
       "28        29      Guayaquil                          Guayas    E      10\n",
       "29        30      Guayaquil                          Guayas    C       3\n",
       "30        31       Babahoyo                        Los Rios    B      10\n",
       "31        32      Guayaquil                          Guayas    C       3\n",
       "32        33        Quevedo                        Los Rios    C       3\n",
       "33        34      Guayaquil                          Guayas    B       6\n",
       "34        35         Playas                          Guayas    C       3\n",
       "35        36       Libertad                          Guayas    E      10\n",
       "36        37         Cuenca                           Azuay    D       2\n",
       "37        38           Loja                            Loja    D       4\n",
       "38        39         Cuenca                           Azuay    B       6\n",
       "39        40        Machala                          El Oro    C       3\n",
       "40        41        Machala                          El Oro    D       4\n",
       "41        42         Cuenca                           Azuay    D       2\n",
       "42        43     Esmeraldas                      Esmeraldas    E      10\n",
       "43        44          Quito                       Pichincha    A       5\n",
       "44        45          Quito                       Pichincha    A      11\n",
       "45        46          Quito                       Pichincha    A      14\n",
       "46        47          Quito                       Pichincha    A      14\n",
       "47        48          Quito                       Pichincha    A      14\n",
       "48        49          Quito                       Pichincha    A      11\n",
       "49        50         Ambato                      Tungurahua    A      14\n",
       "50        51      Guayaquil                          Guayas    A      17\n",
       "51        52          Manta                          Manabi    A      11\n",
       "52        53          Manta                          Manabi    D      13\n",
       "53        54      El Carmen                          Manabi    C       3"
      ]
     },
     "execution_count": 317,
     "metadata": {},
     "output_type": "execute_result"
    }
   ],
   "source": [
    "stores"
   ]
  },
  {
   "cell_type": "code",
   "execution_count": 318,
   "metadata": {},
   "outputs": [
    {
     "data": {
      "text/plain": [
       "(54, 5)"
      ]
     },
     "execution_count": 318,
     "metadata": {},
     "output_type": "execute_result"
    }
   ],
   "source": [
    "stores.shape"
   ]
  },
  {
   "cell_type": "code",
   "execution_count": 319,
   "metadata": {},
   "outputs": [
    {
     "data": {
      "text/plain": [
       "<AxesSubplot:>"
      ]
     },
     "execution_count": 319,
     "metadata": {},
     "output_type": "execute_result"
    },
    {
     "data": {
      "image/png": "[encoded data removed]",
      "text/plain": [
       "<Figure size 720x720 with 2 Axes>"
      ]
     },
     "metadata": {
      "needs_background": "light"
     },
     "output_type": "display_data"
    }
   ],
   "source": [
    "msno.matrix(stores, figsize=(10,10))"
   ]
  },
  {
   "cell_type": "markdown",
   "metadata": {},
   "source": [
    "> Only the first 5 stores have cluster values. Hence drop the cluster \n",
    "variable "
   ]
  },
  {
   "cell_type": "code",
   "execution_count": 320,
   "metadata": {},
   "outputs": [],
   "source": [
    "#stores.drop(['cluster'], axis=1, inplace=True)"
   ]
  },
  {
   "cell_type": "code",
   "execution_count": 334,
   "metadata": {},
   "outputs": [
    {
     "data": {
      "text/plain": [
       "date            0\n",
       "store_nbr       0\n",
       "transactions    0\n",
       "dtype: int64"
      ]
     },
     "execution_count": 334,
     "metadata": {},
     "output_type": "execute_result"
    }
   ],
   "source": [
    "transactions.isna().sum()"
   ]
  },
  {
   "cell_type": "markdown",
   "metadata": {},
   "source": [
    "## Duplication"
   ]
  },
  {
   "cell_type": "code",
   "execution_count": null,
   "metadata": {},
   "outputs": [
    {
     "data": {
      "text/plain": [
       "((3000888, 6), (3000888, 6))"
      ]
     },
     "execution_count": 160,
     "metadata": {},
     "output_type": "execute_result"
    }
   ],
   "source": [
    "train.drop_duplicates().shape, train.shape"
   ]
  },
  {
   "cell_type": "code",
   "execution_count": null,
   "metadata": {},
   "outputs": [
    {
     "data": {
      "text/plain": [
       "((54, 4), (54, 4))"
      ]
     },
     "execution_count": 161,
     "metadata": {},
     "output_type": "execute_result"
    }
   ],
   "source": [
    "stores.drop_duplicates().shape, stores.shape"
   ]
  },
  {
   "cell_type": "code",
   "execution_count": 336,
   "metadata": {},
   "outputs": [
    {
     "data": {
      "text/plain": [
       "((83488, 3), (83488, 3))"
      ]
     },
     "execution_count": 336,
     "metadata": {},
     "output_type": "execute_result"
    }
   ],
   "source": [
    "transactions.drop_duplicates().shape, transactions.shape"
   ]
  },
  {
   "cell_type": "markdown",
   "metadata": {},
   "source": [
    "# IV. Univariate Distributions  <a class=\"anchor\" id=\"fourth-bullet\"></a>"
   ]
  },
  {
   "cell_type": "markdown",
   "metadata": {},
   "source": [
    "## General Distributions"
   ]
  },
  {
   "cell_type": "code",
   "execution_count": null,
   "metadata": {},
   "outputs": [
    {
     "data": {
      "text/html": [
       "<div>\n",
       "<style scoped>\n",
       "    .dataframe tbody tr th:only-of-type {\n",
       "        vertical-align: middle;\n",
       "    }\n",
       "\n",
       "    .dataframe tbody tr th {\n",
       "        vertical-align: top;\n",
       "    }\n",
       "\n",
       "    .dataframe thead th {\n",
       "        text-align: right;\n",
       "    }\n",
       "</style>\n",
       "<table border=\"1\" class=\"dataframe\">\n",
       "  <thead>\n",
       "    <tr style=\"text-align: right;\">\n",
       "      <th></th>\n",
       "      <th>count</th>\n",
       "      <th>mean</th>\n",
       "      <th>std</th>\n",
       "      <th>min</th>\n",
       "      <th>10%</th>\n",
       "      <th>20%</th>\n",
       "      <th>40%</th>\n",
       "      <th>50%</th>\n",
       "      <th>80%</th>\n",
       "      <th>90%</th>\n",
       "      <th>99%</th>\n",
       "      <th>max</th>\n",
       "    </tr>\n",
       "  </thead>\n",
       "  <tbody>\n",
       "    <tr>\n",
       "      <th>sales</th>\n",
       "      <td>3000888.0</td>\n",
       "      <td>357.775749</td>\n",
       "      <td>1101.997721</td>\n",
       "      <td>0.0</td>\n",
       "      <td>0.0</td>\n",
       "      <td>0.0</td>\n",
       "      <td>3.0</td>\n",
       "      <td>11.0</td>\n",
       "      <td>296.9646</td>\n",
       "      <td>867.0</td>\n",
       "      <td>5507.0</td>\n",
       "      <td>124717.0</td>\n",
       "    </tr>\n",
       "    <tr>\n",
       "      <th>onpromotion</th>\n",
       "      <td>3000888.0</td>\n",
       "      <td>2.602770</td>\n",
       "      <td>12.218882</td>\n",
       "      <td>0.0</td>\n",
       "      <td>0.0</td>\n",
       "      <td>0.0</td>\n",
       "      <td>0.0</td>\n",
       "      <td>0.0</td>\n",
       "      <td>1.0000</td>\n",
       "      <td>4.0</td>\n",
       "      <td>55.0</td>\n",
       "      <td>741.0</td>\n",
       "    </tr>\n",
       "  </tbody>\n",
       "</table>\n",
       "</div>"
      ],
      "text/plain": [
       "                 count        mean          std  min  10%  20%  40%   50%  \\\n",
       "sales        3000888.0  357.775749  1101.997721  0.0  0.0  0.0  3.0  11.0   \n",
       "onpromotion  3000888.0    2.602770    12.218882  0.0  0.0  0.0  0.0   0.0   \n",
       "\n",
       "                  80%    90%     99%       max  \n",
       "sales        296.9646  867.0  5507.0  124717.0  \n",
       "onpromotion    1.0000    4.0    55.0     741.0  "
      ]
     },
     "execution_count": 164,
     "metadata": {},
     "output_type": "execute_result"
    }
   ],
   "source": [
    "train.describe(percentiles=[0.1, 0.2, 0.4, 0.5, 0.8, 0.9, 0.99]).T"
   ]
  },
  {
   "cell_type": "markdown",
   "metadata": {},
   "source": [
    "Daily distributions with strong different among days across all products and stores."
   ]
  },
  {
   "cell_type": "code",
   "execution_count": null,
   "metadata": {},
   "outputs": [
    {
     "data": {
      "text/html": [
       "<div>\n",
       "<style scoped>\n",
       "    .dataframe tbody tr th:only-of-type {\n",
       "        vertical-align: middle;\n",
       "    }\n",
       "\n",
       "    .dataframe tbody tr th {\n",
       "        vertical-align: top;\n",
       "    }\n",
       "\n",
       "    .dataframe thead th {\n",
       "        text-align: right;\n",
       "    }\n",
       "</style>\n",
       "<table border=\"1\" class=\"dataframe\">\n",
       "  <thead>\n",
       "    <tr style=\"text-align: right;\">\n",
       "      <th></th>\n",
       "      <th>count</th>\n",
       "      <th>unique</th>\n",
       "      <th>top</th>\n",
       "      <th>freq</th>\n",
       "    </tr>\n",
       "  </thead>\n",
       "  <tbody>\n",
       "    <tr>\n",
       "      <th>id</th>\n",
       "      <td>3000888</td>\n",
       "      <td>3000888</td>\n",
       "      <td>0</td>\n",
       "      <td>1</td>\n",
       "    </tr>\n",
       "    <tr>\n",
       "      <th>store_nbr</th>\n",
       "      <td>3000888</td>\n",
       "      <td>54</td>\n",
       "      <td>1</td>\n",
       "      <td>55572</td>\n",
       "    </tr>\n",
       "    <tr>\n",
       "      <th>family</th>\n",
       "      <td>3000888</td>\n",
       "      <td>33</td>\n",
       "      <td>AUTOMOTIVE</td>\n",
       "      <td>90936</td>\n",
       "    </tr>\n",
       "  </tbody>\n",
       "</table>\n",
       "</div>"
      ],
      "text/plain": [
       "             count   unique         top   freq\n",
       "id         3000888  3000888           0      1\n",
       "store_nbr  3000888       54           1  55572\n",
       "family     3000888       33  AUTOMOTIVE  90936"
      ]
     },
     "execution_count": 165,
     "metadata": {},
     "output_type": "execute_result"
    }
   ],
   "source": [
    "train.describe(include=['object']).T"
   ]
  },
  {
   "cell_type": "markdown",
   "metadata": {},
   "source": [
    "33 different types of products."
   ]
  },
  {
   "cell_type": "markdown",
   "metadata": {},
   "source": [
    "Store numbers agree with store.csv."
   ]
  },
  {
   "cell_type": "code",
   "execution_count": null,
   "metadata": {},
   "outputs": [
    {
     "data": {
      "text/html": [
       "<div>\n",
       "<style scoped>\n",
       "    .dataframe tbody tr th:only-of-type {\n",
       "        vertical-align: middle;\n",
       "    }\n",
       "\n",
       "    .dataframe tbody tr th {\n",
       "        vertical-align: top;\n",
       "    }\n",
       "\n",
       "    .dataframe thead th {\n",
       "        text-align: right;\n",
       "    }\n",
       "</style>\n",
       "<table border=\"1\" class=\"dataframe\">\n",
       "  <thead>\n",
       "    <tr style=\"text-align: right;\">\n",
       "      <th></th>\n",
       "      <th>count</th>\n",
       "      <th>unique</th>\n",
       "      <th>top</th>\n",
       "      <th>freq</th>\n",
       "    </tr>\n",
       "  </thead>\n",
       "  <tbody>\n",
       "    <tr>\n",
       "      <th>store_nbr</th>\n",
       "      <td>54</td>\n",
       "      <td>54</td>\n",
       "      <td>1</td>\n",
       "      <td>1</td>\n",
       "    </tr>\n",
       "    <tr>\n",
       "      <th>city</th>\n",
       "      <td>54</td>\n",
       "      <td>22</td>\n",
       "      <td>Quito</td>\n",
       "      <td>18</td>\n",
       "    </tr>\n",
       "    <tr>\n",
       "      <th>state</th>\n",
       "      <td>54</td>\n",
       "      <td>16</td>\n",
       "      <td>Pichincha</td>\n",
       "      <td>19</td>\n",
       "    </tr>\n",
       "    <tr>\n",
       "      <th>type</th>\n",
       "      <td>54</td>\n",
       "      <td>5</td>\n",
       "      <td>D</td>\n",
       "      <td>18</td>\n",
       "    </tr>\n",
       "  </tbody>\n",
       "</table>\n",
       "</div>"
      ],
      "text/plain": [
       "          count unique        top freq\n",
       "store_nbr    54     54          1    1\n",
       "city         54     22      Quito   18\n",
       "state        54     16  Pichincha   19\n",
       "type         54      5          D   18"
      ]
     },
     "execution_count": 168,
     "metadata": {},
     "output_type": "execute_result"
    }
   ],
   "source": [
    "stores.describe().T"
   ]
  },
  {
   "cell_type": "markdown",
   "metadata": {},
   "source": [
    "> products sold across 22 cities and 16 states\n"
   ]
  },
  {
   "cell_type": "code",
   "execution_count": 347,
   "metadata": {},
   "outputs": [],
   "source": [
    "train_extended = pd.merge(train, stores, on='store_nbr', how=\"left\")\n",
    "train_extended = pd.merge(train_extended, transactions, on=['date', 'store_nbr'], how=\"left\")"
   ]
  },
  {
   "cell_type": "code",
   "execution_count": 348,
   "metadata": {},
   "outputs": [
    {
     "data": {
      "text/html": [
       "<div>\n",
       "<style scoped>\n",
       "    .dataframe tbody tr th:only-of-type {\n",
       "        vertical-align: middle;\n",
       "    }\n",
       "\n",
       "    .dataframe tbody tr th {\n",
       "        vertical-align: top;\n",
       "    }\n",
       "\n",
       "    .dataframe thead th {\n",
       "        text-align: right;\n",
       "    }\n",
       "</style>\n",
       "<table border=\"1\" class=\"dataframe\">\n",
       "  <thead>\n",
       "    <tr style=\"text-align: right;\">\n",
       "      <th></th>\n",
       "      <th>id</th>\n",
       "      <th>date</th>\n",
       "      <th>store_nbr</th>\n",
       "      <th>family</th>\n",
       "      <th>sales</th>\n",
       "      <th>onpromotion</th>\n",
       "      <th>city</th>\n",
       "      <th>state</th>\n",
       "      <th>type</th>\n",
       "      <th>cluster</th>\n",
       "      <th>transactions</th>\n",
       "    </tr>\n",
       "  </thead>\n",
       "  <tbody>\n",
       "    <tr>\n",
       "      <th>0</th>\n",
       "      <td>0</td>\n",
       "      <td>2013-01-01</td>\n",
       "      <td>1</td>\n",
       "      <td>AUTOMOTIVE</td>\n",
       "      <td>0.000</td>\n",
       "      <td>0</td>\n",
       "      <td>Quito</td>\n",
       "      <td>Pichincha</td>\n",
       "      <td>D</td>\n",
       "      <td>13</td>\n",
       "      <td>NaN</td>\n",
       "    </tr>\n",
       "    <tr>\n",
       "      <th>1</th>\n",
       "      <td>1</td>\n",
       "      <td>2013-01-01</td>\n",
       "      <td>1</td>\n",
       "      <td>BABY CARE</td>\n",
       "      <td>0.000</td>\n",
       "      <td>0</td>\n",
       "      <td>Quito</td>\n",
       "      <td>Pichincha</td>\n",
       "      <td>D</td>\n",
       "      <td>13</td>\n",
       "      <td>NaN</td>\n",
       "    </tr>\n",
       "    <tr>\n",
       "      <th>2</th>\n",
       "      <td>2</td>\n",
       "      <td>2013-01-01</td>\n",
       "      <td>1</td>\n",
       "      <td>BEAUTY</td>\n",
       "      <td>0.000</td>\n",
       "      <td>0</td>\n",
       "      <td>Quito</td>\n",
       "      <td>Pichincha</td>\n",
       "      <td>D</td>\n",
       "      <td>13</td>\n",
       "      <td>NaN</td>\n",
       "    </tr>\n",
       "    <tr>\n",
       "      <th>3</th>\n",
       "      <td>3</td>\n",
       "      <td>2013-01-01</td>\n",
       "      <td>1</td>\n",
       "      <td>BEVERAGES</td>\n",
       "      <td>0.000</td>\n",
       "      <td>0</td>\n",
       "      <td>Quito</td>\n",
       "      <td>Pichincha</td>\n",
       "      <td>D</td>\n",
       "      <td>13</td>\n",
       "      <td>NaN</td>\n",
       "    </tr>\n",
       "    <tr>\n",
       "      <th>4</th>\n",
       "      <td>4</td>\n",
       "      <td>2013-01-01</td>\n",
       "      <td>1</td>\n",
       "      <td>BOOKS</td>\n",
       "      <td>0.000</td>\n",
       "      <td>0</td>\n",
       "      <td>Quito</td>\n",
       "      <td>Pichincha</td>\n",
       "      <td>D</td>\n",
       "      <td>13</td>\n",
       "      <td>NaN</td>\n",
       "    </tr>\n",
       "    <tr>\n",
       "      <th>...</th>\n",
       "      <td>...</td>\n",
       "      <td>...</td>\n",
       "      <td>...</td>\n",
       "      <td>...</td>\n",
       "      <td>...</td>\n",
       "      <td>...</td>\n",
       "      <td>...</td>\n",
       "      <td>...</td>\n",
       "      <td>...</td>\n",
       "      <td>...</td>\n",
       "      <td>...</td>\n",
       "    </tr>\n",
       "    <tr>\n",
       "      <th>3000883</th>\n",
       "      <td>3000883</td>\n",
       "      <td>2017-08-15</td>\n",
       "      <td>9</td>\n",
       "      <td>POULTRY</td>\n",
       "      <td>438.133</td>\n",
       "      <td>0</td>\n",
       "      <td>Quito</td>\n",
       "      <td>Pichincha</td>\n",
       "      <td>B</td>\n",
       "      <td>6</td>\n",
       "      <td>2155.0</td>\n",
       "    </tr>\n",
       "    <tr>\n",
       "      <th>3000884</th>\n",
       "      <td>3000884</td>\n",
       "      <td>2017-08-15</td>\n",
       "      <td>9</td>\n",
       "      <td>PREPARED FOODS</td>\n",
       "      <td>154.553</td>\n",
       "      <td>1</td>\n",
       "      <td>Quito</td>\n",
       "      <td>Pichincha</td>\n",
       "      <td>B</td>\n",
       "      <td>6</td>\n",
       "      <td>2155.0</td>\n",
       "    </tr>\n",
       "    <tr>\n",
       "      <th>3000885</th>\n",
       "      <td>3000885</td>\n",
       "      <td>2017-08-15</td>\n",
       "      <td>9</td>\n",
       "      <td>PRODUCE</td>\n",
       "      <td>2419.729</td>\n",
       "      <td>148</td>\n",
       "      <td>Quito</td>\n",
       "      <td>Pichincha</td>\n",
       "      <td>B</td>\n",
       "      <td>6</td>\n",
       "      <td>2155.0</td>\n",
       "    </tr>\n",
       "    <tr>\n",
       "      <th>3000886</th>\n",
       "      <td>3000886</td>\n",
       "      <td>2017-08-15</td>\n",
       "      <td>9</td>\n",
       "      <td>SCHOOL AND OFFICE SUPPLIES</td>\n",
       "      <td>121.000</td>\n",
       "      <td>8</td>\n",
       "      <td>Quito</td>\n",
       "      <td>Pichincha</td>\n",
       "      <td>B</td>\n",
       "      <td>6</td>\n",
       "      <td>2155.0</td>\n",
       "    </tr>\n",
       "    <tr>\n",
       "      <th>3000887</th>\n",
       "      <td>3000887</td>\n",
       "      <td>2017-08-15</td>\n",
       "      <td>9</td>\n",
       "      <td>SEAFOOD</td>\n",
       "      <td>16.000</td>\n",
       "      <td>0</td>\n",
       "      <td>Quito</td>\n",
       "      <td>Pichincha</td>\n",
       "      <td>B</td>\n",
       "      <td>6</td>\n",
       "      <td>2155.0</td>\n",
       "    </tr>\n",
       "  </tbody>\n",
       "</table>\n",
       "<p>3000888 rows × 11 columns</p>\n",
       "</div>"
      ],
      "text/plain": [
       "              id       date store_nbr                      family     sales  \\\n",
       "0              0 2013-01-01         1                  AUTOMOTIVE     0.000   \n",
       "1              1 2013-01-01         1                   BABY CARE     0.000   \n",
       "2              2 2013-01-01         1                      BEAUTY     0.000   \n",
       "3              3 2013-01-01         1                   BEVERAGES     0.000   \n",
       "4              4 2013-01-01         1                       BOOKS     0.000   \n",
       "...          ...        ...       ...                         ...       ...   \n",
       "3000883  3000883 2017-08-15         9                     POULTRY   438.133   \n",
       "3000884  3000884 2017-08-15         9              PREPARED FOODS   154.553   \n",
       "3000885  3000885 2017-08-15         9                     PRODUCE  2419.729   \n",
       "3000886  3000886 2017-08-15         9  SCHOOL AND OFFICE SUPPLIES   121.000   \n",
       "3000887  3000887 2017-08-15         9                     SEAFOOD    16.000   \n",
       "\n",
       "         onpromotion   city      state type cluster  transactions  \n",
       "0                  0  Quito  Pichincha    D      13           NaN  \n",
       "1                  0  Quito  Pichincha    D      13           NaN  \n",
       "2                  0  Quito  Pichincha    D      13           NaN  \n",
       "3                  0  Quito  Pichincha    D      13           NaN  \n",
       "4                  0  Quito  Pichincha    D      13           NaN  \n",
       "...              ...    ...        ...  ...     ...           ...  \n",
       "3000883            0  Quito  Pichincha    B       6        2155.0  \n",
       "3000884            1  Quito  Pichincha    B       6        2155.0  \n",
       "3000885          148  Quito  Pichincha    B       6        2155.0  \n",
       "3000886            8  Quito  Pichincha    B       6        2155.0  \n",
       "3000887            0  Quito  Pichincha    B       6        2155.0  \n",
       "\n",
       "[3000888 rows x 11 columns]"
      ]
     },
     "execution_count": 348,
     "metadata": {},
     "output_type": "execute_result"
    }
   ],
   "source": [
    "train_extended"
   ]
  },
  {
   "cell_type": "code",
   "execution_count": 350,
   "metadata": {},
   "outputs": [
    {
     "data": {
      "text/plain": [
       "id                   0\n",
       "date                 0\n",
       "store_nbr            0\n",
       "family               0\n",
       "sales                0\n",
       "onpromotion          0\n",
       "city                 0\n",
       "state                0\n",
       "type                 0\n",
       "cluster              0\n",
       "transactions    245784\n",
       "dtype: int64"
      ]
     },
     "execution_count": 350,
     "metadata": {},
     "output_type": "execute_result"
    }
   ],
   "source": [
    "train_extended.isna().sum()"
   ]
  },
  {
   "cell_type": "code",
   "execution_count": 354,
   "metadata": {},
   "outputs": [
    {
     "data": {
      "text/plain": [
       "id              0.000000\n",
       "date            0.000000\n",
       "store_nbr       0.000000\n",
       "family          0.000000\n",
       "sales           0.000000\n",
       "onpromotion     0.000000\n",
       "city            0.000000\n",
       "state           0.000000\n",
       "type            0.000000\n",
       "cluster         0.000000\n",
       "transactions    0.081904\n",
       "dtype: float64"
      ]
     },
     "execution_count": 354,
     "metadata": {},
     "output_type": "execute_result"
    }
   ],
   "source": [
    "train_extended.isna().sum()/train_extended.shape[0]"
   ]
  },
  {
   "cell_type": "markdown",
   "metadata": {},
   "source": [
    "> For 8% of the store-date combinations we don't have transactions. Worth\n",
    "investigating in multivariate analysis."
   ]
  },
  {
   "cell_type": "code",
   "execution_count": 356,
   "metadata": {},
   "outputs": [
    {
     "data": {
      "text/html": [
       "<div>\n",
       "<style scoped>\n",
       "    .dataframe tbody tr th:only-of-type {\n",
       "        vertical-align: middle;\n",
       "    }\n",
       "\n",
       "    .dataframe tbody tr th {\n",
       "        vertical-align: top;\n",
       "    }\n",
       "\n",
       "    .dataframe thead th {\n",
       "        text-align: right;\n",
       "    }\n",
       "</style>\n",
       "<table border=\"1\" class=\"dataframe\">\n",
       "  <thead>\n",
       "    <tr style=\"text-align: right;\">\n",
       "      <th></th>\n",
       "      <th>count</th>\n",
       "      <th>mean</th>\n",
       "      <th>std</th>\n",
       "      <th>min</th>\n",
       "      <th>10%</th>\n",
       "      <th>20%</th>\n",
       "      <th>40%</th>\n",
       "      <th>50%</th>\n",
       "      <th>80%</th>\n",
       "      <th>90%</th>\n",
       "      <th>99%</th>\n",
       "      <th>max</th>\n",
       "    </tr>\n",
       "  </thead>\n",
       "  <tbody>\n",
       "    <tr>\n",
       "      <th>sales</th>\n",
       "      <td>3000888.0</td>\n",
       "      <td>357.775749</td>\n",
       "      <td>1101.997721</td>\n",
       "      <td>0.0</td>\n",
       "      <td>0.0</td>\n",
       "      <td>0.0</td>\n",
       "      <td>3.0</td>\n",
       "      <td>11.0</td>\n",
       "      <td>296.9646</td>\n",
       "      <td>867.0</td>\n",
       "      <td>5507.0</td>\n",
       "      <td>124717.0</td>\n",
       "    </tr>\n",
       "    <tr>\n",
       "      <th>onpromotion</th>\n",
       "      <td>3000888.0</td>\n",
       "      <td>2.602770</td>\n",
       "      <td>12.218882</td>\n",
       "      <td>0.0</td>\n",
       "      <td>0.0</td>\n",
       "      <td>0.0</td>\n",
       "      <td>0.0</td>\n",
       "      <td>0.0</td>\n",
       "      <td>1.0000</td>\n",
       "      <td>4.0</td>\n",
       "      <td>55.0</td>\n",
       "      <td>741.0</td>\n",
       "    </tr>\n",
       "    <tr>\n",
       "      <th>transactions</th>\n",
       "      <td>2755104.0</td>\n",
       "      <td>1694.602158</td>\n",
       "      <td>963.281049</td>\n",
       "      <td>5.0</td>\n",
       "      <td>754.0</td>\n",
       "      <td>961.0</td>\n",
       "      <td>1260.0</td>\n",
       "      <td>1393.0</td>\n",
       "      <td>2342.0000</td>\n",
       "      <td>3071.0</td>\n",
       "      <td>4862.0</td>\n",
       "      <td>8359.0</td>\n",
       "    </tr>\n",
       "  </tbody>\n",
       "</table>\n",
       "</div>"
      ],
      "text/plain": [
       "                  count         mean          std  min    10%    20%     40%  \\\n",
       "sales         3000888.0   357.775749  1101.997721  0.0    0.0    0.0     3.0   \n",
       "onpromotion   3000888.0     2.602770    12.218882  0.0    0.0    0.0     0.0   \n",
       "transactions  2755104.0  1694.602158   963.281049  5.0  754.0  961.0  1260.0   \n",
       "\n",
       "                 50%        80%     90%     99%       max  \n",
       "sales           11.0   296.9646   867.0  5507.0  124717.0  \n",
       "onpromotion      0.0     1.0000     4.0    55.0     741.0  \n",
       "transactions  1393.0  2342.0000  3071.0  4862.0    8359.0  "
      ]
     },
     "execution_count": 356,
     "metadata": {},
     "output_type": "execute_result"
    }
   ],
   "source": [
    "train_extended.describe(percentiles=[0.1, 0.2, 0.4, 0.5, 0.8, 0.9, 0.99]).T"
   ]
  },
  {
   "cell_type": "markdown",
   "metadata": {},
   "source": [
    "## Date "
   ]
  },
  {
   "cell_type": "code",
   "execution_count": null,
   "metadata": {},
   "outputs": [
    {
     "data": {
      "text/plain": [
       "<AxesSubplot:>"
      ]
     },
     "execution_count": 203,
     "metadata": {},
     "output_type": "execute_result"
    },
    {
     "data": {
      "image/png": "[encoded data removed]",
      "text/plain": [
       "<Figure size 432x288 with 1 Axes>"
      ]
     },
     "metadata": {
      "needs_background": "light"
     },
     "output_type": "display_data"
    }
   ],
   "source": [
    "train_extended['date'].plot()"
   ]
  },
  {
   "cell_type": "code",
   "execution_count": null,
   "metadata": {},
   "outputs": [
    {
     "data": {
      "text/plain": [
       "<AxesSubplot:xlabel='date'>"
      ]
     },
     "execution_count": 210,
     "metadata": {},
     "output_type": "execute_result"
    },
    {
     "data": {
      "image/png": "[encoded data removed]",
      "text/plain": [
       "<Figure size 432x288 with 1 Axes>"
      ]
     },
     "metadata": {
      "needs_background": "light"
     },
     "output_type": "display_data"
    }
   ],
   "source": [
    "train_extended.groupby(\"date\").count()['id'].plot()"
   ]
  },
  {
   "cell_type": "code",
   "execution_count": null,
   "metadata": {},
   "outputs": [
    {
     "data": {
      "text/plain": [
       "date\n",
       "2013-01-01    1782\n",
       "2013-01-02    1782\n",
       "2013-01-03    1782\n",
       "2013-01-04    1782\n",
       "2013-01-05    1782\n",
       "Name: id, dtype: int64"
      ]
     },
     "execution_count": 211,
     "metadata": {},
     "output_type": "execute_result"
    }
   ],
   "source": [
    "train_extended.groupby(\"date\").count()['id'].head()"
   ]
  },
  {
   "cell_type": "markdown",
   "metadata": {},
   "source": [
    "each day has the same number of product families, across stores. Expected\n",
    "as some stores have sales for products of 0.\n"
   ]
  },
  {
   "cell_type": "code",
   "execution_count": null,
   "metadata": {},
   "outputs": [
    {
     "data": {
      "text/html": [
       "<div>\n",
       "<style scoped>\n",
       "    .dataframe tbody tr th:only-of-type {\n",
       "        vertical-align: middle;\n",
       "    }\n",
       "\n",
       "    .dataframe tbody tr th {\n",
       "        vertical-align: top;\n",
       "    }\n",
       "\n",
       "    .dataframe thead th {\n",
       "        text-align: right;\n",
       "    }\n",
       "</style>\n",
       "<table border=\"1\" class=\"dataframe\">\n",
       "  <thead>\n",
       "    <tr style=\"text-align: right;\">\n",
       "      <th></th>\n",
       "      <th>count</th>\n",
       "      <th>mean</th>\n",
       "      <th>min</th>\n",
       "      <th>25%</th>\n",
       "      <th>50%</th>\n",
       "      <th>75%</th>\n",
       "      <th>max</th>\n",
       "    </tr>\n",
       "  </thead>\n",
       "  <tbody>\n",
       "    <tr>\n",
       "      <th>date</th>\n",
       "      <td>3000888</td>\n",
       "      <td>2015-04-24 08:27:04.703088384</td>\n",
       "      <td>2013-01-01</td>\n",
       "      <td>2014-02-26 18:00:00</td>\n",
       "      <td>2015-04-24 12:00:00</td>\n",
       "      <td>2016-06-19 06:00:00</td>\n",
       "      <td>2017-08-15</td>\n",
       "    </tr>\n",
       "  </tbody>\n",
       "</table>\n",
       "</div>"
      ],
      "text/plain": [
       "        count                          mean        min                 25%  \\\n",
       "date  3000888 2015-04-24 08:27:04.703088384 2013-01-01 2014-02-26 18:00:00   \n",
       "\n",
       "                     50%                 75%        max  \n",
       "date 2015-04-24 12:00:00 2016-06-19 06:00:00 2017-08-15  "
      ]
     },
     "execution_count": 216,
     "metadata": {},
     "output_type": "execute_result"
    }
   ],
   "source": [
    "train_extended['date'].describe(datetime_is_numeric=True).to_frame().T"
   ]
  },
  {
   "cell_type": "markdown",
   "metadata": {},
   "source": [
    "From 2013 to 2017-08-15, 4 years 8months and 15 days of data, which\n",
    "could include yearly seasonal affects "
   ]
  },
  {
   "cell_type": "code",
   "execution_count": 357,
   "metadata": {},
   "outputs": [
    {
     "data": {
      "text/html": [
       "<div>\n",
       "<style scoped>\n",
       "    .dataframe tbody tr th:only-of-type {\n",
       "        vertical-align: middle;\n",
       "    }\n",
       "\n",
       "    .dataframe tbody tr th {\n",
       "        vertical-align: top;\n",
       "    }\n",
       "\n",
       "    .dataframe thead th {\n",
       "        text-align: right;\n",
       "    }\n",
       "</style>\n",
       "<table border=\"1\" class=\"dataframe\">\n",
       "  <thead>\n",
       "    <tr style=\"text-align: right;\">\n",
       "      <th></th>\n",
       "      <th>count</th>\n",
       "      <th>mean</th>\n",
       "      <th>min</th>\n",
       "      <th>25%</th>\n",
       "      <th>50%</th>\n",
       "      <th>75%</th>\n",
       "      <th>max</th>\n",
       "    </tr>\n",
       "  </thead>\n",
       "  <tbody>\n",
       "    <tr>\n",
       "      <th>date</th>\n",
       "      <td>28512</td>\n",
       "      <td>2017-08-23 12:00:00</td>\n",
       "      <td>2017-08-16</td>\n",
       "      <td>2017-08-19 18:00:00</td>\n",
       "      <td>2017-08-23 12:00:00</td>\n",
       "      <td>2017-08-27 06:00:00</td>\n",
       "      <td>2017-08-31</td>\n",
       "    </tr>\n",
       "  </tbody>\n",
       "</table>\n",
       "</div>"
      ],
      "text/plain": [
       "      count                mean        min                 25%  \\\n",
       "date  28512 2017-08-23 12:00:00 2017-08-16 2017-08-19 18:00:00   \n",
       "\n",
       "                     50%                 75%        max  \n",
       "date 2017-08-23 12:00:00 2017-08-27 06:00:00 2017-08-31  "
      ]
     },
     "execution_count": 357,
     "metadata": {},
     "output_type": "execute_result"
    }
   ],
   "source": [
    "test['date'].describe(datetime_is_numeric=True).to_frame().T"
   ]
  },
  {
   "cell_type": "markdown",
   "metadata": {},
   "source": [
    "## store_nbr"
   ]
  },
  {
   "cell_type": "code",
   "execution_count": null,
   "metadata": {},
   "outputs": [
    {
     "data": {
      "text/plain": [
       "array(['1', '10', '11', '12', '13', '14', '15', '16', '17', '18', '19',\n",
       "       '2', '20', '21', '22', '23', '24', '25', '26', '27', '28', '29',\n",
       "       '3', '30', '31', '32', '33', '34', '35', '36', '37', '38', '39',\n",
       "       '4', '40', '41', '42', '43', '44', '45', '46', '47', '48', '49',\n",
       "       '5', '50', '51', '52', '53', '54', '6', '7', '8', '9'],\n",
       "      dtype=object)"
      ]
     },
     "execution_count": 229,
     "metadata": {},
     "output_type": "execute_result"
    }
   ],
   "source": [
    "train_extended['store_nbr'].unique()"
   ]
  },
  {
   "cell_type": "code",
   "execution_count": null,
   "metadata": {},
   "outputs": [
    {
     "data": {
      "text/plain": [
       "54"
      ]
     },
     "execution_count": 230,
     "metadata": {},
     "output_type": "execute_result"
    }
   ],
   "source": [
    "train_extended['store_nbr'].nunique()"
   ]
  },
  {
   "cell_type": "code",
   "execution_count": null,
   "metadata": {},
   "outputs": [
    {
     "data": {
      "text/plain": [
       "array([55572])"
      ]
     },
     "execution_count": 219,
     "metadata": {},
     "output_type": "execute_result"
    }
   ],
   "source": [
    "train_extended['store_nbr'].value_counts().unique()"
   ]
  },
  {
   "cell_type": "markdown",
   "metadata": {},
   "source": [
    "As expected, each store has the same number of product families,\n",
    "leading to 55572 entries per store over the time period."
   ]
  },
  {
   "cell_type": "markdown",
   "metadata": {},
   "source": [
    "## family"
   ]
  },
  {
   "cell_type": "code",
   "execution_count": null,
   "metadata": {},
   "outputs": [
    {
     "data": {
      "text/plain": [
       "array(['AUTOMOTIVE', 'BABY CARE', 'BEAUTY', 'BEVERAGES', 'BOOKS',\n",
       "       'BREAD/BAKERY', 'CELEBRATION', 'CLEANING', 'DAIRY', 'DELI', 'EGGS',\n",
       "       'FROZEN FOODS', 'GROCERY I', 'GROCERY II', 'HARDWARE',\n",
       "       'HOME AND KITCHEN I', 'HOME AND KITCHEN II', 'HOME APPLIANCES',\n",
       "       'HOME CARE', 'LADIESWEAR', 'LAWN AND GARDEN', 'LINGERIE',\n",
       "       'LIQUOR,WINE,BEER', 'MAGAZINES', 'MEATS', 'PERSONAL CARE',\n",
       "       'PET SUPPLIES', 'PLAYERS AND ELECTRONICS', 'POULTRY',\n",
       "       'PREPARED FOODS', 'PRODUCE', 'SCHOOL AND OFFICE SUPPLIES',\n",
       "       'SEAFOOD'], dtype=object)"
      ]
     },
     "execution_count": 227,
     "metadata": {},
     "output_type": "execute_result"
    }
   ],
   "source": [
    "train_extended['family'].unique()"
   ]
  },
  {
   "cell_type": "markdown",
   "metadata": {},
   "source": [
    "Most categories look well distinct, others such as Grocery I/II not so much."
   ]
  },
  {
   "cell_type": "code",
   "execution_count": null,
   "metadata": {},
   "outputs": [
    {
     "data": {
      "text/plain": [
       "33"
      ]
     },
     "execution_count": 228,
     "metadata": {},
     "output_type": "execute_result"
    }
   ],
   "source": [
    "train_extended['family'].nunique()"
   ]
  },
  {
   "cell_type": "code",
   "execution_count": null,
   "metadata": {},
   "outputs": [
    {
     "data": {
      "text/plain": [
       "AUTOMOTIVE                    90936\n",
       "HOME APPLIANCES               90936\n",
       "SCHOOL AND OFFICE SUPPLIES    90936\n",
       "PRODUCE                       90936\n",
       "PREPARED FOODS                90936\n",
       "POULTRY                       90936\n",
       "PLAYERS AND ELECTRONICS       90936\n",
       "PET SUPPLIES                  90936\n",
       "PERSONAL CARE                 90936\n",
       "MEATS                         90936\n",
       "MAGAZINES                     90936\n",
       "LIQUOR,WINE,BEER              90936\n",
       "LINGERIE                      90936\n",
       "LAWN AND GARDEN               90936\n",
       "LADIESWEAR                    90936\n",
       "HOME CARE                     90936\n",
       "HOME AND KITCHEN II           90936\n",
       "BABY CARE                     90936\n",
       "HOME AND KITCHEN I            90936\n",
       "HARDWARE                      90936\n",
       "GROCERY II                    90936\n",
       "GROCERY I                     90936\n",
       "FROZEN FOODS                  90936\n",
       "EGGS                          90936\n",
       "DELI                          90936\n",
       "DAIRY                         90936\n",
       "CLEANING                      90936\n",
       "CELEBRATION                   90936\n",
       "BREAD/BAKERY                  90936\n",
       "BOOKS                         90936\n",
       "BEVERAGES                     90936\n",
       "BEAUTY                        90936\n",
       "SEAFOOD                       90936\n",
       "Name: family, dtype: int64"
      ]
     },
     "execution_count": 221,
     "metadata": {},
     "output_type": "execute_result"
    }
   ],
   "source": [
    "train_extended['family'].value_counts()"
   ]
  },
  {
   "cell_type": "markdown",
   "metadata": {},
   "source": [
    "Over the years, the same number of entries per product family as expected.\n",
    "Not very useful at this point"
   ]
  },
  {
   "cell_type": "markdown",
   "metadata": {},
   "source": [
    "## Sales"
   ]
  },
  {
   "cell_type": "code",
   "execution_count": null,
   "metadata": {},
   "outputs": [
    {
     "data": {
      "text/plain": [
       "count    3.000888e+06\n",
       "mean     3.577757e+02\n",
       "std      1.101998e+03\n",
       "min      0.000000e+00\n",
       "25%      0.000000e+00\n",
       "50%      1.100000e+01\n",
       "75%      1.958473e+02\n",
       "max      1.247170e+05\n",
       "Name: sales, dtype: float64"
      ]
     },
     "execution_count": 224,
     "metadata": {},
     "output_type": "execute_result"
    }
   ],
   "source": [
    "train_extended['sales'].describe()"
   ]
  },
  {
   "cell_type": "code",
   "execution_count": null,
   "metadata": {},
   "outputs": [
    {
     "data": {
      "text/plain": [
       "Text(0.5, 0, 'Sales across stores and families')"
      ]
     },
     "execution_count": 238,
     "metadata": {},
     "output_type": "execute_result"
    },
    {
     "data": {
      "image/png": "[encoded data removed]",
      "text/plain": [
       "<Figure size 432x288 with 1 Axes>"
      ]
     },
     "metadata": {
      "needs_background": "light"
     },
     "output_type": "display_data"
    }
   ],
   "source": [
    "sns.boxplot(x=train_extended['sales']).set_xlabel(\"Sales across stores and families\")"
   ]
  },
  {
   "cell_type": "markdown",
   "metadata": {},
   "source": [
    "Values of sales vary across the product families, with expected\n",
    "minimum of 0, and maximum well above median of 11"
   ]
  },
  {
   "cell_type": "markdown",
   "metadata": {},
   "source": [
    "## city"
   ]
  },
  {
   "cell_type": "code",
   "execution_count": null,
   "metadata": {},
   "outputs": [
    {
     "data": {
      "text/plain": [
       "Quito            1000296\n",
       "Guayaquil         444576\n",
       "Santo Domingo     166716\n",
       "Cuenca            166716\n",
       "Latacunga         111144\n",
       "Manta             111144\n",
       "Machala           111144\n",
       "Ambato            111144\n",
       "Quevedo            55572\n",
       "Esmeraldas         55572\n",
       "Loja               55572\n",
       "Libertad           55572\n",
       "Playas             55572\n",
       "Daule              55572\n",
       "Babahoyo           55572\n",
       "Cayambe            55572\n",
       "Salinas            55572\n",
       "Puyo               55572\n",
       "Guaranda           55572\n",
       "Ibarra             55572\n",
       "Riobamba           55572\n",
       "El Carmen          55572\n",
       "Name: city, dtype: int64"
      ]
     },
     "execution_count": 240,
     "metadata": {},
     "output_type": "execute_result"
    }
   ],
   "source": [
    "train_extended['city'].value_counts()"
   ]
  },
  {
   "cell_type": "code",
   "execution_count": null,
   "metadata": {},
   "outputs": [
    {
     "data": {
      "text/plain": [
       "<AxesSubplot:>"
      ]
     },
     "execution_count": 251,
     "metadata": {},
     "output_type": "execute_result"
    },
    {
     "data": {
      "image/png": "[encoded data removed]",
      "text/plain": [
       "<Figure size 720x720 with 1 Axes>"
      ]
     },
     "metadata": {
      "needs_background": "light"
     },
     "output_type": "display_data"
    }
   ],
   "source": [
    "train_extended['city'].value_counts(normalize=True).T.plot(kind='barh', figsize=(10,10))"
   ]
  },
  {
   "cell_type": "markdown",
   "metadata": {},
   "source": [
    "Some cities have significant more stores, resulting in more product family entries.\n",
    "Most stores are in the City Quito"
   ]
  },
  {
   "cell_type": "markdown",
   "metadata": {},
   "source": [
    "## State"
   ]
  },
  {
   "cell_type": "code",
   "execution_count": null,
   "metadata": {},
   "outputs": [
    {
     "data": {
      "text/plain": [
       "<AxesSubplot:>"
      ]
     },
     "execution_count": 252,
     "metadata": {},
     "output_type": "execute_result"
    },
    {
     "data": {
      "image/png": "[encoded data removed]",
      "text/plain": [
       "<Figure size 720x720 with 1 Axes>"
      ]
     },
     "metadata": {
      "needs_background": "light"
     },
     "output_type": "display_data"
    }
   ],
   "source": [
    "train_extended['state'].value_counts(normalize=True).T.plot(kind='barh', figsize=(10,10))"
   ]
  },
  {
   "cell_type": "markdown",
   "metadata": {},
   "source": [
    "Same states have more stores in their cityes resulting in more product families."
   ]
  },
  {
   "cell_type": "markdown",
   "metadata": {},
   "source": [
    "## type"
   ]
  },
  {
   "cell_type": "code",
   "execution_count": null,
   "metadata": {},
   "outputs": [
    {
     "data": {
      "text/plain": [
       "D    0.333333\n",
       "C    0.277778\n",
       "A    0.166667\n",
       "B    0.148148\n",
       "E    0.074074\n",
       "Name: type, dtype: float64"
      ]
     },
     "execution_count": 255,
     "metadata": {},
     "output_type": "execute_result"
    }
   ],
   "source": [
    "train_extended['type'].value_counts(normalize=True)"
   ]
  },
  {
   "cell_type": "markdown",
   "metadata": {},
   "source": [
    "Stores of type D are most common with 33%, un-even distribution of stores."
   ]
  },
  {
   "cell_type": "markdown",
   "metadata": {},
   "source": [
    "## transactions\n",
    "\n",
    "Around 1300 transactions per store per day with heavy tailed/skew to the\n",
    "right. two additional minor peaks could be investigated."
   ]
  },
  {
   "cell_type": "code",
   "execution_count": 360,
   "metadata": {},
   "outputs": [
    {
     "data": {
      "text/plain": [
       "count    2.755104e+06\n",
       "mean     1.694602e+03\n",
       "std      9.632810e+02\n",
       "min      5.000000e+00\n",
       "25%      1.046000e+03\n",
       "50%      1.393000e+03\n",
       "75%      2.079000e+03\n",
       "max      8.359000e+03\n",
       "Name: transactions, dtype: float64"
      ]
     },
     "execution_count": 360,
     "metadata": {},
     "output_type": "execute_result"
    }
   ],
   "source": [
    "train_extended['transactions'].describe()"
   ]
  },
  {
   "cell_type": "code",
   "execution_count": 359,
   "metadata": {},
   "outputs": [
    {
     "data": {
      "text/plain": [
       "<AxesSubplot:xlabel='transactions', ylabel='Count'>"
      ]
     },
     "execution_count": 359,
     "metadata": {},
     "output_type": "execute_result"
    },
    {
     "data": {
      "image/png": "[encoded data removed]",
      "text/plain": [
       "<Figure size 432x288 with 1 Axes>"
      ]
     },
     "metadata": {
      "needs_background": "light"
     },
     "output_type": "display_data"
    }
   ],
   "source": [
    "sns.histplot(train_extended['transactions'])"
   ]
  },
  {
   "cell_type": "markdown",
   "metadata": {},
   "source": [
    "#  V. Multivariate Distribution  <a class=\"anchor\" id=\"fifth-bullet\"></a>"
   ]
  },
  {
   "cell_type": "markdown",
   "metadata": {},
   "source": [
    "## STore Properties\n",
    "\n",
    "* Most cities have just one store, but Guayaquil and Quito are outliers with 8 and 18!\n",
    "This means most data is coming from these cities and might be less generalizable\n",
    "to other cities or states in the dataset. **Bias**\n",
    "* Store types are fairly distributed among cities and states"
   ]
  },
  {
   "cell_type": "code",
   "execution_count": null,
   "metadata": {},
   "outputs": [],
   "source": [
    "val_count = lambda x: pd.value_counts(x).to_dict()"
   ]
  },
  {
   "cell_type": "code",
   "execution_count": null,
   "metadata": {},
   "outputs": [
    {
     "data": {
      "text/html": [
       "<div>\n",
       "<style scoped>\n",
       "    .dataframe tbody tr th:only-of-type {\n",
       "        vertical-align: middle;\n",
       "    }\n",
       "\n",
       "    .dataframe tbody tr th {\n",
       "        vertical-align: top;\n",
       "    }\n",
       "\n",
       "    .dataframe thead th {\n",
       "        text-align: right;\n",
       "    }\n",
       "</style>\n",
       "<table border=\"1\" class=\"dataframe\">\n",
       "  <thead>\n",
       "    <tr style=\"text-align: right;\">\n",
       "      <th></th>\n",
       "      <th></th>\n",
       "      <th>store_nbr</th>\n",
       "      <th>type</th>\n",
       "    </tr>\n",
       "    <tr>\n",
       "      <th>state</th>\n",
       "      <th>city</th>\n",
       "      <th></th>\n",
       "      <th></th>\n",
       "    </tr>\n",
       "  </thead>\n",
       "  <tbody>\n",
       "    <tr>\n",
       "      <th>Azuay</th>\n",
       "      <th>Cuenca</th>\n",
       "      <td>3</td>\n",
       "      <td>{'D': 2, 'B': 1}</td>\n",
       "    </tr>\n",
       "    <tr>\n",
       "      <th>Bolivar</th>\n",
       "      <th>Guaranda</th>\n",
       "      <td>1</td>\n",
       "      <td>{'C': 1}</td>\n",
       "    </tr>\n",
       "    <tr>\n",
       "      <th>Chimborazo</th>\n",
       "      <th>Riobamba</th>\n",
       "      <td>1</td>\n",
       "      <td>{'C': 1}</td>\n",
       "    </tr>\n",
       "    <tr>\n",
       "      <th>Cotopaxi</th>\n",
       "      <th>Latacunga</th>\n",
       "      <td>2</td>\n",
       "      <td>{'C': 2}</td>\n",
       "    </tr>\n",
       "    <tr>\n",
       "      <th>El Oro</th>\n",
       "      <th>Machala</th>\n",
       "      <td>2</td>\n",
       "      <td>{'C': 1, 'D': 1}</td>\n",
       "    </tr>\n",
       "    <tr>\n",
       "      <th>Esmeraldas</th>\n",
       "      <th>Esmeraldas</th>\n",
       "      <td>1</td>\n",
       "      <td>{'E': 1}</td>\n",
       "    </tr>\n",
       "    <tr>\n",
       "      <th rowspan=\"4\" valign=\"top\">Guayas</th>\n",
       "      <th>Daule</th>\n",
       "      <td>1</td>\n",
       "      <td>{'D': 1}</td>\n",
       "    </tr>\n",
       "    <tr>\n",
       "      <th>Guayaquil</th>\n",
       "      <td>8</td>\n",
       "      <td>{'D': 2, 'E': 2, 'C': 2, 'B': 1, 'A': 1}</td>\n",
       "    </tr>\n",
       "    <tr>\n",
       "      <th>Libertad</th>\n",
       "      <td>1</td>\n",
       "      <td>{'E': 1}</td>\n",
       "    </tr>\n",
       "    <tr>\n",
       "      <th>Playas</th>\n",
       "      <td>1</td>\n",
       "      <td>{'C': 1}</td>\n",
       "    </tr>\n",
       "    <tr>\n",
       "      <th>Imbabura</th>\n",
       "      <th>Ibarra</th>\n",
       "      <td>1</td>\n",
       "      <td>{'C': 1}</td>\n",
       "    </tr>\n",
       "    <tr>\n",
       "      <th>Loja</th>\n",
       "      <th>Loja</th>\n",
       "      <td>1</td>\n",
       "      <td>{'D': 1}</td>\n",
       "    </tr>\n",
       "    <tr>\n",
       "      <th rowspan=\"2\" valign=\"top\">Los Rios</th>\n",
       "      <th>Babahoyo</th>\n",
       "      <td>1</td>\n",
       "      <td>{'B': 1}</td>\n",
       "    </tr>\n",
       "    <tr>\n",
       "      <th>Quevedo</th>\n",
       "      <td>1</td>\n",
       "      <td>{'C': 1}</td>\n",
       "    </tr>\n",
       "    <tr>\n",
       "      <th rowspan=\"2\" valign=\"top\">Manabi</th>\n",
       "      <th>El Carmen</th>\n",
       "      <td>1</td>\n",
       "      <td>{'C': 1}</td>\n",
       "    </tr>\n",
       "    <tr>\n",
       "      <th>Manta</th>\n",
       "      <td>2</td>\n",
       "      <td>{'A': 1, 'D': 1}</td>\n",
       "    </tr>\n",
       "    <tr>\n",
       "      <th>Pastaza</th>\n",
       "      <th>Puyo</th>\n",
       "      <td>1</td>\n",
       "      <td>{'C': 1}</td>\n",
       "    </tr>\n",
       "    <tr>\n",
       "      <th rowspan=\"2\" valign=\"top\">Pichincha</th>\n",
       "      <th>Cayambe</th>\n",
       "      <td>1</td>\n",
       "      <td>{'B': 1}</td>\n",
       "    </tr>\n",
       "    <tr>\n",
       "      <th>Quito</th>\n",
       "      <td>18</td>\n",
       "      <td>{'D': 7, 'A': 6, 'B': 3, 'C': 2}</td>\n",
       "    </tr>\n",
       "    <tr>\n",
       "      <th>Santa Elena</th>\n",
       "      <th>Salinas</th>\n",
       "      <td>1</td>\n",
       "      <td>{'D': 1}</td>\n",
       "    </tr>\n",
       "    <tr>\n",
       "      <th>Santo Domingo de los Tsachilas</th>\n",
       "      <th>Santo Domingo</th>\n",
       "      <td>3</td>\n",
       "      <td>{'D': 1, 'C': 1, 'B': 1}</td>\n",
       "    </tr>\n",
       "    <tr>\n",
       "      <th>Tungurahua</th>\n",
       "      <th>Ambato</th>\n",
       "      <td>2</td>\n",
       "      <td>{'D': 1, 'A': 1}</td>\n",
       "    </tr>\n",
       "  </tbody>\n",
       "</table>\n",
       "</div>"
      ],
      "text/plain": [
       "                                              store_nbr  \\\n",
       "state                          city                       \n",
       "Azuay                          Cuenca                 3   \n",
       "Bolivar                        Guaranda               1   \n",
       "Chimborazo                     Riobamba               1   \n",
       "Cotopaxi                       Latacunga              2   \n",
       "El Oro                         Machala                2   \n",
       "Esmeraldas                     Esmeraldas             1   \n",
       "Guayas                         Daule                  1   \n",
       "                               Guayaquil              8   \n",
       "                               Libertad               1   \n",
       "                               Playas                 1   \n",
       "Imbabura                       Ibarra                 1   \n",
       "Loja                           Loja                   1   \n",
       "Los Rios                       Babahoyo               1   \n",
       "                               Quevedo                1   \n",
       "Manabi                         El Carmen              1   \n",
       "                               Manta                  2   \n",
       "Pastaza                        Puyo                   1   \n",
       "Pichincha                      Cayambe                1   \n",
       "                               Quito                 18   \n",
       "Santa Elena                    Salinas                1   \n",
       "Santo Domingo de los Tsachilas Santo Domingo          3   \n",
       "Tungurahua                     Ambato                 2   \n",
       "\n",
       "                                                                                  type  \n",
       "state                          city                                                     \n",
       "Azuay                          Cuenca                                 {'D': 2, 'B': 1}  \n",
       "Bolivar                        Guaranda                                       {'C': 1}  \n",
       "Chimborazo                     Riobamba                                       {'C': 1}  \n",
       "Cotopaxi                       Latacunga                                      {'C': 2}  \n",
       "El Oro                         Machala                                {'C': 1, 'D': 1}  \n",
       "Esmeraldas                     Esmeraldas                                     {'E': 1}  \n",
       "Guayas                         Daule                                          {'D': 1}  \n",
       "                               Guayaquil      {'D': 2, 'E': 2, 'C': 2, 'B': 1, 'A': 1}  \n",
       "                               Libertad                                       {'E': 1}  \n",
       "                               Playas                                         {'C': 1}  \n",
       "Imbabura                       Ibarra                                         {'C': 1}  \n",
       "Loja                           Loja                                           {'D': 1}  \n",
       "Los Rios                       Babahoyo                                       {'B': 1}  \n",
       "                               Quevedo                                        {'C': 1}  \n",
       "Manabi                         El Carmen                                      {'C': 1}  \n",
       "                               Manta                                  {'A': 1, 'D': 1}  \n",
       "Pastaza                        Puyo                                           {'C': 1}  \n",
       "Pichincha                      Cayambe                                        {'B': 1}  \n",
       "                               Quito                  {'D': 7, 'A': 6, 'B': 3, 'C': 2}  \n",
       "Santa Elena                    Salinas                                        {'D': 1}  \n",
       "Santo Domingo de los Tsachilas Santo Domingo                  {'D': 1, 'C': 1, 'B': 1}  \n",
       "Tungurahua                     Ambato                                 {'D': 1, 'A': 1}  "
      ]
     },
     "execution_count": 279,
     "metadata": {},
     "output_type": "execute_result"
    }
   ],
   "source": [
    "stores.groupby([\"state\", \"city\"]).agg({\"store_nbr\": \"count\", \"type\": val_count})"
   ]
  },
  {
   "cell_type": "code",
   "execution_count": null,
   "metadata": {},
   "outputs": [
    {
     "data": {
      "text/plain": [
       "state\n",
       "Azuay                              3\n",
       "Bolivar                            1\n",
       "Chimborazo                         1\n",
       "Cotopaxi                           2\n",
       "El Oro                             2\n",
       "Esmeraldas                         1\n",
       "Guayas                            11\n",
       "Imbabura                           1\n",
       "Loja                               1\n",
       "Los Rios                           2\n",
       "Manabi                             3\n",
       "Pastaza                            1\n",
       "Pichincha                         19\n",
       "Santa Elena                        1\n",
       "Santo Domingo de los Tsachilas     3\n",
       "Tungurahua                         2\n",
       "Name: city, dtype: int64"
      ]
     },
     "execution_count": 272,
     "metadata": {},
     "output_type": "execute_result"
    }
   ],
   "source": [
    "stores.groupby([\"state\"]).count()['city']"
   ]
  },
  {
   "cell_type": "markdown",
   "metadata": {},
   "source": [
    "### Store out-of-domain check\n",
    "\n",
    "Are there stores in test set which are not in the train set. Potentially\n",
    "out-of-domain (OOD)? \n",
    "> confirmed that each store has at least some training data available in\n",
    "train AND in test"
   ]
  },
  {
   "cell_type": "code",
   "execution_count": 479,
   "metadata": {},
   "outputs": [
    {
     "data": {
      "text/plain": [
       "True"
      ]
     },
     "execution_count": 479,
     "metadata": {},
     "output_type": "execute_result"
    }
   ],
   "source": [
    "test['store_nbr'].isin(train_extended['store_nbr'].unique()).all()"
   ]
  },
  {
   "cell_type": "code",
   "execution_count": 481,
   "metadata": {},
   "outputs": [
    {
     "data": {
      "text/plain": [
       "True"
      ]
     },
     "execution_count": 481,
     "metadata": {},
     "output_type": "execute_result"
    }
   ],
   "source": [
    "train_extended['store_nbr'].isin(test['store_nbr'].unique()).all()"
   ]
  },
  {
   "cell_type": "markdown",
   "metadata": {},
   "source": [
    "### When did stores start selling?"
   ]
  },
  {
   "cell_type": "code",
   "execution_count": 490,
   "metadata": {},
   "outputs": [
    {
     "data": {
      "text/html": [
       "<div>\n",
       "<style scoped>\n",
       "    .dataframe tbody tr th:only-of-type {\n",
       "        vertical-align: middle;\n",
       "    }\n",
       "\n",
       "    .dataframe tbody tr th {\n",
       "        vertical-align: top;\n",
       "    }\n",
       "\n",
       "    .dataframe thead th {\n",
       "        text-align: right;\n",
       "    }\n",
       "</style>\n",
       "<table border=\"1\" class=\"dataframe\">\n",
       "  <thead>\n",
       "    <tr style=\"text-align: right;\">\n",
       "      <th></th>\n",
       "      <th>date</th>\n",
       "    </tr>\n",
       "    <tr>\n",
       "      <th>store_nbr</th>\n",
       "      <th></th>\n",
       "    </tr>\n",
       "  </thead>\n",
       "  <tbody>\n",
       "    <tr>\n",
       "      <th>25</th>\n",
       "      <td>2013-01-01</td>\n",
       "    </tr>\n",
       "    <tr>\n",
       "      <th>1</th>\n",
       "      <td>2013-01-02</td>\n",
       "    </tr>\n",
       "    <tr>\n",
       "      <th>34</th>\n",
       "      <td>2013-01-02</td>\n",
       "    </tr>\n",
       "    <tr>\n",
       "      <th>35</th>\n",
       "      <td>2013-01-02</td>\n",
       "    </tr>\n",
       "    <tr>\n",
       "      <th>37</th>\n",
       "      <td>2013-01-02</td>\n",
       "    </tr>\n",
       "    <tr>\n",
       "      <th>38</th>\n",
       "      <td>2013-01-02</td>\n",
       "    </tr>\n",
       "    <tr>\n",
       "      <th>39</th>\n",
       "      <td>2013-01-02</td>\n",
       "    </tr>\n",
       "    <tr>\n",
       "      <th>4</th>\n",
       "      <td>2013-01-02</td>\n",
       "    </tr>\n",
       "    <tr>\n",
       "      <th>40</th>\n",
       "      <td>2013-01-02</td>\n",
       "    </tr>\n",
       "    <tr>\n",
       "      <th>41</th>\n",
       "      <td>2013-01-02</td>\n",
       "    </tr>\n",
       "    <tr>\n",
       "      <th>43</th>\n",
       "      <td>2013-01-02</td>\n",
       "    </tr>\n",
       "    <tr>\n",
       "      <th>8</th>\n",
       "      <td>2013-01-02</td>\n",
       "    </tr>\n",
       "    <tr>\n",
       "      <th>44</th>\n",
       "      <td>2013-01-02</td>\n",
       "    </tr>\n",
       "    <tr>\n",
       "      <th>46</th>\n",
       "      <td>2013-01-02</td>\n",
       "    </tr>\n",
       "    <tr>\n",
       "      <th>47</th>\n",
       "      <td>2013-01-02</td>\n",
       "    </tr>\n",
       "    <tr>\n",
       "      <th>48</th>\n",
       "      <td>2013-01-02</td>\n",
       "    </tr>\n",
       "    <tr>\n",
       "      <th>49</th>\n",
       "      <td>2013-01-02</td>\n",
       "    </tr>\n",
       "    <tr>\n",
       "      <th>5</th>\n",
       "      <td>2013-01-02</td>\n",
       "    </tr>\n",
       "    <tr>\n",
       "      <th>50</th>\n",
       "      <td>2013-01-02</td>\n",
       "    </tr>\n",
       "    <tr>\n",
       "      <th>51</th>\n",
       "      <td>2013-01-02</td>\n",
       "    </tr>\n",
       "    <tr>\n",
       "      <th>54</th>\n",
       "      <td>2013-01-02</td>\n",
       "    </tr>\n",
       "    <tr>\n",
       "      <th>6</th>\n",
       "      <td>2013-01-02</td>\n",
       "    </tr>\n",
       "    <tr>\n",
       "      <th>7</th>\n",
       "      <td>2013-01-02</td>\n",
       "    </tr>\n",
       "    <tr>\n",
       "      <th>45</th>\n",
       "      <td>2013-01-02</td>\n",
       "    </tr>\n",
       "    <tr>\n",
       "      <th>32</th>\n",
       "      <td>2013-01-02</td>\n",
       "    </tr>\n",
       "    <tr>\n",
       "      <th>33</th>\n",
       "      <td>2013-01-02</td>\n",
       "    </tr>\n",
       "    <tr>\n",
       "      <th>30</th>\n",
       "      <td>2013-01-02</td>\n",
       "    </tr>\n",
       "    <tr>\n",
       "      <th>10</th>\n",
       "      <td>2013-01-02</td>\n",
       "    </tr>\n",
       "    <tr>\n",
       "      <th>11</th>\n",
       "      <td>2013-01-02</td>\n",
       "    </tr>\n",
       "    <tr>\n",
       "      <th>12</th>\n",
       "      <td>2013-01-02</td>\n",
       "    </tr>\n",
       "    <tr>\n",
       "      <th>13</th>\n",
       "      <td>2013-01-02</td>\n",
       "    </tr>\n",
       "    <tr>\n",
       "      <th>14</th>\n",
       "      <td>2013-01-02</td>\n",
       "    </tr>\n",
       "    <tr>\n",
       "      <th>15</th>\n",
       "      <td>2013-01-02</td>\n",
       "    </tr>\n",
       "    <tr>\n",
       "      <th>16</th>\n",
       "      <td>2013-01-02</td>\n",
       "    </tr>\n",
       "    <tr>\n",
       "      <th>17</th>\n",
       "      <td>2013-01-02</td>\n",
       "    </tr>\n",
       "    <tr>\n",
       "      <th>18</th>\n",
       "      <td>2013-01-02</td>\n",
       "    </tr>\n",
       "    <tr>\n",
       "      <th>19</th>\n",
       "      <td>2013-01-02</td>\n",
       "    </tr>\n",
       "    <tr>\n",
       "      <th>31</th>\n",
       "      <td>2013-01-02</td>\n",
       "    </tr>\n",
       "    <tr>\n",
       "      <th>2</th>\n",
       "      <td>2013-01-02</td>\n",
       "    </tr>\n",
       "    <tr>\n",
       "      <th>23</th>\n",
       "      <td>2013-01-02</td>\n",
       "    </tr>\n",
       "    <tr>\n",
       "      <th>24</th>\n",
       "      <td>2013-01-02</td>\n",
       "    </tr>\n",
       "    <tr>\n",
       "      <th>26</th>\n",
       "      <td>2013-01-02</td>\n",
       "    </tr>\n",
       "    <tr>\n",
       "      <th>27</th>\n",
       "      <td>2013-01-02</td>\n",
       "    </tr>\n",
       "    <tr>\n",
       "      <th>28</th>\n",
       "      <td>2013-01-02</td>\n",
       "    </tr>\n",
       "    <tr>\n",
       "      <th>3</th>\n",
       "      <td>2013-01-02</td>\n",
       "    </tr>\n",
       "    <tr>\n",
       "      <th>9</th>\n",
       "      <td>2013-01-02</td>\n",
       "    </tr>\n",
       "    <tr>\n",
       "      <th>36</th>\n",
       "      <td>2013-05-09</td>\n",
       "    </tr>\n",
       "    <tr>\n",
       "      <th>53</th>\n",
       "      <td>2014-05-29</td>\n",
       "    </tr>\n",
       "    <tr>\n",
       "      <th>20</th>\n",
       "      <td>2015-02-13</td>\n",
       "    </tr>\n",
       "    <tr>\n",
       "      <th>29</th>\n",
       "      <td>2015-03-20</td>\n",
       "    </tr>\n",
       "    <tr>\n",
       "      <th>21</th>\n",
       "      <td>2015-07-24</td>\n",
       "    </tr>\n",
       "    <tr>\n",
       "      <th>42</th>\n",
       "      <td>2015-08-21</td>\n",
       "    </tr>\n",
       "    <tr>\n",
       "      <th>22</th>\n",
       "      <td>2015-10-09</td>\n",
       "    </tr>\n",
       "    <tr>\n",
       "      <th>52</th>\n",
       "      <td>2017-04-20</td>\n",
       "    </tr>\n",
       "  </tbody>\n",
       "</table>\n",
       "</div>"
      ],
      "text/plain": [
       "                date\n",
       "store_nbr           \n",
       "25        2013-01-01\n",
       "1         2013-01-02\n",
       "34        2013-01-02\n",
       "35        2013-01-02\n",
       "37        2013-01-02\n",
       "38        2013-01-02\n",
       "39        2013-01-02\n",
       "4         2013-01-02\n",
       "40        2013-01-02\n",
       "41        2013-01-02\n",
       "43        2013-01-02\n",
       "8         2013-01-02\n",
       "44        2013-01-02\n",
       "46        2013-01-02\n",
       "47        2013-01-02\n",
       "48        2013-01-02\n",
       "49        2013-01-02\n",
       "5         2013-01-02\n",
       "50        2013-01-02\n",
       "51        2013-01-02\n",
       "54        2013-01-02\n",
       "6         2013-01-02\n",
       "7         2013-01-02\n",
       "45        2013-01-02\n",
       "32        2013-01-02\n",
       "33        2013-01-02\n",
       "30        2013-01-02\n",
       "10        2013-01-02\n",
       "11        2013-01-02\n",
       "12        2013-01-02\n",
       "13        2013-01-02\n",
       "14        2013-01-02\n",
       "15        2013-01-02\n",
       "16        2013-01-02\n",
       "17        2013-01-02\n",
       "18        2013-01-02\n",
       "19        2013-01-02\n",
       "31        2013-01-02\n",
       "2         2013-01-02\n",
       "23        2013-01-02\n",
       "24        2013-01-02\n",
       "26        2013-01-02\n",
       "27        2013-01-02\n",
       "28        2013-01-02\n",
       "3         2013-01-02\n",
       "9         2013-01-02\n",
       "36        2013-05-09\n",
       "53        2014-05-29\n",
       "20        2015-02-13\n",
       "29        2015-03-20\n",
       "21        2015-07-24\n",
       "42        2015-08-21\n",
       "22        2015-10-09\n",
       "52        2017-04-20"
      ]
     },
     "execution_count": 490,
     "metadata": {},
     "output_type": "execute_result"
    }
   ],
   "source": [
    "def first_sale_by_shop(df):\n",
    "    df_sales = df[df['sales']>0]\n",
    "    return df_sales['date'].min()\n",
    "\n",
    "train_extended.groupby(\"store_nbr\").apply(first_sale_by_shop).to_frame(\"date\").sort_values(\"date\")\n"
   ]
  },
  {
   "cell_type": "markdown",
   "metadata": {},
   "source": [
    "> Did not all start a the same time. Data is not avialalbe for all stores equally.\n",
    "A few stores start selling products later in 2013, or even 2014, 2015 and 2017. \n",
    "For these stores less data will be available for predictions"
   ]
  },
  {
   "cell_type": "code",
   "execution_count": 515,
   "metadata": {},
   "outputs": [
    {
     "data": {
      "text/html": [
       "<div>\n",
       "<style scoped>\n",
       "    .dataframe tbody tr th:only-of-type {\n",
       "        vertical-align: middle;\n",
       "    }\n",
       "\n",
       "    .dataframe tbody tr th {\n",
       "        vertical-align: top;\n",
       "    }\n",
       "\n",
       "    .dataframe thead tr th {\n",
       "        text-align: left;\n",
       "    }\n",
       "\n",
       "    .dataframe thead tr:last-of-type th {\n",
       "        text-align: right;\n",
       "    }\n",
       "</style>\n",
       "<table border=\"1\" class=\"dataframe\">\n",
       "  <thead>\n",
       "    <tr>\n",
       "      <th></th>\n",
       "      <th colspan=\"33\" halign=\"left\">0</th>\n",
       "    </tr>\n",
       "    <tr>\n",
       "      <th>family</th>\n",
       "      <th>AUTOMOTIVE</th>\n",
       "      <th>BABY CARE</th>\n",
       "      <th>BEAUTY</th>\n",
       "      <th>BEVERAGES</th>\n",
       "      <th>BOOKS</th>\n",
       "      <th>BREAD/BAKERY</th>\n",
       "      <th>CELEBRATION</th>\n",
       "      <th>CLEANING</th>\n",
       "      <th>DAIRY</th>\n",
       "      <th>DELI</th>\n",
       "      <th>EGGS</th>\n",
       "      <th>FROZEN FOODS</th>\n",
       "      <th>GROCERY I</th>\n",
       "      <th>GROCERY II</th>\n",
       "      <th>HARDWARE</th>\n",
       "      <th>HOME AND KITCHEN I</th>\n",
       "      <th>HOME AND KITCHEN II</th>\n",
       "      <th>HOME APPLIANCES</th>\n",
       "      <th>HOME CARE</th>\n",
       "      <th>LADIESWEAR</th>\n",
       "      <th>LAWN AND GARDEN</th>\n",
       "      <th>LINGERIE</th>\n",
       "      <th>LIQUOR,WINE,BEER</th>\n",
       "      <th>MAGAZINES</th>\n",
       "      <th>MEATS</th>\n",
       "      <th>PERSONAL CARE</th>\n",
       "      <th>PET SUPPLIES</th>\n",
       "      <th>PLAYERS AND ELECTRONICS</th>\n",
       "      <th>POULTRY</th>\n",
       "      <th>PREPARED FOODS</th>\n",
       "      <th>PRODUCE</th>\n",
       "      <th>SCHOOL AND OFFICE SUPPLIES</th>\n",
       "      <th>SEAFOOD</th>\n",
       "    </tr>\n",
       "    <tr>\n",
       "      <th>store_nbr</th>\n",
       "      <th></th>\n",
       "      <th></th>\n",
       "      <th></th>\n",
       "      <th></th>\n",
       "      <th></th>\n",
       "      <th></th>\n",
       "      <th></th>\n",
       "      <th></th>\n",
       "      <th></th>\n",
       "      <th></th>\n",
       "      <th></th>\n",
       "      <th></th>\n",
       "      <th></th>\n",
       "      <th></th>\n",
       "      <th></th>\n",
       "      <th></th>\n",
       "      <th></th>\n",
       "      <th></th>\n",
       "      <th></th>\n",
       "      <th></th>\n",
       "      <th></th>\n",
       "      <th></th>\n",
       "      <th></th>\n",
       "      <th></th>\n",
       "      <th></th>\n",
       "      <th></th>\n",
       "      <th></th>\n",
       "      <th></th>\n",
       "      <th></th>\n",
       "      <th></th>\n",
       "      <th></th>\n",
       "      <th></th>\n",
       "      <th></th>\n",
       "    </tr>\n",
       "  </thead>\n",
       "  <tbody>\n",
       "    <tr>\n",
       "      <th>1</th>\n",
       "      <td>2013-01-02</td>\n",
       "      <td>NaT</td>\n",
       "      <td>2013-01-02</td>\n",
       "      <td>2013-01-02</td>\n",
       "      <td>2016-10-13</td>\n",
       "      <td>2013-01-02</td>\n",
       "      <td>2014-01-02</td>\n",
       "      <td>2013-01-02</td>\n",
       "      <td>2013-01-02</td>\n",
       "      <td>2013-01-02</td>\n",
       "      <td>2013-01-02</td>\n",
       "      <td>2013-01-02</td>\n",
       "      <td>2013-01-02</td>\n",
       "      <td>2013-01-02</td>\n",
       "      <td>2013-01-02</td>\n",
       "      <td>2014-01-02</td>\n",
       "      <td>2014-01-02</td>\n",
       "      <td>2013-01-03</td>\n",
       "      <td>2014-01-02</td>\n",
       "      <td>2014-01-02</td>\n",
       "      <td>2013-01-02</td>\n",
       "      <td>2013-01-02</td>\n",
       "      <td>2013-01-02</td>\n",
       "      <td>2014-01-02</td>\n",
       "      <td>2013-01-02</td>\n",
       "      <td>2013-01-02</td>\n",
       "      <td>2014-01-02</td>\n",
       "      <td>2014-01-02</td>\n",
       "      <td>2013-01-02</td>\n",
       "      <td>2013-01-02</td>\n",
       "      <td>2013-03-16</td>\n",
       "      <td>2014-07-03</td>\n",
       "      <td>2013-01-02</td>\n",
       "    </tr>\n",
       "    <tr>\n",
       "      <th>10</th>\n",
       "      <td>2013-01-02</td>\n",
       "      <td>2014-07-01</td>\n",
       "      <td>2013-01-02</td>\n",
       "      <td>2013-01-02</td>\n",
       "      <td>NaT</td>\n",
       "      <td>2013-01-02</td>\n",
       "      <td>2014-01-02</td>\n",
       "      <td>2013-01-02</td>\n",
       "      <td>2013-01-02</td>\n",
       "      <td>2013-01-02</td>\n",
       "      <td>2013-01-02</td>\n",
       "      <td>2013-01-02</td>\n",
       "      <td>2013-01-02</td>\n",
       "      <td>2013-01-02</td>\n",
       "      <td>2013-01-02</td>\n",
       "      <td>2014-01-02</td>\n",
       "      <td>2014-01-02</td>\n",
       "      <td>2013-01-13</td>\n",
       "      <td>2014-01-02</td>\n",
       "      <td>2014-01-02</td>\n",
       "      <td>2014-10-29</td>\n",
       "      <td>2013-01-02</td>\n",
       "      <td>2013-01-02</td>\n",
       "      <td>2014-01-26</td>\n",
       "      <td>2013-01-02</td>\n",
       "      <td>2013-01-02</td>\n",
       "      <td>2014-01-06</td>\n",
       "      <td>2014-01-02</td>\n",
       "      <td>2013-01-02</td>\n",
       "      <td>2013-01-02</td>\n",
       "      <td>2014-01-02</td>\n",
       "      <td>2014-07-08</td>\n",
       "      <td>2013-01-02</td>\n",
       "    </tr>\n",
       "    <tr>\n",
       "      <th>11</th>\n",
       "      <td>2013-01-02</td>\n",
       "      <td>2014-03-19</td>\n",
       "      <td>2013-01-02</td>\n",
       "      <td>2013-01-02</td>\n",
       "      <td>NaT</td>\n",
       "      <td>2013-01-02</td>\n",
       "      <td>2014-01-02</td>\n",
       "      <td>2013-01-02</td>\n",
       "      <td>2013-01-02</td>\n",
       "      <td>2013-01-02</td>\n",
       "      <td>2013-01-02</td>\n",
       "      <td>2013-01-02</td>\n",
       "      <td>2013-01-02</td>\n",
       "      <td>2013-01-02</td>\n",
       "      <td>2013-01-02</td>\n",
       "      <td>2014-01-02</td>\n",
       "      <td>2014-01-02</td>\n",
       "      <td>2013-02-26</td>\n",
       "      <td>2014-01-02</td>\n",
       "      <td>2014-01-02</td>\n",
       "      <td>2013-01-05</td>\n",
       "      <td>2013-01-02</td>\n",
       "      <td>2013-01-02</td>\n",
       "      <td>2014-01-11</td>\n",
       "      <td>2013-01-02</td>\n",
       "      <td>2013-01-02</td>\n",
       "      <td>2014-01-02</td>\n",
       "      <td>2014-01-02</td>\n",
       "      <td>2013-01-02</td>\n",
       "      <td>2013-01-02</td>\n",
       "      <td>2014-01-02</td>\n",
       "      <td>2014-01-08</td>\n",
       "      <td>2013-01-02</td>\n",
       "    </tr>\n",
       "    <tr>\n",
       "      <th>12</th>\n",
       "      <td>2013-01-02</td>\n",
       "      <td>2016-02-10</td>\n",
       "      <td>2013-01-02</td>\n",
       "      <td>2013-01-02</td>\n",
       "      <td>NaT</td>\n",
       "      <td>2013-01-02</td>\n",
       "      <td>2014-01-02</td>\n",
       "      <td>2013-01-02</td>\n",
       "      <td>2013-01-02</td>\n",
       "      <td>2013-01-02</td>\n",
       "      <td>2013-01-02</td>\n",
       "      <td>2013-01-02</td>\n",
       "      <td>2013-01-02</td>\n",
       "      <td>2013-01-02</td>\n",
       "      <td>2013-01-03</td>\n",
       "      <td>2014-01-02</td>\n",
       "      <td>2014-01-02</td>\n",
       "      <td>2013-04-08</td>\n",
       "      <td>2014-01-02</td>\n",
       "      <td>2014-01-02</td>\n",
       "      <td>2014-05-09</td>\n",
       "      <td>2013-01-02</td>\n",
       "      <td>2013-01-02</td>\n",
       "      <td>2014-01-23</td>\n",
       "      <td>2013-01-02</td>\n",
       "      <td>2013-01-02</td>\n",
       "      <td>2014-01-02</td>\n",
       "      <td>2014-01-03</td>\n",
       "      <td>2013-01-02</td>\n",
       "      <td>2013-01-02</td>\n",
       "      <td>2014-01-02</td>\n",
       "      <td>2014-07-06</td>\n",
       "      <td>2013-01-02</td>\n",
       "    </tr>\n",
       "    <tr>\n",
       "      <th>13</th>\n",
       "      <td>2013-01-02</td>\n",
       "      <td>NaT</td>\n",
       "      <td>2013-01-02</td>\n",
       "      <td>2013-01-02</td>\n",
       "      <td>NaT</td>\n",
       "      <td>2013-01-02</td>\n",
       "      <td>2014-01-02</td>\n",
       "      <td>2013-01-02</td>\n",
       "      <td>2013-01-02</td>\n",
       "      <td>2013-01-02</td>\n",
       "      <td>2013-01-02</td>\n",
       "      <td>2013-01-02</td>\n",
       "      <td>2013-01-02</td>\n",
       "      <td>2013-01-02</td>\n",
       "      <td>2013-01-05</td>\n",
       "      <td>2014-01-02</td>\n",
       "      <td>2014-01-02</td>\n",
       "      <td>2013-02-28</td>\n",
       "      <td>2014-01-02</td>\n",
       "      <td>2014-01-02</td>\n",
       "      <td>2014-05-10</td>\n",
       "      <td>2013-01-02</td>\n",
       "      <td>2013-01-02</td>\n",
       "      <td>2014-01-07</td>\n",
       "      <td>2013-01-02</td>\n",
       "      <td>2013-01-02</td>\n",
       "      <td>2014-01-07</td>\n",
       "      <td>2014-01-02</td>\n",
       "      <td>2013-01-02</td>\n",
       "      <td>2013-01-02</td>\n",
       "      <td>2014-01-02</td>\n",
       "      <td>2014-07-01</td>\n",
       "      <td>2013-01-02</td>\n",
       "    </tr>\n",
       "    <tr>\n",
       "      <th>14</th>\n",
       "      <td>2013-01-02</td>\n",
       "      <td>2016-05-08</td>\n",
       "      <td>2013-01-02</td>\n",
       "      <td>2013-01-02</td>\n",
       "      <td>NaT</td>\n",
       "      <td>2013-01-02</td>\n",
       "      <td>2014-01-02</td>\n",
       "      <td>2013-01-02</td>\n",
       "      <td>2013-01-02</td>\n",
       "      <td>2013-01-02</td>\n",
       "      <td>2013-01-02</td>\n",
       "      <td>2013-01-02</td>\n",
       "      <td>2013-01-02</td>\n",
       "      <td>2013-01-02</td>\n",
       "      <td>2013-01-08</td>\n",
       "      <td>2014-01-02</td>\n",
       "      <td>2014-01-02</td>\n",
       "      <td>2013-03-09</td>\n",
       "      <td>2014-01-02</td>\n",
       "      <td>2014-01-02</td>\n",
       "      <td>NaT</td>\n",
       "      <td>2013-01-02</td>\n",
       "      <td>2013-01-02</td>\n",
       "      <td>2014-01-25</td>\n",
       "      <td>2013-01-02</td>\n",
       "      <td>2013-01-02</td>\n",
       "      <td>2014-01-02</td>\n",
       "      <td>2014-01-02</td>\n",
       "      <td>2013-01-02</td>\n",
       "      <td>2013-01-02</td>\n",
       "      <td>2014-01-02</td>\n",
       "      <td>2014-07-05</td>\n",
       "      <td>2013-01-02</td>\n",
       "    </tr>\n",
       "    <tr>\n",
       "      <th>15</th>\n",
       "      <td>2013-01-02</td>\n",
       "      <td>2014-07-01</td>\n",
       "      <td>2013-01-02</td>\n",
       "      <td>2013-01-02</td>\n",
       "      <td>NaT</td>\n",
       "      <td>2013-01-02</td>\n",
       "      <td>2014-01-02</td>\n",
       "      <td>2013-01-02</td>\n",
       "      <td>2013-01-02</td>\n",
       "      <td>2013-01-02</td>\n",
       "      <td>2013-01-02</td>\n",
       "      <td>2013-01-02</td>\n",
       "      <td>2013-01-02</td>\n",
       "      <td>2013-01-02</td>\n",
       "      <td>2013-01-02</td>\n",
       "      <td>2014-01-02</td>\n",
       "      <td>2014-01-02</td>\n",
       "      <td>2013-01-03</td>\n",
       "      <td>2014-01-02</td>\n",
       "      <td>2014-01-02</td>\n",
       "      <td>2014-05-10</td>\n",
       "      <td>2013-01-02</td>\n",
       "      <td>2013-01-02</td>\n",
       "      <td>2014-01-24</td>\n",
       "      <td>2013-01-02</td>\n",
       "      <td>2013-01-02</td>\n",
       "      <td>2014-01-12</td>\n",
       "      <td>2014-01-02</td>\n",
       "      <td>2013-01-03</td>\n",
       "      <td>2013-01-02</td>\n",
       "      <td>2014-01-02</td>\n",
       "      <td>2014-07-04</td>\n",
       "      <td>2013-01-02</td>\n",
       "    </tr>\n",
       "    <tr>\n",
       "      <th>16</th>\n",
       "      <td>2013-01-02</td>\n",
       "      <td>2014-10-09</td>\n",
       "      <td>2013-01-03</td>\n",
       "      <td>2013-01-02</td>\n",
       "      <td>NaT</td>\n",
       "      <td>2013-01-02</td>\n",
       "      <td>2014-01-02</td>\n",
       "      <td>2013-01-02</td>\n",
       "      <td>2013-01-02</td>\n",
       "      <td>2013-01-02</td>\n",
       "      <td>2013-01-02</td>\n",
       "      <td>2013-01-02</td>\n",
       "      <td>2013-01-02</td>\n",
       "      <td>2013-01-02</td>\n",
       "      <td>2013-01-03</td>\n",
       "      <td>2014-01-02</td>\n",
       "      <td>2014-01-02</td>\n",
       "      <td>2013-01-13</td>\n",
       "      <td>2014-01-02</td>\n",
       "      <td>NaT</td>\n",
       "      <td>2014-10-29</td>\n",
       "      <td>2013-01-02</td>\n",
       "      <td>2013-01-02</td>\n",
       "      <td>2014-01-16</td>\n",
       "      <td>2013-01-02</td>\n",
       "      <td>2013-01-02</td>\n",
       "      <td>2014-01-26</td>\n",
       "      <td>2014-01-02</td>\n",
       "      <td>2013-01-02</td>\n",
       "      <td>2013-01-02</td>\n",
       "      <td>2014-01-02</td>\n",
       "      <td>2015-07-27</td>\n",
       "      <td>2013-01-02</td>\n",
       "    </tr>\n",
       "    <tr>\n",
       "      <th>17</th>\n",
       "      <td>2013-01-02</td>\n",
       "      <td>2015-09-08</td>\n",
       "      <td>2013-01-02</td>\n",
       "      <td>2013-01-02</td>\n",
       "      <td>NaT</td>\n",
       "      <td>2013-01-02</td>\n",
       "      <td>2014-01-02</td>\n",
       "      <td>2013-01-02</td>\n",
       "      <td>2013-01-02</td>\n",
       "      <td>2013-01-02</td>\n",
       "      <td>2013-01-02</td>\n",
       "      <td>2013-01-02</td>\n",
       "      <td>2013-01-02</td>\n",
       "      <td>2013-01-02</td>\n",
       "      <td>2013-01-03</td>\n",
       "      <td>2014-01-02</td>\n",
       "      <td>2014-01-02</td>\n",
       "      <td>2013-01-05</td>\n",
       "      <td>2014-01-02</td>\n",
       "      <td>2014-01-04</td>\n",
       "      <td>2014-05-08</td>\n",
       "      <td>2013-01-02</td>\n",
       "      <td>2013-01-02</td>\n",
       "      <td>2014-01-27</td>\n",
       "      <td>2013-01-02</td>\n",
       "      <td>2013-01-02</td>\n",
       "      <td>2014-01-02</td>\n",
       "      <td>2014-01-02</td>\n",
       "      <td>2013-01-02</td>\n",
       "      <td>2013-01-02</td>\n",
       "      <td>2014-01-02</td>\n",
       "      <td>2014-07-03</td>\n",
       "      <td>2013-01-02</td>\n",
       "    </tr>\n",
       "    <tr>\n",
       "      <th>18</th>\n",
       "      <td>2013-01-02</td>\n",
       "      <td>2014-03-01</td>\n",
       "      <td>2013-01-02</td>\n",
       "      <td>2013-01-02</td>\n",
       "      <td>NaT</td>\n",
       "      <td>2013-01-02</td>\n",
       "      <td>2014-01-02</td>\n",
       "      <td>2013-01-02</td>\n",
       "      <td>2013-01-02</td>\n",
       "      <td>2013-01-02</td>\n",
       "      <td>2013-01-02</td>\n",
       "      <td>2013-01-02</td>\n",
       "      <td>2013-01-02</td>\n",
       "      <td>2013-01-02</td>\n",
       "      <td>2013-01-06</td>\n",
       "      <td>2014-01-02</td>\n",
       "      <td>2014-01-02</td>\n",
       "      <td>2013-01-04</td>\n",
       "      <td>2014-01-02</td>\n",
       "      <td>2014-01-02</td>\n",
       "      <td>2013-01-08</td>\n",
       "      <td>2013-01-02</td>\n",
       "      <td>2013-01-02</td>\n",
       "      <td>2014-01-25</td>\n",
       "      <td>2013-01-02</td>\n",
       "      <td>2013-01-02</td>\n",
       "      <td>2014-01-02</td>\n",
       "      <td>2014-01-02</td>\n",
       "      <td>2013-01-02</td>\n",
       "      <td>2013-01-02</td>\n",
       "      <td>2014-01-02</td>\n",
       "      <td>2014-01-11</td>\n",
       "      <td>2013-01-02</td>\n",
       "    </tr>\n",
       "    <tr>\n",
       "      <th>19</th>\n",
       "      <td>2013-01-02</td>\n",
       "      <td>2015-07-23</td>\n",
       "      <td>2013-01-02</td>\n",
       "      <td>2013-01-02</td>\n",
       "      <td>NaT</td>\n",
       "      <td>2013-01-02</td>\n",
       "      <td>2014-01-02</td>\n",
       "      <td>2013-01-02</td>\n",
       "      <td>2013-01-02</td>\n",
       "      <td>2013-01-02</td>\n",
       "      <td>2013-01-02</td>\n",
       "      <td>2013-01-02</td>\n",
       "      <td>2013-01-02</td>\n",
       "      <td>2013-01-02</td>\n",
       "      <td>2013-01-03</td>\n",
       "      <td>2014-01-02</td>\n",
       "      <td>2014-01-02</td>\n",
       "      <td>2013-02-24</td>\n",
       "      <td>2014-01-02</td>\n",
       "      <td>2014-01-02</td>\n",
       "      <td>2014-10-30</td>\n",
       "      <td>2013-01-02</td>\n",
       "      <td>2013-01-02</td>\n",
       "      <td>2014-01-02</td>\n",
       "      <td>2013-01-02</td>\n",
       "      <td>2013-01-02</td>\n",
       "      <td>2014-01-03</td>\n",
       "      <td>2014-01-02</td>\n",
       "      <td>2013-01-02</td>\n",
       "      <td>2013-01-02</td>\n",
       "      <td>2014-01-02</td>\n",
       "      <td>2014-09-01</td>\n",
       "      <td>2013-01-02</td>\n",
       "    </tr>\n",
       "    <tr>\n",
       "      <th>2</th>\n",
       "      <td>2013-01-02</td>\n",
       "      <td>2016-07-16</td>\n",
       "      <td>2013-01-02</td>\n",
       "      <td>2013-01-02</td>\n",
       "      <td>2016-10-13</td>\n",
       "      <td>2013-01-02</td>\n",
       "      <td>2014-01-02</td>\n",
       "      <td>2013-01-02</td>\n",
       "      <td>2013-01-02</td>\n",
       "      <td>2013-01-02</td>\n",
       "      <td>2013-01-02</td>\n",
       "      <td>2013-01-02</td>\n",
       "      <td>2013-01-02</td>\n",
       "      <td>2013-01-02</td>\n",
       "      <td>2013-01-03</td>\n",
       "      <td>2014-01-02</td>\n",
       "      <td>2014-01-02</td>\n",
       "      <td>2013-03-06</td>\n",
       "      <td>2014-01-02</td>\n",
       "      <td>2014-01-02</td>\n",
       "      <td>2013-01-02</td>\n",
       "      <td>2013-01-02</td>\n",
       "      <td>2013-01-02</td>\n",
       "      <td>2014-01-04</td>\n",
       "      <td>2013-01-02</td>\n",
       "      <td>2013-01-02</td>\n",
       "      <td>2014-01-02</td>\n",
       "      <td>2014-01-02</td>\n",
       "      <td>2013-01-02</td>\n",
       "      <td>2013-01-02</td>\n",
       "      <td>2013-03-16</td>\n",
       "      <td>2014-07-05</td>\n",
       "      <td>2013-01-02</td>\n",
       "    </tr>\n",
       "    <tr>\n",
       "      <th>20</th>\n",
       "      <td>2015-02-13</td>\n",
       "      <td>2015-06-17</td>\n",
       "      <td>2015-02-13</td>\n",
       "      <td>2015-02-13</td>\n",
       "      <td>NaT</td>\n",
       "      <td>2015-02-13</td>\n",
       "      <td>2015-06-01</td>\n",
       "      <td>2015-02-13</td>\n",
       "      <td>2015-02-13</td>\n",
       "      <td>2015-02-13</td>\n",
       "      <td>2015-02-13</td>\n",
       "      <td>2015-02-13</td>\n",
       "      <td>2015-02-13</td>\n",
       "      <td>2015-02-13</td>\n",
       "      <td>2015-02-13</td>\n",
       "      <td>2015-02-13</td>\n",
       "      <td>2015-02-13</td>\n",
       "      <td>2015-02-13</td>\n",
       "      <td>2015-05-04</td>\n",
       "      <td>2015-06-01</td>\n",
       "      <td>2015-02-13</td>\n",
       "      <td>2015-02-13</td>\n",
       "      <td>2015-02-13</td>\n",
       "      <td>2015-04-10</td>\n",
       "      <td>2015-02-13</td>\n",
       "      <td>2015-02-13</td>\n",
       "      <td>2015-06-02</td>\n",
       "      <td>2015-06-02</td>\n",
       "      <td>2015-02-13</td>\n",
       "      <td>2015-02-13</td>\n",
       "      <td>2015-06-01</td>\n",
       "      <td>2015-06-04</td>\n",
       "      <td>2015-02-13</td>\n",
       "    </tr>\n",
       "    <tr>\n",
       "      <th>21</th>\n",
       "      <td>2015-07-24</td>\n",
       "      <td>2015-12-06</td>\n",
       "      <td>2015-07-24</td>\n",
       "      <td>2015-07-24</td>\n",
       "      <td>NaT</td>\n",
       "      <td>2015-07-24</td>\n",
       "      <td>2015-07-24</td>\n",
       "      <td>2015-07-24</td>\n",
       "      <td>2015-07-24</td>\n",
       "      <td>2015-07-24</td>\n",
       "      <td>2015-07-24</td>\n",
       "      <td>2015-07-24</td>\n",
       "      <td>2015-07-24</td>\n",
       "      <td>2015-07-24</td>\n",
       "      <td>2015-07-24</td>\n",
       "      <td>2015-07-24</td>\n",
       "      <td>2015-07-24</td>\n",
       "      <td>2015-09-05</td>\n",
       "      <td>2015-07-24</td>\n",
       "      <td>2015-07-24</td>\n",
       "      <td>2015-07-24</td>\n",
       "      <td>2015-07-24</td>\n",
       "      <td>2015-07-24</td>\n",
       "      <td>2015-07-24</td>\n",
       "      <td>2015-07-24</td>\n",
       "      <td>2015-07-24</td>\n",
       "      <td>2015-07-24</td>\n",
       "      <td>2015-07-24</td>\n",
       "      <td>2015-07-24</td>\n",
       "      <td>2015-07-24</td>\n",
       "      <td>2015-07-24</td>\n",
       "      <td>2015-07-24</td>\n",
       "      <td>2015-07-24</td>\n",
       "    </tr>\n",
       "    <tr>\n",
       "      <th>22</th>\n",
       "      <td>2015-10-09</td>\n",
       "      <td>2016-01-20</td>\n",
       "      <td>2015-10-09</td>\n",
       "      <td>2015-10-09</td>\n",
       "      <td>NaT</td>\n",
       "      <td>2015-10-09</td>\n",
       "      <td>2015-10-09</td>\n",
       "      <td>2015-10-09</td>\n",
       "      <td>2015-10-09</td>\n",
       "      <td>2015-10-09</td>\n",
       "      <td>2015-10-09</td>\n",
       "      <td>2015-10-09</td>\n",
       "      <td>2015-10-09</td>\n",
       "      <td>2015-10-09</td>\n",
       "      <td>2015-10-09</td>\n",
       "      <td>2015-10-09</td>\n",
       "      <td>2015-10-09</td>\n",
       "      <td>2015-10-09</td>\n",
       "      <td>2015-10-09</td>\n",
       "      <td>2017-04-20</td>\n",
       "      <td>2015-10-27</td>\n",
       "      <td>2015-10-09</td>\n",
       "      <td>2015-10-09</td>\n",
       "      <td>2015-10-09</td>\n",
       "      <td>2015-10-09</td>\n",
       "      <td>2015-10-09</td>\n",
       "      <td>2015-10-09</td>\n",
       "      <td>2015-10-09</td>\n",
       "      <td>2015-10-09</td>\n",
       "      <td>2015-10-09</td>\n",
       "      <td>2015-10-09</td>\n",
       "      <td>2015-11-22</td>\n",
       "      <td>2015-10-09</td>\n",
       "    </tr>\n",
       "    <tr>\n",
       "      <th>23</th>\n",
       "      <td>2013-01-02</td>\n",
       "      <td>NaT</td>\n",
       "      <td>2013-01-03</td>\n",
       "      <td>2013-01-02</td>\n",
       "      <td>2016-10-12</td>\n",
       "      <td>2013-01-02</td>\n",
       "      <td>2014-01-02</td>\n",
       "      <td>2013-01-02</td>\n",
       "      <td>2013-01-02</td>\n",
       "      <td>2013-01-02</td>\n",
       "      <td>2013-01-02</td>\n",
       "      <td>2013-01-02</td>\n",
       "      <td>2013-01-02</td>\n",
       "      <td>2013-01-02</td>\n",
       "      <td>2016-05-09</td>\n",
       "      <td>2014-01-02</td>\n",
       "      <td>2014-01-03</td>\n",
       "      <td>2013-01-03</td>\n",
       "      <td>2014-01-02</td>\n",
       "      <td>2014-01-04</td>\n",
       "      <td>2013-02-22</td>\n",
       "      <td>2013-01-02</td>\n",
       "      <td>2013-01-02</td>\n",
       "      <td>2014-01-02</td>\n",
       "      <td>2013-01-02</td>\n",
       "      <td>2013-01-02</td>\n",
       "      <td>2014-01-03</td>\n",
       "      <td>2014-01-02</td>\n",
       "      <td>2013-01-02</td>\n",
       "      <td>2013-01-02</td>\n",
       "      <td>2013-03-16</td>\n",
       "      <td>2014-07-08</td>\n",
       "      <td>2013-01-02</td>\n",
       "    </tr>\n",
       "    <tr>\n",
       "      <th>24</th>\n",
       "      <td>2013-01-02</td>\n",
       "      <td>2016-07-20</td>\n",
       "      <td>2013-01-05</td>\n",
       "      <td>2013-01-02</td>\n",
       "      <td>2016-10-12</td>\n",
       "      <td>2013-01-02</td>\n",
       "      <td>2014-01-02</td>\n",
       "      <td>2013-01-02</td>\n",
       "      <td>2013-01-02</td>\n",
       "      <td>2013-01-02</td>\n",
       "      <td>2013-01-02</td>\n",
       "      <td>2013-01-02</td>\n",
       "      <td>2013-01-02</td>\n",
       "      <td>2013-01-02</td>\n",
       "      <td>2013-01-29</td>\n",
       "      <td>2014-01-02</td>\n",
       "      <td>2014-01-02</td>\n",
       "      <td>2013-05-03</td>\n",
       "      <td>2014-01-02</td>\n",
       "      <td>2014-01-02</td>\n",
       "      <td>2013-01-02</td>\n",
       "      <td>2013-01-02</td>\n",
       "      <td>2013-01-02</td>\n",
       "      <td>2014-01-02</td>\n",
       "      <td>2013-01-02</td>\n",
       "      <td>2013-01-02</td>\n",
       "      <td>2014-01-02</td>\n",
       "      <td>2014-01-02</td>\n",
       "      <td>2013-01-02</td>\n",
       "      <td>2013-01-02</td>\n",
       "      <td>2013-03-16</td>\n",
       "      <td>2014-07-24</td>\n",
       "      <td>2013-01-02</td>\n",
       "    </tr>\n",
       "    <tr>\n",
       "      <th>25</th>\n",
       "      <td>2013-01-03</td>\n",
       "      <td>2016-10-27</td>\n",
       "      <td>2013-01-01</td>\n",
       "      <td>2013-01-01</td>\n",
       "      <td>2016-10-27</td>\n",
       "      <td>2013-01-01</td>\n",
       "      <td>2014-01-01</td>\n",
       "      <td>2013-01-01</td>\n",
       "      <td>2013-01-01</td>\n",
       "      <td>2013-01-01</td>\n",
       "      <td>2013-01-01</td>\n",
       "      <td>2013-01-01</td>\n",
       "      <td>2013-01-01</td>\n",
       "      <td>2013-01-01</td>\n",
       "      <td>2013-06-22</td>\n",
       "      <td>2014-01-01</td>\n",
       "      <td>2014-01-01</td>\n",
       "      <td>2014-05-12</td>\n",
       "      <td>2014-01-01</td>\n",
       "      <td>NaT</td>\n",
       "      <td>2013-01-01</td>\n",
       "      <td>2013-01-01</td>\n",
       "      <td>2013-01-01</td>\n",
       "      <td>2014-01-01</td>\n",
       "      <td>2013-01-01</td>\n",
       "      <td>2013-01-01</td>\n",
       "      <td>2014-01-01</td>\n",
       "      <td>2014-01-01</td>\n",
       "      <td>2013-01-01</td>\n",
       "      <td>2013-01-01</td>\n",
       "      <td>2013-03-16</td>\n",
       "      <td>2014-07-01</td>\n",
       "      <td>2013-01-03</td>\n",
       "    </tr>\n",
       "    <tr>\n",
       "      <th>26</th>\n",
       "      <td>2013-01-02</td>\n",
       "      <td>2016-07-15</td>\n",
       "      <td>2013-01-02</td>\n",
       "      <td>2013-01-02</td>\n",
       "      <td>2016-10-30</td>\n",
       "      <td>2013-01-02</td>\n",
       "      <td>2014-01-02</td>\n",
       "      <td>2013-01-02</td>\n",
       "      <td>2013-01-02</td>\n",
       "      <td>2013-01-02</td>\n",
       "      <td>2013-01-02</td>\n",
       "      <td>2013-01-02</td>\n",
       "      <td>2013-01-02</td>\n",
       "      <td>2013-01-02</td>\n",
       "      <td>2013-01-02</td>\n",
       "      <td>2014-01-02</td>\n",
       "      <td>2014-01-02</td>\n",
       "      <td>2013-05-17</td>\n",
       "      <td>2014-01-02</td>\n",
       "      <td>2014-01-02</td>\n",
       "      <td>2013-01-06</td>\n",
       "      <td>2013-01-02</td>\n",
       "      <td>2013-01-02</td>\n",
       "      <td>2014-01-03</td>\n",
       "      <td>2013-01-02</td>\n",
       "      <td>2013-01-02</td>\n",
       "      <td>2014-01-03</td>\n",
       "      <td>2014-01-02</td>\n",
       "      <td>2013-01-02</td>\n",
       "      <td>2013-01-02</td>\n",
       "      <td>2013-03-16</td>\n",
       "      <td>2015-06-02</td>\n",
       "      <td>2013-01-02</td>\n",
       "    </tr>\n",
       "    <tr>\n",
       "      <th>27</th>\n",
       "      <td>2013-01-02</td>\n",
       "      <td>2016-08-12</td>\n",
       "      <td>2013-01-02</td>\n",
       "      <td>2013-01-02</td>\n",
       "      <td>2016-10-14</td>\n",
       "      <td>2013-01-02</td>\n",
       "      <td>2014-01-02</td>\n",
       "      <td>2013-01-02</td>\n",
       "      <td>2013-01-02</td>\n",
       "      <td>2013-01-02</td>\n",
       "      <td>2013-01-02</td>\n",
       "      <td>2013-01-02</td>\n",
       "      <td>2013-01-02</td>\n",
       "      <td>2013-01-02</td>\n",
       "      <td>2013-01-02</td>\n",
       "      <td>2014-01-02</td>\n",
       "      <td>2014-01-02</td>\n",
       "      <td>2013-01-03</td>\n",
       "      <td>2014-01-02</td>\n",
       "      <td>2014-01-04</td>\n",
       "      <td>2013-01-02</td>\n",
       "      <td>2013-01-02</td>\n",
       "      <td>2013-01-02</td>\n",
       "      <td>2014-01-04</td>\n",
       "      <td>2013-01-02</td>\n",
       "      <td>2013-01-02</td>\n",
       "      <td>2014-01-02</td>\n",
       "      <td>2014-01-04</td>\n",
       "      <td>2013-01-02</td>\n",
       "      <td>2013-01-02</td>\n",
       "      <td>2013-03-16</td>\n",
       "      <td>2015-06-06</td>\n",
       "      <td>2013-01-02</td>\n",
       "    </tr>\n",
       "    <tr>\n",
       "      <th>28</th>\n",
       "      <td>2013-01-02</td>\n",
       "      <td>2016-11-07</td>\n",
       "      <td>2013-01-02</td>\n",
       "      <td>2013-01-02</td>\n",
       "      <td>NaT</td>\n",
       "      <td>2013-01-02</td>\n",
       "      <td>2014-01-02</td>\n",
       "      <td>2013-01-02</td>\n",
       "      <td>2013-01-02</td>\n",
       "      <td>2013-01-02</td>\n",
       "      <td>2013-01-02</td>\n",
       "      <td>2013-01-02</td>\n",
       "      <td>2013-01-02</td>\n",
       "      <td>2013-01-02</td>\n",
       "      <td>2013-01-04</td>\n",
       "      <td>2014-01-02</td>\n",
       "      <td>2014-01-02</td>\n",
       "      <td>2013-03-05</td>\n",
       "      <td>2014-01-02</td>\n",
       "      <td>NaT</td>\n",
       "      <td>2013-01-05</td>\n",
       "      <td>2013-01-02</td>\n",
       "      <td>2013-01-02</td>\n",
       "      <td>2014-01-31</td>\n",
       "      <td>2013-01-02</td>\n",
       "      <td>2013-01-02</td>\n",
       "      <td>2014-01-02</td>\n",
       "      <td>2014-01-02</td>\n",
       "      <td>2013-01-02</td>\n",
       "      <td>2013-01-02</td>\n",
       "      <td>2014-01-02</td>\n",
       "      <td>2014-01-02</td>\n",
       "      <td>2013-01-02</td>\n",
       "    </tr>\n",
       "    <tr>\n",
       "      <th>29</th>\n",
       "      <td>2015-03-20</td>\n",
       "      <td>2015-06-03</td>\n",
       "      <td>2015-03-20</td>\n",
       "      <td>2015-03-20</td>\n",
       "      <td>NaT</td>\n",
       "      <td>2015-03-20</td>\n",
       "      <td>2015-06-01</td>\n",
       "      <td>2015-03-20</td>\n",
       "      <td>2015-03-20</td>\n",
       "      <td>2015-03-20</td>\n",
       "      <td>2015-03-20</td>\n",
       "      <td>2015-03-20</td>\n",
       "      <td>2015-03-20</td>\n",
       "      <td>2015-03-20</td>\n",
       "      <td>2015-03-20</td>\n",
       "      <td>2015-03-20</td>\n",
       "      <td>2015-03-20</td>\n",
       "      <td>2015-03-20</td>\n",
       "      <td>2015-05-04</td>\n",
       "      <td>NaT</td>\n",
       "      <td>2015-03-28</td>\n",
       "      <td>2015-03-20</td>\n",
       "      <td>2015-03-20</td>\n",
       "      <td>2015-04-15</td>\n",
       "      <td>2015-03-20</td>\n",
       "      <td>2015-03-20</td>\n",
       "      <td>2015-06-01</td>\n",
       "      <td>2015-06-01</td>\n",
       "      <td>2015-03-20</td>\n",
       "      <td>2015-03-20</td>\n",
       "      <td>2015-06-01</td>\n",
       "      <td>2015-06-01</td>\n",
       "      <td>2015-03-20</td>\n",
       "    </tr>\n",
       "    <tr>\n",
       "      <th>3</th>\n",
       "      <td>2013-01-02</td>\n",
       "      <td>2016-07-16</td>\n",
       "      <td>2013-01-02</td>\n",
       "      <td>2013-01-02</td>\n",
       "      <td>2016-10-12</td>\n",
       "      <td>2013-01-02</td>\n",
       "      <td>2014-01-02</td>\n",
       "      <td>2013-01-02</td>\n",
       "      <td>2013-01-02</td>\n",
       "      <td>2013-01-02</td>\n",
       "      <td>2013-01-02</td>\n",
       "      <td>2013-01-02</td>\n",
       "      <td>2013-01-02</td>\n",
       "      <td>2013-01-02</td>\n",
       "      <td>2013-01-02</td>\n",
       "      <td>2014-01-02</td>\n",
       "      <td>2014-01-02</td>\n",
       "      <td>2013-02-27</td>\n",
       "      <td>2014-01-02</td>\n",
       "      <td>2014-01-02</td>\n",
       "      <td>2013-01-02</td>\n",
       "      <td>2013-01-02</td>\n",
       "      <td>2013-01-02</td>\n",
       "      <td>2014-01-04</td>\n",
       "      <td>2013-01-02</td>\n",
       "      <td>2013-01-02</td>\n",
       "      <td>2014-01-02</td>\n",
       "      <td>2014-01-02</td>\n",
       "      <td>2013-01-02</td>\n",
       "      <td>2013-01-02</td>\n",
       "      <td>2013-03-16</td>\n",
       "      <td>2014-07-03</td>\n",
       "      <td>2013-01-02</td>\n",
       "    </tr>\n",
       "    <tr>\n",
       "      <th>30</th>\n",
       "      <td>2013-01-02</td>\n",
       "      <td>2014-03-01</td>\n",
       "      <td>2013-01-02</td>\n",
       "      <td>2013-01-02</td>\n",
       "      <td>NaT</td>\n",
       "      <td>2013-01-02</td>\n",
       "      <td>2014-01-02</td>\n",
       "      <td>2013-01-02</td>\n",
       "      <td>2013-01-02</td>\n",
       "      <td>2013-01-02</td>\n",
       "      <td>2013-01-02</td>\n",
       "      <td>2013-01-02</td>\n",
       "      <td>2013-01-02</td>\n",
       "      <td>2013-01-02</td>\n",
       "      <td>2013-01-02</td>\n",
       "      <td>2014-01-02</td>\n",
       "      <td>2014-01-02</td>\n",
       "      <td>2013-01-06</td>\n",
       "      <td>2014-01-02</td>\n",
       "      <td>2014-01-07</td>\n",
       "      <td>NaT</td>\n",
       "      <td>2013-01-02</td>\n",
       "      <td>2013-01-02</td>\n",
       "      <td>2014-01-03</td>\n",
       "      <td>2013-01-02</td>\n",
       "      <td>2013-01-02</td>\n",
       "      <td>2014-01-03</td>\n",
       "      <td>2014-01-02</td>\n",
       "      <td>2013-01-02</td>\n",
       "      <td>2013-01-02</td>\n",
       "      <td>2014-01-02</td>\n",
       "      <td>2014-07-03</td>\n",
       "      <td>2013-01-02</td>\n",
       "    </tr>\n",
       "    <tr>\n",
       "      <th>31</th>\n",
       "      <td>2013-01-02</td>\n",
       "      <td>2014-07-12</td>\n",
       "      <td>2013-01-02</td>\n",
       "      <td>2013-01-02</td>\n",
       "      <td>NaT</td>\n",
       "      <td>2013-01-02</td>\n",
       "      <td>2014-01-02</td>\n",
       "      <td>2013-01-02</td>\n",
       "      <td>2013-01-02</td>\n",
       "      <td>2013-01-02</td>\n",
       "      <td>2013-01-02</td>\n",
       "      <td>2013-01-02</td>\n",
       "      <td>2013-01-02</td>\n",
       "      <td>2013-01-02</td>\n",
       "      <td>2013-01-02</td>\n",
       "      <td>2014-01-02</td>\n",
       "      <td>2014-01-03</td>\n",
       "      <td>2013-01-02</td>\n",
       "      <td>2014-01-02</td>\n",
       "      <td>2014-01-02</td>\n",
       "      <td>2013-01-02</td>\n",
       "      <td>2013-01-02</td>\n",
       "      <td>2013-01-02</td>\n",
       "      <td>2014-01-24</td>\n",
       "      <td>2013-01-02</td>\n",
       "      <td>2013-01-02</td>\n",
       "      <td>2014-01-02</td>\n",
       "      <td>2014-01-02</td>\n",
       "      <td>2013-01-02</td>\n",
       "      <td>2013-01-02</td>\n",
       "      <td>2014-01-02</td>\n",
       "      <td>2014-01-04</td>\n",
       "      <td>2013-01-02</td>\n",
       "    </tr>\n",
       "    <tr>\n",
       "      <th>32</th>\n",
       "      <td>2013-01-02</td>\n",
       "      <td>2014-03-19</td>\n",
       "      <td>2013-01-02</td>\n",
       "      <td>2013-01-02</td>\n",
       "      <td>NaT</td>\n",
       "      <td>2013-01-02</td>\n",
       "      <td>2014-01-03</td>\n",
       "      <td>2013-01-02</td>\n",
       "      <td>2013-01-02</td>\n",
       "      <td>2013-01-02</td>\n",
       "      <td>2013-01-02</td>\n",
       "      <td>2013-01-02</td>\n",
       "      <td>2013-01-02</td>\n",
       "      <td>2013-01-02</td>\n",
       "      <td>2013-01-02</td>\n",
       "      <td>2014-01-02</td>\n",
       "      <td>2014-01-02</td>\n",
       "      <td>2013-01-02</td>\n",
       "      <td>2014-01-02</td>\n",
       "      <td>NaT</td>\n",
       "      <td>2015-12-16</td>\n",
       "      <td>2013-01-02</td>\n",
       "      <td>2013-01-02</td>\n",
       "      <td>2014-01-25</td>\n",
       "      <td>2013-01-02</td>\n",
       "      <td>2013-01-02</td>\n",
       "      <td>2014-01-21</td>\n",
       "      <td>2014-01-03</td>\n",
       "      <td>2013-01-02</td>\n",
       "      <td>2013-01-02</td>\n",
       "      <td>2014-01-02</td>\n",
       "      <td>2016-04-12</td>\n",
       "      <td>2013-01-02</td>\n",
       "    </tr>\n",
       "    <tr>\n",
       "      <th>33</th>\n",
       "      <td>2013-01-02</td>\n",
       "      <td>2015-12-16</td>\n",
       "      <td>2013-01-02</td>\n",
       "      <td>2013-01-02</td>\n",
       "      <td>NaT</td>\n",
       "      <td>2013-01-02</td>\n",
       "      <td>2014-01-02</td>\n",
       "      <td>2013-01-02</td>\n",
       "      <td>2013-01-02</td>\n",
       "      <td>2013-01-02</td>\n",
       "      <td>2013-01-02</td>\n",
       "      <td>2013-01-02</td>\n",
       "      <td>2013-01-02</td>\n",
       "      <td>2013-01-02</td>\n",
       "      <td>2013-01-05</td>\n",
       "      <td>2014-01-02</td>\n",
       "      <td>2014-01-02</td>\n",
       "      <td>2013-01-04</td>\n",
       "      <td>2014-01-02</td>\n",
       "      <td>NaT</td>\n",
       "      <td>2014-10-29</td>\n",
       "      <td>2013-01-02</td>\n",
       "      <td>2013-01-02</td>\n",
       "      <td>2014-01-04</td>\n",
       "      <td>2013-01-02</td>\n",
       "      <td>2013-01-02</td>\n",
       "      <td>2014-01-12</td>\n",
       "      <td>2014-01-02</td>\n",
       "      <td>2013-01-02</td>\n",
       "      <td>2013-01-02</td>\n",
       "      <td>2014-01-02</td>\n",
       "      <td>2015-12-18</td>\n",
       "      <td>2013-01-02</td>\n",
       "    </tr>\n",
       "    <tr>\n",
       "      <th>34</th>\n",
       "      <td>2013-01-02</td>\n",
       "      <td>2014-03-01</td>\n",
       "      <td>2013-01-02</td>\n",
       "      <td>2013-01-02</td>\n",
       "      <td>NaT</td>\n",
       "      <td>2013-01-02</td>\n",
       "      <td>2014-01-02</td>\n",
       "      <td>2013-01-02</td>\n",
       "      <td>2013-01-02</td>\n",
       "      <td>2013-01-02</td>\n",
       "      <td>2013-01-02</td>\n",
       "      <td>2013-01-02</td>\n",
       "      <td>2013-01-02</td>\n",
       "      <td>2013-01-02</td>\n",
       "      <td>2013-01-02</td>\n",
       "      <td>2014-01-02</td>\n",
       "      <td>2014-01-02</td>\n",
       "      <td>2013-01-02</td>\n",
       "      <td>2014-01-02</td>\n",
       "      <td>2014-01-02</td>\n",
       "      <td>2013-01-12</td>\n",
       "      <td>2013-01-02</td>\n",
       "      <td>2013-01-02</td>\n",
       "      <td>2014-01-24</td>\n",
       "      <td>2013-01-02</td>\n",
       "      <td>2013-01-02</td>\n",
       "      <td>2014-01-02</td>\n",
       "      <td>2014-01-02</td>\n",
       "      <td>2013-01-03</td>\n",
       "      <td>2013-01-02</td>\n",
       "      <td>2014-01-02</td>\n",
       "      <td>2014-01-02</td>\n",
       "      <td>2013-01-03</td>\n",
       "    </tr>\n",
       "    <tr>\n",
       "      <th>35</th>\n",
       "      <td>2013-01-02</td>\n",
       "      <td>2014-09-03</td>\n",
       "      <td>2013-01-04</td>\n",
       "      <td>2013-01-02</td>\n",
       "      <td>NaT</td>\n",
       "      <td>2013-01-02</td>\n",
       "      <td>2014-01-02</td>\n",
       "      <td>2013-01-02</td>\n",
       "      <td>2013-01-02</td>\n",
       "      <td>2013-01-02</td>\n",
       "      <td>2013-01-02</td>\n",
       "      <td>2013-01-02</td>\n",
       "      <td>2013-01-02</td>\n",
       "      <td>2013-01-02</td>\n",
       "      <td>2013-01-03</td>\n",
       "      <td>2014-01-02</td>\n",
       "      <td>2014-01-02</td>\n",
       "      <td>2013-03-03</td>\n",
       "      <td>2014-01-02</td>\n",
       "      <td>NaT</td>\n",
       "      <td>2014-05-08</td>\n",
       "      <td>2013-01-02</td>\n",
       "      <td>2013-01-02</td>\n",
       "      <td>2014-01-31</td>\n",
       "      <td>2013-01-02</td>\n",
       "      <td>2013-01-02</td>\n",
       "      <td>2014-01-26</td>\n",
       "      <td>2014-01-03</td>\n",
       "      <td>2013-01-02</td>\n",
       "      <td>2013-01-02</td>\n",
       "      <td>2014-01-02</td>\n",
       "      <td>2015-12-04</td>\n",
       "      <td>2013-01-03</td>\n",
       "    </tr>\n",
       "    <tr>\n",
       "      <th>36</th>\n",
       "      <td>2013-05-09</td>\n",
       "      <td>2015-12-22</td>\n",
       "      <td>2013-05-09</td>\n",
       "      <td>2013-05-09</td>\n",
       "      <td>NaT</td>\n",
       "      <td>2013-05-09</td>\n",
       "      <td>2014-01-01</td>\n",
       "      <td>2013-05-09</td>\n",
       "      <td>2013-05-09</td>\n",
       "      <td>2013-05-09</td>\n",
       "      <td>2013-05-09</td>\n",
       "      <td>2013-05-09</td>\n",
       "      <td>2013-05-09</td>\n",
       "      <td>2013-05-09</td>\n",
       "      <td>2013-05-09</td>\n",
       "      <td>2014-01-01</td>\n",
       "      <td>2014-01-01</td>\n",
       "      <td>2013-05-11</td>\n",
       "      <td>2014-01-01</td>\n",
       "      <td>2014-03-02</td>\n",
       "      <td>2013-05-13</td>\n",
       "      <td>2013-05-09</td>\n",
       "      <td>2013-05-09</td>\n",
       "      <td>2014-01-27</td>\n",
       "      <td>2013-05-09</td>\n",
       "      <td>2013-05-09</td>\n",
       "      <td>2014-01-02</td>\n",
       "      <td>2014-01-02</td>\n",
       "      <td>2013-05-09</td>\n",
       "      <td>2013-05-09</td>\n",
       "      <td>2014-01-01</td>\n",
       "      <td>2014-01-02</td>\n",
       "      <td>2013-05-09</td>\n",
       "    </tr>\n",
       "    <tr>\n",
       "      <th>37</th>\n",
       "      <td>2013-01-02</td>\n",
       "      <td>2016-12-10</td>\n",
       "      <td>2013-01-02</td>\n",
       "      <td>2013-01-02</td>\n",
       "      <td>2016-10-12</td>\n",
       "      <td>2013-01-02</td>\n",
       "      <td>2014-01-02</td>\n",
       "      <td>2013-01-02</td>\n",
       "      <td>2013-01-02</td>\n",
       "      <td>2013-01-02</td>\n",
       "      <td>2013-01-02</td>\n",
       "      <td>2013-01-02</td>\n",
       "      <td>2013-01-02</td>\n",
       "      <td>2013-01-02</td>\n",
       "      <td>2013-01-03</td>\n",
       "      <td>2014-01-02</td>\n",
       "      <td>2014-01-02</td>\n",
       "      <td>2013-01-07</td>\n",
       "      <td>2014-01-02</td>\n",
       "      <td>2014-01-02</td>\n",
       "      <td>2013-01-02</td>\n",
       "      <td>2013-01-02</td>\n",
       "      <td>2013-01-02</td>\n",
       "      <td>2014-01-02</td>\n",
       "      <td>2013-01-02</td>\n",
       "      <td>2013-01-02</td>\n",
       "      <td>2014-01-02</td>\n",
       "      <td>2014-01-02</td>\n",
       "      <td>2013-01-02</td>\n",
       "      <td>2013-01-02</td>\n",
       "      <td>2013-03-16</td>\n",
       "      <td>2014-07-03</td>\n",
       "      <td>2013-01-02</td>\n",
       "    </tr>\n",
       "    <tr>\n",
       "      <th>38</th>\n",
       "      <td>2013-01-02</td>\n",
       "      <td>2016-07-15</td>\n",
       "      <td>2013-01-02</td>\n",
       "      <td>2013-01-02</td>\n",
       "      <td>2016-10-12</td>\n",
       "      <td>2013-01-02</td>\n",
       "      <td>2014-01-02</td>\n",
       "      <td>2013-01-02</td>\n",
       "      <td>2013-01-02</td>\n",
       "      <td>2013-01-02</td>\n",
       "      <td>2013-01-02</td>\n",
       "      <td>2013-01-02</td>\n",
       "      <td>2013-01-02</td>\n",
       "      <td>2013-01-02</td>\n",
       "      <td>2013-01-02</td>\n",
       "      <td>2014-01-02</td>\n",
       "      <td>2014-01-02</td>\n",
       "      <td>2014-01-25</td>\n",
       "      <td>2014-01-02</td>\n",
       "      <td>2014-01-02</td>\n",
       "      <td>2013-01-02</td>\n",
       "      <td>2013-01-02</td>\n",
       "      <td>2013-01-02</td>\n",
       "      <td>2014-01-04</td>\n",
       "      <td>2013-01-02</td>\n",
       "      <td>2013-01-02</td>\n",
       "      <td>2014-01-02</td>\n",
       "      <td>2014-01-02</td>\n",
       "      <td>2013-01-02</td>\n",
       "      <td>2013-01-02</td>\n",
       "      <td>2013-03-16</td>\n",
       "      <td>2014-07-02</td>\n",
       "      <td>2013-01-02</td>\n",
       "    </tr>\n",
       "    <tr>\n",
       "      <th>39</th>\n",
       "      <td>2013-01-02</td>\n",
       "      <td>2014-03-01</td>\n",
       "      <td>2013-01-02</td>\n",
       "      <td>2013-01-02</td>\n",
       "      <td>NaT</td>\n",
       "      <td>2013-01-02</td>\n",
       "      <td>2014-01-02</td>\n",
       "      <td>2013-01-02</td>\n",
       "      <td>2013-01-02</td>\n",
       "      <td>2013-01-02</td>\n",
       "      <td>2013-01-02</td>\n",
       "      <td>2013-01-02</td>\n",
       "      <td>2013-01-02</td>\n",
       "      <td>2013-01-02</td>\n",
       "      <td>2013-01-02</td>\n",
       "      <td>2014-01-02</td>\n",
       "      <td>2014-01-02</td>\n",
       "      <td>2013-01-02</td>\n",
       "      <td>2014-01-02</td>\n",
       "      <td>2014-01-02</td>\n",
       "      <td>2013-01-02</td>\n",
       "      <td>2013-01-02</td>\n",
       "      <td>2013-01-02</td>\n",
       "      <td>2014-01-23</td>\n",
       "      <td>2013-01-02</td>\n",
       "      <td>2013-01-02</td>\n",
       "      <td>2014-01-02</td>\n",
       "      <td>2014-01-02</td>\n",
       "      <td>2013-01-02</td>\n",
       "      <td>2013-01-02</td>\n",
       "      <td>2014-01-02</td>\n",
       "      <td>2014-01-03</td>\n",
       "      <td>2013-01-02</td>\n",
       "    </tr>\n",
       "    <tr>\n",
       "      <th>4</th>\n",
       "      <td>2013-01-02</td>\n",
       "      <td>2016-12-05</td>\n",
       "      <td>2013-01-02</td>\n",
       "      <td>2013-01-02</td>\n",
       "      <td>2016-10-11</td>\n",
       "      <td>2013-01-02</td>\n",
       "      <td>2014-01-02</td>\n",
       "      <td>2013-01-02</td>\n",
       "      <td>2013-01-02</td>\n",
       "      <td>2013-01-02</td>\n",
       "      <td>2013-01-02</td>\n",
       "      <td>2013-01-02</td>\n",
       "      <td>2013-01-02</td>\n",
       "      <td>2013-01-02</td>\n",
       "      <td>2013-01-04</td>\n",
       "      <td>2014-01-02</td>\n",
       "      <td>2014-01-02</td>\n",
       "      <td>2013-03-04</td>\n",
       "      <td>2014-01-02</td>\n",
       "      <td>2014-01-02</td>\n",
       "      <td>2013-01-02</td>\n",
       "      <td>2013-01-02</td>\n",
       "      <td>2013-01-02</td>\n",
       "      <td>2014-01-03</td>\n",
       "      <td>2013-01-02</td>\n",
       "      <td>2013-01-02</td>\n",
       "      <td>2014-01-02</td>\n",
       "      <td>2014-01-02</td>\n",
       "      <td>2013-01-02</td>\n",
       "      <td>2013-01-02</td>\n",
       "      <td>2013-03-16</td>\n",
       "      <td>2014-07-01</td>\n",
       "      <td>2013-01-02</td>\n",
       "    </tr>\n",
       "    <tr>\n",
       "      <th>40</th>\n",
       "      <td>2013-01-02</td>\n",
       "      <td>2014-03-03</td>\n",
       "      <td>2013-01-02</td>\n",
       "      <td>2013-01-02</td>\n",
       "      <td>NaT</td>\n",
       "      <td>2013-01-02</td>\n",
       "      <td>2014-01-02</td>\n",
       "      <td>2013-01-02</td>\n",
       "      <td>2013-01-02</td>\n",
       "      <td>2013-01-02</td>\n",
       "      <td>2013-01-02</td>\n",
       "      <td>2013-01-02</td>\n",
       "      <td>2013-01-02</td>\n",
       "      <td>2013-01-02</td>\n",
       "      <td>2013-01-08</td>\n",
       "      <td>2014-01-02</td>\n",
       "      <td>2014-01-02</td>\n",
       "      <td>2013-01-13</td>\n",
       "      <td>2014-01-02</td>\n",
       "      <td>NaT</td>\n",
       "      <td>2014-02-13</td>\n",
       "      <td>2013-01-04</td>\n",
       "      <td>2013-01-02</td>\n",
       "      <td>2014-01-08</td>\n",
       "      <td>2013-01-02</td>\n",
       "      <td>2013-01-02</td>\n",
       "      <td>2014-01-02</td>\n",
       "      <td>2014-01-02</td>\n",
       "      <td>2013-01-02</td>\n",
       "      <td>2013-01-02</td>\n",
       "      <td>2014-01-02</td>\n",
       "      <td>2014-07-01</td>\n",
       "      <td>2013-01-02</td>\n",
       "    </tr>\n",
       "    <tr>\n",
       "      <th>41</th>\n",
       "      <td>2013-01-02</td>\n",
       "      <td>2016-08-31</td>\n",
       "      <td>2013-01-02</td>\n",
       "      <td>2013-01-02</td>\n",
       "      <td>2016-10-20</td>\n",
       "      <td>2013-01-02</td>\n",
       "      <td>2014-01-02</td>\n",
       "      <td>2013-01-02</td>\n",
       "      <td>2013-01-02</td>\n",
       "      <td>2013-01-02</td>\n",
       "      <td>2013-01-02</td>\n",
       "      <td>2013-01-02</td>\n",
       "      <td>2013-01-02</td>\n",
       "      <td>2013-01-02</td>\n",
       "      <td>2013-01-02</td>\n",
       "      <td>2014-01-02</td>\n",
       "      <td>2014-01-02</td>\n",
       "      <td>2013-03-04</td>\n",
       "      <td>2014-01-02</td>\n",
       "      <td>2014-01-02</td>\n",
       "      <td>2013-01-02</td>\n",
       "      <td>2013-01-02</td>\n",
       "      <td>2013-01-02</td>\n",
       "      <td>2014-01-02</td>\n",
       "      <td>2013-01-02</td>\n",
       "      <td>2013-01-02</td>\n",
       "      <td>2014-01-02</td>\n",
       "      <td>2014-01-03</td>\n",
       "      <td>2013-01-02</td>\n",
       "      <td>2013-01-02</td>\n",
       "      <td>2013-03-16</td>\n",
       "      <td>2014-07-01</td>\n",
       "      <td>2013-01-02</td>\n",
       "    </tr>\n",
       "    <tr>\n",
       "      <th>42</th>\n",
       "      <td>2015-08-21</td>\n",
       "      <td>2016-08-14</td>\n",
       "      <td>2015-08-21</td>\n",
       "      <td>2015-08-21</td>\n",
       "      <td>2016-10-12</td>\n",
       "      <td>2015-08-21</td>\n",
       "      <td>2015-08-21</td>\n",
       "      <td>2015-08-21</td>\n",
       "      <td>2015-08-21</td>\n",
       "      <td>2015-08-21</td>\n",
       "      <td>2015-08-21</td>\n",
       "      <td>2015-08-21</td>\n",
       "      <td>2015-08-21</td>\n",
       "      <td>2015-08-21</td>\n",
       "      <td>2015-08-21</td>\n",
       "      <td>2015-08-21</td>\n",
       "      <td>2015-08-21</td>\n",
       "      <td>2015-08-23</td>\n",
       "      <td>2015-08-21</td>\n",
       "      <td>2015-08-21</td>\n",
       "      <td>2015-08-21</td>\n",
       "      <td>2015-08-21</td>\n",
       "      <td>2015-08-21</td>\n",
       "      <td>2015-08-21</td>\n",
       "      <td>2015-08-21</td>\n",
       "      <td>2015-08-21</td>\n",
       "      <td>2015-08-21</td>\n",
       "      <td>2015-08-21</td>\n",
       "      <td>2015-08-21</td>\n",
       "      <td>2015-08-21</td>\n",
       "      <td>2015-08-21</td>\n",
       "      <td>2015-10-01</td>\n",
       "      <td>2015-08-21</td>\n",
       "    </tr>\n",
       "    <tr>\n",
       "      <th>43</th>\n",
       "      <td>2013-01-02</td>\n",
       "      <td>2014-07-29</td>\n",
       "      <td>2013-01-02</td>\n",
       "      <td>2013-01-02</td>\n",
       "      <td>NaT</td>\n",
       "      <td>2013-01-02</td>\n",
       "      <td>2014-01-02</td>\n",
       "      <td>2013-01-02</td>\n",
       "      <td>2013-01-02</td>\n",
       "      <td>2013-01-02</td>\n",
       "      <td>2013-01-02</td>\n",
       "      <td>2013-01-02</td>\n",
       "      <td>2013-01-02</td>\n",
       "      <td>2013-01-02</td>\n",
       "      <td>2013-01-04</td>\n",
       "      <td>2014-01-02</td>\n",
       "      <td>2014-01-02</td>\n",
       "      <td>2013-02-26</td>\n",
       "      <td>2014-01-02</td>\n",
       "      <td>NaT</td>\n",
       "      <td>2014-02-13</td>\n",
       "      <td>2013-01-02</td>\n",
       "      <td>2013-01-02</td>\n",
       "      <td>2014-01-24</td>\n",
       "      <td>2013-01-02</td>\n",
       "      <td>2013-01-02</td>\n",
       "      <td>2014-01-27</td>\n",
       "      <td>2014-01-02</td>\n",
       "      <td>2013-01-02</td>\n",
       "      <td>2013-01-02</td>\n",
       "      <td>2014-01-02</td>\n",
       "      <td>2015-10-29</td>\n",
       "      <td>2013-01-08</td>\n",
       "    </tr>\n",
       "    <tr>\n",
       "      <th>44</th>\n",
       "      <td>2013-01-02</td>\n",
       "      <td>NaT</td>\n",
       "      <td>2013-01-02</td>\n",
       "      <td>2013-01-02</td>\n",
       "      <td>2016-10-12</td>\n",
       "      <td>2013-01-02</td>\n",
       "      <td>2014-01-02</td>\n",
       "      <td>2013-01-02</td>\n",
       "      <td>2013-01-02</td>\n",
       "      <td>2013-01-02</td>\n",
       "      <td>2013-01-02</td>\n",
       "      <td>2013-01-02</td>\n",
       "      <td>2013-01-02</td>\n",
       "      <td>2013-01-02</td>\n",
       "      <td>2013-01-02</td>\n",
       "      <td>2014-01-02</td>\n",
       "      <td>2014-01-02</td>\n",
       "      <td>2013-02-24</td>\n",
       "      <td>2014-01-02</td>\n",
       "      <td>2014-01-02</td>\n",
       "      <td>2013-01-02</td>\n",
       "      <td>2013-01-02</td>\n",
       "      <td>2013-01-02</td>\n",
       "      <td>2014-01-02</td>\n",
       "      <td>2013-01-02</td>\n",
       "      <td>2013-01-02</td>\n",
       "      <td>2014-01-02</td>\n",
       "      <td>2014-01-02</td>\n",
       "      <td>2013-01-02</td>\n",
       "      <td>2013-01-02</td>\n",
       "      <td>2013-03-16</td>\n",
       "      <td>2014-01-02</td>\n",
       "      <td>2013-01-02</td>\n",
       "    </tr>\n",
       "    <tr>\n",
       "      <th>45</th>\n",
       "      <td>2013-01-02</td>\n",
       "      <td>NaT</td>\n",
       "      <td>2013-01-02</td>\n",
       "      <td>2013-01-02</td>\n",
       "      <td>2016-10-08</td>\n",
       "      <td>2013-01-02</td>\n",
       "      <td>2014-01-02</td>\n",
       "      <td>2013-01-02</td>\n",
       "      <td>2013-01-02</td>\n",
       "      <td>2013-01-02</td>\n",
       "      <td>2013-01-02</td>\n",
       "      <td>2013-01-02</td>\n",
       "      <td>2013-01-02</td>\n",
       "      <td>2013-01-02</td>\n",
       "      <td>2013-01-03</td>\n",
       "      <td>2014-01-02</td>\n",
       "      <td>2014-01-02</td>\n",
       "      <td>2013-01-02</td>\n",
       "      <td>2014-01-02</td>\n",
       "      <td>2014-01-02</td>\n",
       "      <td>2013-01-02</td>\n",
       "      <td>2013-01-02</td>\n",
       "      <td>2013-01-02</td>\n",
       "      <td>2014-01-03</td>\n",
       "      <td>2013-01-02</td>\n",
       "      <td>2013-01-02</td>\n",
       "      <td>2014-01-02</td>\n",
       "      <td>2014-01-02</td>\n",
       "      <td>2013-01-02</td>\n",
       "      <td>2013-01-02</td>\n",
       "      <td>2013-03-16</td>\n",
       "      <td>2014-01-02</td>\n",
       "      <td>2013-01-02</td>\n",
       "    </tr>\n",
       "    <tr>\n",
       "      <th>46</th>\n",
       "      <td>2013-01-02</td>\n",
       "      <td>NaT</td>\n",
       "      <td>2013-01-02</td>\n",
       "      <td>2013-01-02</td>\n",
       "      <td>2016-10-13</td>\n",
       "      <td>2013-01-02</td>\n",
       "      <td>2014-01-02</td>\n",
       "      <td>2013-01-02</td>\n",
       "      <td>2013-01-02</td>\n",
       "      <td>2013-01-02</td>\n",
       "      <td>2013-01-02</td>\n",
       "      <td>2013-01-02</td>\n",
       "      <td>2013-01-02</td>\n",
       "      <td>2013-01-02</td>\n",
       "      <td>2013-01-04</td>\n",
       "      <td>2014-01-02</td>\n",
       "      <td>2014-01-02</td>\n",
       "      <td>2013-01-02</td>\n",
       "      <td>2014-01-02</td>\n",
       "      <td>2014-01-02</td>\n",
       "      <td>2013-01-02</td>\n",
       "      <td>2013-01-02</td>\n",
       "      <td>2013-01-02</td>\n",
       "      <td>2014-01-03</td>\n",
       "      <td>2013-01-02</td>\n",
       "      <td>2013-01-02</td>\n",
       "      <td>2014-01-02</td>\n",
       "      <td>2014-01-02</td>\n",
       "      <td>2013-01-02</td>\n",
       "      <td>2013-01-02</td>\n",
       "      <td>2013-03-16</td>\n",
       "      <td>2014-01-02</td>\n",
       "      <td>2013-01-02</td>\n",
       "    </tr>\n",
       "    <tr>\n",
       "      <th>47</th>\n",
       "      <td>2013-01-02</td>\n",
       "      <td>NaT</td>\n",
       "      <td>2013-01-02</td>\n",
       "      <td>2013-01-02</td>\n",
       "      <td>2016-10-12</td>\n",
       "      <td>2013-01-02</td>\n",
       "      <td>2014-01-02</td>\n",
       "      <td>2013-01-02</td>\n",
       "      <td>2013-01-02</td>\n",
       "      <td>2013-01-02</td>\n",
       "      <td>2013-01-02</td>\n",
       "      <td>2013-01-02</td>\n",
       "      <td>2013-01-02</td>\n",
       "      <td>2013-01-02</td>\n",
       "      <td>2013-01-02</td>\n",
       "      <td>2014-01-02</td>\n",
       "      <td>2014-01-02</td>\n",
       "      <td>2013-02-25</td>\n",
       "      <td>2014-01-02</td>\n",
       "      <td>2014-01-02</td>\n",
       "      <td>2013-01-02</td>\n",
       "      <td>2013-01-02</td>\n",
       "      <td>2013-01-02</td>\n",
       "      <td>2014-01-03</td>\n",
       "      <td>2013-01-02</td>\n",
       "      <td>2013-01-02</td>\n",
       "      <td>2014-01-02</td>\n",
       "      <td>2014-01-02</td>\n",
       "      <td>2013-01-02</td>\n",
       "      <td>2013-01-02</td>\n",
       "      <td>2013-03-16</td>\n",
       "      <td>2014-01-02</td>\n",
       "      <td>2013-01-02</td>\n",
       "    </tr>\n",
       "    <tr>\n",
       "      <th>48</th>\n",
       "      <td>2013-01-02</td>\n",
       "      <td>NaT</td>\n",
       "      <td>2013-01-02</td>\n",
       "      <td>2013-01-02</td>\n",
       "      <td>2016-10-12</td>\n",
       "      <td>2013-01-02</td>\n",
       "      <td>2014-01-02</td>\n",
       "      <td>2013-01-02</td>\n",
       "      <td>2013-01-02</td>\n",
       "      <td>2013-01-02</td>\n",
       "      <td>2013-01-02</td>\n",
       "      <td>2013-01-02</td>\n",
       "      <td>2013-01-02</td>\n",
       "      <td>2013-01-02</td>\n",
       "      <td>2013-01-02</td>\n",
       "      <td>2014-01-02</td>\n",
       "      <td>2014-01-02</td>\n",
       "      <td>2013-02-24</td>\n",
       "      <td>2014-01-02</td>\n",
       "      <td>2014-01-02</td>\n",
       "      <td>2013-01-02</td>\n",
       "      <td>2013-01-02</td>\n",
       "      <td>2013-01-02</td>\n",
       "      <td>2014-01-02</td>\n",
       "      <td>2013-01-02</td>\n",
       "      <td>2013-01-02</td>\n",
       "      <td>2014-01-02</td>\n",
       "      <td>2014-01-02</td>\n",
       "      <td>2013-01-02</td>\n",
       "      <td>2013-01-02</td>\n",
       "      <td>2013-03-16</td>\n",
       "      <td>2014-01-02</td>\n",
       "      <td>2013-01-02</td>\n",
       "    </tr>\n",
       "    <tr>\n",
       "      <th>49</th>\n",
       "      <td>2013-01-02</td>\n",
       "      <td>NaT</td>\n",
       "      <td>2013-01-02</td>\n",
       "      <td>2013-01-02</td>\n",
       "      <td>2016-10-12</td>\n",
       "      <td>2013-01-02</td>\n",
       "      <td>2014-01-02</td>\n",
       "      <td>2013-01-02</td>\n",
       "      <td>2013-01-02</td>\n",
       "      <td>2013-01-02</td>\n",
       "      <td>2013-01-02</td>\n",
       "      <td>2013-01-02</td>\n",
       "      <td>2013-01-02</td>\n",
       "      <td>2013-01-02</td>\n",
       "      <td>2013-01-02</td>\n",
       "      <td>2014-01-02</td>\n",
       "      <td>2014-01-02</td>\n",
       "      <td>2013-02-27</td>\n",
       "      <td>2014-01-02</td>\n",
       "      <td>2014-01-02</td>\n",
       "      <td>2013-01-04</td>\n",
       "      <td>2013-01-02</td>\n",
       "      <td>2013-01-02</td>\n",
       "      <td>2014-01-02</td>\n",
       "      <td>2013-01-02</td>\n",
       "      <td>2013-01-02</td>\n",
       "      <td>2014-01-02</td>\n",
       "      <td>2014-01-02</td>\n",
       "      <td>2013-01-02</td>\n",
       "      <td>2013-01-02</td>\n",
       "      <td>2013-03-16</td>\n",
       "      <td>2014-01-02</td>\n",
       "      <td>2013-01-02</td>\n",
       "    </tr>\n",
       "    <tr>\n",
       "      <th>5</th>\n",
       "      <td>2013-01-02</td>\n",
       "      <td>2016-09-03</td>\n",
       "      <td>2013-01-02</td>\n",
       "      <td>2013-01-02</td>\n",
       "      <td>2016-10-12</td>\n",
       "      <td>2013-01-02</td>\n",
       "      <td>2014-01-02</td>\n",
       "      <td>2013-01-02</td>\n",
       "      <td>2013-01-02</td>\n",
       "      <td>2013-01-02</td>\n",
       "      <td>2013-01-02</td>\n",
       "      <td>2013-01-02</td>\n",
       "      <td>2013-01-02</td>\n",
       "      <td>2013-01-02</td>\n",
       "      <td>2013-01-02</td>\n",
       "      <td>2014-01-02</td>\n",
       "      <td>2014-01-02</td>\n",
       "      <td>2013-01-02</td>\n",
       "      <td>2014-01-02</td>\n",
       "      <td>2014-01-02</td>\n",
       "      <td>2013-01-04</td>\n",
       "      <td>2013-01-02</td>\n",
       "      <td>2013-01-02</td>\n",
       "      <td>2014-01-02</td>\n",
       "      <td>2013-01-02</td>\n",
       "      <td>2013-01-02</td>\n",
       "      <td>2014-01-02</td>\n",
       "      <td>2014-01-02</td>\n",
       "      <td>2013-01-02</td>\n",
       "      <td>2013-01-02</td>\n",
       "      <td>2013-03-16</td>\n",
       "      <td>2014-07-01</td>\n",
       "      <td>2013-01-02</td>\n",
       "    </tr>\n",
       "    <tr>\n",
       "      <th>50</th>\n",
       "      <td>2013-01-02</td>\n",
       "      <td>NaT</td>\n",
       "      <td>2013-01-02</td>\n",
       "      <td>2013-01-02</td>\n",
       "      <td>2016-10-11</td>\n",
       "      <td>2013-01-02</td>\n",
       "      <td>2014-01-02</td>\n",
       "      <td>2013-01-02</td>\n",
       "      <td>2013-01-02</td>\n",
       "      <td>2013-01-02</td>\n",
       "      <td>2013-01-02</td>\n",
       "      <td>2013-01-02</td>\n",
       "      <td>2013-01-02</td>\n",
       "      <td>2013-01-02</td>\n",
       "      <td>2013-01-03</td>\n",
       "      <td>2014-01-02</td>\n",
       "      <td>2014-01-02</td>\n",
       "      <td>2013-02-27</td>\n",
       "      <td>2014-01-02</td>\n",
       "      <td>2014-01-02</td>\n",
       "      <td>2013-01-03</td>\n",
       "      <td>2013-01-02</td>\n",
       "      <td>2013-01-02</td>\n",
       "      <td>2014-01-02</td>\n",
       "      <td>2013-01-02</td>\n",
       "      <td>2013-01-02</td>\n",
       "      <td>2014-01-02</td>\n",
       "      <td>2014-01-02</td>\n",
       "      <td>2013-01-02</td>\n",
       "      <td>2013-01-02</td>\n",
       "      <td>2013-03-16</td>\n",
       "      <td>2014-01-02</td>\n",
       "      <td>2013-01-02</td>\n",
       "    </tr>\n",
       "    <tr>\n",
       "      <th>51</th>\n",
       "      <td>2013-01-02</td>\n",
       "      <td>NaT</td>\n",
       "      <td>2013-01-02</td>\n",
       "      <td>2013-01-02</td>\n",
       "      <td>2016-10-12</td>\n",
       "      <td>2013-01-02</td>\n",
       "      <td>2014-01-02</td>\n",
       "      <td>2013-01-02</td>\n",
       "      <td>2013-01-02</td>\n",
       "      <td>2013-01-02</td>\n",
       "      <td>2013-01-02</td>\n",
       "      <td>2013-01-02</td>\n",
       "      <td>2013-01-02</td>\n",
       "      <td>2013-01-02</td>\n",
       "      <td>2013-01-02</td>\n",
       "      <td>2014-01-02</td>\n",
       "      <td>2014-01-02</td>\n",
       "      <td>2013-02-25</td>\n",
       "      <td>2014-01-02</td>\n",
       "      <td>2014-01-02</td>\n",
       "      <td>2013-01-02</td>\n",
       "      <td>2013-01-02</td>\n",
       "      <td>2013-01-02</td>\n",
       "      <td>2014-01-02</td>\n",
       "      <td>2013-01-02</td>\n",
       "      <td>2013-01-02</td>\n",
       "      <td>2014-01-02</td>\n",
       "      <td>2014-01-02</td>\n",
       "      <td>2013-01-02</td>\n",
       "      <td>2013-01-02</td>\n",
       "      <td>2013-03-16</td>\n",
       "      <td>2014-01-02</td>\n",
       "      <td>2013-01-02</td>\n",
       "    </tr>\n",
       "    <tr>\n",
       "      <th>52</th>\n",
       "      <td>2017-04-20</td>\n",
       "      <td>NaT</td>\n",
       "      <td>2017-04-20</td>\n",
       "      <td>2017-04-20</td>\n",
       "      <td>NaT</td>\n",
       "      <td>2017-04-20</td>\n",
       "      <td>2017-04-20</td>\n",
       "      <td>2017-04-20</td>\n",
       "      <td>2017-04-20</td>\n",
       "      <td>2017-04-20</td>\n",
       "      <td>2017-04-20</td>\n",
       "      <td>2017-04-20</td>\n",
       "      <td>2017-04-20</td>\n",
       "      <td>2017-04-20</td>\n",
       "      <td>2017-04-20</td>\n",
       "      <td>2017-04-20</td>\n",
       "      <td>2017-04-20</td>\n",
       "      <td>2017-04-20</td>\n",
       "      <td>2017-04-20</td>\n",
       "      <td>2017-04-20</td>\n",
       "      <td>2017-04-20</td>\n",
       "      <td>2017-04-20</td>\n",
       "      <td>2017-04-20</td>\n",
       "      <td>2017-04-20</td>\n",
       "      <td>2017-04-20</td>\n",
       "      <td>2017-04-20</td>\n",
       "      <td>2017-04-20</td>\n",
       "      <td>2017-04-20</td>\n",
       "      <td>2017-04-20</td>\n",
       "      <td>2017-04-20</td>\n",
       "      <td>2017-04-20</td>\n",
       "      <td>2017-04-20</td>\n",
       "      <td>2017-04-20</td>\n",
       "    </tr>\n",
       "    <tr>\n",
       "      <th>53</th>\n",
       "      <td>2014-05-29</td>\n",
       "      <td>2016-09-16</td>\n",
       "      <td>2014-05-29</td>\n",
       "      <td>2014-05-29</td>\n",
       "      <td>2016-10-12</td>\n",
       "      <td>2014-05-29</td>\n",
       "      <td>2014-07-01</td>\n",
       "      <td>2014-05-29</td>\n",
       "      <td>2014-05-29</td>\n",
       "      <td>2014-05-29</td>\n",
       "      <td>2014-05-29</td>\n",
       "      <td>2014-05-29</td>\n",
       "      <td>2014-05-29</td>\n",
       "      <td>2014-05-29</td>\n",
       "      <td>2014-05-29</td>\n",
       "      <td>2014-07-01</td>\n",
       "      <td>2014-07-01</td>\n",
       "      <td>2014-05-29</td>\n",
       "      <td>2014-07-01</td>\n",
       "      <td>2014-07-01</td>\n",
       "      <td>2014-05-29</td>\n",
       "      <td>2014-05-29</td>\n",
       "      <td>2014-05-29</td>\n",
       "      <td>2014-07-01</td>\n",
       "      <td>2014-05-29</td>\n",
       "      <td>2014-05-29</td>\n",
       "      <td>2014-07-01</td>\n",
       "      <td>2014-07-01</td>\n",
       "      <td>2014-05-29</td>\n",
       "      <td>2014-05-29</td>\n",
       "      <td>2014-05-29</td>\n",
       "      <td>2014-07-05</td>\n",
       "      <td>2014-05-29</td>\n",
       "    </tr>\n",
       "    <tr>\n",
       "      <th>54</th>\n",
       "      <td>2013-01-02</td>\n",
       "      <td>2014-03-07</td>\n",
       "      <td>2013-01-05</td>\n",
       "      <td>2013-01-02</td>\n",
       "      <td>NaT</td>\n",
       "      <td>2013-01-02</td>\n",
       "      <td>2014-01-02</td>\n",
       "      <td>2013-01-02</td>\n",
       "      <td>2013-01-02</td>\n",
       "      <td>2013-01-02</td>\n",
       "      <td>2013-01-02</td>\n",
       "      <td>2013-01-02</td>\n",
       "      <td>2013-01-02</td>\n",
       "      <td>2013-01-02</td>\n",
       "      <td>2013-01-03</td>\n",
       "      <td>2014-01-02</td>\n",
       "      <td>2014-01-02</td>\n",
       "      <td>2013-01-02</td>\n",
       "      <td>2014-01-02</td>\n",
       "      <td>NaT</td>\n",
       "      <td>NaT</td>\n",
       "      <td>2013-01-03</td>\n",
       "      <td>2013-01-02</td>\n",
       "      <td>2014-01-23</td>\n",
       "      <td>2013-01-02</td>\n",
       "      <td>2013-01-02</td>\n",
       "      <td>2014-01-06</td>\n",
       "      <td>2014-01-02</td>\n",
       "      <td>2013-01-02</td>\n",
       "      <td>2013-01-02</td>\n",
       "      <td>2014-01-02</td>\n",
       "      <td>2014-07-02</td>\n",
       "      <td>2013-01-02</td>\n",
       "    </tr>\n",
       "    <tr>\n",
       "      <th>6</th>\n",
       "      <td>2013-01-02</td>\n",
       "      <td>2017-07-10</td>\n",
       "      <td>2013-01-02</td>\n",
       "      <td>2013-01-02</td>\n",
       "      <td>2016-10-11</td>\n",
       "      <td>2013-01-02</td>\n",
       "      <td>2014-01-02</td>\n",
       "      <td>2013-01-02</td>\n",
       "      <td>2013-01-02</td>\n",
       "      <td>2013-01-02</td>\n",
       "      <td>2013-01-02</td>\n",
       "      <td>2013-01-02</td>\n",
       "      <td>2013-01-02</td>\n",
       "      <td>2013-01-02</td>\n",
       "      <td>2013-01-03</td>\n",
       "      <td>2014-01-02</td>\n",
       "      <td>2014-01-02</td>\n",
       "      <td>2013-03-04</td>\n",
       "      <td>2014-01-02</td>\n",
       "      <td>2014-01-02</td>\n",
       "      <td>2013-01-02</td>\n",
       "      <td>2013-01-02</td>\n",
       "      <td>2013-01-02</td>\n",
       "      <td>2014-01-02</td>\n",
       "      <td>2013-01-02</td>\n",
       "      <td>2013-01-02</td>\n",
       "      <td>2014-01-02</td>\n",
       "      <td>2014-01-02</td>\n",
       "      <td>2013-01-02</td>\n",
       "      <td>2013-01-02</td>\n",
       "      <td>2013-03-16</td>\n",
       "      <td>2014-12-21</td>\n",
       "      <td>2013-01-02</td>\n",
       "    </tr>\n",
       "    <tr>\n",
       "      <th>7</th>\n",
       "      <td>2013-01-02</td>\n",
       "      <td>2016-10-25</td>\n",
       "      <td>2013-01-02</td>\n",
       "      <td>2013-01-02</td>\n",
       "      <td>2016-10-11</td>\n",
       "      <td>2013-01-02</td>\n",
       "      <td>2014-01-02</td>\n",
       "      <td>2013-01-02</td>\n",
       "      <td>2013-01-02</td>\n",
       "      <td>2013-01-02</td>\n",
       "      <td>2013-01-02</td>\n",
       "      <td>2013-01-02</td>\n",
       "      <td>2013-01-02</td>\n",
       "      <td>2013-01-02</td>\n",
       "      <td>2013-01-05</td>\n",
       "      <td>2014-01-02</td>\n",
       "      <td>2014-01-02</td>\n",
       "      <td>2013-01-02</td>\n",
       "      <td>2014-01-02</td>\n",
       "      <td>2014-01-02</td>\n",
       "      <td>2013-01-02</td>\n",
       "      <td>2013-01-02</td>\n",
       "      <td>2013-01-02</td>\n",
       "      <td>2014-01-02</td>\n",
       "      <td>2013-01-02</td>\n",
       "      <td>2013-01-02</td>\n",
       "      <td>2014-01-02</td>\n",
       "      <td>2014-01-02</td>\n",
       "      <td>2013-01-02</td>\n",
       "      <td>2013-01-02</td>\n",
       "      <td>2013-03-16</td>\n",
       "      <td>2014-07-08</td>\n",
       "      <td>2013-01-02</td>\n",
       "    </tr>\n",
       "    <tr>\n",
       "      <th>8</th>\n",
       "      <td>2013-01-02</td>\n",
       "      <td>2016-07-12</td>\n",
       "      <td>2013-01-02</td>\n",
       "      <td>2013-01-02</td>\n",
       "      <td>2016-10-12</td>\n",
       "      <td>2013-01-02</td>\n",
       "      <td>2014-01-02</td>\n",
       "      <td>2013-01-02</td>\n",
       "      <td>2013-01-02</td>\n",
       "      <td>2013-01-02</td>\n",
       "      <td>2013-01-02</td>\n",
       "      <td>2013-01-02</td>\n",
       "      <td>2013-01-02</td>\n",
       "      <td>2013-01-02</td>\n",
       "      <td>2013-01-03</td>\n",
       "      <td>2014-01-02</td>\n",
       "      <td>2014-01-02</td>\n",
       "      <td>2013-02-27</td>\n",
       "      <td>2014-01-02</td>\n",
       "      <td>2014-01-02</td>\n",
       "      <td>2013-01-02</td>\n",
       "      <td>2013-01-02</td>\n",
       "      <td>2013-01-02</td>\n",
       "      <td>2014-01-02</td>\n",
       "      <td>2013-01-02</td>\n",
       "      <td>2013-01-02</td>\n",
       "      <td>2014-01-02</td>\n",
       "      <td>2014-01-02</td>\n",
       "      <td>2013-01-02</td>\n",
       "      <td>2013-01-02</td>\n",
       "      <td>2013-03-16</td>\n",
       "      <td>2014-07-01</td>\n",
       "      <td>2013-01-02</td>\n",
       "    </tr>\n",
       "    <tr>\n",
       "      <th>9</th>\n",
       "      <td>2013-01-02</td>\n",
       "      <td>2014-03-02</td>\n",
       "      <td>2013-01-02</td>\n",
       "      <td>2013-01-02</td>\n",
       "      <td>NaT</td>\n",
       "      <td>2013-01-02</td>\n",
       "      <td>2014-01-02</td>\n",
       "      <td>2013-01-02</td>\n",
       "      <td>2013-01-02</td>\n",
       "      <td>2013-01-02</td>\n",
       "      <td>2013-01-02</td>\n",
       "      <td>2013-01-02</td>\n",
       "      <td>2013-01-02</td>\n",
       "      <td>2013-01-02</td>\n",
       "      <td>2013-01-03</td>\n",
       "      <td>2014-01-02</td>\n",
       "      <td>2014-01-02</td>\n",
       "      <td>2013-01-12</td>\n",
       "      <td>2014-01-02</td>\n",
       "      <td>2014-01-02</td>\n",
       "      <td>2013-01-04</td>\n",
       "      <td>2013-01-02</td>\n",
       "      <td>2013-01-02</td>\n",
       "      <td>2014-01-24</td>\n",
       "      <td>2013-01-02</td>\n",
       "      <td>2013-01-02</td>\n",
       "      <td>2014-01-02</td>\n",
       "      <td>2014-01-02</td>\n",
       "      <td>2013-01-02</td>\n",
       "      <td>2013-01-02</td>\n",
       "      <td>2014-01-02</td>\n",
       "      <td>2014-01-02</td>\n",
       "      <td>2013-01-02</td>\n",
       "    </tr>\n",
       "  </tbody>\n",
       "</table>\n",
       "</div>"
      ],
      "text/plain": [
       "                   0                                                           \\\n",
       "family    AUTOMOTIVE  BABY CARE     BEAUTY  BEVERAGES      BOOKS BREAD/BAKERY   \n",
       "store_nbr                                                                       \n",
       "1         2013-01-02        NaT 2013-01-02 2013-01-02 2016-10-13   2013-01-02   \n",
       "10        2013-01-02 2014-07-01 2013-01-02 2013-01-02        NaT   2013-01-02   \n",
       "11        2013-01-02 2014-03-19 2013-01-02 2013-01-02        NaT   2013-01-02   \n",
       "12        2013-01-02 2016-02-10 2013-01-02 2013-01-02        NaT   2013-01-02   \n",
       "13        2013-01-02        NaT 2013-01-02 2013-01-02        NaT   2013-01-02   \n",
       "14        2013-01-02 2016-05-08 2013-01-02 2013-01-02        NaT   2013-01-02   \n",
       "15        2013-01-02 2014-07-01 2013-01-02 2013-01-02        NaT   2013-01-02   \n",
       "16        2013-01-02 2014-10-09 2013-01-03 2013-01-02        NaT   2013-01-02   \n",
       "17        2013-01-02 2015-09-08 2013-01-02 2013-01-02        NaT   2013-01-02   \n",
       "18        2013-01-02 2014-03-01 2013-01-02 2013-01-02        NaT   2013-01-02   \n",
       "19        2013-01-02 2015-07-23 2013-01-02 2013-01-02        NaT   2013-01-02   \n",
       "2         2013-01-02 2016-07-16 2013-01-02 2013-01-02 2016-10-13   2013-01-02   \n",
       "20        2015-02-13 2015-06-17 2015-02-13 2015-02-13        NaT   2015-02-13   \n",
       "21        2015-07-24 2015-12-06 2015-07-24 2015-07-24        NaT   2015-07-24   \n",
       "22        2015-10-09 2016-01-20 2015-10-09 2015-10-09        NaT   2015-10-09   \n",
       "23        2013-01-02        NaT 2013-01-03 2013-01-02 2016-10-12   2013-01-02   \n",
       "24        2013-01-02 2016-07-20 2013-01-05 2013-01-02 2016-10-12   2013-01-02   \n",
       "25        2013-01-03 2016-10-27 2013-01-01 2013-01-01 2016-10-27   2013-01-01   \n",
       "26        2013-01-02 2016-07-15 2013-01-02 2013-01-02 2016-10-30   2013-01-02   \n",
       "27        2013-01-02 2016-08-12 2013-01-02 2013-01-02 2016-10-14   2013-01-02   \n",
       "28        2013-01-02 2016-11-07 2013-01-02 2013-01-02        NaT   2013-01-02   \n",
       "29        2015-03-20 2015-06-03 2015-03-20 2015-03-20        NaT   2015-03-20   \n",
       "3         2013-01-02 2016-07-16 2013-01-02 2013-01-02 2016-10-12   2013-01-02   \n",
       "30        2013-01-02 2014-03-01 2013-01-02 2013-01-02        NaT   2013-01-02   \n",
       "31        2013-01-02 2014-07-12 2013-01-02 2013-01-02        NaT   2013-01-02   \n",
       "32        2013-01-02 2014-03-19 2013-01-02 2013-01-02        NaT   2013-01-02   \n",
       "33        2013-01-02 2015-12-16 2013-01-02 2013-01-02        NaT   2013-01-02   \n",
       "34        2013-01-02 2014-03-01 2013-01-02 2013-01-02        NaT   2013-01-02   \n",
       "35        2013-01-02 2014-09-03 2013-01-04 2013-01-02        NaT   2013-01-02   \n",
       "36        2013-05-09 2015-12-22 2013-05-09 2013-05-09        NaT   2013-05-09   \n",
       "37        2013-01-02 2016-12-10 2013-01-02 2013-01-02 2016-10-12   2013-01-02   \n",
       "38        2013-01-02 2016-07-15 2013-01-02 2013-01-02 2016-10-12   2013-01-02   \n",
       "39        2013-01-02 2014-03-01 2013-01-02 2013-01-02        NaT   2013-01-02   \n",
       "4         2013-01-02 2016-12-05 2013-01-02 2013-01-02 2016-10-11   2013-01-02   \n",
       "40        2013-01-02 2014-03-03 2013-01-02 2013-01-02        NaT   2013-01-02   \n",
       "41        2013-01-02 2016-08-31 2013-01-02 2013-01-02 2016-10-20   2013-01-02   \n",
       "42        2015-08-21 2016-08-14 2015-08-21 2015-08-21 2016-10-12   2015-08-21   \n",
       "43        2013-01-02 2014-07-29 2013-01-02 2013-01-02        NaT   2013-01-02   \n",
       "44        2013-01-02        NaT 2013-01-02 2013-01-02 2016-10-12   2013-01-02   \n",
       "45        2013-01-02        NaT 2013-01-02 2013-01-02 2016-10-08   2013-01-02   \n",
       "46        2013-01-02        NaT 2013-01-02 2013-01-02 2016-10-13   2013-01-02   \n",
       "47        2013-01-02        NaT 2013-01-02 2013-01-02 2016-10-12   2013-01-02   \n",
       "48        2013-01-02        NaT 2013-01-02 2013-01-02 2016-10-12   2013-01-02   \n",
       "49        2013-01-02        NaT 2013-01-02 2013-01-02 2016-10-12   2013-01-02   \n",
       "5         2013-01-02 2016-09-03 2013-01-02 2013-01-02 2016-10-12   2013-01-02   \n",
       "50        2013-01-02        NaT 2013-01-02 2013-01-02 2016-10-11   2013-01-02   \n",
       "51        2013-01-02        NaT 2013-01-02 2013-01-02 2016-10-12   2013-01-02   \n",
       "52        2017-04-20        NaT 2017-04-20 2017-04-20        NaT   2017-04-20   \n",
       "53        2014-05-29 2016-09-16 2014-05-29 2014-05-29 2016-10-12   2014-05-29   \n",
       "54        2013-01-02 2014-03-07 2013-01-05 2013-01-02        NaT   2013-01-02   \n",
       "6         2013-01-02 2017-07-10 2013-01-02 2013-01-02 2016-10-11   2013-01-02   \n",
       "7         2013-01-02 2016-10-25 2013-01-02 2013-01-02 2016-10-11   2013-01-02   \n",
       "8         2013-01-02 2016-07-12 2013-01-02 2013-01-02 2016-10-12   2013-01-02   \n",
       "9         2013-01-02 2014-03-02 2013-01-02 2013-01-02        NaT   2013-01-02   \n",
       "\n",
       "                                                                   \\\n",
       "family    CELEBRATION   CLEANING      DAIRY       DELI       EGGS   \n",
       "store_nbr                                                           \n",
       "1          2014-01-02 2013-01-02 2013-01-02 2013-01-02 2013-01-02   \n",
       "10         2014-01-02 2013-01-02 2013-01-02 2013-01-02 2013-01-02   \n",
       "11         2014-01-02 2013-01-02 2013-01-02 2013-01-02 2013-01-02   \n",
       "12         2014-01-02 2013-01-02 2013-01-02 2013-01-02 2013-01-02   \n",
       "13         2014-01-02 2013-01-02 2013-01-02 2013-01-02 2013-01-02   \n",
       "14         2014-01-02 2013-01-02 2013-01-02 2013-01-02 2013-01-02   \n",
       "15         2014-01-02 2013-01-02 2013-01-02 2013-01-02 2013-01-02   \n",
       "16         2014-01-02 2013-01-02 2013-01-02 2013-01-02 2013-01-02   \n",
       "17         2014-01-02 2013-01-02 2013-01-02 2013-01-02 2013-01-02   \n",
       "18         2014-01-02 2013-01-02 2013-01-02 2013-01-02 2013-01-02   \n",
       "19         2014-01-02 2013-01-02 2013-01-02 2013-01-02 2013-01-02   \n",
       "2          2014-01-02 2013-01-02 2013-01-02 2013-01-02 2013-01-02   \n",
       "20         2015-06-01 2015-02-13 2015-02-13 2015-02-13 2015-02-13   \n",
       "21         2015-07-24 2015-07-24 2015-07-24 2015-07-24 2015-07-24   \n",
       "22         2015-10-09 2015-10-09 2015-10-09 2015-10-09 2015-10-09   \n",
       "23         2014-01-02 2013-01-02 2013-01-02 2013-01-02 2013-01-02   \n",
       "24         2014-01-02 2013-01-02 2013-01-02 2013-01-02 2013-01-02   \n",
       "25         2014-01-01 2013-01-01 2013-01-01 2013-01-01 2013-01-01   \n",
       "26         2014-01-02 2013-01-02 2013-01-02 2013-01-02 2013-01-02   \n",
       "27         2014-01-02 2013-01-02 2013-01-02 2013-01-02 2013-01-02   \n",
       "28         2014-01-02 2013-01-02 2013-01-02 2013-01-02 2013-01-02   \n",
       "29         2015-06-01 2015-03-20 2015-03-20 2015-03-20 2015-03-20   \n",
       "3          2014-01-02 2013-01-02 2013-01-02 2013-01-02 2013-01-02   \n",
       "30         2014-01-02 2013-01-02 2013-01-02 2013-01-02 2013-01-02   \n",
       "31         2014-01-02 2013-01-02 2013-01-02 2013-01-02 2013-01-02   \n",
       "32         2014-01-03 2013-01-02 2013-01-02 2013-01-02 2013-01-02   \n",
       "33         2014-01-02 2013-01-02 2013-01-02 2013-01-02 2013-01-02   \n",
       "34         2014-01-02 2013-01-02 2013-01-02 2013-01-02 2013-01-02   \n",
       "35         2014-01-02 2013-01-02 2013-01-02 2013-01-02 2013-01-02   \n",
       "36         2014-01-01 2013-05-09 2013-05-09 2013-05-09 2013-05-09   \n",
       "37         2014-01-02 2013-01-02 2013-01-02 2013-01-02 2013-01-02   \n",
       "38         2014-01-02 2013-01-02 2013-01-02 2013-01-02 2013-01-02   \n",
       "39         2014-01-02 2013-01-02 2013-01-02 2013-01-02 2013-01-02   \n",
       "4          2014-01-02 2013-01-02 2013-01-02 2013-01-02 2013-01-02   \n",
       "40         2014-01-02 2013-01-02 2013-01-02 2013-01-02 2013-01-02   \n",
       "41         2014-01-02 2013-01-02 2013-01-02 2013-01-02 2013-01-02   \n",
       "42         2015-08-21 2015-08-21 2015-08-21 2015-08-21 2015-08-21   \n",
       "43         2014-01-02 2013-01-02 2013-01-02 2013-01-02 2013-01-02   \n",
       "44         2014-01-02 2013-01-02 2013-01-02 2013-01-02 2013-01-02   \n",
       "45         2014-01-02 2013-01-02 2013-01-02 2013-01-02 2013-01-02   \n",
       "46         2014-01-02 2013-01-02 2013-01-02 2013-01-02 2013-01-02   \n",
       "47         2014-01-02 2013-01-02 2013-01-02 2013-01-02 2013-01-02   \n",
       "48         2014-01-02 2013-01-02 2013-01-02 2013-01-02 2013-01-02   \n",
       "49         2014-01-02 2013-01-02 2013-01-02 2013-01-02 2013-01-02   \n",
       "5          2014-01-02 2013-01-02 2013-01-02 2013-01-02 2013-01-02   \n",
       "50         2014-01-02 2013-01-02 2013-01-02 2013-01-02 2013-01-02   \n",
       "51         2014-01-02 2013-01-02 2013-01-02 2013-01-02 2013-01-02   \n",
       "52         2017-04-20 2017-04-20 2017-04-20 2017-04-20 2017-04-20   \n",
       "53         2014-07-01 2014-05-29 2014-05-29 2014-05-29 2014-05-29   \n",
       "54         2014-01-02 2013-01-02 2013-01-02 2013-01-02 2013-01-02   \n",
       "6          2014-01-02 2013-01-02 2013-01-02 2013-01-02 2013-01-02   \n",
       "7          2014-01-02 2013-01-02 2013-01-02 2013-01-02 2013-01-02   \n",
       "8          2014-01-02 2013-01-02 2013-01-02 2013-01-02 2013-01-02   \n",
       "9          2014-01-02 2013-01-02 2013-01-02 2013-01-02 2013-01-02   \n",
       "\n",
       "                                                                            \\\n",
       "family    FROZEN FOODS  GROCERY I GROCERY II   HARDWARE HOME AND KITCHEN I   \n",
       "store_nbr                                                                    \n",
       "1           2013-01-02 2013-01-02 2013-01-02 2013-01-02         2014-01-02   \n",
       "10          2013-01-02 2013-01-02 2013-01-02 2013-01-02         2014-01-02   \n",
       "11          2013-01-02 2013-01-02 2013-01-02 2013-01-02         2014-01-02   \n",
       "12          2013-01-02 2013-01-02 2013-01-02 2013-01-03         2014-01-02   \n",
       "13          2013-01-02 2013-01-02 2013-01-02 2013-01-05         2014-01-02   \n",
       "14          2013-01-02 2013-01-02 2013-01-02 2013-01-08         2014-01-02   \n",
       "15          2013-01-02 2013-01-02 2013-01-02 2013-01-02         2014-01-02   \n",
       "16          2013-01-02 2013-01-02 2013-01-02 2013-01-03         2014-01-02   \n",
       "17          2013-01-02 2013-01-02 2013-01-02 2013-01-03         2014-01-02   \n",
       "18          2013-01-02 2013-01-02 2013-01-02 2013-01-06         2014-01-02   \n",
       "19          2013-01-02 2013-01-02 2013-01-02 2013-01-03         2014-01-02   \n",
       "2           2013-01-02 2013-01-02 2013-01-02 2013-01-03         2014-01-02   \n",
       "20          2015-02-13 2015-02-13 2015-02-13 2015-02-13         2015-02-13   \n",
       "21          2015-07-24 2015-07-24 2015-07-24 2015-07-24         2015-07-24   \n",
       "22          2015-10-09 2015-10-09 2015-10-09 2015-10-09         2015-10-09   \n",
       "23          2013-01-02 2013-01-02 2013-01-02 2016-05-09         2014-01-02   \n",
       "24          2013-01-02 2013-01-02 2013-01-02 2013-01-29         2014-01-02   \n",
       "25          2013-01-01 2013-01-01 2013-01-01 2013-06-22         2014-01-01   \n",
       "26          2013-01-02 2013-01-02 2013-01-02 2013-01-02         2014-01-02   \n",
       "27          2013-01-02 2013-01-02 2013-01-02 2013-01-02         2014-01-02   \n",
       "28          2013-01-02 2013-01-02 2013-01-02 2013-01-04         2014-01-02   \n",
       "29          2015-03-20 2015-03-20 2015-03-20 2015-03-20         2015-03-20   \n",
       "3           2013-01-02 2013-01-02 2013-01-02 2013-01-02         2014-01-02   \n",
       "30          2013-01-02 2013-01-02 2013-01-02 2013-01-02         2014-01-02   \n",
       "31          2013-01-02 2013-01-02 2013-01-02 2013-01-02         2014-01-02   \n",
       "32          2013-01-02 2013-01-02 2013-01-02 2013-01-02         2014-01-02   \n",
       "33          2013-01-02 2013-01-02 2013-01-02 2013-01-05         2014-01-02   \n",
       "34          2013-01-02 2013-01-02 2013-01-02 2013-01-02         2014-01-02   \n",
       "35          2013-01-02 2013-01-02 2013-01-02 2013-01-03         2014-01-02   \n",
       "36          2013-05-09 2013-05-09 2013-05-09 2013-05-09         2014-01-01   \n",
       "37          2013-01-02 2013-01-02 2013-01-02 2013-01-03         2014-01-02   \n",
       "38          2013-01-02 2013-01-02 2013-01-02 2013-01-02         2014-01-02   \n",
       "39          2013-01-02 2013-01-02 2013-01-02 2013-01-02         2014-01-02   \n",
       "4           2013-01-02 2013-01-02 2013-01-02 2013-01-04         2014-01-02   \n",
       "40          2013-01-02 2013-01-02 2013-01-02 2013-01-08         2014-01-02   \n",
       "41          2013-01-02 2013-01-02 2013-01-02 2013-01-02         2014-01-02   \n",
       "42          2015-08-21 2015-08-21 2015-08-21 2015-08-21         2015-08-21   \n",
       "43          2013-01-02 2013-01-02 2013-01-02 2013-01-04         2014-01-02   \n",
       "44          2013-01-02 2013-01-02 2013-01-02 2013-01-02         2014-01-02   \n",
       "45          2013-01-02 2013-01-02 2013-01-02 2013-01-03         2014-01-02   \n",
       "46          2013-01-02 2013-01-02 2013-01-02 2013-01-04         2014-01-02   \n",
       "47          2013-01-02 2013-01-02 2013-01-02 2013-01-02         2014-01-02   \n",
       "48          2013-01-02 2013-01-02 2013-01-02 2013-01-02         2014-01-02   \n",
       "49          2013-01-02 2013-01-02 2013-01-02 2013-01-02         2014-01-02   \n",
       "5           2013-01-02 2013-01-02 2013-01-02 2013-01-02         2014-01-02   \n",
       "50          2013-01-02 2013-01-02 2013-01-02 2013-01-03         2014-01-02   \n",
       "51          2013-01-02 2013-01-02 2013-01-02 2013-01-02         2014-01-02   \n",
       "52          2017-04-20 2017-04-20 2017-04-20 2017-04-20         2017-04-20   \n",
       "53          2014-05-29 2014-05-29 2014-05-29 2014-05-29         2014-07-01   \n",
       "54          2013-01-02 2013-01-02 2013-01-02 2013-01-03         2014-01-02   \n",
       "6           2013-01-02 2013-01-02 2013-01-02 2013-01-03         2014-01-02   \n",
       "7           2013-01-02 2013-01-02 2013-01-02 2013-01-05         2014-01-02   \n",
       "8           2013-01-02 2013-01-02 2013-01-02 2013-01-03         2014-01-02   \n",
       "9           2013-01-02 2013-01-02 2013-01-02 2013-01-03         2014-01-02   \n",
       "\n",
       "                                                                     \\\n",
       "family    HOME AND KITCHEN II HOME APPLIANCES  HOME CARE LADIESWEAR   \n",
       "store_nbr                                                             \n",
       "1                  2014-01-02      2013-01-03 2014-01-02 2014-01-02   \n",
       "10                 2014-01-02      2013-01-13 2014-01-02 2014-01-02   \n",
       "11                 2014-01-02      2013-02-26 2014-01-02 2014-01-02   \n",
       "12                 2014-01-02      2013-04-08 2014-01-02 2014-01-02   \n",
       "13                 2014-01-02      2013-02-28 2014-01-02 2014-01-02   \n",
       "14                 2014-01-02      2013-03-09 2014-01-02 2014-01-02   \n",
       "15                 2014-01-02      2013-01-03 2014-01-02 2014-01-02   \n",
       "16                 2014-01-02      2013-01-13 2014-01-02        NaT   \n",
       "17                 2014-01-02      2013-01-05 2014-01-02 2014-01-04   \n",
       "18                 2014-01-02      2013-01-04 2014-01-02 2014-01-02   \n",
       "19                 2014-01-02      2013-02-24 2014-01-02 2014-01-02   \n",
       "2                  2014-01-02      2013-03-06 2014-01-02 2014-01-02   \n",
       "20                 2015-02-13      2015-02-13 2015-05-04 2015-06-01   \n",
       "21                 2015-07-24      2015-09-05 2015-07-24 2015-07-24   \n",
       "22                 2015-10-09      2015-10-09 2015-10-09 2017-04-20   \n",
       "23                 2014-01-03      2013-01-03 2014-01-02 2014-01-04   \n",
       "24                 2014-01-02      2013-05-03 2014-01-02 2014-01-02   \n",
       "25                 2014-01-01      2014-05-12 2014-01-01        NaT   \n",
       "26                 2014-01-02      2013-05-17 2014-01-02 2014-01-02   \n",
       "27                 2014-01-02      2013-01-03 2014-01-02 2014-01-04   \n",
       "28                 2014-01-02      2013-03-05 2014-01-02        NaT   \n",
       "29                 2015-03-20      2015-03-20 2015-05-04        NaT   \n",
       "3                  2014-01-02      2013-02-27 2014-01-02 2014-01-02   \n",
       "30                 2014-01-02      2013-01-06 2014-01-02 2014-01-07   \n",
       "31                 2014-01-03      2013-01-02 2014-01-02 2014-01-02   \n",
       "32                 2014-01-02      2013-01-02 2014-01-02        NaT   \n",
       "33                 2014-01-02      2013-01-04 2014-01-02        NaT   \n",
       "34                 2014-01-02      2013-01-02 2014-01-02 2014-01-02   \n",
       "35                 2014-01-02      2013-03-03 2014-01-02        NaT   \n",
       "36                 2014-01-01      2013-05-11 2014-01-01 2014-03-02   \n",
       "37                 2014-01-02      2013-01-07 2014-01-02 2014-01-02   \n",
       "38                 2014-01-02      2014-01-25 2014-01-02 2014-01-02   \n",
       "39                 2014-01-02      2013-01-02 2014-01-02 2014-01-02   \n",
       "4                  2014-01-02      2013-03-04 2014-01-02 2014-01-02   \n",
       "40                 2014-01-02      2013-01-13 2014-01-02        NaT   \n",
       "41                 2014-01-02      2013-03-04 2014-01-02 2014-01-02   \n",
       "42                 2015-08-21      2015-08-23 2015-08-21 2015-08-21   \n",
       "43                 2014-01-02      2013-02-26 2014-01-02        NaT   \n",
       "44                 2014-01-02      2013-02-24 2014-01-02 2014-01-02   \n",
       "45                 2014-01-02      2013-01-02 2014-01-02 2014-01-02   \n",
       "46                 2014-01-02      2013-01-02 2014-01-02 2014-01-02   \n",
       "47                 2014-01-02      2013-02-25 2014-01-02 2014-01-02   \n",
       "48                 2014-01-02      2013-02-24 2014-01-02 2014-01-02   \n",
       "49                 2014-01-02      2013-02-27 2014-01-02 2014-01-02   \n",
       "5                  2014-01-02      2013-01-02 2014-01-02 2014-01-02   \n",
       "50                 2014-01-02      2013-02-27 2014-01-02 2014-01-02   \n",
       "51                 2014-01-02      2013-02-25 2014-01-02 2014-01-02   \n",
       "52                 2017-04-20      2017-04-20 2017-04-20 2017-04-20   \n",
       "53                 2014-07-01      2014-05-29 2014-07-01 2014-07-01   \n",
       "54                 2014-01-02      2013-01-02 2014-01-02        NaT   \n",
       "6                  2014-01-02      2013-03-04 2014-01-02 2014-01-02   \n",
       "7                  2014-01-02      2013-01-02 2014-01-02 2014-01-02   \n",
       "8                  2014-01-02      2013-02-27 2014-01-02 2014-01-02   \n",
       "9                  2014-01-02      2013-01-12 2014-01-02 2014-01-02   \n",
       "\n",
       "                                                                             \\\n",
       "family    LAWN AND GARDEN   LINGERIE LIQUOR,WINE,BEER  MAGAZINES      MEATS   \n",
       "store_nbr                                                                     \n",
       "1              2013-01-02 2013-01-02       2013-01-02 2014-01-02 2013-01-02   \n",
       "10             2014-10-29 2013-01-02       2013-01-02 2014-01-26 2013-01-02   \n",
       "11             2013-01-05 2013-01-02       2013-01-02 2014-01-11 2013-01-02   \n",
       "12             2014-05-09 2013-01-02       2013-01-02 2014-01-23 2013-01-02   \n",
       "13             2014-05-10 2013-01-02       2013-01-02 2014-01-07 2013-01-02   \n",
       "14                    NaT 2013-01-02       2013-01-02 2014-01-25 2013-01-02   \n",
       "15             2014-05-10 2013-01-02       2013-01-02 2014-01-24 2013-01-02   \n",
       "16             2014-10-29 2013-01-02       2013-01-02 2014-01-16 2013-01-02   \n",
       "17             2014-05-08 2013-01-02       2013-01-02 2014-01-27 2013-01-02   \n",
       "18             2013-01-08 2013-01-02       2013-01-02 2014-01-25 2013-01-02   \n",
       "19             2014-10-30 2013-01-02       2013-01-02 2014-01-02 2013-01-02   \n",
       "2              2013-01-02 2013-01-02       2013-01-02 2014-01-04 2013-01-02   \n",
       "20             2015-02-13 2015-02-13       2015-02-13 2015-04-10 2015-02-13   \n",
       "21             2015-07-24 2015-07-24       2015-07-24 2015-07-24 2015-07-24   \n",
       "22             2015-10-27 2015-10-09       2015-10-09 2015-10-09 2015-10-09   \n",
       "23             2013-02-22 2013-01-02       2013-01-02 2014-01-02 2013-01-02   \n",
       "24             2013-01-02 2013-01-02       2013-01-02 2014-01-02 2013-01-02   \n",
       "25             2013-01-01 2013-01-01       2013-01-01 2014-01-01 2013-01-01   \n",
       "26             2013-01-06 2013-01-02       2013-01-02 2014-01-03 2013-01-02   \n",
       "27             2013-01-02 2013-01-02       2013-01-02 2014-01-04 2013-01-02   \n",
       "28             2013-01-05 2013-01-02       2013-01-02 2014-01-31 2013-01-02   \n",
       "29             2015-03-28 2015-03-20       2015-03-20 2015-04-15 2015-03-20   \n",
       "3              2013-01-02 2013-01-02       2013-01-02 2014-01-04 2013-01-02   \n",
       "30                    NaT 2013-01-02       2013-01-02 2014-01-03 2013-01-02   \n",
       "31             2013-01-02 2013-01-02       2013-01-02 2014-01-24 2013-01-02   \n",
       "32             2015-12-16 2013-01-02       2013-01-02 2014-01-25 2013-01-02   \n",
       "33             2014-10-29 2013-01-02       2013-01-02 2014-01-04 2013-01-02   \n",
       "34             2013-01-12 2013-01-02       2013-01-02 2014-01-24 2013-01-02   \n",
       "35             2014-05-08 2013-01-02       2013-01-02 2014-01-31 2013-01-02   \n",
       "36             2013-05-13 2013-05-09       2013-05-09 2014-01-27 2013-05-09   \n",
       "37             2013-01-02 2013-01-02       2013-01-02 2014-01-02 2013-01-02   \n",
       "38             2013-01-02 2013-01-02       2013-01-02 2014-01-04 2013-01-02   \n",
       "39             2013-01-02 2013-01-02       2013-01-02 2014-01-23 2013-01-02   \n",
       "4              2013-01-02 2013-01-02       2013-01-02 2014-01-03 2013-01-02   \n",
       "40             2014-02-13 2013-01-04       2013-01-02 2014-01-08 2013-01-02   \n",
       "41             2013-01-02 2013-01-02       2013-01-02 2014-01-02 2013-01-02   \n",
       "42             2015-08-21 2015-08-21       2015-08-21 2015-08-21 2015-08-21   \n",
       "43             2014-02-13 2013-01-02       2013-01-02 2014-01-24 2013-01-02   \n",
       "44             2013-01-02 2013-01-02       2013-01-02 2014-01-02 2013-01-02   \n",
       "45             2013-01-02 2013-01-02       2013-01-02 2014-01-03 2013-01-02   \n",
       "46             2013-01-02 2013-01-02       2013-01-02 2014-01-03 2013-01-02   \n",
       "47             2013-01-02 2013-01-02       2013-01-02 2014-01-03 2013-01-02   \n",
       "48             2013-01-02 2013-01-02       2013-01-02 2014-01-02 2013-01-02   \n",
       "49             2013-01-04 2013-01-02       2013-01-02 2014-01-02 2013-01-02   \n",
       "5              2013-01-04 2013-01-02       2013-01-02 2014-01-02 2013-01-02   \n",
       "50             2013-01-03 2013-01-02       2013-01-02 2014-01-02 2013-01-02   \n",
       "51             2013-01-02 2013-01-02       2013-01-02 2014-01-02 2013-01-02   \n",
       "52             2017-04-20 2017-04-20       2017-04-20 2017-04-20 2017-04-20   \n",
       "53             2014-05-29 2014-05-29       2014-05-29 2014-07-01 2014-05-29   \n",
       "54                    NaT 2013-01-03       2013-01-02 2014-01-23 2013-01-02   \n",
       "6              2013-01-02 2013-01-02       2013-01-02 2014-01-02 2013-01-02   \n",
       "7              2013-01-02 2013-01-02       2013-01-02 2014-01-02 2013-01-02   \n",
       "8              2013-01-02 2013-01-02       2013-01-02 2014-01-02 2013-01-02   \n",
       "9              2013-01-04 2013-01-02       2013-01-02 2014-01-24 2013-01-02   \n",
       "\n",
       "                                                                         \\\n",
       "family    PERSONAL CARE PET SUPPLIES PLAYERS AND ELECTRONICS    POULTRY   \n",
       "store_nbr                                                                 \n",
       "1            2013-01-02   2014-01-02              2014-01-02 2013-01-02   \n",
       "10           2013-01-02   2014-01-06              2014-01-02 2013-01-02   \n",
       "11           2013-01-02   2014-01-02              2014-01-02 2013-01-02   \n",
       "12           2013-01-02   2014-01-02              2014-01-03 2013-01-02   \n",
       "13           2013-01-02   2014-01-07              2014-01-02 2013-01-02   \n",
       "14           2013-01-02   2014-01-02              2014-01-02 2013-01-02   \n",
       "15           2013-01-02   2014-01-12              2014-01-02 2013-01-03   \n",
       "16           2013-01-02   2014-01-26              2014-01-02 2013-01-02   \n",
       "17           2013-01-02   2014-01-02              2014-01-02 2013-01-02   \n",
       "18           2013-01-02   2014-01-02              2014-01-02 2013-01-02   \n",
       "19           2013-01-02   2014-01-03              2014-01-02 2013-01-02   \n",
       "2            2013-01-02   2014-01-02              2014-01-02 2013-01-02   \n",
       "20           2015-02-13   2015-06-02              2015-06-02 2015-02-13   \n",
       "21           2015-07-24   2015-07-24              2015-07-24 2015-07-24   \n",
       "22           2015-10-09   2015-10-09              2015-10-09 2015-10-09   \n",
       "23           2013-01-02   2014-01-03              2014-01-02 2013-01-02   \n",
       "24           2013-01-02   2014-01-02              2014-01-02 2013-01-02   \n",
       "25           2013-01-01   2014-01-01              2014-01-01 2013-01-01   \n",
       "26           2013-01-02   2014-01-03              2014-01-02 2013-01-02   \n",
       "27           2013-01-02   2014-01-02              2014-01-04 2013-01-02   \n",
       "28           2013-01-02   2014-01-02              2014-01-02 2013-01-02   \n",
       "29           2015-03-20   2015-06-01              2015-06-01 2015-03-20   \n",
       "3            2013-01-02   2014-01-02              2014-01-02 2013-01-02   \n",
       "30           2013-01-02   2014-01-03              2014-01-02 2013-01-02   \n",
       "31           2013-01-02   2014-01-02              2014-01-02 2013-01-02   \n",
       "32           2013-01-02   2014-01-21              2014-01-03 2013-01-02   \n",
       "33           2013-01-02   2014-01-12              2014-01-02 2013-01-02   \n",
       "34           2013-01-02   2014-01-02              2014-01-02 2013-01-03   \n",
       "35           2013-01-02   2014-01-26              2014-01-03 2013-01-02   \n",
       "36           2013-05-09   2014-01-02              2014-01-02 2013-05-09   \n",
       "37           2013-01-02   2014-01-02              2014-01-02 2013-01-02   \n",
       "38           2013-01-02   2014-01-02              2014-01-02 2013-01-02   \n",
       "39           2013-01-02   2014-01-02              2014-01-02 2013-01-02   \n",
       "4            2013-01-02   2014-01-02              2014-01-02 2013-01-02   \n",
       "40           2013-01-02   2014-01-02              2014-01-02 2013-01-02   \n",
       "41           2013-01-02   2014-01-02              2014-01-03 2013-01-02   \n",
       "42           2015-08-21   2015-08-21              2015-08-21 2015-08-21   \n",
       "43           2013-01-02   2014-01-27              2014-01-02 2013-01-02   \n",
       "44           2013-01-02   2014-01-02              2014-01-02 2013-01-02   \n",
       "45           2013-01-02   2014-01-02              2014-01-02 2013-01-02   \n",
       "46           2013-01-02   2014-01-02              2014-01-02 2013-01-02   \n",
       "47           2013-01-02   2014-01-02              2014-01-02 2013-01-02   \n",
       "48           2013-01-02   2014-01-02              2014-01-02 2013-01-02   \n",
       "49           2013-01-02   2014-01-02              2014-01-02 2013-01-02   \n",
       "5            2013-01-02   2014-01-02              2014-01-02 2013-01-02   \n",
       "50           2013-01-02   2014-01-02              2014-01-02 2013-01-02   \n",
       "51           2013-01-02   2014-01-02              2014-01-02 2013-01-02   \n",
       "52           2017-04-20   2017-04-20              2017-04-20 2017-04-20   \n",
       "53           2014-05-29   2014-07-01              2014-07-01 2014-05-29   \n",
       "54           2013-01-02   2014-01-06              2014-01-02 2013-01-02   \n",
       "6            2013-01-02   2014-01-02              2014-01-02 2013-01-02   \n",
       "7            2013-01-02   2014-01-02              2014-01-02 2013-01-02   \n",
       "8            2013-01-02   2014-01-02              2014-01-02 2013-01-02   \n",
       "9            2013-01-02   2014-01-02              2014-01-02 2013-01-02   \n",
       "\n",
       "                                                                           \n",
       "family    PREPARED FOODS    PRODUCE SCHOOL AND OFFICE SUPPLIES    SEAFOOD  \n",
       "store_nbr                                                                  \n",
       "1             2013-01-02 2013-03-16                 2014-07-03 2013-01-02  \n",
       "10            2013-01-02 2014-01-02                 2014-07-08 2013-01-02  \n",
       "11            2013-01-02 2014-01-02                 2014-01-08 2013-01-02  \n",
       "12            2013-01-02 2014-01-02                 2014-07-06 2013-01-02  \n",
       "13            2013-01-02 2014-01-02                 2014-07-01 2013-01-02  \n",
       "14            2013-01-02 2014-01-02                 2014-07-05 2013-01-02  \n",
       "15            2013-01-02 2014-01-02                 2014-07-04 2013-01-02  \n",
       "16            2013-01-02 2014-01-02                 2015-07-27 2013-01-02  \n",
       "17            2013-01-02 2014-01-02                 2014-07-03 2013-01-02  \n",
       "18            2013-01-02 2014-01-02                 2014-01-11 2013-01-02  \n",
       "19            2013-01-02 2014-01-02                 2014-09-01 2013-01-02  \n",
       "2             2013-01-02 2013-03-16                 2014-07-05 2013-01-02  \n",
       "20            2015-02-13 2015-06-01                 2015-06-04 2015-02-13  \n",
       "21            2015-07-24 2015-07-24                 2015-07-24 2015-07-24  \n",
       "22            2015-10-09 2015-10-09                 2015-11-22 2015-10-09  \n",
       "23            2013-01-02 2013-03-16                 2014-07-08 2013-01-02  \n",
       "24            2013-01-02 2013-03-16                 2014-07-24 2013-01-02  \n",
       "25            2013-01-01 2013-03-16                 2014-07-01 2013-01-03  \n",
       "26            2013-01-02 2013-03-16                 2015-06-02 2013-01-02  \n",
       "27            2013-01-02 2013-03-16                 2015-06-06 2013-01-02  \n",
       "28            2013-01-02 2014-01-02                 2014-01-02 2013-01-02  \n",
       "29            2015-03-20 2015-06-01                 2015-06-01 2015-03-20  \n",
       "3             2013-01-02 2013-03-16                 2014-07-03 2013-01-02  \n",
       "30            2013-01-02 2014-01-02                 2014-07-03 2013-01-02  \n",
       "31            2013-01-02 2014-01-02                 2014-01-04 2013-01-02  \n",
       "32            2013-01-02 2014-01-02                 2016-04-12 2013-01-02  \n",
       "33            2013-01-02 2014-01-02                 2015-12-18 2013-01-02  \n",
       "34            2013-01-02 2014-01-02                 2014-01-02 2013-01-03  \n",
       "35            2013-01-02 2014-01-02                 2015-12-04 2013-01-03  \n",
       "36            2013-05-09 2014-01-01                 2014-01-02 2013-05-09  \n",
       "37            2013-01-02 2013-03-16                 2014-07-03 2013-01-02  \n",
       "38            2013-01-02 2013-03-16                 2014-07-02 2013-01-02  \n",
       "39            2013-01-02 2014-01-02                 2014-01-03 2013-01-02  \n",
       "4             2013-01-02 2013-03-16                 2014-07-01 2013-01-02  \n",
       "40            2013-01-02 2014-01-02                 2014-07-01 2013-01-02  \n",
       "41            2013-01-02 2013-03-16                 2014-07-01 2013-01-02  \n",
       "42            2015-08-21 2015-08-21                 2015-10-01 2015-08-21  \n",
       "43            2013-01-02 2014-01-02                 2015-10-29 2013-01-08  \n",
       "44            2013-01-02 2013-03-16                 2014-01-02 2013-01-02  \n",
       "45            2013-01-02 2013-03-16                 2014-01-02 2013-01-02  \n",
       "46            2013-01-02 2013-03-16                 2014-01-02 2013-01-02  \n",
       "47            2013-01-02 2013-03-16                 2014-01-02 2013-01-02  \n",
       "48            2013-01-02 2013-03-16                 2014-01-02 2013-01-02  \n",
       "49            2013-01-02 2013-03-16                 2014-01-02 2013-01-02  \n",
       "5             2013-01-02 2013-03-16                 2014-07-01 2013-01-02  \n",
       "50            2013-01-02 2013-03-16                 2014-01-02 2013-01-02  \n",
       "51            2013-01-02 2013-03-16                 2014-01-02 2013-01-02  \n",
       "52            2017-04-20 2017-04-20                 2017-04-20 2017-04-20  \n",
       "53            2014-05-29 2014-05-29                 2014-07-05 2014-05-29  \n",
       "54            2013-01-02 2014-01-02                 2014-07-02 2013-01-02  \n",
       "6             2013-01-02 2013-03-16                 2014-12-21 2013-01-02  \n",
       "7             2013-01-02 2013-03-16                 2014-07-08 2013-01-02  \n",
       "8             2013-01-02 2013-03-16                 2014-07-01 2013-01-02  \n",
       "9             2013-01-02 2014-01-02                 2014-01-02 2013-01-02  "
      ]
     },
     "execution_count": 515,
     "metadata": {},
     "output_type": "execute_result"
    }
   ],
   "source": [
    "pd.set_option('max_colwidth', 100)\n",
    "pd.set_option('display.max_columns', 100)\n",
    "\n",
    "\n",
    "train_extended.groupby([\"store_nbr\", \"family\"]).apply(first_sale_by_shop).to_frame().reset_index(1).pivot(columns=\"family\")"
   ]
  },
  {
   "cell_type": "markdown",
   "metadata": {},
   "source": [
    "* BOOKS are not sold at many stores, no values for that feature in those cases."
   ]
  },
  {
   "cell_type": "markdown",
   "metadata": {},
   "source": [
    "## Sales over Time"
   ]
  },
  {
   "cell_type": "markdown",
   "metadata": {},
   "source": [
    "### Overall"
   ]
  },
  {
   "cell_type": "code",
   "execution_count": 379,
   "metadata": {},
   "outputs": [],
   "source": [
    "sales_by_year = train_extended.groupby(pd.Grouper(key=\"date\", freq='Y')).sum()['sales'].to_frame(\"counts\").reset_index()\n",
    "sales_by_month = train_extended.groupby(pd.Grouper(key=\"date\", freq='M')).sum()['sales'].to_frame(\"counts\").reset_index()\n",
    "sales_by_day = train_extended.groupby(pd.Grouper(key=\"date\", freq='D')).sum()['sales'].to_frame(\"counts\").reset_index()"
   ]
  },
  {
   "cell_type": "code",
   "execution_count": 381,
   "metadata": {},
   "outputs": [
    {
     "data": {
      "application/vnd.plotly.v1+json": {
       "config": {
        "plotlyServerURL": "https://plot.ly"
       },
       "data": [
        {
         "hovertemplate": "date=%{x}<br>counts=%{y}<extra></extra>",
         "legendgroup": "",
         "line": {
          "color": "#636efa",
          "dash": "solid"
         },
         "marker": {
          "symbol": "circle"
         },
         "mode": "lines",
         "name": "",
         "orientation": "v",
         "showlegend": false,
         "type": "scatter",
         "x": [
          "2013-12-31T00:00:00",
          "2014-12-31T00:00:00",
          "2015-12-31T00:00:00",
          "2016-12-31T00:00:00",
          "2017-12-31T00:00:00"
         ],
         "xaxis": "x",
         "y": [
          140419013.9196172,
          209474246.3015439,
          240880100.6547402,
          288654522.9538961,
          194217068.3732711
         ],
         "yaxis": "y"
        },
        {
         "hovertemplate": "date=%{x}<br>counts=%{y}<extra></extra>",
         "legendgroup": "",
         "line": {
          "color": "#636efa",
          "dash": "solid"
         },
         "marker": {
          "symbol": "circle"
         },
         "mode": "lines",
         "name": "",
         "orientation": "v",
         "showlegend": false,
         "type": "scatter",
         "x": [
          "2013-01-31T00:00:00",
          "2013-02-28T00:00:00",
          "2013-03-31T00:00:00",
          "2013-04-30T00:00:00",
          "2013-05-31T00:00:00",
          "2013-06-30T00:00:00",
          "2013-07-31T00:00:00",
          "2013-08-31T00:00:00",
          "2013-09-30T00:00:00",
          "2013-10-31T00:00:00",
          "2013-11-30T00:00:00",
          "2013-12-31T00:00:00",
          "2014-01-31T00:00:00",
          "2014-02-28T00:00:00",
          "2014-03-31T00:00:00",
          "2014-04-30T00:00:00",
          "2014-05-31T00:00:00",
          "2014-06-30T00:00:00",
          "2014-07-31T00:00:00",
          "2014-08-31T00:00:00",
          "2014-09-30T00:00:00",
          "2014-10-31T00:00:00",
          "2014-11-30T00:00:00",
          "2014-12-31T00:00:00",
          "2015-01-31T00:00:00",
          "2015-02-28T00:00:00",
          "2015-03-31T00:00:00",
          "2015-04-30T00:00:00",
          "2015-05-31T00:00:00",
          "2015-06-30T00:00:00",
          "2015-07-31T00:00:00",
          "2015-08-31T00:00:00",
          "2015-09-30T00:00:00",
          "2015-10-31T00:00:00",
          "2015-11-30T00:00:00",
          "2015-12-31T00:00:00",
          "2016-01-31T00:00:00",
          "2016-02-29T00:00:00",
          "2016-03-31T00:00:00",
          "2016-04-30T00:00:00",
          "2016-05-31T00:00:00",
          "2016-06-30T00:00:00",
          "2016-07-31T00:00:00",
          "2016-08-31T00:00:00",
          "2016-09-30T00:00:00",
          "2016-10-31T00:00:00",
          "2016-11-30T00:00:00",
          "2016-12-31T00:00:00",
          "2017-01-31T00:00:00",
          "2017-02-28T00:00:00",
          "2017-03-31T00:00:00",
          "2017-04-30T00:00:00",
          "2017-05-31T00:00:00",
          "2017-06-30T00:00:00",
          "2017-07-31T00:00:00",
          "2017-08-31T00:00:00"
         ],
         "xaxis": "x3",
         "y": [
          10327624.7369095,
          9658959.7774368,
          11428497.0374875,
          10993464.7380118,
          11597704.0070268,
          11689344.0622436,
          11257400.6076808,
          11737788.9194727,
          11792933.2318679,
          11775620.3605191,
          12356559.2929861,
          15803117.1479746,
          18911640.7014034,
          12038352.6339783,
          20365584.016477,
          12861251.0571494,
          13379785.2611975,
          13319958.1730016,
          19421891.0438224,
          13885176.4190542,
          20022416.1138096,
          20396101.3141771,
          20531635.2036432,
          24340454.3638302,
          14896922.0571985,
          13742395.8483812,
          15598607.5183553,
          14955068.1707755,
          17730368.244309,
          21615360.3512421,
          22209619.0387389,
          22963674.2412815,
          23240882.4779112,
          23878267.6645621,
          22804953.3682112,
          27243981.6737737,
          23977804.8854341,
          21947408.8010028,
          23131780.8838199,
          25963025.1019622,
          24779432.2602277,
          22209218.5803836,
          23462672.4331036,
          22452414.3178949,
          22417448.0969967,
          24030389.816292,
          24642640.1973935,
          29640287.5793851,
          26328159.9357051,
          23250112.3749368,
          26704017.6908793,
          25895308.4895551,
          26911847.250593,
          25682822.1249936,
          27011477.5658307,
          12433322.9407775
         ],
         "yaxis": "y3"
        },
        {
         "hovertemplate": "date=%{x}<br>counts=%{y}<extra></extra>",
         "legendgroup": "",
         "line": {
          "color": "#636efa",
          "dash": "solid"
         },
         "marker": {
          "symbol": "circle"
         },
         "mode": "lines",
         "name": "",
         "showlegend": false,
         "type": "scattergl",
         "x": [
          "2013-01-01T00:00:00",
          "2013-01-02T00:00:00",
          "2013-01-03T00:00:00",
          "2013-01-04T00:00:00",
          "2013-01-05T00:00:00",
          "2013-01-06T00:00:00",
          "2013-01-07T00:00:00",
          "2013-01-08T00:00:00",
          "2013-01-09T00:00:00",
          "2013-01-10T00:00:00",
          "2013-01-11T00:00:00",
          "2013-01-12T00:00:00",
          "2013-01-13T00:00:00",
          "2013-01-14T00:00:00",
          "2013-01-15T00:00:00",
          "2013-01-16T00:00:00",
          "2013-01-17T00:00:00",
          "2013-01-18T00:00:00",
          "2013-01-19T00:00:00",
          "2013-01-20T00:00:00",
          "2013-01-21T00:00:00",
          "2013-01-22T00:00:00",
          "2013-01-23T00:00:00",
          "2013-01-24T00:00:00",
          "2013-01-25T00:00:00",
          "2013-01-26T00:00:00",
          "2013-01-27T00:00:00",
          "2013-01-28T00:00:00",
          "2013-01-29T00:00:00",
          "2013-01-30T00:00:00",
          "2013-01-31T00:00:00",
          "2013-02-01T00:00:00",
          "2013-02-02T00:00:00",
          "2013-02-03T00:00:00",
          "2013-02-04T00:00:00",
          "2013-02-05T00:00:00",
          "2013-02-06T00:00:00",
          "2013-02-07T00:00:00",
          "2013-02-08T00:00:00",
          "2013-02-09T00:00:00",
          "2013-02-10T00:00:00",
          "2013-02-11T00:00:00",
          "2013-02-12T00:00:00",
          "2013-02-13T00:00:00",
          "2013-02-14T00:00:00",
          "2013-02-15T00:00:00",
          "2013-02-16T00:00:00",
          "2013-02-17T00:00:00",
          "2013-02-18T00:00:00",
          "2013-02-19T00:00:00",
          "2013-02-20T00:00:00",
          "2013-02-21T00:00:00",
          "2013-02-22T00:00:00",
          "2013-02-23T00:00:00",
          "2013-02-24T00:00:00",
          "2013-02-25T00:00:00",
          "2013-02-26T00:00:00",
          "2013-02-27T00:00:00",
          "2013-02-28T00:00:00",
          "2013-03-01T00:00:00",
          "2013-03-02T00:00:00",
          "2013-03-03T00:00:00",
          "2013-03-04T00:00:00",
          "2013-03-05T00:00:00",
          "2013-03-06T00:00:00",
          "2013-03-07T00:00:00",
          "2013-03-08T00:00:00",
          "2013-03-09T00:00:00",
          "2013-03-10T00:00:00",
          "2013-03-11T00:00:00",
          "2013-03-12T00:00:00",
          "2013-03-13T00:00:00",
          "2013-03-14T00:00:00",
          "2013-03-15T00:00:00",
          "2013-03-16T00:00:00",
          "2013-03-17T00:00:00",
          "2013-03-18T00:00:00",
          "2013-03-19T00:00:00",
          "2013-03-20T00:00:00",
          "2013-03-21T00:00:00",
          "2013-03-22T00:00:00",
          "2013-03-23T00:00:00",
          "2013-03-24T00:00:00",
          "2013-03-25T00:00:00",
          "2013-03-26T00:00:00",
          "2013-03-27T00:00:00",
          "2013-03-28T00:00:00",
          "2013-03-29T00:00:00",
          "2013-03-30T00:00:00",
          "2013-03-31T00:00:00",
          "2013-04-01T00:00:00",
          "2013-04-02T00:00:00",
          "2013-04-03T00:00:00",
          "2013-04-04T00:00:00",
          "2013-04-05T00:00:00",
          "2013-04-06T00:00:00",
          "2013-04-07T00:00:00",
          "2013-04-08T00:00:00",
          "2013-04-09T00:00:00",
          "2013-04-10T00:00:00",
          "2013-04-11T00:00:00",
          "2013-04-12T00:00:00",
          "2013-04-13T00:00:00",
          "2013-04-14T00:00:00",
          "2013-04-15T00:00:00",
          "2013-04-16T00:00:00",
          "2013-04-17T00:00:00",
          "2013-04-18T00:00:00",
          "2013-04-19T00:00:00",
          "2013-04-20T00:00:00",
          "2013-04-21T00:00:00",
          "2013-04-22T00:00:00",
          "2013-04-23T00:00:00",
          "2013-04-24T00:00:00",
          "2013-04-25T00:00:00",
          "2013-04-26T00:00:00",
          "2013-04-27T00:00:00",
          "2013-04-28T00:00:00",
          "2013-04-29T00:00:00",
          "2013-04-30T00:00:00",
          "2013-05-01T00:00:00",
          "2013-05-02T00:00:00",
          "2013-05-03T00:00:00",
          "2013-05-04T00:00:00",
          "2013-05-05T00:00:00",
          "2013-05-06T00:00:00",
          "2013-05-07T00:00:00",
          "2013-05-08T00:00:00",
          "2013-05-09T00:00:00",
          "2013-05-10T00:00:00",
          "2013-05-11T00:00:00",
          "2013-05-12T00:00:00",
          "2013-05-13T00:00:00",
          "2013-05-14T00:00:00",
          "2013-05-15T00:00:00",
          "2013-05-16T00:00:00",
          "2013-05-17T00:00:00",
          "2013-05-18T00:00:00",
          "2013-05-19T00:00:00",
          "2013-05-20T00:00:00",
          "2013-05-21T00:00:00",
          "2013-05-22T00:00:00",
          "2013-05-23T00:00:00",
          "2013-05-24T00:00:00",
          "2013-05-25T00:00:00",
          "2013-05-26T00:00:00",
          "2013-05-27T00:00:00",
          "2013-05-28T00:00:00",
          "2013-05-29T00:00:00",
          "2013-05-30T00:00:00",
          "2013-05-31T00:00:00",
          "2013-06-01T00:00:00",
          "2013-06-02T00:00:00",
          "2013-06-03T00:00:00",
          "2013-06-04T00:00:00",
          "2013-06-05T00:00:00",
          "2013-06-06T00:00:00",
          "2013-06-07T00:00:00",
          "2013-06-08T00:00:00",
          "2013-06-09T00:00:00",
          "2013-06-10T00:00:00",
          "2013-06-11T00:00:00",
          "2013-06-12T00:00:00",
          "2013-06-13T00:00:00",
          "2013-06-14T00:00:00",
          "2013-06-15T00:00:00",
          "2013-06-16T00:00:00",
          "2013-06-17T00:00:00",
          "2013-06-18T00:00:00",
          "2013-06-19T00:00:00",
          "2013-06-20T00:00:00",
          "2013-06-21T00:00:00",
          "2013-06-22T00:00:00",
          "2013-06-23T00:00:00",
          "2013-06-24T00:00:00",
          "2013-06-25T00:00:00",
          "2013-06-26T00:00:00",
          "2013-06-27T00:00:00",
          "2013-06-28T00:00:00",
          "2013-06-29T00:00:00",
          "2013-06-30T00:00:00",
          "2013-07-01T00:00:00",
          "2013-07-02T00:00:00",
          "2013-07-03T00:00:00",
          "2013-07-04T00:00:00",
          "2013-07-05T00:00:00",
          "2013-07-06T00:00:00",
          "2013-07-07T00:00:00",
          "2013-07-08T00:00:00",
          "2013-07-09T00:00:00",
          "2013-07-10T00:00:00",
          "2013-07-11T00:00:00",
          "2013-07-12T00:00:00",
          "2013-07-13T00:00:00",
          "2013-07-14T00:00:00",
          "2013-07-15T00:00:00",
          "2013-07-16T00:00:00",
          "2013-07-17T00:00:00",
          "2013-07-18T00:00:00",
          "2013-07-19T00:00:00",
          "2013-07-20T00:00:00",
          "2013-07-21T00:00:00",
          "2013-07-22T00:00:00",
          "2013-07-23T00:00:00",
          "2013-07-24T00:00:00",
          "2013-07-25T00:00:00",
          "2013-07-26T00:00:00",
          "2013-07-27T00:00:00",
          "2013-07-28T00:00:00",
          "2013-07-29T00:00:00",
          "2013-07-30T00:00:00",
          "2013-07-31T00:00:00",
          "2013-08-01T00:00:00",
          "2013-08-02T00:00:00",
          "2013-08-03T00:00:00",
          "2013-08-04T00:00:00",
          "2013-08-05T00:00:00",
          "2013-08-06T00:00:00",
          "2013-08-07T00:00:00",
          "2013-08-08T00:00:00",
          "2013-08-09T00:00:00",
          "2013-08-10T00:00:00",
          "2013-08-11T00:00:00",
          "2013-08-12T00:00:00",
          "2013-08-13T00:00:00",
          "2013-08-14T00:00:00",
          "2013-08-15T00:00:00",
          "2013-08-16T00:00:00",
          "2013-08-17T00:00:00",
          "2013-08-18T00:00:00",
          "2013-08-19T00:00:00",
          "2013-08-20T00:00:00",
          "2013-08-21T00:00:00",
          "2013-08-22T00:00:00",
          "2013-08-23T00:00:00",
          "2013-08-24T00:00:00",
          "2013-08-25T00:00:00",
          "2013-08-26T00:00:00",
          "2013-08-27T00:00:00",
          "2013-08-28T00:00:00",
          "2013-08-29T00:00:00",
          "2013-08-30T00:00:00",
          "2013-08-31T00:00:00",
          "2013-09-01T00:00:00",
          "2013-09-02T00:00:00",
          "2013-09-03T00:00:00",
          "2013-09-04T00:00:00",
          "2013-09-05T00:00:00",
          "2013-09-06T00:00:00",
          "2013-09-07T00:00:00",
          "2013-09-08T00:00:00",
          "2013-09-09T00:00:00",
          "2013-09-10T00:00:00",
          "2013-09-11T00:00:00",
          "2013-09-12T00:00:00",
          "2013-09-13T00:00:00",
          "2013-09-14T00:00:00",
          "2013-09-15T00:00:00",
          "2013-09-16T00:00:00",
          "2013-09-17T00:00:00",
          "2013-09-18T00:00:00",
          "2013-09-19T00:00:00",
          "2013-09-20T00:00:00",
          "2013-09-21T00:00:00",
          "2013-09-22T00:00:00",
          "2013-09-23T00:00:00",
          "2013-09-24T00:00:00",
          "2013-09-25T00:00:00",
          "2013-09-26T00:00:00",
          "2013-09-27T00:00:00",
          "2013-09-28T00:00:00",
          "2013-09-29T00:00:00",
          "2013-09-30T00:00:00",
          "2013-10-01T00:00:00",
          "2013-10-02T00:00:00",
          "2013-10-03T00:00:00",
          "2013-10-04T00:00:00",
          "2013-10-05T00:00:00",
          "2013-10-06T00:00:00",
          "2013-10-07T00:00:00",
          "2013-10-08T00:00:00",
          "2013-10-09T00:00:00",
          "2013-10-10T00:00:00",
          "2013-10-11T00:00:00",
          "2013-10-12T00:00:00",
          "2013-10-13T00:00:00",
          "2013-10-14T00:00:00",
          "2013-10-15T00:00:00",
          "2013-10-16T00:00:00",
          "2013-10-17T00:00:00",
          "2013-10-18T00:00:00",
          "2013-10-19T00:00:00",
          "2013-10-20T00:00:00",
          "2013-10-21T00:00:00",
          "2013-10-22T00:00:00",
          "2013-10-23T00:00:00",
          "2013-10-24T00:00:00",
          "2013-10-25T00:00:00",
          "2013-10-26T00:00:00",
          "2013-10-27T00:00:00",
          "2013-10-28T00:00:00",
          "2013-10-29T00:00:00",
          "2013-10-30T00:00:00",
          "2013-10-31T00:00:00",
          "2013-11-01T00:00:00",
          "2013-11-02T00:00:00",
          "2013-11-03T00:00:00",
          "2013-11-04T00:00:00",
          "2013-11-05T00:00:00",
          "2013-11-06T00:00:00",
          "2013-11-07T00:00:00",
          "2013-11-08T00:00:00",
          "2013-11-09T00:00:00",
          "2013-11-10T00:00:00",
          "2013-11-11T00:00:00",
          "2013-11-12T00:00:00",
          "2013-11-13T00:00:00",
          "2013-11-14T00:00:00",
          "2013-11-15T00:00:00",
          "2013-11-16T00:00:00",
          "2013-11-17T00:00:00",
          "2013-11-18T00:00:00",
          "2013-11-19T00:00:00",
          "2013-11-20T00:00:00",
          "2013-11-21T00:00:00",
          "2013-11-22T00:00:00",
          "2013-11-23T00:00:00",
          "2013-11-24T00:00:00",
          "2013-11-25T00:00:00",
          "2013-11-26T00:00:00",
          "2013-11-27T00:00:00",
          "2013-11-28T00:00:00",
          "2013-11-29T00:00:00",
          "2013-11-30T00:00:00",
          "2013-12-01T00:00:00",
          "2013-12-02T00:00:00",
          "2013-12-03T00:00:00",
          "2013-12-04T00:00:00",
          "2013-12-05T00:00:00",
          "2013-12-06T00:00:00",
          "2013-12-07T00:00:00",
          "2013-12-08T00:00:00",
          "2013-12-09T00:00:00",
          "2013-12-10T00:00:00",
          "2013-12-11T00:00:00",
          "2013-12-12T00:00:00",
          "2013-12-13T00:00:00",
          "2013-12-14T00:00:00",
          "2013-12-15T00:00:00",
          "2013-12-16T00:00:00",
          "2013-12-17T00:00:00",
          "2013-12-18T00:00:00",
          "2013-12-19T00:00:00",
          "2013-12-20T00:00:00",
          "2013-12-21T00:00:00",
          "2013-12-22T00:00:00",
          "2013-12-23T00:00:00",
          "2013-12-24T00:00:00",
          "2013-12-25T00:00:00",
          "2013-12-26T00:00:00",
          "2013-12-27T00:00:00",
          "2013-12-28T00:00:00",
          "2013-12-29T00:00:00",
          "2013-12-30T00:00:00",
          "2013-12-31T00:00:00",
          "2014-01-01T00:00:00",
          "2014-01-02T00:00:00",
          "2014-01-03T00:00:00",
          "2014-01-04T00:00:00",
          "2014-01-05T00:00:00",
          "2014-01-06T00:00:00",
          "2014-01-07T00:00:00",
          "2014-01-08T00:00:00",
          "2014-01-09T00:00:00",
          "2014-01-10T00:00:00",
          "2014-01-11T00:00:00",
          "2014-01-12T00:00:00",
          "2014-01-13T00:00:00",
          "2014-01-14T00:00:00",
          "2014-01-15T00:00:00",
          "2014-01-16T00:00:00",
          "2014-01-17T00:00:00",
          "2014-01-18T00:00:00",
          "2014-01-19T00:00:00",
          "2014-01-20T00:00:00",
          "2014-01-21T00:00:00",
          "2014-01-22T00:00:00",
          "2014-01-23T00:00:00",
          "2014-01-24T00:00:00",
          "2014-01-25T00:00:00",
          "2014-01-26T00:00:00",
          "2014-01-27T00:00:00",
          "2014-01-28T00:00:00",
          "2014-01-29T00:00:00",
          "2014-01-30T00:00:00",
          "2014-01-31T00:00:00",
          "2014-02-01T00:00:00",
          "2014-02-02T00:00:00",
          "2014-02-03T00:00:00",
          "2014-02-04T00:00:00",
          "2014-02-05T00:00:00",
          "2014-02-06T00:00:00",
          "2014-02-07T00:00:00",
          "2014-02-08T00:00:00",
          "2014-02-09T00:00:00",
          "2014-02-10T00:00:00",
          "2014-02-11T00:00:00",
          "2014-02-12T00:00:00",
          "2014-02-13T00:00:00",
          "2014-02-14T00:00:00",
          "2014-02-15T00:00:00",
          "2014-02-16T00:00:00",
          "2014-02-17T00:00:00",
          "2014-02-18T00:00:00",
          "2014-02-19T00:00:00",
          "2014-02-20T00:00:00",
          "2014-02-21T00:00:00",
          "2014-02-22T00:00:00",
          "2014-02-23T00:00:00",
          "2014-02-24T00:00:00",
          "2014-02-25T00:00:00",
          "2014-02-26T00:00:00",
          "2014-02-27T00:00:00",
          "2014-02-28T00:00:00",
          "2014-03-01T00:00:00",
          "2014-03-02T00:00:00",
          "2014-03-03T00:00:00",
          "2014-03-04T00:00:00",
          "2014-03-05T00:00:00",
          "2014-03-06T00:00:00",
          "2014-03-07T00:00:00",
          "2014-03-08T00:00:00",
          "2014-03-09T00:00:00",
          "2014-03-10T00:00:00",
          "2014-03-11T00:00:00",
          "2014-03-12T00:00:00",
          "2014-03-13T00:00:00",
          "2014-03-14T00:00:00",
          "2014-03-15T00:00:00",
          "2014-03-16T00:00:00",
          "2014-03-17T00:00:00",
          "2014-03-18T00:00:00",
          "2014-03-19T00:00:00",
          "2014-03-20T00:00:00",
          "2014-03-21T00:00:00",
          "2014-03-22T00:00:00",
          "2014-03-23T00:00:00",
          "2014-03-24T00:00:00",
          "2014-03-25T00:00:00",
          "2014-03-26T00:00:00",
          "2014-03-27T00:00:00",
          "2014-03-28T00:00:00",
          "2014-03-29T00:00:00",
          "2014-03-30T00:00:00",
          "2014-03-31T00:00:00",
          "2014-04-01T00:00:00",
          "2014-04-02T00:00:00",
          "2014-04-03T00:00:00",
          "2014-04-04T00:00:00",
          "2014-04-05T00:00:00",
          "2014-04-06T00:00:00",
          "2014-04-07T00:00:00",
          "2014-04-08T00:00:00",
          "2014-04-09T00:00:00",
          "2014-04-10T00:00:00",
          "2014-04-11T00:00:00",
          "2014-04-12T00:00:00",
          "2014-04-13T00:00:00",
          "2014-04-14T00:00:00",
          "2014-04-15T00:00:00",
          "2014-04-16T00:00:00",
          "2014-04-17T00:00:00",
          "2014-04-18T00:00:00",
          "2014-04-19T00:00:00",
          "2014-04-20T00:00:00",
          "2014-04-21T00:00:00",
          "2014-04-22T00:00:00",
          "2014-04-23T00:00:00",
          "2014-04-24T00:00:00",
          "2014-04-25T00:00:00",
          "2014-04-26T00:00:00",
          "2014-04-27T00:00:00",
          "2014-04-28T00:00:00",
          "2014-04-29T00:00:00",
          "2014-04-30T00:00:00",
          "2014-05-01T00:00:00",
          "2014-05-02T00:00:00",
          "2014-05-03T00:00:00",
          "2014-05-04T00:00:00",
          "2014-05-05T00:00:00",
          "2014-05-06T00:00:00",
          "2014-05-07T00:00:00",
          "2014-05-08T00:00:00",
          "2014-05-09T00:00:00",
          "2014-05-10T00:00:00",
          "2014-05-11T00:00:00",
          "2014-05-12T00:00:00",
          "2014-05-13T00:00:00",
          "2014-05-14T00:00:00",
          "2014-05-15T00:00:00",
          "2014-05-16T00:00:00",
          "2014-05-17T00:00:00",
          "2014-05-18T00:00:00",
          "2014-05-19T00:00:00",
          "2014-05-20T00:00:00",
          "2014-05-21T00:00:00",
          "2014-05-22T00:00:00",
          "2014-05-23T00:00:00",
          "2014-05-24T00:00:00",
          "2014-05-25T00:00:00",
          "2014-05-26T00:00:00",
          "2014-05-27T00:00:00",
          "2014-05-28T00:00:00",
          "2014-05-29T00:00:00",
          "2014-05-30T00:00:00",
          "2014-05-31T00:00:00",
          "2014-06-01T00:00:00",
          "2014-06-02T00:00:00",
          "2014-06-03T00:00:00",
          "2014-06-04T00:00:00",
          "2014-06-05T00:00:00",
          "2014-06-06T00:00:00",
          "2014-06-07T00:00:00",
          "2014-06-08T00:00:00",
          "2014-06-09T00:00:00",
          "2014-06-10T00:00:00",
          "2014-06-11T00:00:00",
          "2014-06-12T00:00:00",
          "2014-06-13T00:00:00",
          "2014-06-14T00:00:00",
          "2014-06-15T00:00:00",
          "2014-06-16T00:00:00",
          "2014-06-17T00:00:00",
          "2014-06-18T00:00:00",
          "2014-06-19T00:00:00",
          "2014-06-20T00:00:00",
          "2014-06-21T00:00:00",
          "2014-06-22T00:00:00",
          "2014-06-23T00:00:00",
          "2014-06-24T00:00:00",
          "2014-06-25T00:00:00",
          "2014-06-26T00:00:00",
          "2014-06-27T00:00:00",
          "2014-06-28T00:00:00",
          "2014-06-29T00:00:00",
          "2014-06-30T00:00:00",
          "2014-07-01T00:00:00",
          "2014-07-02T00:00:00",
          "2014-07-03T00:00:00",
          "2014-07-04T00:00:00",
          "2014-07-05T00:00:00",
          "2014-07-06T00:00:00",
          "2014-07-07T00:00:00",
          "2014-07-08T00:00:00",
          "2014-07-09T00:00:00",
          "2014-07-10T00:00:00",
          "2014-07-11T00:00:00",
          "2014-07-12T00:00:00",
          "2014-07-13T00:00:00",
          "2014-07-14T00:00:00",
          "2014-07-15T00:00:00",
          "2014-07-16T00:00:00",
          "2014-07-17T00:00:00",
          "2014-07-18T00:00:00",
          "2014-07-19T00:00:00",
          "2014-07-20T00:00:00",
          "2014-07-21T00:00:00",
          "2014-07-22T00:00:00",
          "2014-07-23T00:00:00",
          "2014-07-24T00:00:00",
          "2014-07-25T00:00:00",
          "2014-07-26T00:00:00",
          "2014-07-27T00:00:00",
          "2014-07-28T00:00:00",
          "2014-07-29T00:00:00",
          "2014-07-30T00:00:00",
          "2014-07-31T00:00:00",
          "2014-08-01T00:00:00",
          "2014-08-02T00:00:00",
          "2014-08-03T00:00:00",
          "2014-08-04T00:00:00",
          "2014-08-05T00:00:00",
          "2014-08-06T00:00:00",
          "2014-08-07T00:00:00",
          "2014-08-08T00:00:00",
          "2014-08-09T00:00:00",
          "2014-08-10T00:00:00",
          "2014-08-11T00:00:00",
          "2014-08-12T00:00:00",
          "2014-08-13T00:00:00",
          "2014-08-14T00:00:00",
          "2014-08-15T00:00:00",
          "2014-08-16T00:00:00",
          "2014-08-17T00:00:00",
          "2014-08-18T00:00:00",
          "2014-08-19T00:00:00",
          "2014-08-20T00:00:00",
          "2014-08-21T00:00:00",
          "2014-08-22T00:00:00",
          "2014-08-23T00:00:00",
          "2014-08-24T00:00:00",
          "2014-08-25T00:00:00",
          "2014-08-26T00:00:00",
          "2014-08-27T00:00:00",
          "2014-08-28T00:00:00",
          "2014-08-29T00:00:00",
          "2014-08-30T00:00:00",
          "2014-08-31T00:00:00",
          "2014-09-01T00:00:00",
          "2014-09-02T00:00:00",
          "2014-09-03T00:00:00",
          "2014-09-04T00:00:00",
          "2014-09-05T00:00:00",
          "2014-09-06T00:00:00",
          "2014-09-07T00:00:00",
          "2014-09-08T00:00:00",
          "2014-09-09T00:00:00",
          "2014-09-10T00:00:00",
          "2014-09-11T00:00:00",
          "2014-09-12T00:00:00",
          "2014-09-13T00:00:00",
          "2014-09-14T00:00:00",
          "2014-09-15T00:00:00",
          "2014-09-16T00:00:00",
          "2014-09-17T00:00:00",
          "2014-09-18T00:00:00",
          "2014-09-19T00:00:00",
          "2014-09-20T00:00:00",
          "2014-09-21T00:00:00",
          "2014-09-22T00:00:00",
          "2014-09-23T00:00:00",
          "2014-09-24T00:00:00",
          "2014-09-25T00:00:00",
          "2014-09-26T00:00:00",
          "2014-09-27T00:00:00",
          "2014-09-28T00:00:00",
          "2014-09-29T00:00:00",
          "2014-09-30T00:00:00",
          "2014-10-01T00:00:00",
          "2014-10-02T00:00:00",
          "2014-10-03T00:00:00",
          "2014-10-04T00:00:00",
          "2014-10-05T00:00:00",
          "2014-10-06T00:00:00",
          "2014-10-07T00:00:00",
          "2014-10-08T00:00:00",
          "2014-10-09T00:00:00",
          "2014-10-10T00:00:00",
          "2014-10-11T00:00:00",
          "2014-10-12T00:00:00",
          "2014-10-13T00:00:00",
          "2014-10-14T00:00:00",
          "2014-10-15T00:00:00",
          "2014-10-16T00:00:00",
          "2014-10-17T00:00:00",
          "2014-10-18T00:00:00",
          "2014-10-19T00:00:00",
          "2014-10-20T00:00:00",
          "2014-10-21T00:00:00",
          "2014-10-22T00:00:00",
          "2014-10-23T00:00:00",
          "2014-10-24T00:00:00",
          "2014-10-25T00:00:00",
          "2014-10-26T00:00:00",
          "2014-10-27T00:00:00",
          "2014-10-28T00:00:00",
          "2014-10-29T00:00:00",
          "2014-10-30T00:00:00",
          "2014-10-31T00:00:00",
          "2014-11-01T00:00:00",
          "2014-11-02T00:00:00",
          "2014-11-03T00:00:00",
          "2014-11-04T00:00:00",
          "2014-11-05T00:00:00",
          "2014-11-06T00:00:00",
          "2014-11-07T00:00:00",
          "2014-11-08T00:00:00",
          "2014-11-09T00:00:00",
          "2014-11-10T00:00:00",
          "2014-11-11T00:00:00",
          "2014-11-12T00:00:00",
          "2014-11-13T00:00:00",
          "2014-11-14T00:00:00",
          "2014-11-15T00:00:00",
          "2014-11-16T00:00:00",
          "2014-11-17T00:00:00",
          "2014-11-18T00:00:00",
          "2014-11-19T00:00:00",
          "2014-11-20T00:00:00",
          "2014-11-21T00:00:00",
          "2014-11-22T00:00:00",
          "2014-11-23T00:00:00",
          "2014-11-24T00:00:00",
          "2014-11-25T00:00:00",
          "2014-11-26T00:00:00",
          "2014-11-27T00:00:00",
          "2014-11-28T00:00:00",
          "2014-11-29T00:00:00",
          "2014-11-30T00:00:00",
          "2014-12-01T00:00:00",
          "2014-12-02T00:00:00",
          "2014-12-03T00:00:00",
          "2014-12-04T00:00:00",
          "2014-12-05T00:00:00",
          "2014-12-06T00:00:00",
          "2014-12-07T00:00:00",
          "2014-12-08T00:00:00",
          "2014-12-09T00:00:00",
          "2014-12-10T00:00:00",
          "2014-12-11T00:00:00",
          "2014-12-12T00:00:00",
          "2014-12-13T00:00:00",
          "2014-12-14T00:00:00",
          "2014-12-15T00:00:00",
          "2014-12-16T00:00:00",
          "2014-12-17T00:00:00",
          "2014-12-18T00:00:00",
          "2014-12-19T00:00:00",
          "2014-12-20T00:00:00",
          "2014-12-21T00:00:00",
          "2014-12-22T00:00:00",
          "2014-12-23T00:00:00",
          "2014-12-24T00:00:00",
          "2014-12-25T00:00:00",
          "2014-12-26T00:00:00",
          "2014-12-27T00:00:00",
          "2014-12-28T00:00:00",
          "2014-12-29T00:00:00",
          "2014-12-30T00:00:00",
          "2014-12-31T00:00:00",
          "2015-01-01T00:00:00",
          "2015-01-02T00:00:00",
          "2015-01-03T00:00:00",
          "2015-01-04T00:00:00",
          "2015-01-05T00:00:00",
          "2015-01-06T00:00:00",
          "2015-01-07T00:00:00",
          "2015-01-08T00:00:00",
          "2015-01-09T00:00:00",
          "2015-01-10T00:00:00",
          "2015-01-11T00:00:00",
          "2015-01-12T00:00:00",
          "2015-01-13T00:00:00",
          "2015-01-14T00:00:00",
          "2015-01-15T00:00:00",
          "2015-01-16T00:00:00",
          "2015-01-17T00:00:00",
          "2015-01-18T00:00:00",
          "2015-01-19T00:00:00",
          "2015-01-20T00:00:00",
          "2015-01-21T00:00:00",
          "2015-01-22T00:00:00",
          "2015-01-23T00:00:00",
          "2015-01-24T00:00:00",
          "2015-01-25T00:00:00",
          "2015-01-26T00:00:00",
          "2015-01-27T00:00:00",
          "2015-01-28T00:00:00",
          "2015-01-29T00:00:00",
          "2015-01-30T00:00:00",
          "2015-01-31T00:00:00",
          "2015-02-01T00:00:00",
          "2015-02-02T00:00:00",
          "2015-02-03T00:00:00",
          "2015-02-04T00:00:00",
          "2015-02-05T00:00:00",
          "2015-02-06T00:00:00",
          "2015-02-07T00:00:00",
          "2015-02-08T00:00:00",
          "2015-02-09T00:00:00",
          "2015-02-10T00:00:00",
          "2015-02-11T00:00:00",
          "2015-02-12T00:00:00",
          "2015-02-13T00:00:00",
          "2015-02-14T00:00:00",
          "2015-02-15T00:00:00",
          "2015-02-16T00:00:00",
          "2015-02-17T00:00:00",
          "2015-02-18T00:00:00",
          "2015-02-19T00:00:00",
          "2015-02-20T00:00:00",
          "2015-02-21T00:00:00",
          "2015-02-22T00:00:00",
          "2015-02-23T00:00:00",
          "2015-02-24T00:00:00",
          "2015-02-25T00:00:00",
          "2015-02-26T00:00:00",
          "2015-02-27T00:00:00",
          "2015-02-28T00:00:00",
          "2015-03-01T00:00:00",
          "2015-03-02T00:00:00",
          "2015-03-03T00:00:00",
          "2015-03-04T00:00:00",
          "2015-03-05T00:00:00",
          "2015-03-06T00:00:00",
          "2015-03-07T00:00:00",
          "2015-03-08T00:00:00",
          "2015-03-09T00:00:00",
          "2015-03-10T00:00:00",
          "2015-03-11T00:00:00",
          "2015-03-12T00:00:00",
          "2015-03-13T00:00:00",
          "2015-03-14T00:00:00",
          "2015-03-15T00:00:00",
          "2015-03-16T00:00:00",
          "2015-03-17T00:00:00",
          "2015-03-18T00:00:00",
          "2015-03-19T00:00:00",
          "2015-03-20T00:00:00",
          "2015-03-21T00:00:00",
          "2015-03-22T00:00:00",
          "2015-03-23T00:00:00",
          "2015-03-24T00:00:00",
          "2015-03-25T00:00:00",
          "2015-03-26T00:00:00",
          "2015-03-27T00:00:00",
          "2015-03-28T00:00:00",
          "2015-03-29T00:00:00",
          "2015-03-30T00:00:00",
          "2015-03-31T00:00:00",
          "2015-04-01T00:00:00",
          "2015-04-02T00:00:00",
          "2015-04-03T00:00:00",
          "2015-04-04T00:00:00",
          "2015-04-05T00:00:00",
          "2015-04-06T00:00:00",
          "2015-04-07T00:00:00",
          "2015-04-08T00:00:00",
          "2015-04-09T00:00:00",
          "2015-04-10T00:00:00",
          "2015-04-11T00:00:00",
          "2015-04-12T00:00:00",
          "2015-04-13T00:00:00",
          "2015-04-14T00:00:00",
          "2015-04-15T00:00:00",
          "2015-04-16T00:00:00",
          "2015-04-17T00:00:00",
          "2015-04-18T00:00:00",
          "2015-04-19T00:00:00",
          "2015-04-20T00:00:00",
          "2015-04-21T00:00:00",
          "2015-04-22T00:00:00",
          "2015-04-23T00:00:00",
          "2015-04-24T00:00:00",
          "2015-04-25T00:00:00",
          "2015-04-26T00:00:00",
          "2015-04-27T00:00:00",
          "2015-04-28T00:00:00",
          "2015-04-29T00:00:00",
          "2015-04-30T00:00:00",
          "2015-05-01T00:00:00",
          "2015-05-02T00:00:00",
          "2015-05-03T00:00:00",
          "2015-05-04T00:00:00",
          "2015-05-05T00:00:00",
          "2015-05-06T00:00:00",
          "2015-05-07T00:00:00",
          "2015-05-08T00:00:00",
          "2015-05-09T00:00:00",
          "2015-05-10T00:00:00",
          "2015-05-11T00:00:00",
          "2015-05-12T00:00:00",
          "2015-05-13T00:00:00",
          "2015-05-14T00:00:00",
          "2015-05-15T00:00:00",
          "2015-05-16T00:00:00",
          "2015-05-17T00:00:00",
          "2015-05-18T00:00:00",
          "2015-05-19T00:00:00",
          "2015-05-20T00:00:00",
          "2015-05-21T00:00:00",
          "2015-05-22T00:00:00",
          "2015-05-23T00:00:00",
          "2015-05-24T00:00:00",
          "2015-05-25T00:00:00",
          "2015-05-26T00:00:00",
          "2015-05-27T00:00:00",
          "2015-05-28T00:00:00",
          "2015-05-29T00:00:00",
          "2015-05-30T00:00:00",
          "2015-05-31T00:00:00",
          "2015-06-01T00:00:00",
          "2015-06-02T00:00:00",
          "2015-06-03T00:00:00",
          "2015-06-04T00:00:00",
          "2015-06-05T00:00:00",
          "2015-06-06T00:00:00",
          "2015-06-07T00:00:00",
          "2015-06-08T00:00:00",
          "2015-06-09T00:00:00",
          "2015-06-10T00:00:00",
          "2015-06-11T00:00:00",
          "2015-06-12T00:00:00",
          "2015-06-13T00:00:00",
          "2015-06-14T00:00:00",
          "2015-06-15T00:00:00",
          "2015-06-16T00:00:00",
          "2015-06-17T00:00:00",
          "2015-06-18T00:00:00",
          "2015-06-19T00:00:00",
          "2015-06-20T00:00:00",
          "2015-06-21T00:00:00",
          "2015-06-22T00:00:00",
          "2015-06-23T00:00:00",
          "2015-06-24T00:00:00",
          "2015-06-25T00:00:00",
          "2015-06-26T00:00:00",
          "2015-06-27T00:00:00",
          "2015-06-28T00:00:00",
          "2015-06-29T00:00:00",
          "2015-06-30T00:00:00",
          "2015-07-01T00:00:00",
          "2015-07-02T00:00:00",
          "2015-07-03T00:00:00",
          "2015-07-04T00:00:00",
          "2015-07-05T00:00:00",
          "2015-07-06T00:00:00",
          "2015-07-07T00:00:00",
          "2015-07-08T00:00:00",
          "2015-07-09T00:00:00",
          "2015-07-10T00:00:00",
          "2015-07-11T00:00:00",
          "2015-07-12T00:00:00",
          "2015-07-13T00:00:00",
          "2015-07-14T00:00:00",
          "2015-07-15T00:00:00",
          "2015-07-16T00:00:00",
          "2015-07-17T00:00:00",
          "2015-07-18T00:00:00",
          "2015-07-19T00:00:00",
          "2015-07-20T00:00:00",
          "2015-07-21T00:00:00",
          "2015-07-22T00:00:00",
          "2015-07-23T00:00:00",
          "2015-07-24T00:00:00",
          "2015-07-25T00:00:00",
          "2015-07-26T00:00:00",
          "2015-07-27T00:00:00",
          "2015-07-28T00:00:00",
          "2015-07-29T00:00:00",
          "2015-07-30T00:00:00",
          "2015-07-31T00:00:00",
          "2015-08-01T00:00:00",
          "2015-08-02T00:00:00",
          "2015-08-03T00:00:00",
          "2015-08-04T00:00:00",
          "2015-08-05T00:00:00",
          "2015-08-06T00:00:00",
          "2015-08-07T00:00:00",
          "2015-08-08T00:00:00",
          "2015-08-09T00:00:00",
          "2015-08-10T00:00:00",
          "2015-08-11T00:00:00",
          "2015-08-12T00:00:00",
          "2015-08-13T00:00:00",
          "2015-08-14T00:00:00",
          "2015-08-15T00:00:00",
          "2015-08-16T00:00:00",
          "2015-08-17T00:00:00",
          "2015-08-18T00:00:00",
          "2015-08-19T00:00:00",
          "2015-08-20T00:00:00",
          "2015-08-21T00:00:00",
          "2015-08-22T00:00:00",
          "2015-08-23T00:00:00",
          "2015-08-24T00:00:00",
          "2015-08-25T00:00:00",
          "2015-08-26T00:00:00",
          "2015-08-27T00:00:00",
          "2015-08-28T00:00:00",
          "2015-08-29T00:00:00",
          "2015-08-30T00:00:00",
          "2015-08-31T00:00:00",
          "2015-09-01T00:00:00",
          "2015-09-02T00:00:00",
          "2015-09-03T00:00:00",
          "2015-09-04T00:00:00",
          "2015-09-05T00:00:00",
          "2015-09-06T00:00:00",
          "2015-09-07T00:00:00",
          "2015-09-08T00:00:00",
          "2015-09-09T00:00:00",
          "2015-09-10T00:00:00",
          "2015-09-11T00:00:00",
          "2015-09-12T00:00:00",
          "2015-09-13T00:00:00",
          "2015-09-14T00:00:00",
          "2015-09-15T00:00:00",
          "2015-09-16T00:00:00",
          "2015-09-17T00:00:00",
          "2015-09-18T00:00:00",
          "2015-09-19T00:00:00",
          "2015-09-20T00:00:00",
          "2015-09-21T00:00:00",
          "2015-09-22T00:00:00",
          "2015-09-23T00:00:00",
          "2015-09-24T00:00:00",
          "2015-09-25T00:00:00",
          "2015-09-26T00:00:00",
          "2015-09-27T00:00:00",
          "2015-09-28T00:00:00",
          "2015-09-29T00:00:00",
          "2015-09-30T00:00:00",
          "2015-10-01T00:00:00",
          "2015-10-02T00:00:00",
          "2015-10-03T00:00:00",
          "2015-10-04T00:00:00",
          "2015-10-05T00:00:00",
          "2015-10-06T00:00:00",
          "2015-10-07T00:00:00",
          "2015-10-08T00:00:00",
          "2015-10-09T00:00:00",
          "2015-10-10T00:00:00",
          "2015-10-11T00:00:00",
          "2015-10-12T00:00:00",
          "2015-10-13T00:00:00",
          "2015-10-14T00:00:00",
          "2015-10-15T00:00:00",
          "2015-10-16T00:00:00",
          "2015-10-17T00:00:00",
          "2015-10-18T00:00:00",
          "2015-10-19T00:00:00",
          "2015-10-20T00:00:00",
          "2015-10-21T00:00:00",
          "2015-10-22T00:00:00",
          "2015-10-23T00:00:00",
          "2015-10-24T00:00:00",
          "2015-10-25T00:00:00",
          "2015-10-26T00:00:00",
          "2015-10-27T00:00:00",
          "2015-10-28T00:00:00",
          "2015-10-29T00:00:00",
          "2015-10-30T00:00:00",
          "2015-10-31T00:00:00",
          "2015-11-01T00:00:00",
          "2015-11-02T00:00:00",
          "2015-11-03T00:00:00",
          "2015-11-04T00:00:00",
          "2015-11-05T00:00:00",
          "2015-11-06T00:00:00",
          "2015-11-07T00:00:00",
          "2015-11-08T00:00:00",
          "2015-11-09T00:00:00",
          "2015-11-10T00:00:00",
          "2015-11-11T00:00:00",
          "2015-11-12T00:00:00",
          "2015-11-13T00:00:00",
          "2015-11-14T00:00:00",
          "2015-11-15T00:00:00",
          "2015-11-16T00:00:00",
          "2015-11-17T00:00:00",
          "2015-11-18T00:00:00",
          "2015-11-19T00:00:00",
          "2015-11-20T00:00:00",
          "2015-11-21T00:00:00",
          "2015-11-22T00:00:00",
          "2015-11-23T00:00:00",
          "2015-11-24T00:00:00",
          "2015-11-25T00:00:00",
          "2015-11-26T00:00:00",
          "2015-11-27T00:00:00",
          "2015-11-28T00:00:00",
          "2015-11-29T00:00:00",
          "2015-11-30T00:00:00",
          "2015-12-01T00:00:00",
          "2015-12-02T00:00:00",
          "2015-12-03T00:00:00",
          "2015-12-04T00:00:00",
          "2015-12-05T00:00:00",
          "2015-12-06T00:00:00",
          "2015-12-07T00:00:00",
          "2015-12-08T00:00:00",
          "2015-12-09T00:00:00",
          "2015-12-10T00:00:00",
          "2015-12-11T00:00:00",
          "2015-12-12T00:00:00",
          "2015-12-13T00:00:00",
          "2015-12-14T00:00:00",
          "2015-12-15T00:00:00",
          "2015-12-16T00:00:00",
          "2015-12-17T00:00:00",
          "2015-12-18T00:00:00",
          "2015-12-19T00:00:00",
          "2015-12-20T00:00:00",
          "2015-12-21T00:00:00",
          "2015-12-22T00:00:00",
          "2015-12-23T00:00:00",
          "2015-12-24T00:00:00",
          "2015-12-25T00:00:00",
          "2015-12-26T00:00:00",
          "2015-12-27T00:00:00",
          "2015-12-28T00:00:00",
          "2015-12-29T00:00:00",
          "2015-12-30T00:00:00",
          "2015-12-31T00:00:00",
          "2016-01-01T00:00:00",
          "2016-01-02T00:00:00",
          "2016-01-03T00:00:00",
          "2016-01-04T00:00:00",
          "2016-01-05T00:00:00",
          "2016-01-06T00:00:00",
          "2016-01-07T00:00:00",
          "2016-01-08T00:00:00",
          "2016-01-09T00:00:00",
          "2016-01-10T00:00:00",
          "2016-01-11T00:00:00",
          "2016-01-12T00:00:00",
          "2016-01-13T00:00:00",
          "2016-01-14T00:00:00",
          "2016-01-15T00:00:00",
          "2016-01-16T00:00:00",
          "2016-01-17T00:00:00",
          "2016-01-18T00:00:00",
          "2016-01-19T00:00:00",
          "2016-01-20T00:00:00",
          "2016-01-21T00:00:00",
          "2016-01-22T00:00:00",
          "2016-01-23T00:00:00",
          "2016-01-24T00:00:00",
          "2016-01-25T00:00:00",
          "2016-01-26T00:00:00",
          "2016-01-27T00:00:00",
          "2016-01-28T00:00:00",
          "2016-01-29T00:00:00",
          "2016-01-30T00:00:00",
          "2016-01-31T00:00:00",
          "2016-02-01T00:00:00",
          "2016-02-02T00:00:00",
          "2016-02-03T00:00:00",
          "2016-02-04T00:00:00",
          "2016-02-05T00:00:00",
          "2016-02-06T00:00:00",
          "2016-02-07T00:00:00",
          "2016-02-08T00:00:00",
          "2016-02-09T00:00:00",
          "2016-02-10T00:00:00",
          "2016-02-11T00:00:00",
          "2016-02-12T00:00:00",
          "2016-02-13T00:00:00",
          "2016-02-14T00:00:00",
          "2016-02-15T00:00:00",
          "2016-02-16T00:00:00",
          "2016-02-17T00:00:00",
          "2016-02-18T00:00:00",
          "2016-02-19T00:00:00",
          "2016-02-20T00:00:00",
          "2016-02-21T00:00:00",
          "2016-02-22T00:00:00",
          "2016-02-23T00:00:00",
          "2016-02-24T00:00:00",
          "2016-02-25T00:00:00",
          "2016-02-26T00:00:00",
          "2016-02-27T00:00:00",
          "2016-02-28T00:00:00",
          "2016-02-29T00:00:00",
          "2016-03-01T00:00:00",
          "2016-03-02T00:00:00",
          "2016-03-03T00:00:00",
          "2016-03-04T00:00:00",
          "2016-03-05T00:00:00",
          "2016-03-06T00:00:00",
          "2016-03-07T00:00:00",
          "2016-03-08T00:00:00",
          "2016-03-09T00:00:00",
          "2016-03-10T00:00:00",
          "2016-03-11T00:00:00",
          "2016-03-12T00:00:00",
          "2016-03-13T00:00:00",
          "2016-03-14T00:00:00",
          "2016-03-15T00:00:00",
          "2016-03-16T00:00:00",
          "2016-03-17T00:00:00",
          "2016-03-18T00:00:00",
          "2016-03-19T00:00:00",
          "2016-03-20T00:00:00",
          "2016-03-21T00:00:00",
          "2016-03-22T00:00:00",
          "2016-03-23T00:00:00",
          "2016-03-24T00:00:00",
          "2016-03-25T00:00:00",
          "2016-03-26T00:00:00",
          "2016-03-27T00:00:00",
          "2016-03-28T00:00:00",
          "2016-03-29T00:00:00",
          "2016-03-30T00:00:00",
          "2016-03-31T00:00:00",
          "2016-04-01T00:00:00",
          "2016-04-02T00:00:00",
          "2016-04-03T00:00:00",
          "2016-04-04T00:00:00",
          "2016-04-05T00:00:00",
          "2016-04-06T00:00:00",
          "2016-04-07T00:00:00",
          "2016-04-08T00:00:00",
          "2016-04-09T00:00:00",
          "2016-04-10T00:00:00",
          "2016-04-11T00:00:00",
          "2016-04-12T00:00:00",
          "2016-04-13T00:00:00",
          "2016-04-14T00:00:00",
          "2016-04-15T00:00:00",
          "2016-04-16T00:00:00",
          "2016-04-17T00:00:00",
          "2016-04-18T00:00:00",
          "2016-04-19T00:00:00",
          "2016-04-20T00:00:00",
          "2016-04-21T00:00:00",
          "2016-04-22T00:00:00",
          "2016-04-23T00:00:00",
          "2016-04-24T00:00:00",
          "2016-04-25T00:00:00",
          "2016-04-26T00:00:00",
          "2016-04-27T00:00:00",
          "2016-04-28T00:00:00",
          "2016-04-29T00:00:00",
          "2016-04-30T00:00:00",
          "2016-05-01T00:00:00",
          "2016-05-02T00:00:00",
          "2016-05-03T00:00:00",
          "2016-05-04T00:00:00",
          "2016-05-05T00:00:00",
          "2016-05-06T00:00:00",
          "2016-05-07T00:00:00",
          "2016-05-08T00:00:00",
          "2016-05-09T00:00:00",
          "2016-05-10T00:00:00",
          "2016-05-11T00:00:00",
          "2016-05-12T00:00:00",
          "2016-05-13T00:00:00",
          "2016-05-14T00:00:00",
          "2016-05-15T00:00:00",
          "2016-05-16T00:00:00",
          "2016-05-17T00:00:00",
          "2016-05-18T00:00:00",
          "2016-05-19T00:00:00",
          "2016-05-20T00:00:00",
          "2016-05-21T00:00:00",
          "2016-05-22T00:00:00",
          "2016-05-23T00:00:00",
          "2016-05-24T00:00:00",
          "2016-05-25T00:00:00",
          "2016-05-26T00:00:00",
          "2016-05-27T00:00:00",
          "2016-05-28T00:00:00",
          "2016-05-29T00:00:00",
          "2016-05-30T00:00:00",
          "2016-05-31T00:00:00",
          "2016-06-01T00:00:00",
          "2016-06-02T00:00:00",
          "2016-06-03T00:00:00",
          "2016-06-04T00:00:00",
          "2016-06-05T00:00:00",
          "2016-06-06T00:00:00",
          "2016-06-07T00:00:00",
          "2016-06-08T00:00:00",
          "2016-06-09T00:00:00",
          "2016-06-10T00:00:00",
          "2016-06-11T00:00:00",
          "2016-06-12T00:00:00",
          "2016-06-13T00:00:00",
          "2016-06-14T00:00:00",
          "2016-06-15T00:00:00",
          "2016-06-16T00:00:00",
          "2016-06-17T00:00:00",
          "2016-06-18T00:00:00",
          "2016-06-19T00:00:00",
          "2016-06-20T00:00:00",
          "2016-06-21T00:00:00",
          "2016-06-22T00:00:00",
          "2016-06-23T00:00:00",
          "2016-06-24T00:00:00",
          "2016-06-25T00:00:00",
          "2016-06-26T00:00:00",
          "2016-06-27T00:00:00",
          "2016-06-28T00:00:00",
          "2016-06-29T00:00:00",
          "2016-06-30T00:00:00",
          "2016-07-01T00:00:00",
          "2016-07-02T00:00:00",
          "2016-07-03T00:00:00",
          "2016-07-04T00:00:00",
          "2016-07-05T00:00:00",
          "2016-07-06T00:00:00",
          "2016-07-07T00:00:00",
          "2016-07-08T00:00:00",
          "2016-07-09T00:00:00",
          "2016-07-10T00:00:00",
          "2016-07-11T00:00:00",
          "2016-07-12T00:00:00",
          "2016-07-13T00:00:00",
          "2016-07-14T00:00:00",
          "2016-07-15T00:00:00",
          "2016-07-16T00:00:00",
          "2016-07-17T00:00:00",
          "2016-07-18T00:00:00",
          "2016-07-19T00:00:00",
          "2016-07-20T00:00:00",
          "2016-07-21T00:00:00",
          "2016-07-22T00:00:00",
          "2016-07-23T00:00:00",
          "2016-07-24T00:00:00",
          "2016-07-25T00:00:00",
          "2016-07-26T00:00:00",
          "2016-07-27T00:00:00",
          "2016-07-28T00:00:00",
          "2016-07-29T00:00:00",
          "2016-07-30T00:00:00",
          "2016-07-31T00:00:00",
          "2016-08-01T00:00:00",
          "2016-08-02T00:00:00",
          "2016-08-03T00:00:00",
          "2016-08-04T00:00:00",
          "2016-08-05T00:00:00",
          "2016-08-06T00:00:00",
          "2016-08-07T00:00:00",
          "2016-08-08T00:00:00",
          "2016-08-09T00:00:00",
          "2016-08-10T00:00:00",
          "2016-08-11T00:00:00",
          "2016-08-12T00:00:00",
          "2016-08-13T00:00:00",
          "2016-08-14T00:00:00",
          "2016-08-15T00:00:00",
          "2016-08-16T00:00:00",
          "2016-08-17T00:00:00",
          "2016-08-18T00:00:00",
          "2016-08-19T00:00:00",
          "2016-08-20T00:00:00",
          "2016-08-21T00:00:00",
          "2016-08-22T00:00:00",
          "2016-08-23T00:00:00",
          "2016-08-24T00:00:00",
          "2016-08-25T00:00:00",
          "2016-08-26T00:00:00",
          "2016-08-27T00:00:00",
          "2016-08-28T00:00:00",
          "2016-08-29T00:00:00",
          "2016-08-30T00:00:00",
          "2016-08-31T00:00:00",
          "2016-09-01T00:00:00",
          "2016-09-02T00:00:00",
          "2016-09-03T00:00:00",
          "2016-09-04T00:00:00",
          "2016-09-05T00:00:00",
          "2016-09-06T00:00:00",
          "2016-09-07T00:00:00",
          "2016-09-08T00:00:00",
          "2016-09-09T00:00:00",
          "2016-09-10T00:00:00",
          "2016-09-11T00:00:00",
          "2016-09-12T00:00:00",
          "2016-09-13T00:00:00",
          "2016-09-14T00:00:00",
          "2016-09-15T00:00:00",
          "2016-09-16T00:00:00",
          "2016-09-17T00:00:00",
          "2016-09-18T00:00:00",
          "2016-09-19T00:00:00",
          "2016-09-20T00:00:00",
          "2016-09-21T00:00:00",
          "2016-09-22T00:00:00",
          "2016-09-23T00:00:00",
          "2016-09-24T00:00:00",
          "2016-09-25T00:00:00",
          "2016-09-26T00:00:00",
          "2016-09-27T00:00:00",
          "2016-09-28T00:00:00",
          "2016-09-29T00:00:00",
          "2016-09-30T00:00:00",
          "2016-10-01T00:00:00",
          "2016-10-02T00:00:00",
          "2016-10-03T00:00:00",
          "2016-10-04T00:00:00",
          "2016-10-05T00:00:00",
          "2016-10-06T00:00:00",
          "2016-10-07T00:00:00",
          "2016-10-08T00:00:00",
          "2016-10-09T00:00:00",
          "2016-10-10T00:00:00",
          "2016-10-11T00:00:00",
          "2016-10-12T00:00:00",
          "2016-10-13T00:00:00",
          "2016-10-14T00:00:00",
          "2016-10-15T00:00:00",
          "2016-10-16T00:00:00",
          "2016-10-17T00:00:00",
          "2016-10-18T00:00:00",
          "2016-10-19T00:00:00",
          "2016-10-20T00:00:00",
          "2016-10-21T00:00:00",
          "2016-10-22T00:00:00",
          "2016-10-23T00:00:00",
          "2016-10-24T00:00:00",
          "2016-10-25T00:00:00",
          "2016-10-26T00:00:00",
          "2016-10-27T00:00:00",
          "2016-10-28T00:00:00",
          "2016-10-29T00:00:00",
          "2016-10-30T00:00:00",
          "2016-10-31T00:00:00",
          "2016-11-01T00:00:00",
          "2016-11-02T00:00:00",
          "2016-11-03T00:00:00",
          "2016-11-04T00:00:00",
          "2016-11-05T00:00:00",
          "2016-11-06T00:00:00",
          "2016-11-07T00:00:00",
          "2016-11-08T00:00:00",
          "2016-11-09T00:00:00",
          "2016-11-10T00:00:00",
          "2016-11-11T00:00:00",
          "2016-11-12T00:00:00",
          "2016-11-13T00:00:00",
          "2016-11-14T00:00:00",
          "2016-11-15T00:00:00",
          "2016-11-16T00:00:00",
          "2016-11-17T00:00:00",
          "2016-11-18T00:00:00",
          "2016-11-19T00:00:00",
          "2016-11-20T00:00:00",
          "2016-11-21T00:00:00",
          "2016-11-22T00:00:00",
          "2016-11-23T00:00:00",
          "2016-11-24T00:00:00",
          "2016-11-25T00:00:00",
          "2016-11-26T00:00:00",
          "2016-11-27T00:00:00",
          "2016-11-28T00:00:00",
          "2016-11-29T00:00:00",
          "2016-11-30T00:00:00",
          "2016-12-01T00:00:00",
          "2016-12-02T00:00:00",
          "2016-12-03T00:00:00",
          "2016-12-04T00:00:00",
          "2016-12-05T00:00:00",
          "2016-12-06T00:00:00",
          "2016-12-07T00:00:00",
          "2016-12-08T00:00:00",
          "2016-12-09T00:00:00",
          "2016-12-10T00:00:00",
          "2016-12-11T00:00:00",
          "2016-12-12T00:00:00",
          "2016-12-13T00:00:00",
          "2016-12-14T00:00:00",
          "2016-12-15T00:00:00",
          "2016-12-16T00:00:00",
          "2016-12-17T00:00:00",
          "2016-12-18T00:00:00",
          "2016-12-19T00:00:00",
          "2016-12-20T00:00:00",
          "2016-12-21T00:00:00",
          "2016-12-22T00:00:00",
          "2016-12-23T00:00:00",
          "2016-12-24T00:00:00",
          "2016-12-25T00:00:00",
          "2016-12-26T00:00:00",
          "2016-12-27T00:00:00",
          "2016-12-28T00:00:00",
          "2016-12-29T00:00:00",
          "2016-12-30T00:00:00",
          "2016-12-31T00:00:00",
          "2017-01-01T00:00:00",
          "2017-01-02T00:00:00",
          "2017-01-03T00:00:00",
          "2017-01-04T00:00:00",
          "2017-01-05T00:00:00",
          "2017-01-06T00:00:00",
          "2017-01-07T00:00:00",
          "2017-01-08T00:00:00",
          "2017-01-09T00:00:00",
          "2017-01-10T00:00:00",
          "2017-01-11T00:00:00",
          "2017-01-12T00:00:00",
          "2017-01-13T00:00:00",
          "2017-01-14T00:00:00",
          "2017-01-15T00:00:00",
          "2017-01-16T00:00:00",
          "2017-01-17T00:00:00",
          "2017-01-18T00:00:00",
          "2017-01-19T00:00:00",
          "2017-01-20T00:00:00",
          "2017-01-21T00:00:00",
          "2017-01-22T00:00:00",
          "2017-01-23T00:00:00",
          "2017-01-24T00:00:00",
          "2017-01-25T00:00:00",
          "2017-01-26T00:00:00",
          "2017-01-27T00:00:00",
          "2017-01-28T00:00:00",
          "2017-01-29T00:00:00",
          "2017-01-30T00:00:00",
          "2017-01-31T00:00:00",
          "2017-02-01T00:00:00",
          "2017-02-02T00:00:00",
          "2017-02-03T00:00:00",
          "2017-02-04T00:00:00",
          "2017-02-05T00:00:00",
          "2017-02-06T00:00:00",
          "2017-02-07T00:00:00",
          "2017-02-08T00:00:00",
          "2017-02-09T00:00:00",
          "2017-02-10T00:00:00",
          "2017-02-11T00:00:00",
          "2017-02-12T00:00:00",
          "2017-02-13T00:00:00",
          "2017-02-14T00:00:00",
          "2017-02-15T00:00:00",
          "2017-02-16T00:00:00",
          "2017-02-17T00:00:00",
          "2017-02-18T00:00:00",
          "2017-02-19T00:00:00",
          "2017-02-20T00:00:00",
          "2017-02-21T00:00:00",
          "2017-02-22T00:00:00",
          "2017-02-23T00:00:00",
          "2017-02-24T00:00:00",
          "2017-02-25T00:00:00",
          "2017-02-26T00:00:00",
          "2017-02-27T00:00:00",
          "2017-02-28T00:00:00",
          "2017-03-01T00:00:00",
          "2017-03-02T00:00:00",
          "2017-03-03T00:00:00",
          "2017-03-04T00:00:00",
          "2017-03-05T00:00:00",
          "2017-03-06T00:00:00",
          "2017-03-07T00:00:00",
          "2017-03-08T00:00:00",
          "2017-03-09T00:00:00",
          "2017-03-10T00:00:00",
          "2017-03-11T00:00:00",
          "2017-03-12T00:00:00",
          "2017-03-13T00:00:00",
          "2017-03-14T00:00:00",
          "2017-03-15T00:00:00",
          "2017-03-16T00:00:00",
          "2017-03-17T00:00:00",
          "2017-03-18T00:00:00",
          "2017-03-19T00:00:00",
          "2017-03-20T00:00:00",
          "2017-03-21T00:00:00",
          "2017-03-22T00:00:00",
          "2017-03-23T00:00:00",
          "2017-03-24T00:00:00",
          "2017-03-25T00:00:00",
          "2017-03-26T00:00:00",
          "2017-03-27T00:00:00",
          "2017-03-28T00:00:00",
          "2017-03-29T00:00:00",
          "2017-03-30T00:00:00",
          "2017-03-31T00:00:00",
          "2017-04-01T00:00:00",
          "2017-04-02T00:00:00",
          "2017-04-03T00:00:00",
          "2017-04-04T00:00:00",
          "2017-04-05T00:00:00",
          "2017-04-06T00:00:00",
          "2017-04-07T00:00:00",
          "2017-04-08T00:00:00",
          "2017-04-09T00:00:00",
          "2017-04-10T00:00:00",
          "2017-04-11T00:00:00",
          "2017-04-12T00:00:00",
          "2017-04-13T00:00:00",
          "2017-04-14T00:00:00",
          "2017-04-15T00:00:00",
          "2017-04-16T00:00:00",
          "2017-04-17T00:00:00",
          "2017-04-18T00:00:00",
          "2017-04-19T00:00:00",
          "2017-04-20T00:00:00",
          "2017-04-21T00:00:00",
          "2017-04-22T00:00:00",
          "2017-04-23T00:00:00",
          "2017-04-24T00:00:00",
          "2017-04-25T00:00:00",
          "2017-04-26T00:00:00",
          "2017-04-27T00:00:00",
          "2017-04-28T00:00:00",
          "2017-04-29T00:00:00",
          "2017-04-30T00:00:00",
          "2017-05-01T00:00:00",
          "2017-05-02T00:00:00",
          "2017-05-03T00:00:00",
          "2017-05-04T00:00:00",
          "2017-05-05T00:00:00",
          "2017-05-06T00:00:00",
          "2017-05-07T00:00:00",
          "2017-05-08T00:00:00",
          "2017-05-09T00:00:00",
          "2017-05-10T00:00:00",
          "2017-05-11T00:00:00",
          "2017-05-12T00:00:00",
          "2017-05-13T00:00:00",
          "2017-05-14T00:00:00",
          "2017-05-15T00:00:00",
          "2017-05-16T00:00:00",
          "2017-05-17T00:00:00",
          "2017-05-18T00:00:00",
          "2017-05-19T00:00:00",
          "2017-05-20T00:00:00",
          "2017-05-21T00:00:00",
          "2017-05-22T00:00:00",
          "2017-05-23T00:00:00",
          "2017-05-24T00:00:00",
          "2017-05-25T00:00:00",
          "2017-05-26T00:00:00",
          "2017-05-27T00:00:00",
          "2017-05-28T00:00:00",
          "2017-05-29T00:00:00",
          "2017-05-30T00:00:00",
          "2017-05-31T00:00:00",
          "2017-06-01T00:00:00",
          "2017-06-02T00:00:00",
          "2017-06-03T00:00:00",
          "2017-06-04T00:00:00",
          "2017-06-05T00:00:00",
          "2017-06-06T00:00:00",
          "2017-06-07T00:00:00",
          "2017-06-08T00:00:00",
          "2017-06-09T00:00:00",
          "2017-06-10T00:00:00",
          "2017-06-11T00:00:00",
          "2017-06-12T00:00:00",
          "2017-06-13T00:00:00",
          "2017-06-14T00:00:00",
          "2017-06-15T00:00:00",
          "2017-06-16T00:00:00",
          "2017-06-17T00:00:00",
          "2017-06-18T00:00:00",
          "2017-06-19T00:00:00",
          "2017-06-20T00:00:00",
          "2017-06-21T00:00:00",
          "2017-06-22T00:00:00",
          "2017-06-23T00:00:00",
          "2017-06-24T00:00:00",
          "2017-06-25T00:00:00",
          "2017-06-26T00:00:00",
          "2017-06-27T00:00:00",
          "2017-06-28T00:00:00",
          "2017-06-29T00:00:00",
          "2017-06-30T00:00:00",
          "2017-07-01T00:00:00",
          "2017-07-02T00:00:00",
          "2017-07-03T00:00:00",
          "2017-07-04T00:00:00",
          "2017-07-05T00:00:00",
          "2017-07-06T00:00:00",
          "2017-07-07T00:00:00",
          "2017-07-08T00:00:00",
          "2017-07-09T00:00:00",
          "2017-07-10T00:00:00",
          "2017-07-11T00:00:00",
          "2017-07-12T00:00:00",
          "2017-07-13T00:00:00",
          "2017-07-14T00:00:00",
          "2017-07-15T00:00:00",
          "2017-07-16T00:00:00",
          "2017-07-17T00:00:00",
          "2017-07-18T00:00:00",
          "2017-07-19T00:00:00",
          "2017-07-20T00:00:00",
          "2017-07-21T00:00:00",
          "2017-07-22T00:00:00",
          "2017-07-23T00:00:00",
          "2017-07-24T00:00:00",
          "2017-07-25T00:00:00",
          "2017-07-26T00:00:00",
          "2017-07-27T00:00:00",
          "2017-07-28T00:00:00",
          "2017-07-29T00:00:00",
          "2017-07-30T00:00:00",
          "2017-07-31T00:00:00",
          "2017-08-01T00:00:00",
          "2017-08-02T00:00:00",
          "2017-08-03T00:00:00",
          "2017-08-04T00:00:00",
          "2017-08-05T00:00:00",
          "2017-08-06T00:00:00",
          "2017-08-07T00:00:00",
          "2017-08-08T00:00:00",
          "2017-08-09T00:00:00",
          "2017-08-10T00:00:00",
          "2017-08-11T00:00:00",
          "2017-08-12T00:00:00",
          "2017-08-13T00:00:00",
          "2017-08-14T00:00:00",
          "2017-08-15T00:00:00"
         ],
         "xaxis": "x5",
         "y": [
          2511.618999,
          496092.417944,
          361461.231124,
          354459.6770927,
          477350.121229,
          519695.401088,
          336122.801066,
          318347.777981,
          302530.809018,
          258982.003049,
          289737.6850845,
          403258.2120105,
          464638.547998,
          293348.362078,
          299129.549954,
          318347.913946,
          267498.5159755,
          296130.850028,
          432459.852021,
          461092.386047,
          311211.26595000003,
          296214.728983,
          283258.4530325,
          247245.690995,
          290022.77193,
          413799.7679753,
          430411.991233,
          285460.169953,
          264488.81807649997,
          281061.127052,
          271254.217996,
          369402.055266,
          518887.462705,
          486336.82018,
          344308.715017,
          321245.83913,
          321538.177149,
          290807.530973,
          347441.789912,
          416176.2790747,
          300951.328993,
          278627.588926,
          308800.7909121,
          319597.929962,
          308164.016957,
          320168.883912,
          485660.494008,
          399588.910014,
          350745.573191,
          293637.801951,
          313803.162034,
          267711.1090155,
          285679.869131,
          412897.349113,
          452726.126103,
          307110.875933,
          270425.0070675,
          288401.998919,
          278116.291888,
          378898.165064,
          547857.205258,
          559820.580027,
          383647.679097,
          332189.993189,
          335726.580968,
          293099.52701,
          316600.679967,
          453259.496866,
          461859.756153,
          318379.133021,
          271823.37801,
          287869.663972,
          247541.420096,
          315878.090213,
          482233.433961,
          513439.584913,
          330283.80303,
          294020.245897,
          321207.006946,
          269130.127953,
          304100.453969,
          453192.003086,
          449794.636951,
          317559.6099585,
          275818.2359,
          313691.148998,
          339293.269022,
          345513.132,
          452661.356036,
          462107.639956,
          428816.447912,
          377732.827961,
          373731.0758793,
          308738.385963,
          336394.782031,
          509424.214023,
          519048.376884,
          346649.815943,
          306335.8019617,
          312846.374941,
          303223.41301,
          314394.967035,
          453442.497048,
          478417.148813,
          338712.458055,
          333431.880049,
          334990.518942,
          281924.509951,
          311588.70494,
          459884.838043,
          485721.032087,
          328886.320986,
          302097.8329435,
          310555.184925,
          268790.618996,
          304413.556952,
          446665.337895,
          477623.4729303,
          328795.874018,
          310186.466894,
          507974.636889,
          348709.460063,
          374291.2510323,
          520339.51596499997,
          580268.550981,
          369869.383046,
          317292.964148,
          332477.410968,
          305868.0570225,
          335937.441949,
          512090.58108,
          387860.5050145,
          350598.06187,
          308469.313119,
          329113.560081,
          307556.946937,
          330004.241998,
          480969.558942,
          518153.554009,
          341787.214991,
          307178.399952,
          301785.4831075,
          289261.058026,
          398389.241982,
          417930.141993,
          450631.400068,
          321630.8309235,
          307329.1680565,
          309333.380899,
          304344.849939,
          330257.841975,
          566901.814988,
          637698.494958,
          426332.097995,
          369705.160085,
          361791.080915,
          317496.765891,
          357673.087977,
          466292.699096,
          526804.730256,
          349754.291978,
          283858.2159925,
          320173.5779987,
          282886.9200452,
          326956.74210719997,
          505950.6668701,
          435894.082881,
          370944.271024,
          320885.3399215,
          319235.25797700003,
          293877.944015,
          319722.6870265,
          446347.312096,
          504964.845142,
          336631.9640383,
          305119.530064,
          301847.2489636,
          266525.458966,
          324210.971803,
          509379.108146,
          533481.693027,
          441758.3880965,
          390958.38408,
          374551.917949,
          327020.179028,
          351401.500074,
          479514.493924,
          500606.073078,
          365452.995017,
          317279.1449993,
          314134.886071,
          281750.931023,
          308786.438133,
          432569.1022205,
          438722.417857,
          348803.0469486,
          335516.229006,
          324313.8180255,
          287074.8739522,
          313332.555049,
          435497.731013,
          437952.624049,
          342802.29905,
          316257.463107,
          309243.7899995,
          298074.2249247,
          318745.692921,
          423890.5020012,
          433358.6520873,
          331493.2850525,
          318553.989932,
          357982.979012,
          397555.3181021,
          393831.120007,
          516956.846013,
          514267.27594,
          407033.810946,
          357263.854086,
          351302.132003,
          310953.0239315,
          337521.667868,
          434184.94409,
          434720.3230013,
          349539.224033,
          317103.331061,
          324377.386893,
          311043.17291,
          364487.3218839,
          448835.3109167,
          464053.7730675,
          362085.52696,
          343046.11398,
          335724.643932,
          306473.26098,
          331906.369098,
          420576.154994,
          443694.093754,
          347159.6410143,
          319688.2190185,
          319322.060993,
          294518.685943,
          354932.930947,
          523631.3811059,
          640406.221875,
          458792.960966,
          397680.420032,
          392565.48591,
          330622.779063,
          335442.247929,
          518584.247,
          560852.005091,
          377151.7070027,
          308074.4658225,
          323124.61885,
          282855.730937,
          319556.942029,
          476364.004996,
          532852.959041,
          373229.840879,
          327282.949966,
          315687.718926,
          279580.372008,
          331846.9039701,
          468298.380896,
          502068.7019007,
          356043.0340047,
          303333.392926,
          312490.104996,
          273057.8798588,
          320246.574024,
          484903.6890081,
          522868.441946,
          367068.4500143,
          436441.034076,
          414455.6550375,
          348933.24703,
          378109.978059,
          540156.625057,
          553031.424016,
          373387.109043,
          326726.7240121,
          322529.418957,
          305047.0980576,
          402913.849028,
          426379.6909939,
          481781.2559686,
          342694.7209944,
          305242.569986,
          355696.963943,
          312949.412961,
          323327.873107,
          488245.570001,
          537713.5090483,
          348721.327971,
          301641.7850828,
          323105.11598,
          276059.0800025,
          317570.4260338,
          452902.363914,
          512891.4830689,
          346941.91396,
          302332.9969864,
          319494.7050373,
          298195.433106,
          403637.232955,
          540615.555037,
          602796.556029,
          424314.167046,
          393322.182909,
          386426.9788195,
          346293.3400477,
          358473.978049,
          513850.32307,
          587666.490239,
          374087.890067,
          373277.748034,
          332279.2568851,
          284567.4029707,
          349383.296052,
          524065.5881155,
          579209.228924,
          391945.551999,
          329455.2710234,
          354337.734795,
          298047.047965,
          340734.213038,
          485544.298837,
          550925.293106,
          365965.5090102,
          323292.830024,
          337083.286026,
          305982.981947,
          357000.404165,
          541977.655801,
          698217.128989,
          495488.366984,
          424438.046973,
          424147.0459855,
          386406.804985,
          432661.755068,
          537181.319801,
          588855.895921,
          442309.3141075,
          414421.695986,
          422957.198908,
          384256.080979,
          434657.0129787,
          554911.917024,
          642015.7758165,
          516060.290853,
          480470.71684249997,
          527481.336925,
          507461.038187,
          544104.2676365,
          685673.07474,
          696295.146867,
          792865.284427,
          620663.290732,
          0,
          470731.1624137,
          479314.968043,
          556952.3059789999,
          499719.5049237,
          635134.7358515,
          507264.6630475,
          8602.065404,
          801011.226041,
          680672.845603,
          936628.8866039,
          949618.78894,
          602268.564009,
          563450.5988595,
          636176.853478,
          496377.933414,
          543055.329066,
          787321.455619,
          844633.598917,
          555547.0150185,
          502643.104285,
          567067.469069,
          502789.214207,
          542937.915657,
          786779.8899055,
          851735.334091,
          575850.061871,
          538817.207912,
          553097.596874,
          460789.0398597,
          526124.572256,
          733880.979053,
          814057.732862,
          540798.833711,
          481593.435798,
          512853.989922,
          453642.9707033,
          560816.192394,
          648870.19898,
          619805.537102,
          461637.5229585,
          403189.5869763,
          399138.3059075,
          359139.101529,
          389471.568011,
          530128.059914,
          520753.7470746,
          396622.737011,
          358382.7339877,
          387758.393971,
          347373.2985675,
          361206.4069057,
          538893.357859,
          595300.23508,
          412029.2879535,
          365331.247942,
          360161.6390075,
          322451.9201135,
          369403.653633,
          538206.082827,
          487896.463891,
          404224.188997,
          351418.110084,
          353604.266985,
          330330.185244,
          425624.795466,
          911360.2578707,
          667413.052988,
          613973.031386,
          748930.902096,
          741756.416525,
          614082.444339,
          598242.341178,
          753345.259201,
          916117.649984,
          587414.828974,
          539365.375063,
          575676.797032,
          473298.042544,
          530515.2554715,
          731049.789851,
          929808.492772,
          612719.522118,
          537427.86875,
          585974.657018,
          500897.112641,
          548811.469984,
          771704.933772,
          838814.636064,
          571762.044919,
          539861.6183493,
          569680.543547,
          468581.39830400003,
          538905.781947,
          822333.142686,
          873958.8396415,
          651800.509461,
          485079.887001,
          463917.316107,
          388867.961418,
          422578.745073,
          617680.194045,
          631888.250898,
          426091.1040178,
          376663.272105,
          375309.08201199997,
          334052.7571255,
          379646.845927,
          529919.922964,
          540190.281942,
          381386.309033,
          364689.054991,
          411357.084985,
          397464.842904,
          394392.184115,
          496904.749136,
          520126.3980386,
          398677.396998,
          370552.249018,
          372232.595049,
          320875.477858,
          357173.708433,
          497334.735036,
          560508.420995,
          362271.9169815,
          326338.348031,
          357079.964912,
          530380.848064,
          443284.891212,
          610391.748971,
          646164.863883,
          427601.704071,
          388945.890086,
          391932.183945,
          337483.713217,
          381335.196055,
          577012.026997,
          454512.928937,
          398251.889006,
          360734.522978,
          356373.806985,
          332272.8296378,
          380822.742652,
          537873.964019,
          634519.7368283,
          388814.744958,
          354372.33997,
          356898.483031,
          310660.142642,
          349549.892726,
          516627.261707,
          573412.21016,
          373831.086112,
          327642.143098,
          338481.784057,
          326624.5773325,
          375782.6398709,
          597192.467989,
          742732.830236,
          512725.7729758,
          443636.187975,
          423284.494993,
          359474.513823,
          391266.125449,
          557142.461024,
          626026.956957,
          415798.946041,
          351689.4229725,
          373828.16418,
          329408.06736,
          392308.374573,
          622072.988944,
          441279.9339945,
          447450.23987,
          380396.036044,
          373408.6641423,
          332280.93509600003,
          369206.789547,
          538613.855166,
          591184.1240535,
          414929.6359765,
          340464.7450455,
          355342.398017,
          315798.180924,
          370793.573429,
          510870.81398,
          567218.8850125,
          429324.0552005,
          720480.616788,
          747430.1471275,
          583844.7207922,
          595424.31324,
          817307.1101677,
          918276.596259,
          638526.428909,
          557291.4975265,
          574451.409963,
          498047.54898,
          535644.182793,
          756698.7523004999,
          733653.779849,
          584867.15114,
          562860.0268329,
          621336.4939885,
          498221.7050971,
          547619.0590519,
          728988.226204,
          776474.1180457,
          600228.430008,
          530276.040011,
          574168.635995,
          484618.8170115,
          579767.285128,
          688919.5500267,
          747307.86662,
          583936.68549,
          524743.3250017,
          578056.965281,
          532423.558194,
          506826.7949305,
          626533.637869,
          625898.205888,
          471173.304022,
          417197.476176,
          402914.370941,
          359701.53298899997,
          397759.9389829,
          496192.787084,
          509681.7650025,
          409544.575013,
          353898.211991,
          372116.544964,
          340740.8170565,
          402631.8400593,
          533996.15517,
          564443.173007,
          433042.298907,
          379329.9530773,
          398126.790988,
          355108.8749955,
          388359.8983235,
          499678.208204,
          528990.5611087,
          412250.075007,
          355053.9079745,
          366321.498077,
          327912.427,
          403288.917062,
          586373.694132,
          660088.183052,
          812526.219024,
          717351.552768,
          726683.8617375,
          551340.0774347,
          603043.241921,
          870139.4459765,
          997964.077948,
          648651.744928,
          562420.568002,
          612987.4722337,
          483462.953022,
          564382.847851,
          795802.238124,
          896501.5622945,
          630710.5728885,
          608239.973016,
          617472.3442115,
          479500.843061,
          550213.093909,
          808490.763077,
          901420.451004,
          589120.293928,
          559954.304399,
          598183.114508,
          466867.377076,
          515474.223943,
          781202.367982,
          886531.789814,
          586682.822002,
          599093.9157257,
          784500.253914,
          634306.519052,
          675639.295098,
          931317.51302,
          985466.962071,
          641480.757266,
          586410.2709706,
          620201.323059,
          510519.923104,
          702470.317955,
          748309.153739,
          843971.132714,
          611726.926015,
          550589.573294,
          624797.469491,
          538252.607117,
          558538.135999,
          820840.970792,
          935410.595877,
          624629.990941,
          542207.165266,
          584926.355993,
          492233.2322,
          528403.680064,
          758926.230707,
          892128.498949,
          572806.6319285,
          512678.811505,
          560819.6780005,
          459715.26616,
          561876.0719155,
          873539.2478855,
          709851.4922288,
          973192.041735,
          702751.953595,
          718799.9390395,
          566118.381055,
          585330.25773,
          816064.644983,
          941478.422301,
          593376.793073,
          552505.750307,
          588093.484021,
          468057.386823,
          553007.970965,
          786124.201177,
          956619.401927,
          620876.340058,
          553367.204141,
          580234.0113007,
          511855.7610447,
          567978.732759,
          763720.148593,
          907432.656994,
          610847.95702,
          541225.608011,
          579125.306002,
          475823.897052,
          559619.825094,
          850925.105136,
          1023691.281592,
          817413.561974,
          735319.1840285,
          715127.614539,
          578961.517004,
          635445.153317,
          829386.70612,
          1013889.8074,
          790283.289992,
          665123.962957,
          732121.033873,
          580542.178879,
          642760.387245,
          854830.905829,
          999106.1325775,
          790182.945791,
          799067.056179,
          779966.499188,
          731938.479893,
          757349.3758179,
          935555.52434,
          1056605.2012285,
          1008143.3460193,
          1064977.9730725,
          965982.871715,
          0,
          872098.456795,
          740596.158932,
          716329.635071,
          773998.401175,
          912970.533204,
          844380.469674,
          12773.61698,
          657763.391981,
          648880.686926,
          730923.776022,
          569267.29796,
          477886.741053,
          494160.850117,
          417482.689131,
          439381.226073,
          569956.90801,
          694860.9511,
          442845.544014,
          393799.993059,
          400923.97107,
          371146.144942,
          423599.9357975,
          621865.434007,
          678277.030991,
          448217.896919,
          405308.77722,
          413202.592067,
          364862.5390355,
          416937.181925,
          588849.871003,
          631623.951015,
          410009.617966,
          360009.850046,
          376935.916035,
          343062.160973,
          435899.6719165,
          656205.841844,
          815294.475951,
          538301.886974,
          475249.842928,
          451923.147059,
          407491.967944,
          437147.54517,
          599911.594879,
          622994.231951,
          458002.152043,
          400825.9849177,
          400115.3330245,
          384963.142969,
          493265.468013,
          562855.068099,
          434886.671834,
          420740.903983,
          483088.13409300003,
          497499.057967,
          436360.905914,
          483681.015026,
          572753.075038,
          691339.067796,
          443349.890841,
          407890.277971,
          395774.954032,
          354938.226975,
          436488.424914,
          635263.400075,
          820434.978924,
          546037.787999,
          492365.24083,
          483330.548167,
          428599.809059,
          463723.974873,
          657377.210913,
          659563.411966,
          480371.950086,
          457881.7640763,
          425617.727075,
          382588.6690535,
          434805.995204,
          616609.760896,
          662700.871933,
          466598.425914,
          415359.51603,
          398629.999994,
          373324.3829895,
          467687.945081,
          624099.228222,
          646466.401887,
          462664.2370045,
          407369.722015,
          408258.189916,
          367006.957001,
          436906.608975,
          589854.7040575,
          641213.770163,
          437878.834978,
          443278.893073,
          557223.161038,
          524588.902022,
          510296.785948,
          653894.195903,
          659669.577136,
          519734.816963,
          464788.21798,
          461140.213006,
          398718.315935,
          445869.298012,
          610603.017074,
          659939.024086,
          453724.756048,
          403623.396979,
          438106.287965,
          418643.193957,
          456303.236748,
          629155.66071,
          684544.950159,
          481694.770966,
          426018.313035,
          421108.210059,
          392147.042002,
          437625.507963,
          588781.512939,
          625901.000988,
          425049.148087,
          374839.1850745,
          398724.330055,
          432612.141938,
          674509.400095,
          711052.273896,
          742887.785029,
          556245.147953,
          509493.227021,
          504999.550962,
          444082.309939,
          481304.22297,
          706705.4400759999,
          558062.273048,
          524864.051063,
          452162.874045,
          446915.639008,
          395609.666087,
          483535.538107,
          709798.552994,
          798186.132143,
          496595.01098,
          446375.4880335,
          466238.630977,
          417006.136035,
          458727.917031,
          658882.9229615,
          738068.426823,
          534802.790004,
          463132.406006,
          481804.96096,
          428506.881011,
          560519.530038,
          855728.291973,
          1023564.76704,
          812081.2027655,
          753430.6418917,
          747929.452075,
          608994.6461083,
          657675.126037,
          904437.271141,
          1070695.9178497,
          696952.81204,
          623725.1071692,
          641435.3719983,
          510019.1489275,
          606616.000975,
          840727.775905,
          967745.7218685,
          666557.1317587,
          672637.824072,
          677171.157112,
          556155.0391433,
          659233.5706609,
          936951.654373,
          790568.421132,
          701208.22895,
          640322.326029,
          643411.714061,
          518700.9558973,
          593299.460788,
          831492.4641955,
          976563.5890657,
          639072.192193,
          669548.425059,
          885953.200992,
          705642.2820965,
          772773.3939200001,
          1018541.84294,
          982427.6819,
          754949.70914,
          654821.0515315,
          732992.130029,
          605032.4963965,
          643986.381178,
          794984.703157,
          898731.936734,
          647967.077874,
          601452.258023,
          664505.1001790001,
          584042.727022,
          653452.17114,
          826353.336031,
          894707.299378,
          685961.243972,
          607836.498977,
          631385.408886,
          541511.421067,
          635244.2449785,
          797427.520942,
          875032.0362592,
          652999.1942961001,
          594977.6665523,
          625449.98155,
          543393.592625,
          695083.4489723,
          1044894.790061,
          1043495.475018,
          811119.83411,
          726613.35811,
          724346.594,
          583375.211759,
          663326.5180703,
          784099.215997,
          679410.125135,
          785477.934216,
          668280.357956,
          678064.7316857,
          557859.477954,
          734484.205049,
          936339.026059,
          913846.62503,
          694747.161863,
          629475.6430527,
          653733.3600063,
          569443.704073,
          653281.208151,
          803270.157597,
          865755.397429,
          681575.9899773,
          624698.33755,
          640075.9908365,
          548043.327354,
          635737.2322,
          876953.096934,
          975697.601858,
          776152.5521897,
          906549.992952,
          879033.0925,
          707093.042,
          736395.302632,
          1052868.394291,
          1147642.583011,
          767382.7769737,
          677312.236066,
          705633.4998935,
          577743.795026,
          651330.167952,
          921524.436013,
          1023345.318906,
          688405.190061,
          682134.3540295,
          742089.667998,
          593577.802125,
          653805.874946,
          935893.481059,
          1037532.860693,
          717725.376959,
          641914.7389995,
          690419.721922,
          557321.610921,
          646083.8750635,
          890486.060145,
          1018062.963565,
          671261.0640092,
          609130.6581453,
          711182.539054,
          796340.858947,
          830719.387744,
          1179376.177625,
          1234130.938595,
          809524.837996,
          696169.275967,
          720562.330573,
          603066.030064,
          873934.7190479999,
          867556.973019,
          973329.203973,
          721634.5721813,
          585141.5538577,
          688198.106351,
          577952.197162,
          693829.351874,
          958052.958031,
          1071477.102879,
          699259.488037,
          660308.361186,
          672847.3460333,
          547020.0469813,
          639040.6062,
          859950.710621,
          1018783.141953,
          649914.352338,
          587066.101075,
          599388.1222552,
          511860.0689186,
          635875.8911987,
          915956.851878,
          819250.388037,
          762549.794932,
          1033439.132986,
          855494.43996,
          649662.670907,
          671145.788057,
          929723.344157,
          1077361.9559685,
          683644.901987,
          623529.1790699,
          689746.212316,
          506937.6640027,
          626674.025055,
          867597.332909,
          1056159.462651,
          716508.7092175,
          618919.988059,
          683954.18795,
          560452.567301,
          665619.668251,
          863726.8816559,
          1015844.2849005,
          696685.460932,
          612710.200935,
          658917.83013,
          530358.330027,
          645087.0350447,
          850596.003884,
          1070619.802932,
          762036.1239965,
          857620.9426407,
          867269.5758400001,
          676883.031992,
          749354.1319635,
          966202.367876,
          1143119.31945,
          822334.708983,
          712569.16983,
          747893.782087,
          657427.1785246,
          708392.807819,
          915667.884291,
          1059425.4213405,
          811613.7221567,
          779809.953397,
          859930.249129,
          809809.748717,
          893569.902701,
          1095523.5178683,
          1175416.9636673,
          1072887.476889,
          1141861.90926,
          1196146.056374,
          1083680.315238,
          0,
          946725.190766,
          837714.129168,
          789684.9127821,
          870762.025758,
          1030043.735764,
          964641.5415009999,
          16433.394,
          1066677.424862,
          1226735.719895,
          955956.875097,
          835320.439089,
          821685.655923,
          653504.3669428,
          713608.3341557,
          989209.458148,
          1094693.83696,
          705495.240963,
          647058.461085,
          660045.317135,
          561972.62307,
          671027.100027,
          959827.146436,
          1057997.343303,
          709784.229951,
          630929.75099,
          738744.013045,
          552820.7690359,
          648431.428037,
          906754.833923,
          980927.7570135,
          658090.687097,
          609465.787904,
          647254.67807,
          533709.8489592,
          660492.758086,
          969938.376831,
          1093211.2294,
          872063.3148838,
          765233.207779,
          772360.939004,
          650328.166941,
          768586.5079877,
          941954.07605,
          697791.630994,
          636542.677274,
          746939.64016,
          790988.713851,
          646376.371075,
          698152.0698755,
          859023.0269945,
          940214.498527,
          746671.290005,
          719111.88609,
          723794.722013,
          570072.678149,
          672510.133621,
          883790.2212395,
          991384.2700283,
          698907.63622,
          641329.0610941,
          675573.377814,
          557959.327812,
          641922.8016649,
          916704.0687289999,
          994502.727301,
          726619.7578255,
          897927.643296,
          878452.364907,
          671564.7523075,
          747546.7958183,
          1028620.677053,
          1078958.5091855,
          738126.524119,
          642291.3448895,
          694645.8489091,
          572491.856825,
          664893.5129268001,
          898101.109871,
          954980.3301475,
          668066.393105,
          668186.702459,
          739805.377693,
          580452.5319757,
          666756.8191527,
          895038.512068,
          929605.582019,
          690469.800941,
          622695.8369947,
          714881.17408,
          660489.8450025,
          633524.200062,
          800133.5174955,
          833336.064862,
          661057.8656583,
          621166.0630926,
          660138.988943,
          617374.3379607,
          872467.3200749999,
          1150824.580929,
          1266908.291001,
          795237.1920634999,
          725750.101045,
          744784.8430795,
          587939.720177,
          689727.1961377,
          927981.389244,
          1008876.737901,
          665348.963943,
          651657.0342615,
          672611.48105,
          546785.2089455,
          667606.299867,
          862121.492036,
          1271833.739255,
          1345920.6048929,
          1152089.208085,
          1062426.2900389,
          1001079.779168,
          857059.24399,
          1022143.1346499,
          1039369.932014,
          680000.753839,
          704799.4182328,
          670288.098041,
          543339.849013,
          708711.428894,
          1067335.770093,
          1270121.20756,
          973985.670432,
          792205.5501393,
          798654.4540987,
          648701.6029645,
          761422.5161262,
          1071192.776983,
          820824.6380683,
          771767.6541339,
          693010.486981,
          727543.4630335,
          603394.2070997,
          666833.8999414,
          932869.5212631,
          1070331.66738,
          748112.686851,
          661930.83884,
          671232.9593407,
          581470.5602065,
          706024.0579254,
          910757.16309,
          1030671.62292,
          695004.681298,
          606377.2052165,
          637512.038734,
          571968.623123,
          852689.219312,
          816187.2200643,
          959853.658039,
          752452.419172,
          974327.9898907,
          811525.320315,
          694535.9356793,
          742363.085208,
          1011996.61607,
          1123734.4361,
          729894.222866,
          658714.653306,
          696747.5498651,
          547139.6129411,
          637354.31962,
          845838.2061645,
          947479.764963,
          685382.193062,
          622267.7731045,
          708327.6370845,
          620526.243001,
          737897.438279,
          972971.109711,
          837363.023871,
          735754.3648971,
          679248.0220203,
          677730.6512057,
          559653.337429,
          641812.675912,
          860296.8349625,
          954344.666933,
          684735.608995,
          596948.934953,
          632489.476942,
          554144.864923,
          857027.5539605,
          1078485.141848,
          1126713.707945,
          850891.598845,
          728011.558041,
          752110.940641,
          591702.7820185,
          688563.400224,
          868259.9708787,
          932486.3001359,
          688436.1450485,
          627039.780111,
          642494.4024465,
          535124.328126,
          675032.4290353,
          887192.885063,
          932586.6967328,
          702619.751022,
          633176.2922806,
          686848.847004,
          578823.6890245,
          646633.655341,
          822292.472006,
          847867.677942,
          697383.602092,
          622771.923903,
          651121.9849837,
          533256.2493581,
          669585.8378729,
          910213.871959,
          997916.9572141,
          895580.405053,
          777592.8388893,
          779844.8100532,
          622883.098161,
          704092.7391311,
          858903.2119025,
          904321.436838,
          715195.5388238,
          635538.981035,
          658457.436112,
          596729.279945,
          745662.5051491,
          714905.9190669,
          761826.1289779,
          720032.299881,
          718671.651353,
          725945.703034,
          577350.5209386,
          678767.115815,
          828986.33584,
          901870.149939,
          714866.233843,
          660819.9779755,
          674613.0479498,
          554421.529139,
          646698.272887,
          791047.534486,
          858802.419759,
          671845.736816,
          624711.335056,
          731430.1240452,
          718105.570925,
          837129.587642,
          1057581.210918,
          1109985.857533,
          813763.2950235,
          751583.025072,
          738543.916999,
          595849.2986095,
          658969.026968,
          915938.559049,
          1017369.2242663,
          678776.4591265,
          603427.946974,
          624262.071976,
          568324.812986,
          691912.601466,
          899219.297508,
          1018662.657394,
          681159.341976,
          650980.3219717001,
          666928.400013,
          533276.332017,
          663685.9846653,
          861830.389997,
          952352.5509251,
          664217.4402937,
          587908.3278165,
          631761.1750463,
          520744.9210333,
          703198.490806,
          1175033.65823,
          1256480.1709663,
          833060.55889,
          724113.096039,
          749712.3000211,
          581429.340158,
          797612.239327,
          932551.706831,
          1088251.479908,
          725312.8469015,
          625271.993952,
          665126.077693,
          558859.8909975,
          667954.207226,
          890613.591114,
          1104504.6882152,
          710456.4240015,
          630638.592023,
          647823.468973,
          583001.280078,
          669453.5420583,
          843626.415914,
          1022953.689959,
          668507.6451983,
          610590.8979547,
          633413.8905697,
          544361.4798829,
          638838.252231,
          841074.6969995,
          954838.191008,
          654923.5029715,
          811832.445984,
          969033.618953,
          793811.6841115,
          858468.216477,
          887751.298669,
          1140367.104134,
          849451.0429045,
          767439.628434,
          790276.839009,
          588241.7590247,
          713396.4541223,
          929802.771943,
          1188982.232398,
          735723.172977,
          691801.6290437999,
          830431.7415873,
          615228.2560159,
          738265.552222,
          935656.0010137,
          1125178.987911,
          773762.280859,
          690281.251004,
          753685.041456,
          595457.3062203,
          737819.484836,
          908066.823384,
          1056721.5920875,
          752583.7680527,
          645760.5082353,
          767361.704324,
          843603.315088,
          853454.930795,
          1113440.567059,
          1276195.0362097,
          896824.938971,
          932546.385931,
          867653.7351403,
          674077.382905,
          774941.923982,
          920050.745917,
          1119324.243986,
          844251.703802,
          747161.615593,
          829763.2190675,
          747641.1828753001,
          918899.786306,
          1071655.6282493,
          1260471.9085900001,
          1028242.8227987,
          1080402.388032,
          1181307.3270735,
          1135849.391084,
          1282145.5171351,
          1246837.8430543,
          0,
          1032770.748898,
          842475.490118,
          951533.7138481,
          894108.236835,
          1163643.0379923,
          1109012.812049,
          12082.500997,
          1402306.370834,
          1104377.0798245,
          990093.463742,
          777620.9540695,
          839600.237989,
          1103806.298949,
          1192543.750978,
          793724.8969065,
          742635.5692609,
          770742.690065,
          629635.794004,
          768898.9443882,
          1021050.536226,
          1175725.165838,
          824488.666175,
          750836.542952,
          782656.0246723,
          606949.7448793,
          725703.6910875,
          1072721.724905,
          1148214.358454,
          798133.612125,
          721275.774781,
          744342.5929227,
          576515.5369877,
          722113.958837,
          977850.40585,
          1075166.993043,
          698123.768037,
          778222.285925,
          961777.382874,
          748882.732615,
          834667.1519293,
          1132788.541413,
          1151987.631095,
          786672.394181,
          739431.213302,
          783605.377185,
          624387.487899,
          752207.2398545,
          944924.65301,
          1074820.900014,
          794314.4320675,
          642613.187069,
          745780.355084,
          645968.2570671,
          758855.71279,
          1063394.844003,
          858897.1230135,
          759120.0599607,
          717807.6770255,
          739388.0344027,
          675578.500156,
          816197.498952,
          1026011.2228075,
          775708.987978,
          744956.948138,
          949366.8290505,
          1008521.709962,
          836225.179072,
          882639.776274,
          1125736.3470592,
          1196983.690104,
          790143.2410905,
          761866.729975,
          781046.6619577,
          653901.1919827,
          773855.30685,
          1001174.4340065,
          1146006.826973,
          754390.380036,
          700998.0346447,
          815621.887369,
          699108.166824,
          812306.77427,
          1038906.566154,
          1157140.638587,
          826428.90991,
          746620.926177,
          767880.804934,
          670848.010029,
          787914.125515,
          1038139.316887,
          1101557.476706,
          784103.265042,
          702943.9485770001,
          824632.985033,
          637624.340998,
          878750.03788,
          1463083.962459,
          1138650.058898,
          835191.622029,
          835602.6360017,
          846631.307907,
          683059.570103,
          765502.211925,
          988591.469958,
          1101713.657101,
          739392.130988,
          741331.430196,
          791762.312883,
          737029.565183,
          740889.486829,
          898610.217928,
          985493.795113,
          775916.9059055,
          717196.315762,
          735733.2142477001,
          675804.0219027,
          795795.893872,
          974952.817869,
          1140070.2748035,
          755072.530945,
          718996.080637,
          781159.2829995,
          624910.0260955,
          797636.6251025,
          1068279.815941,
          1041249.2479705,
          1306699.366897,
          907324.094113,
          924247.257204,
          716654.608983,
          780798.407016,
          1039417.861868,
          1227380.607924,
          776307.495015,
          715811.198881,
          766101.907094,
          648650.413039,
          764812.415784,
          1116976.891153,
          884199.9138385,
          823035.572122,
          807803.8950783,
          841407.607944,
          628487.989962,
          773775.4378677,
          1035667.381833,
          1201938.886229,
          778935.156126,
          723151.767982,
          746303.6271255,
          620108.24391,
          984511.1521135,
          932219.893144,
          1061771.636907,
          776813.137038,
          742471.2769905,
          858062.149411,
          766859.172845,
          918421.319125,
          1176138.109152,
          1376511.520495,
          912693.8511,
          805546.647956,
          842979.8370823,
          667099.801025,
          795116.1360699,
          993732.684049,
          1213673.946877,
          768349.7589517,
          729412.959849,
          785885.9088963,
          660338.346974,
          834786.4275550001,
          1096133.5508865,
          965144.121179,
          791146.393731,
          787326.7170395,
          766159.0112892,
          609868.8309586,
          761049.7450639,
          963268.227135,
          1092610.858614,
          755367.8450665,
          682218.468913,
          731896.9850105,
          630811.802872,
          802273.1392327,
          1207529.921868,
          1296379.2175535,
          925143.408816,
          832359.2860137,
          844301.613116,
          700272.0099567,
          805792.302193,
          998347.1930085,
          1100833.322376,
          804158.8610365,
          730534.767701,
          748799.9959087,
          629651.3629294999,
          765489.6173932999,
          969077.125075,
          1100803.699023,
          818325.522149,
          730133.70894,
          767978.778078,
          688288.067857,
          782418.2992188,
          932902.046681,
          1024288.741245,
          816564.327096,
          713581.632609,
          740653.044167,
          659849.8270588,
          835099.6822035,
          1032310.865737,
          1123752.4779517,
          885856.8408705,
          988527.763204,
          964712.016051,
          728068.485132,
          827775.686128,
          965693.650492,
          1049559.164277,
          797464.963817,
          717766.3491055,
          734139.67401,
          651386.9119697,
          826373.722022,
          792630.5350785,
          865639.677471,
          760922.4060808,
          762661.935939
         ],
         "yaxis": "y5"
        }
       ],
       "layout": {
        "height": 600,
        "template": {
         "data": {
          "bar": [
           {
            "error_x": {
             "color": "#2a3f5f"
            },
            "error_y": {
             "color": "#2a3f5f"
            },
            "marker": {
             "line": {
              "color": "#E5ECF6",
              "width": 0.5
             },
             "pattern": {
              "fillmode": "overlay",
              "size": 10,
              "solidity": 0.2
             }
            },
            "type": "bar"
           }
          ],
          "barpolar": [
           {
            "marker": {
             "line": {
              "color": "#E5ECF6",
              "width": 0.5
             },
             "pattern": {
              "fillmode": "overlay",
              "size": 10,
              "solidity": 0.2
             }
            },
            "type": "barpolar"
           }
          ],
          "carpet": [
           {
            "aaxis": {
             "endlinecolor": "#2a3f5f",
             "gridcolor": "white",
             "linecolor": "white",
             "minorgridcolor": "white",
             "startlinecolor": "#2a3f5f"
            },
            "baxis": {
             "endlinecolor": "#2a3f5f",
             "gridcolor": "white",
             "linecolor": "white",
             "minorgridcolor": "white",
             "startlinecolor": "#2a3f5f"
            },
            "type": "carpet"
           }
          ],
          "choropleth": [
           {
            "colorbar": {
             "outlinewidth": 0,
             "ticks": ""
            },
            "type": "choropleth"
           }
          ],
          "contour": [
           {
            "colorbar": {
             "outlinewidth": 0,
             "ticks": ""
            },
            "colorscale": [
             [
              0,
              "#0d0887"
             ],
             [
              0.1111111111111111,
              "#46039f"
             ],
             [
              0.2222222222222222,
              "#7201a8"
             ],
             [
              0.3333333333333333,
              "#9c179e"
             ],
             [
              0.4444444444444444,
              "#bd3786"
             ],
             [
              0.5555555555555556,
              "#d8576b"
             ],
             [
              0.6666666666666666,
              "#ed7953"
             ],
             [
              0.7777777777777778,
              "#fb9f3a"
             ],
             [
              0.8888888888888888,
              "#fdca26"
             ],
             [
              1,
              "#f0f921"
             ]
            ],
            "type": "contour"
           }
          ],
          "contourcarpet": [
           {
            "colorbar": {
             "outlinewidth": 0,
             "ticks": ""
            },
            "type": "contourcarpet"
           }
          ],
          "heatmap": [
           {
            "colorbar": {
             "outlinewidth": 0,
             "ticks": ""
            },
            "colorscale": [
             [
              0,
              "#0d0887"
             ],
             [
              0.1111111111111111,
              "#46039f"
             ],
             [
              0.2222222222222222,
              "#7201a8"
             ],
             [
              0.3333333333333333,
              "#9c179e"
             ],
             [
              0.4444444444444444,
              "#bd3786"
             ],
             [
              0.5555555555555556,
              "#d8576b"
             ],
             [
              0.6666666666666666,
              "#ed7953"
             ],
             [
              0.7777777777777778,
              "#fb9f3a"
             ],
             [
              0.8888888888888888,
              "#fdca26"
             ],
             [
              1,
              "#f0f921"
             ]
            ],
            "type": "heatmap"
           }
          ],
          "heatmapgl": [
           {
            "colorbar": {
             "outlinewidth": 0,
             "ticks": ""
            },
            "colorscale": [
             [
              0,
              "#0d0887"
             ],
             [
              0.1111111111111111,
              "#46039f"
             ],
             [
              0.2222222222222222,
              "#7201a8"
             ],
             [
              0.3333333333333333,
              "#9c179e"
             ],
             [
              0.4444444444444444,
              "#bd3786"
             ],
             [
              0.5555555555555556,
              "#d8576b"
             ],
             [
              0.6666666666666666,
              "#ed7953"
             ],
             [
              0.7777777777777778,
              "#fb9f3a"
             ],
             [
              0.8888888888888888,
              "#fdca26"
             ],
             [
              1,
              "#f0f921"
             ]
            ],
            "type": "heatmapgl"
           }
          ],
          "histogram": [
           {
            "marker": {
             "pattern": {
              "fillmode": "overlay",
              "size": 10,
              "solidity": 0.2
             }
            },
            "type": "histogram"
           }
          ],
          "histogram2d": [
           {
            "colorbar": {
             "outlinewidth": 0,
             "ticks": ""
            },
            "colorscale": [
             [
              0,
              "#0d0887"
             ],
             [
              0.1111111111111111,
              "#46039f"
             ],
             [
              0.2222222222222222,
              "#7201a8"
             ],
             [
              0.3333333333333333,
              "#9c179e"
             ],
             [
              0.4444444444444444,
              "#bd3786"
             ],
             [
              0.5555555555555556,
              "#d8576b"
             ],
             [
              0.6666666666666666,
              "#ed7953"
             ],
             [
              0.7777777777777778,
              "#fb9f3a"
             ],
             [
              0.8888888888888888,
              "#fdca26"
             ],
             [
              1,
              "#f0f921"
             ]
            ],
            "type": "histogram2d"
           }
          ],
          "histogram2dcontour": [
           {
            "colorbar": {
             "outlinewidth": 0,
             "ticks": ""
            },
            "colorscale": [
             [
              0,
              "#0d0887"
             ],
             [
              0.1111111111111111,
              "#46039f"
             ],
             [
              0.2222222222222222,
              "#7201a8"
             ],
             [
              0.3333333333333333,
              "#9c179e"
             ],
             [
              0.4444444444444444,
              "#bd3786"
             ],
             [
              0.5555555555555556,
              "#d8576b"
             ],
             [
              0.6666666666666666,
              "#ed7953"
             ],
             [
              0.7777777777777778,
              "#fb9f3a"
             ],
             [
              0.8888888888888888,
              "#fdca26"
             ],
             [
              1,
              "#f0f921"
             ]
            ],
            "type": "histogram2dcontour"
           }
          ],
          "mesh3d": [
           {
            "colorbar": {
             "outlinewidth": 0,
             "ticks": ""
            },
            "type": "mesh3d"
           }
          ],
          "parcoords": [
           {
            "line": {
             "colorbar": {
              "outlinewidth": 0,
              "ticks": ""
             }
            },
            "type": "parcoords"
           }
          ],
          "pie": [
           {
            "automargin": true,
            "type": "pie"
           }
          ],
          "scatter": [
           {
            "fillpattern": {
             "fillmode": "overlay",
             "size": 10,
             "solidity": 0.2
            },
            "type": "scatter"
           }
          ],
          "scatter3d": [
           {
            "line": {
             "colorbar": {
              "outlinewidth": 0,
              "ticks": ""
             }
            },
            "marker": {
             "colorbar": {
              "outlinewidth": 0,
              "ticks": ""
             }
            },
            "type": "scatter3d"
           }
          ],
          "scattercarpet": [
           {
            "marker": {
             "colorbar": {
              "outlinewidth": 0,
              "ticks": ""
             }
            },
            "type": "scattercarpet"
           }
          ],
          "scattergeo": [
           {
            "marker": {
             "colorbar": {
              "outlinewidth": 0,
              "ticks": ""
             }
            },
            "type": "scattergeo"
           }
          ],
          "scattergl": [
           {
            "marker": {
             "colorbar": {
              "outlinewidth": 0,
              "ticks": ""
             }
            },
            "type": "scattergl"
           }
          ],
          "scattermapbox": [
           {
            "marker": {
             "colorbar": {
              "outlinewidth": 0,
              "ticks": ""
             }
            },
            "type": "scattermapbox"
           }
          ],
          "scatterpolar": [
           {
            "marker": {
             "colorbar": {
              "outlinewidth": 0,
              "ticks": ""
             }
            },
            "type": "scatterpolar"
           }
          ],
          "scatterpolargl": [
           {
            "marker": {
             "colorbar": {
              "outlinewidth": 0,
              "ticks": ""
             }
            },
            "type": "scatterpolargl"
           }
          ],
          "scatterternary": [
           {
            "marker": {
             "colorbar": {
              "outlinewidth": 0,
              "ticks": ""
             }
            },
            "type": "scatterternary"
           }
          ],
          "surface": [
           {
            "colorbar": {
             "outlinewidth": 0,
             "ticks": ""
            },
            "colorscale": [
             [
              0,
              "#0d0887"
             ],
             [
              0.1111111111111111,
              "#46039f"
             ],
             [
              0.2222222222222222,
              "#7201a8"
             ],
             [
              0.3333333333333333,
              "#9c179e"
             ],
             [
              0.4444444444444444,
              "#bd3786"
             ],
             [
              0.5555555555555556,
              "#d8576b"
             ],
             [
              0.6666666666666666,
              "#ed7953"
             ],
             [
              0.7777777777777778,
              "#fb9f3a"
             ],
             [
              0.8888888888888888,
              "#fdca26"
             ],
             [
              1,
              "#f0f921"
             ]
            ],
            "type": "surface"
           }
          ],
          "table": [
           {
            "cells": {
             "fill": {
              "color": "#EBF0F8"
             },
             "line": {
              "color": "white"
             }
            },
            "header": {
             "fill": {
              "color": "#C8D4E3"
             },
             "line": {
              "color": "white"
             }
            },
            "type": "table"
           }
          ]
         },
         "layout": {
          "annotationdefaults": {
           "arrowcolor": "#2a3f5f",
           "arrowhead": 0,
           "arrowwidth": 1
          },
          "autotypenumbers": "strict",
          "coloraxis": {
           "colorbar": {
            "outlinewidth": 0,
            "ticks": ""
           }
          },
          "colorscale": {
           "diverging": [
            [
             0,
             "#8e0152"
            ],
            [
             0.1,
             "#c51b7d"
            ],
            [
             0.2,
             "#de77ae"
            ],
            [
             0.3,
             "#f1b6da"
            ],
            [
             0.4,
             "#fde0ef"
            ],
            [
             0.5,
             "#f7f7f7"
            ],
            [
             0.6,
             "#e6f5d0"
            ],
            [
             0.7,
             "#b8e186"
            ],
            [
             0.8,
             "#7fbc41"
            ],
            [
             0.9,
             "#4d9221"
            ],
            [
             1,
             "#276419"
            ]
           ],
           "sequential": [
            [
             0,
             "#0d0887"
            ],
            [
             0.1111111111111111,
             "#46039f"
            ],
            [
             0.2222222222222222,
             "#7201a8"
            ],
            [
             0.3333333333333333,
             "#9c179e"
            ],
            [
             0.4444444444444444,
             "#bd3786"
            ],
            [
             0.5555555555555556,
             "#d8576b"
            ],
            [
             0.6666666666666666,
             "#ed7953"
            ],
            [
             0.7777777777777778,
             "#fb9f3a"
            ],
            [
             0.8888888888888888,
             "#fdca26"
            ],
            [
             1,
             "#f0f921"
            ]
           ],
           "sequentialminus": [
            [
             0,
             "#0d0887"
            ],
            [
             0.1111111111111111,
             "#46039f"
            ],
            [
             0.2222222222222222,
             "#7201a8"
            ],
            [
             0.3333333333333333,
             "#9c179e"
            ],
            [
             0.4444444444444444,
             "#bd3786"
            ],
            [
             0.5555555555555556,
             "#d8576b"
            ],
            [
             0.6666666666666666,
             "#ed7953"
            ],
            [
             0.7777777777777778,
             "#fb9f3a"
            ],
            [
             0.8888888888888888,
             "#fdca26"
            ],
            [
             1,
             "#f0f921"
            ]
           ]
          },
          "colorway": [
           "#636efa",
           "#EF553B",
           "#00cc96",
           "#ab63fa",
           "#FFA15A",
           "#19d3f3",
           "#FF6692",
           "#B6E880",
           "#FF97FF",
           "#FECB52"
          ],
          "font": {
           "color": "#2a3f5f"
          },
          "geo": {
           "bgcolor": "white",
           "lakecolor": "white",
           "landcolor": "#E5ECF6",
           "showlakes": true,
           "showland": true,
           "subunitcolor": "white"
          },
          "hoverlabel": {
           "align": "left"
          },
          "hovermode": "closest",
          "mapbox": {
           "style": "light"
          },
          "paper_bgcolor": "white",
          "plot_bgcolor": "#E5ECF6",
          "polar": {
           "angularaxis": {
            "gridcolor": "white",
            "linecolor": "white",
            "ticks": ""
           },
           "bgcolor": "#E5ECF6",
           "radialaxis": {
            "gridcolor": "white",
            "linecolor": "white",
            "ticks": ""
           }
          },
          "scene": {
           "xaxis": {
            "backgroundcolor": "#E5ECF6",
            "gridcolor": "white",
            "gridwidth": 2,
            "linecolor": "white",
            "showbackground": true,
            "ticks": "",
            "zerolinecolor": "white"
           },
           "yaxis": {
            "backgroundcolor": "#E5ECF6",
            "gridcolor": "white",
            "gridwidth": 2,
            "linecolor": "white",
            "showbackground": true,
            "ticks": "",
            "zerolinecolor": "white"
           },
           "zaxis": {
            "backgroundcolor": "#E5ECF6",
            "gridcolor": "white",
            "gridwidth": 2,
            "linecolor": "white",
            "showbackground": true,
            "ticks": "",
            "zerolinecolor": "white"
           }
          },
          "shapedefaults": {
           "line": {
            "color": "#2a3f5f"
           }
          },
          "ternary": {
           "aaxis": {
            "gridcolor": "white",
            "linecolor": "white",
            "ticks": ""
           },
           "baxis": {
            "gridcolor": "white",
            "linecolor": "white",
            "ticks": ""
           },
           "bgcolor": "#E5ECF6",
           "caxis": {
            "gridcolor": "white",
            "linecolor": "white",
            "ticks": ""
           }
          },
          "title": {
           "x": 0.05
          },
          "xaxis": {
           "automargin": true,
           "gridcolor": "white",
           "linecolor": "white",
           "ticks": "",
           "title": {
            "standoff": 15
           },
           "zerolinecolor": "white",
           "zerolinewidth": 2
          },
          "yaxis": {
           "automargin": true,
           "gridcolor": "white",
           "linecolor": "white",
           "ticks": "",
           "title": {
            "standoff": 15
           },
           "zerolinecolor": "white",
           "zerolinewidth": 2
          }
         }
        },
        "title": {
         "text": "Total Sales by year, month, day"
        },
        "width": 1600,
        "xaxis": {
         "anchor": "y",
         "domain": [
          0,
          0.475
         ]
        },
        "xaxis2": {
         "anchor": "y2",
         "domain": [
          0.525,
          1
         ]
        },
        "xaxis3": {
         "anchor": "y3",
         "domain": [
          0,
          0.475
         ]
        },
        "xaxis4": {
         "anchor": "y4",
         "domain": [
          0.525,
          1
         ]
        },
        "xaxis5": {
         "anchor": "y5",
         "domain": [
          0,
          0.475
         ]
        },
        "xaxis6": {
         "anchor": "y6",
         "domain": [
          0.525,
          1
         ]
        },
        "yaxis": {
         "anchor": "x",
         "domain": [
          0.7,
          1
         ]
        },
        "yaxis2": {
         "anchor": "x2",
         "domain": [
          0.7,
          1
         ]
        },
        "yaxis3": {
         "anchor": "x3",
         "domain": [
          0.35,
          0.6499999999999999
         ]
        },
        "yaxis4": {
         "anchor": "x4",
         "domain": [
          0.35,
          0.6499999999999999
         ]
        },
        "yaxis5": {
         "anchor": "x5",
         "domain": [
          0,
          0.3
         ]
        },
        "yaxis6": {
         "anchor": "x6",
         "domain": [
          0,
          0.3
         ]
        }
       }
      }
     },
     "metadata": {},
     "output_type": "display_data"
    }
   ],
   "source": [
    "fig = make_subplots(rows=3, cols=2, vertical_spacing=0.05, horizontal_spacing=0.05)\n",
    "fig.add_trace(px.line(sales_by_year, x='date', y='counts', title='Line Items by Year').data[0], row=1, col=1)\n",
    "fig.add_trace(px.line(sales_by_month, x='date', y='counts', title='Line Items by Year').data[0], row=2, col=1)\n",
    "fig.add_trace(px.line(sales_by_day, x='date', y='counts', title='Line Items by Year').data[0], row=3, col=1)\n",
    "fig.update_layout(height=600, width=1600, title_text=\"Total Sales by year, month, day\")\n",
    "fig\n"
   ]
  },
  {
   "cell_type": "markdown",
   "metadata": {},
   "source": [
    "\n",
    "* Overall upwards trend in sales, drop in 2017 due to only half-year of data\n",
    "* Strong drop in last day of data, maybe last day not fully recorded\n",
    "* Dec 31, Jan1 0 sales, shops might be closed"
   ]
  },
  {
   "cell_type": "code",
   "execution_count": 388,
   "metadata": {},
   "outputs": [
    {
     "data": {
      "application/vnd.plotly.v1+json": {
       "config": {
        "plotlyServerURL": "https://plot.ly"
       },
       "data": [
        {
         "hovertemplate": "year=2013<br>month=%{x}<br>counts=%{y}<extra></extra>",
         "legendgroup": "2013",
         "line": {
          "color": "#636efa",
          "dash": "solid"
         },
         "marker": {
          "symbol": "circle"
         },
         "mode": "lines+markers",
         "name": "2013",
         "orientation": "v",
         "showlegend": true,
         "type": "scatter",
         "x": [
          1,
          2,
          3,
          4,
          5,
          6,
          7,
          8,
          9,
          10,
          11,
          12
         ],
         "xaxis": "x",
         "y": [
          10327624.7369095,
          9658959.7774368,
          11428497.0374875,
          10993464.7380118,
          11597704.0070268,
          11689344.0622436,
          11257400.6076808,
          11737788.9194727,
          11792933.2318679,
          11775620.3605191,
          12356559.2929861,
          15803117.1479746
         ],
         "yaxis": "y"
        },
        {
         "hovertemplate": "year=2014<br>month=%{x}<br>counts=%{y}<extra></extra>",
         "legendgroup": "2014",
         "line": {
          "color": "#EF553B",
          "dash": "solid"
         },
         "marker": {
          "symbol": "circle"
         },
         "mode": "lines+markers",
         "name": "2014",
         "orientation": "v",
         "showlegend": true,
         "type": "scatter",
         "x": [
          1,
          2,
          3,
          4,
          5,
          6,
          7,
          8,
          9,
          10,
          11,
          12
         ],
         "xaxis": "x",
         "y": [
          18911640.7014034,
          12038352.6339783,
          20365584.016477,
          12861251.0571494,
          13379785.2611975,
          13319958.1730016,
          19421891.0438224,
          13885176.4190542,
          20022416.1138096,
          20396101.3141771,
          20531635.2036432,
          24340454.3638302
         ],
         "yaxis": "y"
        },
        {
         "hovertemplate": "year=2015<br>month=%{x}<br>counts=%{y}<extra></extra>",
         "legendgroup": "2015",
         "line": {
          "color": "#00cc96",
          "dash": "solid"
         },
         "marker": {
          "symbol": "circle"
         },
         "mode": "lines+markers",
         "name": "2015",
         "orientation": "v",
         "showlegend": true,
         "type": "scatter",
         "x": [
          1,
          2,
          3,
          4,
          5,
          6,
          7,
          8,
          9,
          10,
          11,
          12
         ],
         "xaxis": "x",
         "y": [
          14896922.0571985,
          13742395.8483812,
          15598607.5183553,
          14955068.1707755,
          17730368.244309,
          21615360.3512421,
          22209619.0387389,
          22963674.2412815,
          23240882.4779112,
          23878267.6645621,
          22804953.3682112,
          27243981.6737737
         ],
         "yaxis": "y"
        },
        {
         "hovertemplate": "year=2016<br>month=%{x}<br>counts=%{y}<extra></extra>",
         "legendgroup": "2016",
         "line": {
          "color": "#ab63fa",
          "dash": "solid"
         },
         "marker": {
          "symbol": "circle"
         },
         "mode": "lines+markers",
         "name": "2016",
         "orientation": "v",
         "showlegend": true,
         "type": "scatter",
         "x": [
          1,
          2,
          3,
          4,
          5,
          6,
          7,
          8,
          9,
          10,
          11,
          12
         ],
         "xaxis": "x",
         "y": [
          23977804.8854341,
          21947408.8010028,
          23131780.8838199,
          25963025.1019622,
          24779432.2602277,
          22209218.5803836,
          23462672.4331036,
          22452414.3178949,
          22417448.0969967,
          24030389.816292,
          24642640.1973935,
          29640287.5793851
         ],
         "yaxis": "y"
        },
        {
         "hovertemplate": "year=2017<br>month=%{x}<br>counts=%{y}<extra></extra>",
         "legendgroup": "2017",
         "line": {
          "color": "#FFA15A",
          "dash": "solid"
         },
         "marker": {
          "symbol": "circle"
         },
         "mode": "lines+markers",
         "name": "2017",
         "orientation": "v",
         "showlegend": true,
         "type": "scatter",
         "x": [
          1,
          2,
          3,
          4,
          5,
          6,
          7,
          8
         ],
         "xaxis": "x",
         "y": [
          26328159.9357051,
          23250112.3749368,
          26704017.6908793,
          25895308.4895551,
          26911847.250593,
          25682822.1249936,
          27011477.5658307,
          12433322.9407775
         ],
         "yaxis": "y"
        }
       ],
       "layout": {
        "legend": {
         "title": {
          "text": "year"
         },
         "tracegroupgap": 0
        },
        "template": {
         "data": {
          "bar": [
           {
            "error_x": {
             "color": "#2a3f5f"
            },
            "error_y": {
             "color": "#2a3f5f"
            },
            "marker": {
             "line": {
              "color": "#E5ECF6",
              "width": 0.5
             },
             "pattern": {
              "fillmode": "overlay",
              "size": 10,
              "solidity": 0.2
             }
            },
            "type": "bar"
           }
          ],
          "barpolar": [
           {
            "marker": {
             "line": {
              "color": "#E5ECF6",
              "width": 0.5
             },
             "pattern": {
              "fillmode": "overlay",
              "size": 10,
              "solidity": 0.2
             }
            },
            "type": "barpolar"
           }
          ],
          "carpet": [
           {
            "aaxis": {
             "endlinecolor": "#2a3f5f",
             "gridcolor": "white",
             "linecolor": "white",
             "minorgridcolor": "white",
             "startlinecolor": "#2a3f5f"
            },
            "baxis": {
             "endlinecolor": "#2a3f5f",
             "gridcolor": "white",
             "linecolor": "white",
             "minorgridcolor": "white",
             "startlinecolor": "#2a3f5f"
            },
            "type": "carpet"
           }
          ],
          "choropleth": [
           {
            "colorbar": {
             "outlinewidth": 0,
             "ticks": ""
            },
            "type": "choropleth"
           }
          ],
          "contour": [
           {
            "colorbar": {
             "outlinewidth": 0,
             "ticks": ""
            },
            "colorscale": [
             [
              0,
              "#0d0887"
             ],
             [
              0.1111111111111111,
              "#46039f"
             ],
             [
              0.2222222222222222,
              "#7201a8"
             ],
             [
              0.3333333333333333,
              "#9c179e"
             ],
             [
              0.4444444444444444,
              "#bd3786"
             ],
             [
              0.5555555555555556,
              "#d8576b"
             ],
             [
              0.6666666666666666,
              "#ed7953"
             ],
             [
              0.7777777777777778,
              "#fb9f3a"
             ],
             [
              0.8888888888888888,
              "#fdca26"
             ],
             [
              1,
              "#f0f921"
             ]
            ],
            "type": "contour"
           }
          ],
          "contourcarpet": [
           {
            "colorbar": {
             "outlinewidth": 0,
             "ticks": ""
            },
            "type": "contourcarpet"
           }
          ],
          "heatmap": [
           {
            "colorbar": {
             "outlinewidth": 0,
             "ticks": ""
            },
            "colorscale": [
             [
              0,
              "#0d0887"
             ],
             [
              0.1111111111111111,
              "#46039f"
             ],
             [
              0.2222222222222222,
              "#7201a8"
             ],
             [
              0.3333333333333333,
              "#9c179e"
             ],
             [
              0.4444444444444444,
              "#bd3786"
             ],
             [
              0.5555555555555556,
              "#d8576b"
             ],
             [
              0.6666666666666666,
              "#ed7953"
             ],
             [
              0.7777777777777778,
              "#fb9f3a"
             ],
             [
              0.8888888888888888,
              "#fdca26"
             ],
             [
              1,
              "#f0f921"
             ]
            ],
            "type": "heatmap"
           }
          ],
          "heatmapgl": [
           {
            "colorbar": {
             "outlinewidth": 0,
             "ticks": ""
            },
            "colorscale": [
             [
              0,
              "#0d0887"
             ],
             [
              0.1111111111111111,
              "#46039f"
             ],
             [
              0.2222222222222222,
              "#7201a8"
             ],
             [
              0.3333333333333333,
              "#9c179e"
             ],
             [
              0.4444444444444444,
              "#bd3786"
             ],
             [
              0.5555555555555556,
              "#d8576b"
             ],
             [
              0.6666666666666666,
              "#ed7953"
             ],
             [
              0.7777777777777778,
              "#fb9f3a"
             ],
             [
              0.8888888888888888,
              "#fdca26"
             ],
             [
              1,
              "#f0f921"
             ]
            ],
            "type": "heatmapgl"
           }
          ],
          "histogram": [
           {
            "marker": {
             "pattern": {
              "fillmode": "overlay",
              "size": 10,
              "solidity": 0.2
             }
            },
            "type": "histogram"
           }
          ],
          "histogram2d": [
           {
            "colorbar": {
             "outlinewidth": 0,
             "ticks": ""
            },
            "colorscale": [
             [
              0,
              "#0d0887"
             ],
             [
              0.1111111111111111,
              "#46039f"
             ],
             [
              0.2222222222222222,
              "#7201a8"
             ],
             [
              0.3333333333333333,
              "#9c179e"
             ],
             [
              0.4444444444444444,
              "#bd3786"
             ],
             [
              0.5555555555555556,
              "#d8576b"
             ],
             [
              0.6666666666666666,
              "#ed7953"
             ],
             [
              0.7777777777777778,
              "#fb9f3a"
             ],
             [
              0.8888888888888888,
              "#fdca26"
             ],
             [
              1,
              "#f0f921"
             ]
            ],
            "type": "histogram2d"
           }
          ],
          "histogram2dcontour": [
           {
            "colorbar": {
             "outlinewidth": 0,
             "ticks": ""
            },
            "colorscale": [
             [
              0,
              "#0d0887"
             ],
             [
              0.1111111111111111,
              "#46039f"
             ],
             [
              0.2222222222222222,
              "#7201a8"
             ],
             [
              0.3333333333333333,
              "#9c179e"
             ],
             [
              0.4444444444444444,
              "#bd3786"
             ],
             [
              0.5555555555555556,
              "#d8576b"
             ],
             [
              0.6666666666666666,
              "#ed7953"
             ],
             [
              0.7777777777777778,
              "#fb9f3a"
             ],
             [
              0.8888888888888888,
              "#fdca26"
             ],
             [
              1,
              "#f0f921"
             ]
            ],
            "type": "histogram2dcontour"
           }
          ],
          "mesh3d": [
           {
            "colorbar": {
             "outlinewidth": 0,
             "ticks": ""
            },
            "type": "mesh3d"
           }
          ],
          "parcoords": [
           {
            "line": {
             "colorbar": {
              "outlinewidth": 0,
              "ticks": ""
             }
            },
            "type": "parcoords"
           }
          ],
          "pie": [
           {
            "automargin": true,
            "type": "pie"
           }
          ],
          "scatter": [
           {
            "fillpattern": {
             "fillmode": "overlay",
             "size": 10,
             "solidity": 0.2
            },
            "type": "scatter"
           }
          ],
          "scatter3d": [
           {
            "line": {
             "colorbar": {
              "outlinewidth": 0,
              "ticks": ""
             }
            },
            "marker": {
             "colorbar": {
              "outlinewidth": 0,
              "ticks": ""
             }
            },
            "type": "scatter3d"
           }
          ],
          "scattercarpet": [
           {
            "marker": {
             "colorbar": {
              "outlinewidth": 0,
              "ticks": ""
             }
            },
            "type": "scattercarpet"
           }
          ],
          "scattergeo": [
           {
            "marker": {
             "colorbar": {
              "outlinewidth": 0,
              "ticks": ""
             }
            },
            "type": "scattergeo"
           }
          ],
          "scattergl": [
           {
            "marker": {
             "colorbar": {
              "outlinewidth": 0,
              "ticks": ""
             }
            },
            "type": "scattergl"
           }
          ],
          "scattermapbox": [
           {
            "marker": {
             "colorbar": {
              "outlinewidth": 0,
              "ticks": ""
             }
            },
            "type": "scattermapbox"
           }
          ],
          "scatterpolar": [
           {
            "marker": {
             "colorbar": {
              "outlinewidth": 0,
              "ticks": ""
             }
            },
            "type": "scatterpolar"
           }
          ],
          "scatterpolargl": [
           {
            "marker": {
             "colorbar": {
              "outlinewidth": 0,
              "ticks": ""
             }
            },
            "type": "scatterpolargl"
           }
          ],
          "scatterternary": [
           {
            "marker": {
             "colorbar": {
              "outlinewidth": 0,
              "ticks": ""
             }
            },
            "type": "scatterternary"
           }
          ],
          "surface": [
           {
            "colorbar": {
             "outlinewidth": 0,
             "ticks": ""
            },
            "colorscale": [
             [
              0,
              "#0d0887"
             ],
             [
              0.1111111111111111,
              "#46039f"
             ],
             [
              0.2222222222222222,
              "#7201a8"
             ],
             [
              0.3333333333333333,
              "#9c179e"
             ],
             [
              0.4444444444444444,
              "#bd3786"
             ],
             [
              0.5555555555555556,
              "#d8576b"
             ],
             [
              0.6666666666666666,
              "#ed7953"
             ],
             [
              0.7777777777777778,
              "#fb9f3a"
             ],
             [
              0.8888888888888888,
              "#fdca26"
             ],
             [
              1,
              "#f0f921"
             ]
            ],
            "type": "surface"
           }
          ],
          "table": [
           {
            "cells": {
             "fill": {
              "color": "#EBF0F8"
             },
             "line": {
              "color": "white"
             }
            },
            "header": {
             "fill": {
              "color": "#C8D4E3"
             },
             "line": {
              "color": "white"
             }
            },
            "type": "table"
           }
          ]
         },
         "layout": {
          "annotationdefaults": {
           "arrowcolor": "#2a3f5f",
           "arrowhead": 0,
           "arrowwidth": 1
          },
          "autotypenumbers": "strict",
          "coloraxis": {
           "colorbar": {
            "outlinewidth": 0,
            "ticks": ""
           }
          },
          "colorscale": {
           "diverging": [
            [
             0,
             "#8e0152"
            ],
            [
             0.1,
             "#c51b7d"
            ],
            [
             0.2,
             "#de77ae"
            ],
            [
             0.3,
             "#f1b6da"
            ],
            [
             0.4,
             "#fde0ef"
            ],
            [
             0.5,
             "#f7f7f7"
            ],
            [
             0.6,
             "#e6f5d0"
            ],
            [
             0.7,
             "#b8e186"
            ],
            [
             0.8,
             "#7fbc41"
            ],
            [
             0.9,
             "#4d9221"
            ],
            [
             1,
             "#276419"
            ]
           ],
           "sequential": [
            [
             0,
             "#0d0887"
            ],
            [
             0.1111111111111111,
             "#46039f"
            ],
            [
             0.2222222222222222,
             "#7201a8"
            ],
            [
             0.3333333333333333,
             "#9c179e"
            ],
            [
             0.4444444444444444,
             "#bd3786"
            ],
            [
             0.5555555555555556,
             "#d8576b"
            ],
            [
             0.6666666666666666,
             "#ed7953"
            ],
            [
             0.7777777777777778,
             "#fb9f3a"
            ],
            [
             0.8888888888888888,
             "#fdca26"
            ],
            [
             1,
             "#f0f921"
            ]
           ],
           "sequentialminus": [
            [
             0,
             "#0d0887"
            ],
            [
             0.1111111111111111,
             "#46039f"
            ],
            [
             0.2222222222222222,
             "#7201a8"
            ],
            [
             0.3333333333333333,
             "#9c179e"
            ],
            [
             0.4444444444444444,
             "#bd3786"
            ],
            [
             0.5555555555555556,
             "#d8576b"
            ],
            [
             0.6666666666666666,
             "#ed7953"
            ],
            [
             0.7777777777777778,
             "#fb9f3a"
            ],
            [
             0.8888888888888888,
             "#fdca26"
            ],
            [
             1,
             "#f0f921"
            ]
           ]
          },
          "colorway": [
           "#636efa",
           "#EF553B",
           "#00cc96",
           "#ab63fa",
           "#FFA15A",
           "#19d3f3",
           "#FF6692",
           "#B6E880",
           "#FF97FF",
           "#FECB52"
          ],
          "font": {
           "color": "#2a3f5f"
          },
          "geo": {
           "bgcolor": "white",
           "lakecolor": "white",
           "landcolor": "#E5ECF6",
           "showlakes": true,
           "showland": true,
           "subunitcolor": "white"
          },
          "hoverlabel": {
           "align": "left"
          },
          "hovermode": "closest",
          "mapbox": {
           "style": "light"
          },
          "paper_bgcolor": "white",
          "plot_bgcolor": "#E5ECF6",
          "polar": {
           "angularaxis": {
            "gridcolor": "white",
            "linecolor": "white",
            "ticks": ""
           },
           "bgcolor": "#E5ECF6",
           "radialaxis": {
            "gridcolor": "white",
            "linecolor": "white",
            "ticks": ""
           }
          },
          "scene": {
           "xaxis": {
            "backgroundcolor": "#E5ECF6",
            "gridcolor": "white",
            "gridwidth": 2,
            "linecolor": "white",
            "showbackground": true,
            "ticks": "",
            "zerolinecolor": "white"
           },
           "yaxis": {
            "backgroundcolor": "#E5ECF6",
            "gridcolor": "white",
            "gridwidth": 2,
            "linecolor": "white",
            "showbackground": true,
            "ticks": "",
            "zerolinecolor": "white"
           },
           "zaxis": {
            "backgroundcolor": "#E5ECF6",
            "gridcolor": "white",
            "gridwidth": 2,
            "linecolor": "white",
            "showbackground": true,
            "ticks": "",
            "zerolinecolor": "white"
           }
          },
          "shapedefaults": {
           "line": {
            "color": "#2a3f5f"
           }
          },
          "ternary": {
           "aaxis": {
            "gridcolor": "white",
            "linecolor": "white",
            "ticks": ""
           },
           "baxis": {
            "gridcolor": "white",
            "linecolor": "white",
            "ticks": ""
           },
           "bgcolor": "#E5ECF6",
           "caxis": {
            "gridcolor": "white",
            "linecolor": "white",
            "ticks": ""
           }
          },
          "title": {
           "x": 0.05
          },
          "xaxis": {
           "automargin": true,
           "gridcolor": "white",
           "linecolor": "white",
           "ticks": "",
           "title": {
            "standoff": 15
           },
           "zerolinecolor": "white",
           "zerolinewidth": 2
          },
          "yaxis": {
           "automargin": true,
           "gridcolor": "white",
           "linecolor": "white",
           "ticks": "",
           "title": {
            "standoff": 15
           },
           "zerolinecolor": "white",
           "zerolinewidth": 2
          }
         }
        },
        "title": {
         "text": "Seasonal Pattern for Sales"
        },
        "xaxis": {
         "anchor": "y",
         "domain": [
          0,
          1
         ],
         "title": {
          "text": "month"
         }
        },
        "yaxis": {
         "anchor": "x",
         "domain": [
          0,
          1
         ],
         "title": {
          "text": "counts"
         }
        }
       }
      }
     },
     "metadata": {},
     "output_type": "display_data"
    }
   ],
   "source": [
    "sales_by_month['month'] = sales_by_month['date'].dt.month\n",
    "sales_by_month['year'] = sales_by_month['date'].dt.year\n",
    "px.line(sales_by_month, x='month', y='counts', title='Seasonal Pattern for Sales', color='year', markers=True)"
   ]
  },
  {
   "cell_type": "markdown",
   "metadata": {},
   "source": [
    "* Overall sales have slighly pronounced seasonal patterns, mostly increase through year\n",
    "* largest sales in winter, 12\n"
   ]
  },
  {
   "cell_type": "markdown",
   "metadata": {},
   "source": [
    "### By Product Family"
   ]
  },
  {
   "cell_type": "code",
   "execution_count": 386,
   "metadata": {},
   "outputs": [],
   "source": [
    "sales_monthly_family = train_extended.groupby(['family' ,pd.Grouper(key=\"date\", freq='M')]).sum()['sales'].to_frame(\"counts\").reset_index()"
   ]
  },
  {
   "cell_type": "code",
   "execution_count": 438,
   "metadata": {},
   "outputs": [
    {
     "data": {
      "application/vnd.plotly.v1+json": {
       "config": {
        "plotlyServerURL": "https://plot.ly"
       },
       "data": [
        {
         "hovertemplate": "year=2013<br>family=AUTOMOTIVE<br>month=%{x}<br>counts=%{y}<extra></extra>",
         "legendgroup": "2013",
         "line": {
          "color": "#636efa",
          "dash": "solid"
         },
         "marker": {
          "symbol": "circle"
         },
         "mode": "lines+markers",
         "name": "2013",
         "showlegend": true,
         "type": "scattergl",
         "x": [
          1,
          2,
          3,
          4,
          5,
          6,
          7,
          8,
          9,
          10,
          11,
          12
         ],
         "xaxis": "x31",
         "y": [
          6557,
          7220,
          7635,
          7485,
          9034,
          8311,
          8508,
          8164,
          7029,
          6803,
          7166,
          8411
         ],
         "yaxis": "y31"
        },
        {
         "hovertemplate": "year=2013<br>family=BABY CARE<br>month=%{x}<br>counts=%{y}<extra></extra>",
         "legendgroup": "2013",
         "line": {
          "color": "#636efa",
          "dash": "solid"
         },
         "marker": {
          "symbol": "circle"
         },
         "mode": "lines+markers",
         "name": "2013",
         "showlegend": false,
         "type": "scattergl",
         "x": [
          1,
          2,
          3,
          4,
          5,
          6,
          7,
          8,
          9,
          10,
          11,
          12
         ],
         "xaxis": "x32",
         "y": [
          0,
          0,
          0,
          0,
          0,
          0,
          0,
          0,
          0,
          0,
          0,
          0
         ],
         "yaxis": "y32"
        },
        {
         "hovertemplate": "year=2013<br>family=BEAUTY<br>month=%{x}<br>counts=%{y}<extra></extra>",
         "legendgroup": "2013",
         "line": {
          "color": "#636efa",
          "dash": "solid"
         },
         "marker": {
          "symbol": "circle"
         },
         "mode": "lines+markers",
         "name": "2013",
         "showlegend": false,
         "type": "scattergl",
         "x": [
          1,
          2,
          3,
          4,
          5,
          6,
          7,
          8,
          9,
          10,
          11,
          12
         ],
         "xaxis": "x33",
         "y": [
          4019,
          3747,
          3901,
          3670,
          3716,
          3842,
          4780,
          4720,
          3607,
          3753,
          3446,
          4171
         ],
         "yaxis": "y33"
        },
        {
         "hovertemplate": "year=2013<br>family=BEVERAGES<br>month=%{x}<br>counts=%{y}<extra></extra>",
         "legendgroup": "2013",
         "line": {
          "color": "#636efa",
          "dash": "solid"
         },
         "marker": {
          "symbol": "circle"
         },
         "mode": "lines+markers",
         "name": "2013",
         "showlegend": false,
         "type": "scattergl",
         "x": [
          1,
          2,
          3,
          4,
          5,
          6,
          7,
          8,
          9,
          10,
          11,
          12
         ],
         "xaxis": "x28",
         "y": [
          1670653,
          1508254,
          1822220,
          1743121,
          1824123,
          1829106,
          1664465,
          1810927,
          1908153,
          1855355,
          1895439,
          2246064
         ],
         "yaxis": "y28"
        },
        {
         "hovertemplate": "year=2013<br>family=BOOKS<br>month=%{x}<br>counts=%{y}<extra></extra>",
         "legendgroup": "2013",
         "line": {
          "color": "#636efa",
          "dash": "solid"
         },
         "marker": {
          "symbol": "circle"
         },
         "mode": "lines+markers",
         "name": "2013",
         "showlegend": false,
         "type": "scattergl",
         "x": [
          1,
          2,
          3,
          4,
          5,
          6,
          7,
          8,
          9,
          10,
          11,
          12
         ],
         "xaxis": "x29",
         "y": [
          0,
          0,
          0,
          0,
          0,
          0,
          0,
          0,
          0,
          0,
          0,
          0
         ],
         "yaxis": "y29"
        },
        {
         "hovertemplate": "year=2013<br>family=BREAD/BAKERY<br>month=%{x}<br>counts=%{y}<extra></extra>",
         "legendgroup": "2013",
         "line": {
          "color": "#636efa",
          "dash": "solid"
         },
         "marker": {
          "symbol": "circle"
         },
         "mode": "lines+markers",
         "name": "2013",
         "showlegend": false,
         "type": "scattergl",
         "x": [
          1,
          2,
          3,
          4,
          5,
          6,
          7,
          8,
          9,
          10,
          11,
          12
         ],
         "xaxis": "x30",
         "y": [
          549778.856175,
          499809.40377,
          594024.80169,
          568623.2191,
          616045.653359,
          607785.69002,
          568490.334004,
          574358.36818,
          615401.429876,
          610595.11039,
          585894.35193,
          601344.768866
         ],
         "yaxis": "y30"
        },
        {
         "hovertemplate": "year=2013<br>family=CELEBRATION<br>month=%{x}<br>counts=%{y}<extra></extra>",
         "legendgroup": "2013",
         "line": {
          "color": "#636efa",
          "dash": "solid"
         },
         "marker": {
          "symbol": "circle"
         },
         "mode": "lines+markers",
         "name": "2013",
         "showlegend": false,
         "type": "scattergl",
         "x": [
          1,
          2,
          3,
          4,
          5,
          6,
          7,
          8,
          9,
          10,
          11,
          12
         ],
         "xaxis": "x25",
         "y": [
          0,
          0,
          0,
          0,
          0,
          0,
          0,
          0,
          0,
          0,
          0,
          0
         ],
         "yaxis": "y25"
        },
        {
         "hovertemplate": "year=2013<br>family=CLEANING<br>month=%{x}<br>counts=%{y}<extra></extra>",
         "legendgroup": "2013",
         "line": {
          "color": "#636efa",
          "dash": "solid"
         },
         "marker": {
          "symbol": "circle"
         },
         "mode": "lines+markers",
         "name": "2013",
         "showlegend": false,
         "type": "scattergl",
         "x": [
          1,
          2,
          3,
          4,
          5,
          6,
          7,
          8,
          9,
          10,
          11,
          12
         ],
         "xaxis": "x26",
         "y": [
          1448851,
          1302978,
          1505390,
          1421226,
          1486295,
          1483938,
          1420483,
          1462219,
          1435825,
          1414118,
          1408284,
          1724908
         ],
         "yaxis": "y26"
        },
        {
         "hovertemplate": "year=2013<br>family=DAIRY<br>month=%{x}<br>counts=%{y}<extra></extra>",
         "legendgroup": "2013",
         "line": {
          "color": "#636efa",
          "dash": "solid"
         },
         "marker": {
          "symbol": "circle"
         },
         "mode": "lines+markers",
         "name": "2013",
         "showlegend": false,
         "type": "scattergl",
         "x": [
          1,
          2,
          3,
          4,
          5,
          6,
          7,
          8,
          9,
          10,
          11,
          12
         ],
         "xaxis": "x27",
         "y": [
          523737,
          499873,
          612508,
          559590,
          595657,
          590898,
          576927,
          572921,
          580773,
          584096,
          880313,
          1161600
         ],
         "yaxis": "y27"
        },
        {
         "hovertemplate": "year=2013<br>family=DELI<br>month=%{x}<br>counts=%{y}<extra></extra>",
         "legendgroup": "2013",
         "line": {
          "color": "#636efa",
          "dash": "solid"
         },
         "marker": {
          "symbol": "circle"
         },
         "mode": "lines+markers",
         "name": "2013",
         "showlegend": false,
         "type": "scattergl",
         "x": [
          1,
          2,
          3,
          4,
          5,
          6,
          7,
          8,
          9,
          10,
          11,
          12
         ],
         "xaxis": "x22",
         "y": [
          304217.242018,
          283769.43102,
          327257.452028,
          316163.708962,
          347293.365026,
          335910.17701,
          298614.00193,
          325416.424971,
          347099.01406,
          346264.989962,
          337003.064948,
          388401.26798
         ],
         "yaxis": "y22"
        },
        {
         "hovertemplate": "year=2013<br>family=EGGS<br>month=%{x}<br>counts=%{y}<extra></extra>",
         "legendgroup": "2013",
         "line": {
          "color": "#636efa",
          "dash": "solid"
         },
         "marker": {
          "symbol": "circle"
         },
         "mode": "lines+markers",
         "name": "2013",
         "showlegend": false,
         "type": "scattergl",
         "x": [
          1,
          2,
          3,
          4,
          5,
          6,
          7,
          8,
          9,
          10,
          11,
          12
         ],
         "xaxis": "x23",
         "y": [
          203442,
          190424,
          225027,
          208200,
          229575,
          220594,
          209272,
          216552,
          236446,
          236916,
          230636,
          241805
         ],
         "yaxis": "y23"
        },
        {
         "hovertemplate": "year=2013<br>family=FROZEN FOODS<br>month=%{x}<br>counts=%{y}<extra></extra>",
         "legendgroup": "2013",
         "line": {
          "color": "#636efa",
          "dash": "solid"
         },
         "marker": {
          "symbol": "circle"
         },
         "mode": "lines+markers",
         "name": "2013",
         "showlegend": false,
         "type": "scattergl",
         "x": [
          1,
          2,
          3,
          4,
          5,
          6,
          7,
          8,
          9,
          10,
          11,
          12
         ],
         "xaxis": "x24",
         "y": [
          118057.1350672,
          98706.2020041,
          135552.357953,
          145692.047052,
          150769.849963,
          170314.649025,
          163838.4289985,
          163100.411023,
          161142.041982,
          161381.108939,
          173542.6359127,
          844150.361475
         ],
         "yaxis": "y24"
        },
        {
         "hovertemplate": "year=2013<br>family=GROCERY I<br>month=%{x}<br>counts=%{y}<extra></extra>",
         "legendgroup": "2013",
         "line": {
          "color": "#636efa",
          "dash": "solid"
         },
         "marker": {
          "symbol": "circle"
         },
         "mode": "lines+markers",
         "name": "2013",
         "showlegend": false,
         "type": "scattergl",
         "x": [
          1,
          2,
          3,
          4,
          5,
          6,
          7,
          8,
          9,
          10,
          11,
          12
         ],
         "xaxis": "x19",
         "y": [
          4032240,
          3919400,
          4679847,
          4554014,
          4806099,
          4919672,
          4861947,
          5077610,
          4979594,
          5030378,
          5027322,
          6451806
         ],
         "yaxis": "y19"
        },
        {
         "hovertemplate": "year=2013<br>family=GROCERY II<br>month=%{x}<br>counts=%{y}<extra></extra>",
         "legendgroup": "2013",
         "line": {
          "color": "#636efa",
          "dash": "solid"
         },
         "marker": {
          "symbol": "circle"
         },
         "mode": "lines+markers",
         "name": "2013",
         "showlegend": false,
         "type": "scattergl",
         "x": [
          1,
          2,
          3,
          4,
          5,
          6,
          7,
          8,
          9,
          10,
          11,
          12
         ],
         "xaxis": "x20",
         "y": [
          27039,
          25304,
          29500,
          29395,
          32690,
          30786,
          30109,
          31022,
          30629,
          30423,
          30297,
          49683
         ],
         "yaxis": "y20"
        },
        {
         "hovertemplate": "year=2013<br>family=HARDWARE<br>month=%{x}<br>counts=%{y}<extra></extra>",
         "legendgroup": "2013",
         "line": {
          "color": "#636efa",
          "dash": "solid"
         },
         "marker": {
          "symbol": "circle"
         },
         "mode": "lines+markers",
         "name": "2013",
         "showlegend": false,
         "type": "scattergl",
         "x": [
          1,
          2,
          3,
          4,
          5,
          6,
          7,
          8,
          9,
          10,
          11,
          12
         ],
         "xaxis": "x21",
         "y": [
          1612,
          1414,
          1582,
          1423,
          1431,
          1339,
          1164,
          1554,
          1565,
          1424,
          1501,
          1525
         ],
         "yaxis": "y21"
        },
        {
         "hovertemplate": "year=2013<br>family=HOME AND KITCHEN I<br>month=%{x}<br>counts=%{y}<extra></extra>",
         "legendgroup": "2013",
         "line": {
          "color": "#636efa",
          "dash": "solid"
         },
         "marker": {
          "symbol": "circle"
         },
         "mode": "lines+markers",
         "name": "2013",
         "showlegend": false,
         "type": "scattergl",
         "x": [
          1,
          2,
          3,
          4,
          5,
          6,
          7,
          8,
          9,
          10,
          11,
          12
         ],
         "xaxis": "x16",
         "y": [
          0,
          0,
          0,
          0,
          0,
          0,
          0,
          0,
          0,
          0,
          0,
          0
         ],
         "yaxis": "y16"
        },
        {
         "hovertemplate": "year=2013<br>family=HOME AND KITCHEN II<br>month=%{x}<br>counts=%{y}<extra></extra>",
         "legendgroup": "2013",
         "line": {
          "color": "#636efa",
          "dash": "solid"
         },
         "marker": {
          "symbol": "circle"
         },
         "mode": "lines+markers",
         "name": "2013",
         "showlegend": false,
         "type": "scattergl",
         "x": [
          1,
          2,
          3,
          4,
          5,
          6,
          7,
          8,
          9,
          10,
          11,
          12
         ],
         "xaxis": "x17",
         "y": [
          0,
          0,
          0,
          0,
          0,
          0,
          0,
          0,
          0,
          0,
          0,
          0
         ],
         "yaxis": "y17"
        },
        {
         "hovertemplate": "year=2013<br>family=HOME APPLIANCES<br>month=%{x}<br>counts=%{y}<extra></extra>",
         "legendgroup": "2013",
         "line": {
          "color": "#636efa",
          "dash": "solid"
         },
         "marker": {
          "symbol": "circle"
         },
         "mode": "lines+markers",
         "name": "2013",
         "showlegend": false,
         "type": "scattergl",
         "x": [
          1,
          2,
          3,
          4,
          5,
          6,
          7,
          8,
          9,
          10,
          11,
          12
         ],
         "xaxis": "x18",
         "y": [
          210,
          119,
          1137,
          1067,
          1046,
          999,
          846,
          880,
          909,
          792,
          880,
          892
         ],
         "yaxis": "y18"
        },
        {
         "hovertemplate": "year=2013<br>family=HOME CARE<br>month=%{x}<br>counts=%{y}<extra></extra>",
         "legendgroup": "2013",
         "line": {
          "color": "#636efa",
          "dash": "solid"
         },
         "marker": {
          "symbol": "circle"
         },
         "mode": "lines+markers",
         "name": "2013",
         "showlegend": false,
         "type": "scattergl",
         "x": [
          1,
          2,
          3,
          4,
          5,
          6,
          7,
          8,
          9,
          10,
          11,
          12
         ],
         "xaxis": "x13",
         "y": [
          0,
          0,
          0,
          0,
          0,
          0,
          0,
          0,
          0,
          0,
          0,
          0
         ],
         "yaxis": "y13"
        },
        {
         "hovertemplate": "year=2013<br>family=LADIESWEAR<br>month=%{x}<br>counts=%{y}<extra></extra>",
         "legendgroup": "2013",
         "line": {
          "color": "#636efa",
          "dash": "solid"
         },
         "marker": {
          "symbol": "circle"
         },
         "mode": "lines+markers",
         "name": "2013",
         "showlegend": false,
         "type": "scattergl",
         "x": [
          1,
          2,
          3,
          4,
          5,
          6,
          7,
          8,
          9,
          10,
          11,
          12
         ],
         "xaxis": "x14",
         "y": [
          0,
          0,
          0,
          0,
          0,
          0,
          0,
          0,
          0,
          0,
          0,
          0
         ],
         "yaxis": "y14"
        },
        {
         "hovertemplate": "year=2013<br>family=LAWN AND GARDEN<br>month=%{x}<br>counts=%{y}<extra></extra>",
         "legendgroup": "2013",
         "line": {
          "color": "#636efa",
          "dash": "solid"
         },
         "marker": {
          "symbol": "circle"
         },
         "mode": "lines+markers",
         "name": "2013",
         "showlegend": false,
         "type": "scattergl",
         "x": [
          1,
          2,
          3,
          4,
          5,
          6,
          7,
          8,
          9,
          10,
          11,
          12
         ],
         "xaxis": "x15",
         "y": [
          3808,
          3625,
          4413,
          4029,
          4514,
          4533,
          3980,
          4264,
          4310,
          4406,
          4192,
          5097
         ],
         "yaxis": "y15"
        },
        {
         "hovertemplate": "year=2013<br>family=LINGERIE<br>month=%{x}<br>counts=%{y}<extra></extra>",
         "legendgroup": "2013",
         "line": {
          "color": "#636efa",
          "dash": "solid"
         },
         "marker": {
          "symbol": "circle"
         },
         "mode": "lines+markers",
         "name": "2013",
         "showlegend": false,
         "type": "scattergl",
         "x": [
          1,
          2,
          3,
          4,
          5,
          6,
          7,
          8,
          9,
          10,
          11,
          12
         ],
         "xaxis": "x10",
         "y": [
          18266,
          15453,
          13302,
          12736,
          13833,
          12484,
          12477,
          13676,
          13137,
          12254,
          11567,
          15449
         ],
         "yaxis": "y10"
        },
        {
         "hovertemplate": "year=2013<br>family=LIQUOR,WINE,BEER<br>month=%{x}<br>counts=%{y}<extra></extra>",
         "legendgroup": "2013",
         "line": {
          "color": "#636efa",
          "dash": "solid"
         },
         "marker": {
          "symbol": "circle"
         },
         "mode": "lines+markers",
         "name": "2013",
         "showlegend": false,
         "type": "scattergl",
         "x": [
          1,
          2,
          3,
          4,
          5,
          6,
          7,
          8,
          9,
          10,
          11,
          12
         ],
         "xaxis": "x11",
         "y": [
          88568,
          99682,
          106233,
          92334,
          108818,
          106692,
          98754,
          110217,
          100412,
          111366,
          111098,
          239186
         ],
         "yaxis": "y11"
        },
        {
         "hovertemplate": "year=2013<br>family=MAGAZINES<br>month=%{x}<br>counts=%{y}<extra></extra>",
         "legendgroup": "2013",
         "line": {
          "color": "#636efa",
          "dash": "solid"
         },
         "marker": {
          "symbol": "circle"
         },
         "mode": "lines+markers",
         "name": "2013",
         "showlegend": false,
         "type": "scattergl",
         "x": [
          1,
          2,
          3,
          4,
          5,
          6,
          7,
          8,
          9,
          10,
          11,
          12
         ],
         "xaxis": "x12",
         "y": [
          0,
          0,
          0,
          0,
          0,
          0,
          0,
          0,
          0,
          0,
          0,
          0
         ],
         "yaxis": "y12"
        },
        {
         "hovertemplate": "year=2013<br>family=MEATS<br>month=%{x}<br>counts=%{y}<extra></extra>",
         "legendgroup": "2013",
         "line": {
          "color": "#636efa",
          "dash": "solid"
         },
         "marker": {
          "symbol": "circle"
         },
         "mode": "lines+markers",
         "name": "2013",
         "showlegend": false,
         "type": "scattergl",
         "x": [
          1,
          2,
          3,
          4,
          5,
          6,
          7,
          8,
          9,
          10,
          11,
          12
         ],
         "xaxis": "x7",
         "y": [
          533154.783758,
          480354.959696,
          525533.343087,
          521173.160301,
          547487.049146,
          549834.749027,
          536148.232708,
          543110.259599,
          548558.753157,
          572478.35895,
          554302.615027,
          550748.469551
         ],
         "yaxis": "y7"
        },
        {
         "hovertemplate": "year=2013<br>family=PERSONAL CARE<br>month=%{x}<br>counts=%{y}<extra></extra>",
         "legendgroup": "2013",
         "line": {
          "color": "#636efa",
          "dash": "solid"
         },
         "marker": {
          "symbol": "circle"
         },
         "mode": "lines+markers",
         "name": "2013",
         "showlegend": false,
         "type": "scattergl",
         "x": [
          1,
          2,
          3,
          4,
          5,
          6,
          7,
          8,
          9,
          10,
          11,
          12
         ],
         "xaxis": "x8",
         "y": [
          317716,
          274064,
          319254,
          326543,
          308987,
          304725,
          303655,
          310536,
          309791,
          289730,
          342552,
          407935
         ],
         "yaxis": "y8"
        },
        {
         "hovertemplate": "year=2013<br>family=PET SUPPLIES<br>month=%{x}<br>counts=%{y}<extra></extra>",
         "legendgroup": "2013",
         "line": {
          "color": "#636efa",
          "dash": "solid"
         },
         "marker": {
          "symbol": "circle"
         },
         "mode": "lines+markers",
         "name": "2013",
         "showlegend": false,
         "type": "scattergl",
         "x": [
          1,
          2,
          3,
          4,
          5,
          6,
          7,
          8,
          9,
          10,
          11,
          12
         ],
         "xaxis": "x9",
         "y": [
          0,
          0,
          0,
          0,
          0,
          0,
          0,
          0,
          0,
          0,
          0,
          0
         ],
         "yaxis": "y9"
        },
        {
         "hovertemplate": "year=2013<br>family=PLAYERS AND ELECTRONICS<br>month=%{x}<br>counts=%{y}<extra></extra>",
         "legendgroup": "2013",
         "line": {
          "color": "#636efa",
          "dash": "solid"
         },
         "marker": {
          "symbol": "circle"
         },
         "mode": "lines+markers",
         "name": "2013",
         "showlegend": false,
         "type": "scattergl",
         "x": [
          1,
          2,
          3,
          4,
          5,
          6,
          7,
          8,
          9,
          10,
          11,
          12
         ],
         "xaxis": "x4",
         "y": [
          0,
          0,
          0,
          0,
          0,
          0,
          0,
          0,
          0,
          0,
          0,
          0
         ],
         "yaxis": "y4"
        },
        {
         "hovertemplate": "year=2013<br>family=POULTRY<br>month=%{x}<br>counts=%{y}<extra></extra>",
         "legendgroup": "2013",
         "line": {
          "color": "#636efa",
          "dash": "solid"
         },
         "marker": {
          "symbol": "circle"
         },
         "mode": "lines+markers",
         "name": "2013",
         "showlegend": false,
         "type": "scattergl",
         "x": [
          1,
          2,
          3,
          4,
          5,
          6,
          7,
          8,
          9,
          10,
          11,
          12
         ],
         "xaxis": "x5",
         "y": [
          304256.8359325,
          284366.357897,
          318799.460727,
          305240.522839,
          321628.685602,
          327351.3931176,
          313583.927932,
          326411.2138817,
          332689.069863,
          336496.272221,
          576809.102294,
          672213.165255
         ],
         "yaxis": "y5"
        },
        {
         "hovertemplate": "year=2013<br>family=PREPARED FOODS<br>month=%{x}<br>counts=%{y}<extra></extra>",
         "legendgroup": "2013",
         "line": {
          "color": "#636efa",
          "dash": "solid"
         },
         "marker": {
          "symbol": "circle"
         },
         "mode": "lines+markers",
         "name": "2013",
         "showlegend": false,
         "type": "scattergl",
         "x": [
          1,
          2,
          3,
          4,
          5,
          6,
          7,
          8,
          9,
          10,
          11,
          12
         ],
         "xaxis": "x6",
         "y": [
          136488.049961,
          127108.537064,
          151266.292022,
          131131.67577,
          142367.145905,
          142008.431049,
          141222.711093,
          142408.42181,
          136714.758933,
          133955.487036,
          141686.397899,
          150117.81589600001
         ],
         "yaxis": "y6"
        },
        {
         "hovertemplate": "year=2013<br>family=PRODUCE<br>month=%{x}<br>counts=%{y}<extra></extra>",
         "legendgroup": "2013",
         "line": {
          "color": "#636efa",
          "dash": "solid"
         },
         "marker": {
          "symbol": "circle"
         },
         "mode": "lines+markers",
         "name": "2013",
         "showlegend": false,
         "type": "scattergl",
         "x": [
          1,
          2,
          3,
          4,
          5,
          6,
          7,
          8,
          9,
          10,
          11,
          12
         ],
         "xaxis": "x",
         "y": [
          0,
          0,
          4037,
          6308,
          8836,
          8631,
          7463,
          8118,
          6821,
          5910,
          6887,
          9794
         ],
         "yaxis": "y"
        },
        {
         "hovertemplate": "year=2013<br>family=SCHOOL AND OFFICE SUPPLIES<br>month=%{x}<br>counts=%{y}<extra></extra>",
         "legendgroup": "2013",
         "line": {
          "color": "#636efa",
          "dash": "solid"
         },
         "marker": {
          "symbol": "circle"
         },
         "mode": "lines+markers",
         "name": "2013",
         "showlegend": false,
         "type": "scattergl",
         "x": [
          1,
          2,
          3,
          4,
          5,
          6,
          7,
          8,
          9,
          10,
          11,
          12
         ],
         "xaxis": "x2",
         "y": [
          0,
          0,
          0,
          0,
          0,
          0,
          0,
          0,
          0,
          0,
          0,
          0
         ],
         "yaxis": "y2"
        },
        {
         "hovertemplate": "year=2013<br>family=SEAFOOD<br>month=%{x}<br>counts=%{y}<extra></extra>",
         "legendgroup": "2013",
         "line": {
          "color": "#636efa",
          "dash": "solid"
         },
         "marker": {
          "symbol": "circle"
         },
         "mode": "lines+markers",
         "name": "2013",
         "showlegend": false,
         "type": "scattergl",
         "x": [
          1,
          2,
          3,
          4,
          5,
          6,
          7,
          8,
          9,
          10,
          11,
          12
         ],
         "xaxis": "x3",
         "y": [
          34953.8339978,
          33287.8859857,
          40077.3299805,
          34299.4039878,
          37458.2580258,
          29588.972995,
          30672.9710153,
          29603.820008,
          32327.1639969,
          26725.0330211,
          25741.1249754,
          27815.2989516
         ],
         "yaxis": "y3"
        },
        {
         "hovertemplate": "year=2014<br>family=AUTOMOTIVE<br>month=%{x}<br>counts=%{y}<extra></extra>",
         "legendgroup": "2014",
         "line": {
          "color": "#EF553B",
          "dash": "solid"
         },
         "marker": {
          "symbol": "circle"
         },
         "mode": "lines+markers",
         "name": "2014",
         "showlegend": true,
         "type": "scattergl",
         "x": [
          1,
          2,
          3,
          4,
          5,
          6,
          7,
          8,
          9,
          10,
          11,
          12
         ],
         "xaxis": "x31",
         "y": [
          8491,
          7563,
          10115,
          8426,
          8075,
          8230,
          9481,
          9309,
          9229,
          9933,
          9452,
          10709
         ],
         "yaxis": "y31"
        },
        {
         "hovertemplate": "year=2014<br>family=BABY CARE<br>month=%{x}<br>counts=%{y}<extra></extra>",
         "legendgroup": "2014",
         "line": {
          "color": "#EF553B",
          "dash": "solid"
         },
         "marker": {
          "symbol": "circle"
         },
         "mode": "lines+markers",
         "name": "2014",
         "showlegend": false,
         "type": "scattergl",
         "x": [
          1,
          2,
          3,
          4,
          5,
          6,
          7,
          8,
          9,
          10,
          11,
          12
         ],
         "xaxis": "x32",
         "y": [
          0,
          0,
          72,
          0,
          0,
          0,
          163,
          0,
          160,
          50,
          5,
          169
         ],
         "yaxis": "y32"
        },
        {
         "hovertemplate": "year=2014<br>family=BEAUTY<br>month=%{x}<br>counts=%{y}<extra></extra>",
         "legendgroup": "2014",
         "line": {
          "color": "#EF553B",
          "dash": "solid"
         },
         "marker": {
          "symbol": "circle"
         },
         "mode": "lines+markers",
         "name": "2014",
         "showlegend": false,
         "type": "scattergl",
         "x": [
          1,
          2,
          3,
          4,
          5,
          6,
          7,
          8,
          9,
          10,
          11,
          12
         ],
         "xaxis": "x33",
         "y": [
          4133,
          3578,
          5166,
          3879,
          3622,
          3545,
          4996,
          4975,
          4990,
          5041,
          5222,
          6460
         ],
         "yaxis": "y33"
        },
        {
         "hovertemplate": "year=2014<br>family=BEVERAGES<br>month=%{x}<br>counts=%{y}<extra></extra>",
         "legendgroup": "2014",
         "line": {
          "color": "#EF553B",
          "dash": "solid"
         },
         "marker": {
          "symbol": "circle"
         },
         "mode": "lines+markers",
         "name": "2014",
         "showlegend": false,
         "type": "scattergl",
         "x": [
          1,
          2,
          3,
          4,
          5,
          6,
          7,
          8,
          9,
          10,
          11,
          12
         ],
         "xaxis": "x28",
         "y": [
          4145798,
          1916753,
          4430194,
          2113125,
          2081778,
          2100878,
          4175817,
          2109229,
          4304900,
          4370286,
          4449114,
          4852560
         ],
         "yaxis": "y28"
        },
        {
         "hovertemplate": "year=2014<br>family=BOOKS<br>month=%{x}<br>counts=%{y}<extra></extra>",
         "legendgroup": "2014",
         "line": {
          "color": "#EF553B",
          "dash": "solid"
         },
         "marker": {
          "symbol": "circle"
         },
         "mode": "lines+markers",
         "name": "2014",
         "showlegend": false,
         "type": "scattergl",
         "x": [
          1,
          2,
          3,
          4,
          5,
          6,
          7,
          8,
          9,
          10,
          11,
          12
         ],
         "xaxis": "x29",
         "y": [
          0,
          0,
          0,
          0,
          0,
          0,
          0,
          0,
          0,
          0,
          0,
          0
         ],
         "yaxis": "y29"
        },
        {
         "hovertemplate": "year=2014<br>family=BREAD/BAKERY<br>month=%{x}<br>counts=%{y}<extra></extra>",
         "legendgroup": "2014",
         "line": {
          "color": "#EF553B",
          "dash": "solid"
         },
         "marker": {
          "symbol": "circle"
         },
         "mode": "lines+markers",
         "name": "2014",
         "showlegend": false,
         "type": "scattergl",
         "x": [
          1,
          2,
          3,
          4,
          5,
          6,
          7,
          8,
          9,
          10,
          11,
          12
         ],
         "xaxis": "x30",
         "y": [
          633640.13015,
          560309.69892,
          651165.39597,
          573217.412024,
          621684.478954,
          649177.492126,
          687980.14383,
          767589.38916,
          818636.99019,
          777683.66482,
          742784.45008,
          744178.92184
         ],
         "yaxis": "y30"
        },
        {
         "hovertemplate": "year=2014<br>family=CELEBRATION<br>month=%{x}<br>counts=%{y}<extra></extra>",
         "legendgroup": "2014",
         "line": {
          "color": "#EF553B",
          "dash": "solid"
         },
         "marker": {
          "symbol": "circle"
         },
         "mode": "lines+markers",
         "name": "2014",
         "showlegend": false,
         "type": "scattergl",
         "x": [
          1,
          2,
          3,
          4,
          5,
          6,
          7,
          8,
          9,
          10,
          11,
          12
         ],
         "xaxis": "x25",
         "y": [
          19174,
          0,
          21478,
          0,
          0,
          0,
          18153,
          0,
          22283,
          21706,
          19609,
          19987
         ],
         "yaxis": "y25"
        },
        {
         "hovertemplate": "year=2014<br>family=CLEANING<br>month=%{x}<br>counts=%{y}<extra></extra>",
         "legendgroup": "2014",
         "line": {
          "color": "#EF553B",
          "dash": "solid"
         },
         "marker": {
          "symbol": "circle"
         },
         "mode": "lines+markers",
         "name": "2014",
         "showlegend": false,
         "type": "scattergl",
         "x": [
          1,
          2,
          3,
          4,
          5,
          6,
          7,
          8,
          9,
          10,
          11,
          12
         ],
         "xaxis": "x26",
         "y": [
          1599645,
          1425639,
          1770274,
          1452234,
          1498344,
          1482407,
          1679291,
          1576156,
          1644862,
          1686919,
          1700773,
          1981056
         ],
         "yaxis": "y26"
        },
        {
         "hovertemplate": "year=2014<br>family=DAIRY<br>month=%{x}<br>counts=%{y}<extra></extra>",
         "legendgroup": "2014",
         "line": {
          "color": "#EF553B",
          "dash": "solid"
         },
         "marker": {
          "symbol": "circle"
         },
         "mode": "lines+markers",
         "name": "2014",
         "showlegend": false,
         "type": "scattergl",
         "x": [
          1,
          2,
          3,
          4,
          5,
          6,
          7,
          8,
          9,
          10,
          11,
          12
         ],
         "xaxis": "x27",
         "y": [
          1137883,
          1007519,
          1187829,
          1098719,
          1101502,
          1091265,
          1088790,
          1075861,
          1154050,
          1165505,
          1152036,
          1230826
         ],
         "yaxis": "y27"
        },
        {
         "hovertemplate": "year=2014<br>family=DELI<br>month=%{x}<br>counts=%{y}<extra></extra>",
         "legendgroup": "2014",
         "line": {
          "color": "#EF553B",
          "dash": "solid"
         },
         "marker": {
          "symbol": "circle"
         },
         "mode": "lines+markers",
         "name": "2014",
         "showlegend": false,
         "type": "scattergl",
         "x": [
          1,
          2,
          3,
          4,
          5,
          6,
          7,
          8,
          9,
          10,
          11,
          12
         ],
         "xaxis": "x22",
         "y": [
          361683.965712,
          329563.242532,
          380693.293516,
          348646.547894,
          379033.81404,
          374419.096704,
          375441.028308,
          398869.28309,
          389051.502884,
          394293.122998,
          432251.02703,
          476338.39706
         ],
         "yaxis": "y22"
        },
        {
         "hovertemplate": "year=2014<br>family=EGGS<br>month=%{x}<br>counts=%{y}<extra></extra>",
         "legendgroup": "2014",
         "line": {
          "color": "#EF553B",
          "dash": "solid"
         },
         "marker": {
          "symbol": "circle"
         },
         "mode": "lines+markers",
         "name": "2014",
         "showlegend": false,
         "type": "scattergl",
         "x": [
          1,
          2,
          3,
          4,
          5,
          6,
          7,
          8,
          9,
          10,
          11,
          12
         ],
         "xaxis": "x23",
         "y": [
          252982,
          230477,
          276353,
          261829,
          268064,
          263067,
          264617,
          291326,
          302659,
          311349,
          305548,
          304481
         ],
         "yaxis": "y23"
        },
        {
         "hovertemplate": "year=2014<br>family=FROZEN FOODS<br>month=%{x}<br>counts=%{y}<extra></extra>",
         "legendgroup": "2014",
         "line": {
          "color": "#EF553B",
          "dash": "solid"
         },
         "marker": {
          "symbol": "circle"
         },
         "mode": "lines+markers",
         "name": "2014",
         "showlegend": false,
         "type": "scattergl",
         "x": [
          1,
          2,
          3,
          4,
          5,
          6,
          7,
          8,
          9,
          10,
          11,
          12
         ],
         "xaxis": "x24",
         "y": [
          185148.746023,
          164225.935953,
          201682.213037,
          167466.028013,
          180817.965954,
          175937.427012,
          190003.149993,
          179060.996057,
          176918.065977,
          181085.456015,
          195512.906076,
          867860.477072
         ],
         "yaxis": "y24"
        },
        {
         "hovertemplate": "year=2014<br>family=GROCERY I<br>month=%{x}<br>counts=%{y}<extra></extra>",
         "legendgroup": "2014",
         "line": {
          "color": "#EF553B",
          "dash": "solid"
         },
         "marker": {
          "symbol": "circle"
         },
         "mode": "lines+markers",
         "name": "2014",
         "showlegend": false,
         "type": "scattergl",
         "x": [
          1,
          2,
          3,
          4,
          5,
          6,
          7,
          8,
          9,
          10,
          11,
          12
         ],
         "xaxis": "x19",
         "y": [
          4938275.537,
          4690177,
          5546845.709,
          5056145.344,
          5316352.218,
          5263411.717,
          5286220.824,
          5503241.316,
          5348264.352,
          5544867.381,
          5707534.215,
          7465455.145
         ],
         "yaxis": "y19"
        },
        {
         "hovertemplate": "year=2014<br>family=GROCERY II<br>month=%{x}<br>counts=%{y}<extra></extra>",
         "legendgroup": "2014",
         "line": {
          "color": "#EF553B",
          "dash": "solid"
         },
         "marker": {
          "symbol": "circle"
         },
         "mode": "lines+markers",
         "name": "2014",
         "showlegend": false,
         "type": "scattergl",
         "x": [
          1,
          2,
          3,
          4,
          5,
          6,
          7,
          8,
          9,
          10,
          11,
          12
         ],
         "xaxis": "x20",
         "y": [
          29574,
          25426,
          30956,
          29452,
          32084,
          33102,
          32961,
          33125,
          32813,
          33367,
          33254,
          55858
         ],
         "yaxis": "y20"
        },
        {
         "hovertemplate": "year=2014<br>family=HARDWARE<br>month=%{x}<br>counts=%{y}<extra></extra>",
         "legendgroup": "2014",
         "line": {
          "color": "#EF553B",
          "dash": "solid"
         },
         "marker": {
          "symbol": "circle"
         },
         "mode": "lines+markers",
         "name": "2014",
         "showlegend": false,
         "type": "scattergl",
         "x": [
          1,
          2,
          3,
          4,
          5,
          6,
          7,
          8,
          9,
          10,
          11,
          12
         ],
         "xaxis": "x21",
         "y": [
          2199,
          1476,
          2185,
          1397,
          1519,
          1477,
          2042,
          1564,
          2103,
          1611,
          2200,
          2437
         ],
         "yaxis": "y21"
        },
        {
         "hovertemplate": "year=2014<br>family=HOME AND KITCHEN I<br>month=%{x}<br>counts=%{y}<extra></extra>",
         "legendgroup": "2014",
         "line": {
          "color": "#EF553B",
          "dash": "solid"
         },
         "marker": {
          "symbol": "circle"
         },
         "mode": "lines+markers",
         "name": "2014",
         "showlegend": false,
         "type": "scattergl",
         "x": [
          1,
          2,
          3,
          4,
          5,
          6,
          7,
          8,
          9,
          10,
          11,
          12
         ],
         "xaxis": "x16",
         "y": [
          36092,
          0,
          34705,
          0,
          0,
          0,
          41229,
          0,
          40569,
          44287,
          43126,
          72326
         ],
         "yaxis": "y16"
        },
        {
         "hovertemplate": "year=2014<br>family=HOME AND KITCHEN II<br>month=%{x}<br>counts=%{y}<extra></extra>",
         "legendgroup": "2014",
         "line": {
          "color": "#EF553B",
          "dash": "solid"
         },
         "marker": {
          "symbol": "circle"
         },
         "mode": "lines+markers",
         "name": "2014",
         "showlegend": false,
         "type": "scattergl",
         "x": [
          1,
          2,
          3,
          4,
          5,
          6,
          7,
          8,
          9,
          10,
          11,
          12
         ],
         "xaxis": "x17",
         "y": [
          17155,
          0,
          18247,
          0,
          0,
          0,
          17353,
          0,
          17974,
          18436,
          18150,
          25054
         ],
         "yaxis": "y17"
        },
        {
         "hovertemplate": "year=2014<br>family=HOME APPLIANCES<br>month=%{x}<br>counts=%{y}<extra></extra>",
         "legendgroup": "2014",
         "line": {
          "color": "#EF553B",
          "dash": "solid"
         },
         "marker": {
          "symbol": "circle"
         },
         "mode": "lines+markers",
         "name": "2014",
         "showlegend": false,
         "type": "scattergl",
         "x": [
          1,
          2,
          3,
          4,
          5,
          6,
          7,
          8,
          9,
          10,
          11,
          12
         ],
         "xaxis": "x18",
         "y": [
          835,
          928,
          1040,
          961,
          655,
          593,
          644,
          867,
          964,
          818,
          200,
          636
         ],
         "yaxis": "y18"
        },
        {
         "hovertemplate": "year=2014<br>family=HOME CARE<br>month=%{x}<br>counts=%{y}<extra></extra>",
         "legendgroup": "2014",
         "line": {
          "color": "#EF553B",
          "dash": "solid"
         },
         "marker": {
          "symbol": "circle"
         },
         "mode": "lines+markers",
         "name": "2014",
         "showlegend": false,
         "type": "scattergl",
         "x": [
          1,
          2,
          3,
          4,
          5,
          6,
          7,
          8,
          9,
          10,
          11,
          12
         ],
         "xaxis": "x13",
         "y": [
          435920,
          0,
          433804,
          0,
          0,
          0,
          426838,
          0,
          426419,
          430591,
          414424,
          441482
         ],
         "yaxis": "y13"
        },
        {
         "hovertemplate": "year=2014<br>family=LADIESWEAR<br>month=%{x}<br>counts=%{y}<extra></extra>",
         "legendgroup": "2014",
         "line": {
          "color": "#EF553B",
          "dash": "solid"
         },
         "marker": {
          "symbol": "circle"
         },
         "mode": "lines+markers",
         "name": "2014",
         "showlegend": false,
         "type": "scattergl",
         "x": [
          1,
          2,
          3,
          4,
          5,
          6,
          7,
          8,
          9,
          10,
          11,
          12
         ],
         "xaxis": "x14",
         "y": [
          20131,
          0,
          19608,
          0,
          0,
          0,
          19988,
          0,
          21962,
          21009,
          20830,
          22165
         ],
         "yaxis": "y14"
        },
        {
         "hovertemplate": "year=2014<br>family=LAWN AND GARDEN<br>month=%{x}<br>counts=%{y}<extra></extra>",
         "legendgroup": "2014",
         "line": {
          "color": "#EF553B",
          "dash": "solid"
         },
         "marker": {
          "symbol": "circle"
         },
         "mode": "lines+markers",
         "name": "2014",
         "showlegend": false,
         "type": "scattergl",
         "x": [
          1,
          2,
          3,
          4,
          5,
          6,
          7,
          8,
          9,
          10,
          11,
          12
         ],
         "xaxis": "x15",
         "y": [
          5787,
          5085,
          7685,
          6298,
          7093,
          5871,
          7230,
          7461,
          6789,
          8194,
          7496,
          7666
         ],
         "yaxis": "y15"
        },
        {
         "hovertemplate": "year=2014<br>family=LINGERIE<br>month=%{x}<br>counts=%{y}<extra></extra>",
         "legendgroup": "2014",
         "line": {
          "color": "#EF553B",
          "dash": "solid"
         },
         "marker": {
          "symbol": "circle"
         },
         "mode": "lines+markers",
         "name": "2014",
         "showlegend": false,
         "type": "scattergl",
         "x": [
          1,
          2,
          3,
          4,
          5,
          6,
          7,
          8,
          9,
          10,
          11,
          12
         ],
         "xaxis": "x10",
         "y": [
          13332,
          11416,
          12372,
          12273,
          13393,
          12383,
          12308,
          13172,
          14686,
          13102,
          10747,
          12895
         ],
         "yaxis": "y10"
        },
        {
         "hovertemplate": "year=2014<br>family=LIQUOR,WINE,BEER<br>month=%{x}<br>counts=%{y}<extra></extra>",
         "legendgroup": "2014",
         "line": {
          "color": "#EF553B",
          "dash": "solid"
         },
         "marker": {
          "symbol": "circle"
         },
         "mode": "lines+markers",
         "name": "2014",
         "showlegend": false,
         "type": "scattergl",
         "x": [
          1,
          2,
          3,
          4,
          5,
          6,
          7,
          8,
          9,
          10,
          11,
          12
         ],
         "xaxis": "x11",
         "y": [
          111023,
          110314,
          139649,
          120097,
          126235,
          135899,
          114929,
          114941,
          100081,
          116431,
          109157,
          253019
         ],
         "yaxis": "y11"
        },
        {
         "hovertemplate": "year=2014<br>family=MAGAZINES<br>month=%{x}<br>counts=%{y}<extra></extra>",
         "legendgroup": "2014",
         "line": {
          "color": "#EF553B",
          "dash": "solid"
         },
         "marker": {
          "symbol": "circle"
         },
         "mode": "lines+markers",
         "name": "2014",
         "showlegend": false,
         "type": "scattergl",
         "x": [
          1,
          2,
          3,
          4,
          5,
          6,
          7,
          8,
          9,
          10,
          11,
          12
         ],
         "xaxis": "x12",
         "y": [
          1726,
          0,
          1959,
          0,
          0,
          0,
          1898,
          0,
          2628,
          1959,
          1988,
          2788
         ],
         "yaxis": "y12"
        },
        {
         "hovertemplate": "year=2014<br>family=MEATS<br>month=%{x}<br>counts=%{y}<extra></extra>",
         "legendgroup": "2014",
         "line": {
          "color": "#EF553B",
          "dash": "solid"
         },
         "marker": {
          "symbol": "circle"
         },
         "mode": "lines+markers",
         "name": "2014",
         "showlegend": false,
         "type": "scattergl",
         "x": [
          1,
          2,
          3,
          4,
          5,
          6,
          7,
          8,
          9,
          10,
          11,
          12
         ],
         "xaxis": "x7",
         "y": [
          490276.380212,
          472934.441401,
          557430.866019,
          490231.051883,
          547591.432618,
          552050.965793,
          538998.210029,
          563615.859131,
          556392.882056,
          569356.219706,
          511825.362873,
          531165.753638
         ],
         "yaxis": "y7"
        },
        {
         "hovertemplate": "year=2014<br>family=PERSONAL CARE<br>month=%{x}<br>counts=%{y}<extra></extra>",
         "legendgroup": "2014",
         "line": {
          "color": "#EF553B",
          "dash": "solid"
         },
         "marker": {
          "symbol": "circle"
         },
         "mode": "lines+markers",
         "name": "2014",
         "showlegend": false,
         "type": "scattergl",
         "x": [
          1,
          2,
          3,
          4,
          5,
          6,
          7,
          8,
          9,
          10,
          11,
          12
         ],
         "xaxis": "x8",
         "y": [
          369497,
          321063,
          387192,
          365345,
          399326,
          388943,
          401355,
          419124,
          376891,
          425426,
          430732,
          502389
         ],
         "yaxis": "y8"
        },
        {
         "hovertemplate": "year=2014<br>family=PET SUPPLIES<br>month=%{x}<br>counts=%{y}<extra></extra>",
         "legendgroup": "2014",
         "line": {
          "color": "#EF553B",
          "dash": "solid"
         },
         "marker": {
          "symbol": "circle"
         },
         "mode": "lines+markers",
         "name": "2014",
         "showlegend": false,
         "type": "scattergl",
         "x": [
          1,
          2,
          3,
          4,
          5,
          6,
          7,
          8,
          9,
          10,
          11,
          12
         ],
         "xaxis": "x9",
         "y": [
          6430,
          0,
          8011,
          0,
          0,
          0,
          7549,
          0,
          7964,
          8185,
          9041,
          9810
         ],
         "yaxis": "y9"
        },
        {
         "hovertemplate": "year=2014<br>family=PLAYERS AND ELECTRONICS<br>month=%{x}<br>counts=%{y}<extra></extra>",
         "legendgroup": "2014",
         "line": {
          "color": "#EF553B",
          "dash": "solid"
         },
         "marker": {
          "symbol": "circle"
         },
         "mode": "lines+markers",
         "name": "2014",
         "showlegend": false,
         "type": "scattergl",
         "x": [
          1,
          2,
          3,
          4,
          5,
          6,
          7,
          8,
          9,
          10,
          11,
          12
         ],
         "xaxis": "x4",
         "y": [
          16539,
          0,
          16061,
          0,
          0,
          0,
          12768,
          0,
          13432,
          13015,
          14396,
          19936
         ],
         "yaxis": "y4"
        },
        {
         "hovertemplate": "year=2014<br>family=POULTRY<br>month=%{x}<br>counts=%{y}<extra></extra>",
         "legendgroup": "2014",
         "line": {
          "color": "#EF553B",
          "dash": "solid"
         },
         "marker": {
          "symbol": "circle"
         },
         "mode": "lines+markers",
         "name": "2014",
         "showlegend": false,
         "type": "scattergl",
         "x": [
          1,
          2,
          3,
          4,
          5,
          6,
          7,
          8,
          9,
          10,
          11,
          12
         ],
         "xaxis": "x5",
         "y": [
          627749.216033,
          581511.244009,
          654438.654697,
          562509.106268,
          600606.514715,
          589002.147832,
          600019.099819,
          626266.605564,
          630431.932034,
          635465.697194,
          638615.99734,
          684696.359094
         ],
         "yaxis": "y5"
        },
        {
         "hovertemplate": "year=2014<br>family=PREPARED FOODS<br>month=%{x}<br>counts=%{y}<extra></extra>",
         "legendgroup": "2014",
         "line": {
          "color": "#EF553B",
          "dash": "solid"
         },
         "marker": {
          "symbol": "circle"
         },
         "mode": "lines+markers",
         "name": "2014",
         "showlegend": false,
         "type": "scattergl",
         "x": [
          1,
          2,
          3,
          4,
          5,
          6,
          7,
          8,
          9,
          10,
          11,
          12
         ],
         "xaxis": "x6",
         "y": [
          158104.841101,
          136125.602996,
          163798.515854,
          149931.333846,
          147016.807927,
          145496.405228,
          151042.76095,
          147313.44107,
          151729.928132,
          160802.076142,
          156105.036057,
          153037.453056
         ],
         "yaxis": "y6"
        },
        {
         "hovertemplate": "year=2014<br>family=PRODUCE<br>month=%{x}<br>counts=%{y}<extra></extra>",
         "legendgroup": "2014",
         "line": {
          "color": "#EF553B",
          "dash": "solid"
         },
         "marker": {
          "symbol": "circle"
         },
         "mode": "lines+markers",
         "name": "2014",
         "showlegend": false,
         "type": "scattergl",
         "x": [
          1,
          2,
          3,
          4,
          5,
          6,
          7,
          8,
          9,
          10,
          11,
          12
         ],
         "xaxis": "x",
         "y": [
          3243616.58327,
          6576,
          3352346.250876,
          7152,
          9094,
          8283,
          3216023.256304,
          8265,
          3388714.61249,
          3380437.00928,
          3346861.56419,
          3545158.514066
         ],
         "yaxis": "y"
        },
        {
         "hovertemplate": "year=2014<br>family=SCHOOL AND OFFICE SUPPLIES<br>month=%{x}<br>counts=%{y}<extra></extra>",
         "legendgroup": "2014",
         "line": {
          "color": "#EF553B",
          "dash": "solid"
         },
         "marker": {
          "symbol": "circle"
         },
         "mode": "lines+markers",
         "name": "2014",
         "showlegend": false,
         "type": "scattergl",
         "x": [
          1,
          2,
          3,
          4,
          5,
          6,
          7,
          8,
          9,
          10,
          11,
          12
         ],
         "xaxis": "x2",
         "y": [
          1861,
          0,
          2235,
          0,
          0,
          0,
          1958,
          0,
          18367,
          3026,
          2546,
          1992
         ],
         "yaxis": "y2"
        },
        {
         "hovertemplate": "year=2014<br>family=SEAFOOD<br>month=%{x}<br>counts=%{y}<extra></extra>",
         "legendgroup": "2014",
         "line": {
          "color": "#EF553B",
          "dash": "solid"
         },
         "marker": {
          "symbol": "circle"
         },
         "mode": "lines+markers",
         "name": "2014",
         "showlegend": false,
         "type": "scattergl",
         "x": [
          1,
          2,
          3,
          4,
          5,
          6,
          7,
          8,
          9,
          10,
          11,
          12
         ],
         "xaxis": "x3",
         "y": [
          36938.3019024,
          29692.4681673,
          39993.117508,
          31917.2332214,
          35898.0289895,
          34519.9213066,
          33804.5705894,
          33844.5289822,
          35500.8480466,
          41864.6870221,
          40098.6449972,
          35862.343004199996
         ],
         "yaxis": "y3"
        },
        {
         "hovertemplate": "year=2015<br>family=AUTOMOTIVE<br>month=%{x}<br>counts=%{y}<extra></extra>",
         "legendgroup": "2015",
         "line": {
          "color": "#00cc96",
          "dash": "solid"
         },
         "marker": {
          "symbol": "circle"
         },
         "mode": "lines+markers",
         "name": "2015",
         "showlegend": true,
         "type": "scattergl",
         "x": [
          1,
          2,
          3,
          4,
          5,
          6,
          7,
          8,
          9,
          10,
          11,
          12
         ],
         "xaxis": "x31",
         "y": [
          9103,
          9194,
          11554,
          9047,
          9329,
          9783,
          10555,
          11156,
          9699,
          13483,
          11777,
          12667
         ],
         "yaxis": "y31"
        },
        {
         "hovertemplate": "year=2015<br>family=BABY CARE<br>month=%{x}<br>counts=%{y}<extra></extra>",
         "legendgroup": "2015",
         "line": {
          "color": "#00cc96",
          "dash": "solid"
         },
         "marker": {
          "symbol": "circle"
         },
         "mode": "lines+markers",
         "name": "2015",
         "showlegend": false,
         "type": "scattergl",
         "x": [
          1,
          2,
          3,
          4,
          5,
          6,
          7,
          8,
          9,
          10,
          11,
          12
         ],
         "xaxis": "x32",
         "y": [
          0,
          0,
          0,
          0,
          0,
          207,
          301,
          417,
          359,
          62,
          4,
          179
         ],
         "yaxis": "y32"
        },
        {
         "hovertemplate": "year=2015<br>family=BEAUTY<br>month=%{x}<br>counts=%{y}<extra></extra>",
         "legendgroup": "2015",
         "line": {
          "color": "#00cc96",
          "dash": "solid"
         },
         "marker": {
          "symbol": "circle"
         },
         "mode": "lines+markers",
         "name": "2015",
         "showlegend": false,
         "type": "scattergl",
         "x": [
          1,
          2,
          3,
          4,
          5,
          6,
          7,
          8,
          9,
          10,
          11,
          12
         ],
         "xaxis": "x33",
         "y": [
          4160,
          4377,
          4249,
          3998,
          5042,
          5680,
          4905,
          6416,
          6338,
          7410,
          7884,
          8266
         ],
         "yaxis": "y33"
        },
        {
         "hovertemplate": "year=2015<br>family=BEVERAGES<br>month=%{x}<br>counts=%{y}<extra></extra>",
         "legendgroup": "2015",
         "line": {
          "color": "#00cc96",
          "dash": "solid"
         },
         "marker": {
          "symbol": "circle"
         },
         "mode": "lines+markers",
         "name": "2015",
         "showlegend": false,
         "type": "scattergl",
         "x": [
          1,
          2,
          3,
          4,
          5,
          6,
          7,
          8,
          9,
          10,
          11,
          12
         ],
         "xaxis": "x28",
         "y": [
          2397121,
          2169912,
          2320034,
          2307147,
          3534100,
          4767226,
          4719130,
          4935188,
          5497255,
          5307322,
          4994499,
          5476961
         ],
         "yaxis": "y28"
        },
        {
         "hovertemplate": "year=2015<br>family=BOOKS<br>month=%{x}<br>counts=%{y}<extra></extra>",
         "legendgroup": "2015",
         "line": {
          "color": "#00cc96",
          "dash": "solid"
         },
         "marker": {
          "symbol": "circle"
         },
         "mode": "lines+markers",
         "name": "2015",
         "showlegend": false,
         "type": "scattergl",
         "x": [
          1,
          2,
          3,
          4,
          5,
          6,
          7,
          8,
          9,
          10,
          11,
          12
         ],
         "xaxis": "x29",
         "y": [
          0,
          0,
          0,
          0,
          0,
          0,
          0,
          0,
          0,
          0,
          0,
          0
         ],
         "yaxis": "y29"
        },
        {
         "hovertemplate": "year=2015<br>family=BREAD/BAKERY<br>month=%{x}<br>counts=%{y}<extra></extra>",
         "legendgroup": "2015",
         "line": {
          "color": "#00cc96",
          "dash": "solid"
         },
         "marker": {
          "symbol": "circle"
         },
         "mode": "lines+markers",
         "name": "2015",
         "showlegend": false,
         "type": "scattergl",
         "x": [
          1,
          2,
          3,
          4,
          5,
          6,
          7,
          8,
          9,
          10,
          11,
          12
         ],
         "xaxis": "x30",
         "y": [
          804971.6302,
          711927.25407,
          838120.60417,
          799873.21899,
          882514.41012,
          824928.59909,
          844369.56907,
          859257.82827,
          850992.04703,
          838459.12483,
          791100.24677,
          774252.76412
         ],
         "yaxis": "y30"
        },
        {
         "hovertemplate": "year=2015<br>family=CELEBRATION<br>month=%{x}<br>counts=%{y}<extra></extra>",
         "legendgroup": "2015",
         "line": {
          "color": "#00cc96",
          "dash": "solid"
         },
         "marker": {
          "symbol": "circle"
         },
         "mode": "lines+markers",
         "name": "2015",
         "showlegend": false,
         "type": "scattergl",
         "x": [
          1,
          2,
          3,
          4,
          5,
          6,
          7,
          8,
          9,
          10,
          11,
          12
         ],
         "xaxis": "x25",
         "y": [
          0,
          0,
          0,
          0,
          0,
          22116,
          22649,
          24634,
          23634,
          27909,
          23811,
          29133
         ],
         "yaxis": "y25"
        },
        {
         "hovertemplate": "year=2015<br>family=CLEANING<br>month=%{x}<br>counts=%{y}<extra></extra>",
         "legendgroup": "2015",
         "line": {
          "color": "#00cc96",
          "dash": "solid"
         },
         "marker": {
          "symbol": "circle"
         },
         "mode": "lines+markers",
         "name": "2015",
         "showlegend": false,
         "type": "scattergl",
         "x": [
          1,
          2,
          3,
          4,
          5,
          6,
          7,
          8,
          9,
          10,
          11,
          12
         ],
         "xaxis": "x26",
         "y": [
          1859154,
          1705201,
          1866690,
          1830427,
          1914705,
          1765945,
          1842030,
          1920666,
          1898402,
          1900911,
          1783214,
          2094086
         ],
         "yaxis": "y26"
        },
        {
         "hovertemplate": "year=2015<br>family=DAIRY<br>month=%{x}<br>counts=%{y}<extra></extra>",
         "legendgroup": "2015",
         "line": {
          "color": "#00cc96",
          "dash": "solid"
         },
         "marker": {
          "symbol": "circle"
         },
         "mode": "lines+markers",
         "name": "2015",
         "showlegend": false,
         "type": "scattergl",
         "x": [
          1,
          2,
          3,
          4,
          5,
          6,
          7,
          8,
          9,
          10,
          11,
          12
         ],
         "xaxis": "x27",
         "y": [
          1134521,
          1020747,
          1234851,
          1181180,
          1293308,
          1243588,
          1244815,
          1263428,
          1224619,
          1314827,
          1283672,
          1394582
         ],
         "yaxis": "y27"
        },
        {
         "hovertemplate": "year=2015<br>family=DELI<br>month=%{x}<br>counts=%{y}<extra></extra>",
         "legendgroup": "2015",
         "line": {
          "color": "#00cc96",
          "dash": "solid"
         },
         "marker": {
          "symbol": "circle"
         },
         "mode": "lines+markers",
         "name": "2015",
         "showlegend": false,
         "type": "scattergl",
         "x": [
          1,
          2,
          3,
          4,
          5,
          6,
          7,
          8,
          9,
          10,
          11,
          12
         ],
         "xaxis": "x22",
         "y": [
          474786.287988,
          439862.78801,
          504635.508104,
          480224.648004,
          525671.48905,
          492229.867984,
          511151.27598,
          525126.166004,
          518201.89304,
          500247.62201,
          432527.620994,
          490186.060992
         ],
         "yaxis": "y22"
        },
        {
         "hovertemplate": "year=2015<br>family=EGGS<br>month=%{x}<br>counts=%{y}<extra></extra>",
         "legendgroup": "2015",
         "line": {
          "color": "#00cc96",
          "dash": "solid"
         },
         "marker": {
          "symbol": "circle"
         },
         "mode": "lines+markers",
         "name": "2015",
         "showlegend": false,
         "type": "scattergl",
         "x": [
          1,
          2,
          3,
          4,
          5,
          6,
          7,
          8,
          9,
          10,
          11,
          12
         ],
         "xaxis": "x23",
         "y": [
          313143,
          283264,
          320340,
          292364,
          314260,
          294412,
          299069,
          303087,
          285324,
          289616,
          279691,
          277802
         ],
         "yaxis": "y23"
        },
        {
         "hovertemplate": "year=2015<br>family=FROZEN FOODS<br>month=%{x}<br>counts=%{y}<extra></extra>",
         "legendgroup": "2015",
         "line": {
          "color": "#00cc96",
          "dash": "solid"
         },
         "marker": {
          "symbol": "circle"
         },
         "mode": "lines+markers",
         "name": "2015",
         "showlegend": false,
         "type": "scattergl",
         "x": [
          1,
          2,
          3,
          4,
          5,
          6,
          7,
          8,
          9,
          10,
          11,
          12
         ],
         "xaxis": "x24",
         "y": [
          215616.5710355,
          187841.4619855,
          198538.323037,
          203933.23096,
          221964.151003,
          209088.005026,
          213218.051001,
          211230.015015,
          201180.617978,
          217848.296939,
          228244.666025,
          1236634.193202
         ],
         "yaxis": "y24"
        },
        {
         "hovertemplate": "year=2015<br>family=GROCERY I<br>month=%{x}<br>counts=%{y}<extra></extra>",
         "legendgroup": "2015",
         "line": {
          "color": "#00cc96",
          "dash": "solid"
         },
         "marker": {
          "symbol": "circle"
         },
         "mode": "lines+markers",
         "name": "2015",
         "showlegend": false,
         "type": "scattergl",
         "x": [
          1,
          2,
          3,
          4,
          5,
          6,
          7,
          8,
          9,
          10,
          11,
          12
         ],
         "xaxis": "x19",
         "y": [
          5557804.579,
          5284455.885,
          6149892.945,
          5795401.729,
          6373796.482,
          5855261.474,
          6194259.302,
          6558197.975,
          6432350.409,
          6985096.258,
          6687613.611,
          8354408.355
         ],
         "yaxis": "y19"
        },
        {
         "hovertemplate": "year=2015<br>family=GROCERY II<br>month=%{x}<br>counts=%{y}<extra></extra>",
         "legendgroup": "2015",
         "line": {
          "color": "#00cc96",
          "dash": "solid"
         },
         "marker": {
          "symbol": "circle"
         },
         "mode": "lines+markers",
         "name": "2015",
         "showlegend": false,
         "type": "scattergl",
         "x": [
          1,
          2,
          3,
          4,
          5,
          6,
          7,
          8,
          9,
          10,
          11,
          12
         ],
         "xaxis": "x20",
         "y": [
          33508,
          30479,
          36465,
          37913,
          42787,
          37675,
          38093,
          37712,
          35638,
          33959,
          32543,
          61021
         ],
         "yaxis": "y20"
        },
        {
         "hovertemplate": "year=2015<br>family=HARDWARE<br>month=%{x}<br>counts=%{y}<extra></extra>",
         "legendgroup": "2015",
         "line": {
          "color": "#00cc96",
          "dash": "solid"
         },
         "marker": {
          "symbol": "circle"
         },
         "mode": "lines+markers",
         "name": "2015",
         "showlegend": false,
         "type": "scattergl",
         "x": [
          1,
          2,
          3,
          4,
          5,
          6,
          7,
          8,
          9,
          10,
          11,
          12
         ],
         "xaxis": "x21",
         "y": [
          992,
          1630,
          1724,
          1637,
          1608,
          1946,
          1962,
          2180,
          2119,
          2027,
          2160,
          2417
         ],
         "yaxis": "y21"
        },
        {
         "hovertemplate": "year=2015<br>family=HOME AND KITCHEN I<br>month=%{x}<br>counts=%{y}<extra></extra>",
         "legendgroup": "2015",
         "line": {
          "color": "#00cc96",
          "dash": "solid"
         },
         "marker": {
          "symbol": "circle"
         },
         "mode": "lines+markers",
         "name": "2015",
         "showlegend": false,
         "type": "scattergl",
         "x": [
          1,
          2,
          3,
          4,
          5,
          6,
          7,
          8,
          9,
          10,
          11,
          12
         ],
         "xaxis": "x16",
         "y": [
          46108,
          34611,
          38050,
          37432,
          42200,
          40381,
          45790,
          41277,
          45328,
          59354,
          55080,
          73710
         ],
         "yaxis": "y16"
        },
        {
         "hovertemplate": "year=2015<br>family=HOME AND KITCHEN II<br>month=%{x}<br>counts=%{y}<extra></extra>",
         "legendgroup": "2015",
         "line": {
          "color": "#00cc96",
          "dash": "solid"
         },
         "marker": {
          "symbol": "circle"
         },
         "mode": "lines+markers",
         "name": "2015",
         "showlegend": false,
         "type": "scattergl",
         "x": [
          1,
          2,
          3,
          4,
          5,
          6,
          7,
          8,
          9,
          10,
          11,
          12
         ],
         "xaxis": "x17",
         "y": [
          23644,
          26125,
          28568,
          26089,
          37133,
          46924,
          40924,
          44678,
          43258,
          91028,
          34511,
          59209
         ],
         "yaxis": "y17"
        },
        {
         "hovertemplate": "year=2015<br>family=HOME APPLIANCES<br>month=%{x}<br>counts=%{y}<extra></extra>",
         "legendgroup": "2015",
         "line": {
          "color": "#00cc96",
          "dash": "solid"
         },
         "marker": {
          "symbol": "circle"
         },
         "mode": "lines+markers",
         "name": "2015",
         "showlegend": false,
         "type": "scattergl",
         "x": [
          1,
          2,
          3,
          4,
          5,
          6,
          7,
          8,
          9,
          10,
          11,
          12
         ],
         "xaxis": "x18",
         "y": [
          1074,
          959,
          1301,
          1131,
          866,
          185,
          26,
          644,
          317,
          758,
          904,
          992
         ],
         "yaxis": "y18"
        },
        {
         "hovertemplate": "year=2015<br>family=HOME CARE<br>month=%{x}<br>counts=%{y}<extra></extra>",
         "legendgroup": "2015",
         "line": {
          "color": "#00cc96",
          "dash": "solid"
         },
         "marker": {
          "symbol": "circle"
         },
         "mode": "lines+markers",
         "name": "2015",
         "showlegend": false,
         "type": "scattergl",
         "x": [
          1,
          2,
          3,
          4,
          5,
          6,
          7,
          8,
          9,
          10,
          11,
          12
         ],
         "xaxis": "x13",
         "y": [
          0,
          0,
          0,
          0,
          389532,
          432310,
          465652,
          495183,
          464185,
          460249,
          432222,
          480217
         ],
         "yaxis": "y13"
        },
        {
         "hovertemplate": "year=2015<br>family=LADIESWEAR<br>month=%{x}<br>counts=%{y}<extra></extra>",
         "legendgroup": "2015",
         "line": {
          "color": "#00cc96",
          "dash": "solid"
         },
         "marker": {
          "symbol": "circle"
         },
         "mode": "lines+markers",
         "name": "2015",
         "showlegend": false,
         "type": "scattergl",
         "x": [
          1,
          2,
          3,
          4,
          5,
          6,
          7,
          8,
          9,
          10,
          11,
          12
         ],
         "xaxis": "x14",
         "y": [
          0,
          0,
          0,
          0,
          0,
          20263,
          19655,
          20255,
          20785,
          18756,
          18063,
          19045
         ],
         "yaxis": "y14"
        },
        {
         "hovertemplate": "year=2015<br>family=LAWN AND GARDEN<br>month=%{x}<br>counts=%{y}<extra></extra>",
         "legendgroup": "2015",
         "line": {
          "color": "#00cc96",
          "dash": "solid"
         },
         "marker": {
          "symbol": "circle"
         },
         "mode": "lines+markers",
         "name": "2015",
         "showlegend": false,
         "type": "scattergl",
         "x": [
          1,
          2,
          3,
          4,
          5,
          6,
          7,
          8,
          9,
          10,
          11,
          12
         ],
         "xaxis": "x15",
         "y": [
          6882,
          7400,
          7694,
          7340,
          8351,
          7434,
          7649,
          7424,
          7567,
          8367,
          7569,
          7822
         ],
         "yaxis": "y15"
        },
        {
         "hovertemplate": "year=2015<br>family=LINGERIE<br>month=%{x}<br>counts=%{y}<extra></extra>",
         "legendgroup": "2015",
         "line": {
          "color": "#00cc96",
          "dash": "solid"
         },
         "marker": {
          "symbol": "circle"
         },
         "mode": "lines+markers",
         "name": "2015",
         "showlegend": false,
         "type": "scattergl",
         "x": [
          1,
          2,
          3,
          4,
          5,
          6,
          7,
          8,
          9,
          10,
          11,
          12
         ],
         "xaxis": "x10",
         "y": [
          9566,
          9480,
          9976,
          11273,
          13736,
          11748,
          13005,
          14640,
          13715,
          12827,
          10663,
          10072
         ],
         "yaxis": "y10"
        },
        {
         "hovertemplate": "year=2015<br>family=LIQUOR,WINE,BEER<br>month=%{x}<br>counts=%{y}<extra></extra>",
         "legendgroup": "2015",
         "line": {
          "color": "#00cc96",
          "dash": "solid"
         },
         "marker": {
          "symbol": "circle"
         },
         "mode": "lines+markers",
         "name": "2015",
         "showlegend": false,
         "type": "scattergl",
         "x": [
          1,
          2,
          3,
          4,
          5,
          6,
          7,
          8,
          9,
          10,
          11,
          12
         ],
         "xaxis": "x11",
         "y": [
          124571,
          135762,
          139452,
          142980,
          147419,
          151923,
          143987,
          142775,
          123645,
          148053,
          139034,
          275241
         ],
         "yaxis": "y11"
        },
        {
         "hovertemplate": "year=2015<br>family=MAGAZINES<br>month=%{x}<br>counts=%{y}<extra></extra>",
         "legendgroup": "2015",
         "line": {
          "color": "#00cc96",
          "dash": "solid"
         },
         "marker": {
          "symbol": "circle"
         },
         "mode": "lines+markers",
         "name": "2015",
         "showlegend": false,
         "type": "scattergl",
         "x": [
          1,
          2,
          3,
          4,
          5,
          6,
          7,
          8,
          9,
          10,
          11,
          12
         ],
         "xaxis": "x12",
         "y": [
          0,
          0,
          0,
          2180,
          2960,
          2300,
          3025,
          2678,
          2402,
          11712,
          8615,
          12504
         ],
         "yaxis": "y12"
        },
        {
         "hovertemplate": "year=2015<br>family=MEATS<br>month=%{x}<br>counts=%{y}<extra></extra>",
         "legendgroup": "2015",
         "line": {
          "color": "#00cc96",
          "dash": "solid"
         },
         "marker": {
          "symbol": "circle"
         },
         "mode": "lines+markers",
         "name": "2015",
         "showlegend": false,
         "type": "scattergl",
         "x": [
          1,
          2,
          3,
          4,
          5,
          6,
          7,
          8,
          9,
          10,
          11,
          12
         ],
         "xaxis": "x7",
         "y": [
          543117.728891,
          498735.076839,
          546517.159221,
          522304.280744,
          591691.899734,
          565014.130035,
          594903.677368,
          581214.143026,
          562711.633157,
          580788.361242,
          535908.927954,
          567381.391078
         ],
         "yaxis": "y7"
        },
        {
         "hovertemplate": "year=2015<br>family=PERSONAL CARE<br>month=%{x}<br>counts=%{y}<extra></extra>",
         "legendgroup": "2015",
         "line": {
          "color": "#00cc96",
          "dash": "solid"
         },
         "marker": {
          "symbol": "circle"
         },
         "mode": "lines+markers",
         "name": "2015",
         "showlegend": false,
         "type": "scattergl",
         "x": [
          1,
          2,
          3,
          4,
          5,
          6,
          7,
          8,
          9,
          10,
          11,
          12
         ],
         "xaxis": "x8",
         "y": [
          492686,
          429345,
          484740,
          455173,
          503729,
          446045,
          466584,
          499242,
          498625,
          499639,
          472022,
          547757
         ],
         "yaxis": "y8"
        },
        {
         "hovertemplate": "year=2015<br>family=PET SUPPLIES<br>month=%{x}<br>counts=%{y}<extra></extra>",
         "legendgroup": "2015",
         "line": {
          "color": "#00cc96",
          "dash": "solid"
         },
         "marker": {
          "symbol": "circle"
         },
         "mode": "lines+markers",
         "name": "2015",
         "showlegend": false,
         "type": "scattergl",
         "x": [
          1,
          2,
          3,
          4,
          5,
          6,
          7,
          8,
          9,
          10,
          11,
          12
         ],
         "xaxis": "x9",
         "y": [
          0,
          0,
          0,
          0,
          186,
          8810,
          8056,
          9231,
          7010,
          8782,
          10338,
          10370
         ],
         "yaxis": "y9"
        },
        {
         "hovertemplate": "year=2015<br>family=PLAYERS AND ELECTRONICS<br>month=%{x}<br>counts=%{y}<extra></extra>",
         "legendgroup": "2015",
         "line": {
          "color": "#00cc96",
          "dash": "solid"
         },
         "marker": {
          "symbol": "circle"
         },
         "mode": "lines+markers",
         "name": "2015",
         "showlegend": false,
         "type": "scattergl",
         "x": [
          1,
          2,
          3,
          4,
          5,
          6,
          7,
          8,
          9,
          10,
          11,
          12
         ],
         "xaxis": "x4",
         "y": [
          0,
          0,
          0,
          0,
          0,
          13084,
          14650,
          19021,
          18213,
          16580,
          15864,
          19916
         ],
         "yaxis": "y4"
        },
        {
         "hovertemplate": "year=2015<br>family=POULTRY<br>month=%{x}<br>counts=%{y}<extra></extra>",
         "legendgroup": "2015",
         "line": {
          "color": "#00cc96",
          "dash": "solid"
         },
         "marker": {
          "symbol": "circle"
         },
         "mode": "lines+markers",
         "name": "2015",
         "showlegend": false,
         "type": "scattergl",
         "x": [
          1,
          2,
          3,
          4,
          5,
          6,
          7,
          8,
          9,
          10,
          11,
          12
         ],
         "xaxis": "x5",
         "y": [
          641383.382107,
          566082.175503,
          644374.724782,
          604203.471045,
          663035.941336,
          616524.182189,
          641989.035386,
          635224.973362,
          614447.425565,
          679503.3993027,
          662504.421116,
          679621.19214
         ],
         "yaxis": "y5"
        },
        {
         "hovertemplate": "year=2015<br>family=PREPARED FOODS<br>month=%{x}<br>counts=%{y}<extra></extra>",
         "legendgroup": "2015",
         "line": {
          "color": "#00cc96",
          "dash": "solid"
         },
         "marker": {
          "symbol": "circle"
         },
         "mode": "lines+markers",
         "name": "2015",
         "showlegend": false,
         "type": "scattergl",
         "x": [
          1,
          2,
          3,
          4,
          5,
          6,
          7,
          8,
          9,
          10,
          11,
          12
         ],
         "xaxis": "x6",
         "y": [
          154989.042965,
          141031.645971,
          160126.780967,
          154670.12103,
          157764.039051,
          162337.996924,
          173992.749984,
          175323.635927,
          175876.483981,
          182636.189045,
          177277.299061,
          178843.000085
         ],
         "yaxis": "y6"
        },
        {
         "hovertemplate": "year=2015<br>family=PRODUCE<br>month=%{x}<br>counts=%{y}<extra></extra>",
         "legendgroup": "2015",
         "line": {
          "color": "#00cc96",
          "dash": "solid"
         },
         "marker": {
          "symbol": "circle"
         },
         "mode": "lines+markers",
         "name": "2015",
         "showlegend": false,
         "type": "scattergl",
         "x": [
          1,
          2,
          3,
          4,
          5,
          6,
          7,
          8,
          9,
          10,
          11,
          12
         ],
         "xaxis": "x",
         "y": [
          7554,
          7907,
          6905,
          7163,
          10172,
          3519216.54399,
          3583142.789944,
          3562251.92368,
          3599059.59415,
          3615706.45023,
          3624200.81428,
          4052565.440184
         ],
         "yaxis": "y"
        },
        {
         "hovertemplate": "year=2015<br>family=SCHOOL AND OFFICE SUPPLIES<br>month=%{x}<br>counts=%{y}<extra></extra>",
         "legendgroup": "2015",
         "line": {
          "color": "#00cc96",
          "dash": "solid"
         },
         "marker": {
          "symbol": "circle"
         },
         "mode": "lines+markers",
         "name": "2015",
         "showlegend": false,
         "type": "scattergl",
         "x": [
          1,
          2,
          3,
          4,
          5,
          6,
          7,
          8,
          9,
          10,
          11,
          12
         ],
         "xaxis": "x2",
         "y": [
          0,
          0,
          0,
          0,
          0,
          1994,
          1545,
          16148,
          15719,
          2927,
          2612,
          2392
         ],
         "yaxis": "y2"
        },
        {
         "hovertemplate": "year=2015<br>family=SEAFOOD<br>month=%{x}<br>counts=%{y}<extra></extra>",
         "legendgroup": "2015",
         "line": {
          "color": "#00cc96",
          "dash": "solid"
         },
         "marker": {
          "symbol": "circle"
         },
         "mode": "lines+markers",
         "name": "2015",
         "showlegend": false,
         "type": "scattergl",
         "x": [
          1,
          2,
          3,
          4,
          5,
          6,
          7,
          8,
          9,
          10,
          11,
          12
         ],
         "xaxis": "x3",
         "y": [
          40465.835012,
          36066.5610027,
          43808.473074300004,
          39983.4710025,
          42506.832015,
          38780.5520041,
          38535.5880059,
          37767.5809975,
          41906.3740102,
          41423.9629634,
          38823.7610112,
          33728.2769727
         ],
         "yaxis": "y3"
        },
        {
         "hovertemplate": "year=2016<br>family=AUTOMOTIVE<br>month=%{x}<br>counts=%{y}<extra></extra>",
         "legendgroup": "2016",
         "line": {
          "color": "#ab63fa",
          "dash": "solid"
         },
         "marker": {
          "symbol": "circle"
         },
         "mode": "lines+markers",
         "name": "2016",
         "showlegend": true,
         "type": "scattergl",
         "x": [
          1,
          2,
          3,
          4,
          5,
          6,
          7,
          8,
          9,
          10,
          11,
          12
         ],
         "xaxis": "x31",
         "y": [
          12119,
          12185,
          12058,
          11631,
          11839,
          9936,
          11549,
          10792,
          9058,
          10728,
          10778,
          12442
         ],
         "yaxis": "y31"
        },
        {
         "hovertemplate": "year=2016<br>family=BABY CARE<br>month=%{x}<br>counts=%{y}<extra></extra>",
         "legendgroup": "2016",
         "line": {
          "color": "#ab63fa",
          "dash": "solid"
         },
         "marker": {
          "symbol": "circle"
         },
         "mode": "lines+markers",
         "name": "2016",
         "showlegend": false,
         "type": "scattergl",
         "x": [
          1,
          2,
          3,
          4,
          5,
          6,
          7,
          8,
          9,
          10,
          11,
          12
         ],
         "xaxis": "x32",
         "y": [
          311,
          418,
          442,
          365,
          455,
          436,
          381,
          457,
          488,
          476,
          452,
          485
         ],
         "yaxis": "y32"
        },
        {
         "hovertemplate": "year=2016<br>family=BEAUTY<br>month=%{x}<br>counts=%{y}<extra></extra>",
         "legendgroup": "2016",
         "line": {
          "color": "#ab63fa",
          "dash": "solid"
         },
         "marker": {
          "symbol": "circle"
         },
         "mode": "lines+markers",
         "name": "2016",
         "showlegend": false,
         "type": "scattergl",
         "x": [
          1,
          2,
          3,
          4,
          5,
          6,
          7,
          8,
          9,
          10,
          11,
          12
         ],
         "xaxis": "x33",
         "y": [
          7020,
          6702,
          7133,
          8293,
          7460,
          7232,
          9043,
          8774,
          8284,
          9634,
          10307,
          9596
         ],
         "yaxis": "y33"
        },
        {
         "hovertemplate": "year=2016<br>family=BEVERAGES<br>month=%{x}<br>counts=%{y}<extra></extra>",
         "legendgroup": "2016",
         "line": {
          "color": "#ab63fa",
          "dash": "solid"
         },
         "marker": {
          "symbol": "circle"
         },
         "mode": "lines+markers",
         "name": "2016",
         "showlegend": false,
         "type": "scattergl",
         "x": [
          1,
          2,
          3,
          4,
          5,
          6,
          7,
          8,
          9,
          10,
          11,
          12
         ],
         "xaxis": "x28",
         "y": [
          5307788,
          4730609,
          4967615,
          5694504,
          5198351,
          4463076,
          4837784,
          4864024,
          4827054,
          5161401,
          5628678,
          6066803
         ],
         "yaxis": "y28"
        },
        {
         "hovertemplate": "year=2016<br>family=BOOKS<br>month=%{x}<br>counts=%{y}<extra></extra>",
         "legendgroup": "2016",
         "line": {
          "color": "#ab63fa",
          "dash": "solid"
         },
         "marker": {
          "symbol": "circle"
         },
         "mode": "lines+markers",
         "name": "2016",
         "showlegend": false,
         "type": "scattergl",
         "x": [
          1,
          2,
          3,
          4,
          5,
          6,
          7,
          8,
          9,
          10,
          11,
          12
         ],
         "xaxis": "x29",
         "y": [
          0,
          0,
          0,
          0,
          0,
          0,
          0,
          0,
          0,
          1783,
          1309,
          1027
         ],
         "yaxis": "y29"
        },
        {
         "hovertemplate": "year=2016<br>family=BREAD/BAKERY<br>month=%{x}<br>counts=%{y}<extra></extra>",
         "legendgroup": "2016",
         "line": {
          "color": "#ab63fa",
          "dash": "solid"
         },
         "marker": {
          "symbol": "circle"
         },
         "mode": "lines+markers",
         "name": "2016",
         "showlegend": false,
         "type": "scattergl",
         "x": [
          1,
          2,
          3,
          4,
          5,
          6,
          7,
          8,
          9,
          10,
          11,
          12
         ],
         "xaxis": "x30",
         "y": [
          814228.83333,
          746452.085035,
          824698.63703,
          854779.90178,
          929525.61024,
          875785.68722,
          904726.56619,
          859934.09698,
          850418.166,
          874873.8629,
          854292.54703,
          862895.51316
         ],
         "yaxis": "y30"
        },
        {
         "hovertemplate": "year=2016<br>family=CELEBRATION<br>month=%{x}<br>counts=%{y}<extra></extra>",
         "legendgroup": "2016",
         "line": {
          "color": "#ab63fa",
          "dash": "solid"
         },
         "marker": {
          "symbol": "circle"
         },
         "mode": "lines+markers",
         "name": "2016",
         "showlegend": false,
         "type": "scattergl",
         "x": [
          1,
          2,
          3,
          4,
          5,
          6,
          7,
          8,
          9,
          10,
          11,
          12
         ],
         "xaxis": "x25",
         "y": [
          22917,
          22105,
          23386,
          23010,
          23049,
          22204,
          23026,
          22353,
          22397,
          23307,
          20567,
          30438
         ],
         "yaxis": "y25"
        },
        {
         "hovertemplate": "year=2016<br>family=CLEANING<br>month=%{x}<br>counts=%{y}<extra></extra>",
         "legendgroup": "2016",
         "line": {
          "color": "#ab63fa",
          "dash": "solid"
         },
         "marker": {
          "symbol": "circle"
         },
         "mode": "lines+markers",
         "name": "2016",
         "showlegend": false,
         "type": "scattergl",
         "x": [
          1,
          2,
          3,
          4,
          5,
          6,
          7,
          8,
          9,
          10,
          11,
          12
         ],
         "xaxis": "x26",
         "y": [
          1969534,
          1759007,
          1770695,
          1984042,
          1954871,
          1762409,
          1857295,
          1765779,
          1808140,
          1880695,
          1884280,
          2232180
         ],
         "yaxis": "y26"
        },
        {
         "hovertemplate": "year=2016<br>family=DAIRY<br>month=%{x}<br>counts=%{y}<extra></extra>",
         "legendgroup": "2016",
         "line": {
          "color": "#ab63fa",
          "dash": "solid"
         },
         "marker": {
          "symbol": "circle"
         },
         "mode": "lines+markers",
         "name": "2016",
         "showlegend": false,
         "type": "scattergl",
         "x": [
          1,
          2,
          3,
          4,
          5,
          6,
          7,
          8,
          9,
          10,
          11,
          12
         ],
         "xaxis": "x27",
         "y": [
          1354875,
          1250980,
          1411860,
          1427146,
          1520885,
          1373631,
          1412688,
          1330689,
          1360984,
          1434197,
          1472571,
          1616687
         ],
         "yaxis": "y27"
        },
        {
         "hovertemplate": "year=2016<br>family=DELI<br>month=%{x}<br>counts=%{y}<extra></extra>",
         "legendgroup": "2016",
         "line": {
          "color": "#ab63fa",
          "dash": "solid"
         },
         "marker": {
          "symbol": "circle"
         },
         "mode": "lines+markers",
         "name": "2016",
         "showlegend": false,
         "type": "scattergl",
         "x": [
          1,
          2,
          3,
          4,
          5,
          6,
          7,
          8,
          9,
          10,
          11,
          12
         ],
         "xaxis": "x22",
         "y": [
          481682.521008,
          439429.477934,
          456444.94902,
          475840.183096,
          491731.432006,
          446243.38405,
          483486.869006,
          456744.74002,
          451844.475966,
          478863.641948,
          503415.142948,
          565027.954086
         ],
         "yaxis": "y22"
        },
        {
         "hovertemplate": "year=2016<br>family=EGGS<br>month=%{x}<br>counts=%{y}<extra></extra>",
         "legendgroup": "2016",
         "line": {
          "color": "#ab63fa",
          "dash": "solid"
         },
         "marker": {
          "symbol": "circle"
         },
         "mode": "lines+markers",
         "name": "2016",
         "showlegend": false,
         "type": "scattergl",
         "x": [
          1,
          2,
          3,
          4,
          5,
          6,
          7,
          8,
          9,
          10,
          11,
          12
         ],
         "xaxis": "x23",
         "y": [
          284872,
          269977,
          291765,
          294315,
          307394,
          290942,
          304831,
          289890,
          290414,
          339491,
          334923,
          338712
         ],
         "yaxis": "y23"
        },
        {
         "hovertemplate": "year=2016<br>family=FROZEN FOODS<br>month=%{x}<br>counts=%{y}<extra></extra>",
         "legendgroup": "2016",
         "line": {
          "color": "#ab63fa",
          "dash": "solid"
         },
         "marker": {
          "symbol": "circle"
         },
         "mode": "lines+markers",
         "name": "2016",
         "showlegend": false,
         "type": "scattergl",
         "x": [
          1,
          2,
          3,
          4,
          5,
          6,
          7,
          8,
          9,
          10,
          11,
          12
         ],
         "xaxis": "x24",
         "y": [
          243267.786982,
          218880.030053,
          215647.990991,
          212614.846006,
          226919.323943,
          205615.886953,
          215952.237985,
          196778.563997,
          193123.510981,
          208731.980014,
          229684.324995,
          1160601.887303
         ],
         "yaxis": "y24"
        },
        {
         "hovertemplate": "year=2016<br>family=GROCERY I<br>month=%{x}<br>counts=%{y}<extra></extra>",
         "legendgroup": "2016",
         "line": {
          "color": "#ab63fa",
          "dash": "solid"
         },
         "marker": {
          "symbol": "circle"
         },
         "mode": "lines+markers",
         "name": "2016",
         "showlegend": false,
         "type": "scattergl",
         "x": [
          1,
          2,
          3,
          4,
          5,
          6,
          7,
          8,
          9,
          10,
          11,
          12
         ],
         "xaxis": "x19",
         "y": [
          6679403.034,
          6302594.085,
          6717593.188,
          8408542.133,
          7428993.997,
          6630982.804,
          6970735.675,
          6523503.729,
          6529649.012,
          7116713.744,
          7322874.638,
          9454952.927
         ],
         "yaxis": "y19"
        },
        {
         "hovertemplate": "year=2016<br>family=GROCERY II<br>month=%{x}<br>counts=%{y}<extra></extra>",
         "legendgroup": "2016",
         "line": {
          "color": "#ab63fa",
          "dash": "solid"
         },
         "marker": {
          "symbol": "circle"
         },
         "mode": "lines+markers",
         "name": "2016",
         "showlegend": false,
         "type": "scattergl",
         "x": [
          1,
          2,
          3,
          4,
          5,
          6,
          7,
          8,
          9,
          10,
          11,
          12
         ],
         "xaxis": "x20",
         "y": [
          34735,
          31675,
          32494,
          34390,
          36873,
          34731,
          24388,
          29200,
          29064,
          31113,
          30836,
          61061
         ],
         "yaxis": "y20"
        },
        {
         "hovertemplate": "year=2016<br>family=HARDWARE<br>month=%{x}<br>counts=%{y}<extra></extra>",
         "legendgroup": "2016",
         "line": {
          "color": "#ab63fa",
          "dash": "solid"
         },
         "marker": {
          "symbol": "circle"
         },
         "mode": "lines+markers",
         "name": "2016",
         "showlegend": false,
         "type": "scattergl",
         "x": [
          1,
          2,
          3,
          4,
          5,
          6,
          7,
          8,
          9,
          10,
          11,
          12
         ],
         "xaxis": "x21",
         "y": [
          1846,
          2107,
          2167,
          2385,
          2001,
          1722,
          2013,
          1966,
          1610,
          1768,
          2090,
          2297
         ],
         "yaxis": "y21"
        },
        {
         "hovertemplate": "year=2016<br>family=HOME AND KITCHEN I<br>month=%{x}<br>counts=%{y}<extra></extra>",
         "legendgroup": "2016",
         "line": {
          "color": "#ab63fa",
          "dash": "solid"
         },
         "marker": {
          "symbol": "circle"
         },
         "mode": "lines+markers",
         "name": "2016",
         "showlegend": false,
         "type": "scattergl",
         "x": [
          1,
          2,
          3,
          4,
          5,
          6,
          7,
          8,
          9,
          10,
          11,
          12
         ],
         "xaxis": "x16",
         "y": [
          44227,
          34421,
          42891,
          41988,
          45617,
          45512,
          59254,
          45010,
          46986,
          47305,
          46169,
          76651
         ],
         "yaxis": "y16"
        },
        {
         "hovertemplate": "year=2016<br>family=HOME AND KITCHEN II<br>month=%{x}<br>counts=%{y}<extra></extra>",
         "legendgroup": "2016",
         "line": {
          "color": "#ab63fa",
          "dash": "solid"
         },
         "marker": {
          "symbol": "circle"
         },
         "mode": "lines+markers",
         "name": "2016",
         "showlegend": false,
         "type": "scattergl",
         "x": [
          1,
          2,
          3,
          4,
          5,
          6,
          7,
          8,
          9,
          10,
          11,
          12
         ],
         "xaxis": "x17",
         "y": [
          47808,
          49257,
          42174,
          46397,
          45026,
          39878,
          40157,
          37050,
          38618,
          39857,
          42352,
          52481
         ],
         "yaxis": "y17"
        },
        {
         "hovertemplate": "year=2016<br>family=HOME APPLIANCES<br>month=%{x}<br>counts=%{y}<extra></extra>",
         "legendgroup": "2016",
         "line": {
          "color": "#ab63fa",
          "dash": "solid"
         },
         "marker": {
          "symbol": "circle"
         },
         "mode": "lines+markers",
         "name": "2016",
         "showlegend": false,
         "type": "scattergl",
         "x": [
          1,
          2,
          3,
          4,
          5,
          6,
          7,
          8,
          9,
          10,
          11,
          12
         ],
         "xaxis": "x18",
         "y": [
          979,
          950,
          503,
          430,
          1020,
          455,
          358,
          537,
          399,
          188,
          225,
          489
         ],
         "yaxis": "y18"
        },
        {
         "hovertemplate": "year=2016<br>family=HOME CARE<br>month=%{x}<br>counts=%{y}<extra></extra>",
         "legendgroup": "2016",
         "line": {
          "color": "#ab63fa",
          "dash": "solid"
         },
         "marker": {
          "symbol": "circle"
         },
         "mode": "lines+markers",
         "name": "2016",
         "showlegend": false,
         "type": "scattergl",
         "x": [
          1,
          2,
          3,
          4,
          5,
          6,
          7,
          8,
          9,
          10,
          11,
          12
         ],
         "xaxis": "x13",
         "y": [
          474959,
          418817,
          439423,
          540762,
          480596,
          414720,
          477706,
          458403,
          456890,
          476315,
          490281,
          501721
         ],
         "yaxis": "y13"
        },
        {
         "hovertemplate": "year=2016<br>family=LADIESWEAR<br>month=%{x}<br>counts=%{y}<extra></extra>",
         "legendgroup": "2016",
         "line": {
          "color": "#ab63fa",
          "dash": "solid"
         },
         "marker": {
          "symbol": "circle"
         },
         "mode": "lines+markers",
         "name": "2016",
         "showlegend": false,
         "type": "scattergl",
         "x": [
          1,
          2,
          3,
          4,
          5,
          6,
          7,
          8,
          9,
          10,
          11,
          12
         ],
         "xaxis": "x14",
         "y": [
          18331,
          16438,
          18504,
          18301,
          20948,
          18149,
          19037,
          17133,
          19328,
          19503,
          17775,
          18174
         ],
         "yaxis": "y14"
        },
        {
         "hovertemplate": "year=2016<br>family=LAWN AND GARDEN<br>month=%{x}<br>counts=%{y}<extra></extra>",
         "legendgroup": "2016",
         "line": {
          "color": "#ab63fa",
          "dash": "solid"
         },
         "marker": {
          "symbol": "circle"
         },
         "mode": "lines+markers",
         "name": "2016",
         "showlegend": false,
         "type": "scattergl",
         "x": [
          1,
          2,
          3,
          4,
          5,
          6,
          7,
          8,
          9,
          10,
          11,
          12
         ],
         "xaxis": "x15",
         "y": [
          7585,
          7977,
          8285,
          7710,
          8964,
          8484,
          8640,
          8968,
          8620,
          8571,
          8859,
          25936
         ],
         "yaxis": "y15"
        },
        {
         "hovertemplate": "year=2016<br>family=LINGERIE<br>month=%{x}<br>counts=%{y}<extra></extra>",
         "legendgroup": "2016",
         "line": {
          "color": "#ab63fa",
          "dash": "solid"
         },
         "marker": {
          "symbol": "circle"
         },
         "mode": "lines+markers",
         "name": "2016",
         "showlegend": false,
         "type": "scattergl",
         "x": [
          1,
          2,
          3,
          4,
          5,
          6,
          7,
          8,
          9,
          10,
          11,
          12
         ],
         "xaxis": "x10",
         "y": [
          7914,
          8609,
          8083,
          8843,
          11327,
          7038,
          8040,
          8893,
          10181,
          9798,
          9398,
          11600
         ],
         "yaxis": "y10"
        },
        {
         "hovertemplate": "year=2016<br>family=LIQUOR,WINE,BEER<br>month=%{x}<br>counts=%{y}<extra></extra>",
         "legendgroup": "2016",
         "line": {
          "color": "#ab63fa",
          "dash": "solid"
         },
         "marker": {
          "symbol": "circle"
         },
         "mode": "lines+markers",
         "name": "2016",
         "showlegend": false,
         "type": "scattergl",
         "x": [
          1,
          2,
          3,
          4,
          5,
          6,
          7,
          8,
          9,
          10,
          11,
          12
         ],
         "xaxis": "x11",
         "y": [
          127514,
          151467,
          147530,
          129750,
          138220,
          135339,
          179266,
          151444,
          130865,
          138363,
          155417,
          307717
         ],
         "yaxis": "y11"
        },
        {
         "hovertemplate": "year=2016<br>family=MAGAZINES<br>month=%{x}<br>counts=%{y}<extra></extra>",
         "legendgroup": "2016",
         "line": {
          "color": "#ab63fa",
          "dash": "solid"
         },
         "marker": {
          "symbol": "circle"
         },
         "mode": "lines+markers",
         "name": "2016",
         "showlegend": false,
         "type": "scattergl",
         "x": [
          1,
          2,
          3,
          4,
          5,
          6,
          7,
          8,
          9,
          10,
          11,
          12
         ],
         "xaxis": "x12",
         "y": [
          8376,
          10715,
          9977,
          11227,
          10676,
          9022,
          10498,
          9904,
          9987,
          10993,
          9962,
          12692
         ],
         "yaxis": "y12"
        },
        {
         "hovertemplate": "year=2016<br>family=MEATS<br>month=%{x}<br>counts=%{y}<extra></extra>",
         "legendgroup": "2016",
         "line": {
          "color": "#ab63fa",
          "dash": "solid"
         },
         "marker": {
          "symbol": "circle"
         },
         "mode": "lines+markers",
         "name": "2016",
         "showlegend": false,
         "type": "scattergl",
         "x": [
          1,
          2,
          3,
          4,
          5,
          6,
          7,
          8,
          9,
          10,
          11,
          12
         ],
         "xaxis": "x7",
         "y": [
          591097.190342,
          544954.45565,
          543454.35006,
          583662.4468129,
          591532.731223,
          557547.144229,
          607702.419729,
          568488.623049,
          564988.491109,
          672115.441115,
          578954.065451,
          606028.189242
         ],
         "yaxis": "y7"
        },
        {
         "hovertemplate": "year=2016<br>family=PERSONAL CARE<br>month=%{x}<br>counts=%{y}<extra></extra>",
         "legendgroup": "2016",
         "line": {
          "color": "#ab63fa",
          "dash": "solid"
         },
         "marker": {
          "symbol": "circle"
         },
         "mode": "lines+markers",
         "name": "2016",
         "showlegend": false,
         "type": "scattergl",
         "x": [
          1,
          2,
          3,
          4,
          5,
          6,
          7,
          8,
          9,
          10,
          11,
          12
         ],
         "xaxis": "x8",
         "y": [
          560083,
          473164,
          487105,
          621247,
          553838,
          465449,
          498521,
          462022,
          471682,
          481666,
          505907,
          583353
         ],
         "yaxis": "y8"
        },
        {
         "hovertemplate": "year=2016<br>family=PET SUPPLIES<br>month=%{x}<br>counts=%{y}<extra></extra>",
         "legendgroup": "2016",
         "line": {
          "color": "#ab63fa",
          "dash": "solid"
         },
         "marker": {
          "symbol": "circle"
         },
         "mode": "lines+markers",
         "name": "2016",
         "showlegend": false,
         "type": "scattergl",
         "x": [
          1,
          2,
          3,
          4,
          5,
          6,
          7,
          8,
          9,
          10,
          11,
          12
         ],
         "xaxis": "x9",
         "y": [
          10644,
          8959,
          9677,
          10963,
          11160,
          9463,
          10279,
          10211,
          10978,
          12477,
          11452,
          13730
         ],
         "yaxis": "y9"
        },
        {
         "hovertemplate": "year=2016<br>family=PLAYERS AND ELECTRONICS<br>month=%{x}<br>counts=%{y}<extra></extra>",
         "legendgroup": "2016",
         "line": {
          "color": "#ab63fa",
          "dash": "solid"
         },
         "marker": {
          "symbol": "circle"
         },
         "mode": "lines+markers",
         "name": "2016",
         "showlegend": false,
         "type": "scattergl",
         "x": [
          1,
          2,
          3,
          4,
          5,
          6,
          7,
          8,
          9,
          10,
          11,
          12
         ],
         "xaxis": "x4",
         "y": [
          14277,
          13385,
          14326,
          18583,
          15911,
          13517,
          15342,
          15084,
          14950,
          16738,
          17485,
          26175
         ],
         "yaxis": "y4"
        },
        {
         "hovertemplate": "year=2016<br>family=POULTRY<br>month=%{x}<br>counts=%{y}<extra></extra>",
         "legendgroup": "2016",
         "line": {
          "color": "#ab63fa",
          "dash": "solid"
         },
         "marker": {
          "symbol": "circle"
         },
         "mode": "lines+markers",
         "name": "2016",
         "showlegend": false,
         "type": "scattergl",
         "x": [
          1,
          2,
          3,
          4,
          5,
          6,
          7,
          8,
          9,
          10,
          11,
          12
         ],
         "xaxis": "x5",
         "y": [
          647947.552835,
          623956.104828,
          616070.227746,
          645681.331094,
          645478.513026,
          593441.9426755,
          643886.70543,
          586723.178445,
          591788.740321,
          631524.957142,
          633331.222286,
          701211.383981
         ],
         "yaxis": "y5"
        },
        {
         "hovertemplate": "year=2016<br>family=PREPARED FOODS<br>month=%{x}<br>counts=%{y}<extra></extra>",
         "legendgroup": "2016",
         "line": {
          "color": "#ab63fa",
          "dash": "solid"
         },
         "marker": {
          "symbol": "circle"
         },
         "mode": "lines+markers",
         "name": "2016",
         "showlegend": false,
         "type": "scattergl",
         "x": [
          1,
          2,
          3,
          4,
          5,
          6,
          7,
          8,
          9,
          10,
          11,
          12
         ],
         "xaxis": "x6",
         "y": [
          178495.95,
          166330.143981,
          180492.361001,
          175991.307998,
          175327.396089,
          166893.046994,
          174941.788953,
          165052.257914,
          168945.953003,
          174430.583864,
          164817.207884,
          177356.454062
         ],
         "yaxis": "y6"
        },
        {
         "hovertemplate": "year=2016<br>family=PRODUCE<br>month=%{x}<br>counts=%{y}<extra></extra>",
         "legendgroup": "2016",
         "line": {
          "color": "#ab63fa",
          "dash": "solid"
         },
         "marker": {
          "symbol": "circle"
         },
         "mode": "lines+markers",
         "name": "2016",
         "showlegend": false,
         "type": "scattergl",
         "x": [
          1,
          2,
          3,
          4,
          5,
          6,
          7,
          8,
          9,
          10,
          11,
          12
         ],
         "xaxis": "x",
         "y": [
          3980591.69598,
          3585008.59157,
          3786813.37098,
          3621327.48513,
          3832996.612716,
          3560052.78525,
          3609957.43776,
          3489905.476504,
          3427137.60763,
          3673368.54929,
          3605235.8078,
          4075705.02255
         ],
         "yaxis": "y"
        },
        {
         "hovertemplate": "year=2016<br>family=SCHOOL AND OFFICE SUPPLIES<br>month=%{x}<br>counts=%{y}<extra></extra>",
         "legendgroup": "2016",
         "line": {
          "color": "#ab63fa",
          "dash": "solid"
         },
         "marker": {
          "symbol": "circle"
         },
         "mode": "lines+markers",
         "name": "2016",
         "showlegend": false,
         "type": "scattergl",
         "x": [
          1,
          2,
          3,
          4,
          5,
          6,
          7,
          8,
          9,
          10,
          11,
          12
         ],
         "xaxis": "x2",
         "y": [
          3108,
          2815,
          3218,
          8950,
          10427,
          2461,
          1746,
          17214,
          23556,
          3128,
          2543,
          2050
         ],
         "yaxis": "y2"
        },
        {
         "hovertemplate": "year=2016<br>family=SEAFOOD<br>month=%{x}<br>counts=%{y}<extra></extra>",
         "legendgroup": "2016",
         "line": {
          "color": "#ab63fa",
          "dash": "solid"
         },
         "marker": {
          "symbol": "circle"
         },
         "mode": "lines+markers",
         "name": "2016",
         "showlegend": false,
         "type": "scattergl",
         "x": [
          1,
          2,
          3,
          4,
          5,
          6,
          7,
          8,
          9,
          10,
          11,
          12
         ],
         "xaxis": "x3",
         "y": [
          39268.3209571,
          37064.8269518,
          39254.8089919,
          39353.4670453,
          40018.6439847,
          36849.8990121,
          39440.7330506,
          39486.6519859,
          39019.1399867,
          40272.056019,
          35419.2409995,
          32011.2480011
         ],
         "yaxis": "y3"
        },
        {
         "hovertemplate": "year=2017<br>family=AUTOMOTIVE<br>month=%{x}<br>counts=%{y}<extra></extra>",
         "legendgroup": "2017",
         "line": {
          "color": "#FFA15A",
          "dash": "solid"
         },
         "marker": {
          "symbol": "circle"
         },
         "mode": "lines+markers",
         "name": "2017",
         "showlegend": true,
         "type": "scattergl",
         "x": [
          1,
          2,
          3,
          4,
          5,
          6,
          7,
          8
         ],
         "xaxis": "x31",
         "y": [
          11134,
          11936,
          12794,
          13169,
          11818,
          11956,
          12197,
          6020
         ],
         "yaxis": "y31"
        },
        {
         "hovertemplate": "year=2017<br>family=BABY CARE<br>month=%{x}<br>counts=%{y}<extra></extra>",
         "legendgroup": "2017",
         "line": {
          "color": "#FFA15A",
          "dash": "solid"
         },
         "marker": {
          "symbol": "circle"
         },
         "mode": "lines+markers",
         "name": "2017",
         "showlegend": false,
         "type": "scattergl",
         "x": [
          1,
          2,
          3,
          4,
          5,
          6,
          7,
          8
         ],
         "xaxis": "x32",
         "y": [
          488,
          441,
          442,
          298,
          279,
          295,
          351,
          143
         ],
         "yaxis": "y32"
        },
        {
         "hovertemplate": "year=2017<br>family=BEAUTY<br>month=%{x}<br>counts=%{y}<extra></extra>",
         "legendgroup": "2017",
         "line": {
          "color": "#FFA15A",
          "dash": "solid"
         },
         "marker": {
          "symbol": "circle"
         },
         "mode": "lines+markers",
         "name": "2017",
         "showlegend": false,
         "type": "scattergl",
         "x": [
          1,
          2,
          3,
          4,
          5,
          6,
          7,
          8
         ],
         "xaxis": "x33",
         "y": [
          10272,
          8118,
          7051,
          7489,
          9877,
          8800,
          9623,
          5481
         ],
         "yaxis": "y33"
        },
        {
         "hovertemplate": "year=2017<br>family=BEVERAGES<br>month=%{x}<br>counts=%{y}<extra></extra>",
         "legendgroup": "2017",
         "line": {
          "color": "#FFA15A",
          "dash": "solid"
         },
         "marker": {
          "symbol": "circle"
         },
         "mode": "lines+markers",
         "name": "2017",
         "showlegend": false,
         "type": "scattergl",
         "x": [
          1,
          2,
          3,
          4,
          5,
          6,
          7,
          8
         ],
         "xaxis": "x28",
         "y": [
          6150083,
          5088308,
          6133553,
          5929467,
          5837405,
          5799818,
          6204055,
          2809903
         ],
         "yaxis": "y28"
        },
        {
         "hovertemplate": "year=2017<br>family=BOOKS<br>month=%{x}<br>counts=%{y}<extra></extra>",
         "legendgroup": "2017",
         "line": {
          "color": "#FFA15A",
          "dash": "solid"
         },
         "marker": {
          "symbol": "circle"
         },
         "mode": "lines+markers",
         "name": "2017",
         "showlegend": false,
         "type": "scattergl",
         "x": [
          1,
          2,
          3,
          4,
          5,
          6,
          7,
          8
         ],
         "xaxis": "x29",
         "y": [
          774,
          549,
          472,
          258,
          152,
          60,
          46,
          8
         ],
         "yaxis": "y29"
        },
        {
         "hovertemplate": "year=2017<br>family=BREAD/BAKERY<br>month=%{x}<br>counts=%{y}<extra></extra>",
         "legendgroup": "2017",
         "line": {
          "color": "#FFA15A",
          "dash": "solid"
         },
         "marker": {
          "symbol": "circle"
         },
         "mode": "lines+markers",
         "name": "2017",
         "showlegend": false,
         "type": "scattergl",
         "x": [
          1,
          2,
          3,
          4,
          5,
          6,
          7,
          8
         ],
         "xaxis": "x30",
         "y": [
          941283.9517,
          845823.21044,
          959907.15692,
          878030.28787,
          948895.65015,
          900139.18836,
          929873.40399,
          436413.76789
         ],
         "yaxis": "y30"
        },
        {
         "hovertemplate": "year=2017<br>family=CELEBRATION<br>month=%{x}<br>counts=%{y}<extra></extra>",
         "legendgroup": "2017",
         "line": {
          "color": "#FFA15A",
          "dash": "solid"
         },
         "marker": {
          "symbol": "circle"
         },
         "mode": "lines+markers",
         "name": "2017",
         "showlegend": false,
         "type": "scattergl",
         "x": [
          1,
          2,
          3,
          4,
          5,
          6,
          7,
          8
         ],
         "xaxis": "x25",
         "y": [
          22009,
          20470,
          23348,
          22611,
          22328,
          22352,
          22722,
          10302
         ],
         "yaxis": "y25"
        },
        {
         "hovertemplate": "year=2017<br>family=CLEANING<br>month=%{x}<br>counts=%{y}<extra></extra>",
         "legendgroup": "2017",
         "line": {
          "color": "#FFA15A",
          "dash": "solid"
         },
         "marker": {
          "symbol": "circle"
         },
         "mode": "lines+markers",
         "name": "2017",
         "showlegend": false,
         "type": "scattergl",
         "x": [
          1,
          2,
          3,
          4,
          5,
          6,
          7,
          8
         ],
         "xaxis": "x26",
         "y": [
          2057668,
          1887332,
          2004633,
          2019408,
          2264336,
          1990494,
          2299087,
          975858
         ],
         "yaxis": "y26"
        },
        {
         "hovertemplate": "year=2017<br>family=DAIRY<br>month=%{x}<br>counts=%{y}<extra></extra>",
         "legendgroup": "2017",
         "line": {
          "color": "#FFA15A",
          "dash": "solid"
         },
         "marker": {
          "symbol": "circle"
         },
         "mode": "lines+markers",
         "name": "2017",
         "showlegend": false,
         "type": "scattergl",
         "x": [
          1,
          2,
          3,
          4,
          5,
          6,
          7,
          8
         ],
         "xaxis": "x27",
         "y": [
          1572252,
          1384714,
          1628448,
          1561745,
          1617789,
          1510696,
          1505515,
          674541
         ],
         "yaxis": "y27"
        },
        {
         "hovertemplate": "year=2017<br>family=DELI<br>month=%{x}<br>counts=%{y}<extra></extra>",
         "legendgroup": "2017",
         "line": {
          "color": "#FFA15A",
          "dash": "solid"
         },
         "marker": {
          "symbol": "circle"
         },
         "mode": "lines+markers",
         "name": "2017",
         "showlegend": false,
         "type": "scattergl",
         "x": [
          1,
          2,
          3,
          4,
          5,
          6,
          7,
          8
         ],
         "xaxis": "x22",
         "y": [
          515412.20295,
          472868.999906,
          536419.09297,
          518515.785024,
          539986.249922,
          514679.058052,
          543916.040008,
          245224.579004
         ],
         "yaxis": "y22"
        },
        {
         "hovertemplate": "year=2017<br>family=EGGS<br>month=%{x}<br>counts=%{y}<extra></extra>",
         "legendgroup": "2017",
         "line": {
          "color": "#FFA15A",
          "dash": "solid"
         },
         "marker": {
          "symbol": "circle"
         },
         "mode": "lines+markers",
         "name": "2017",
         "showlegend": false,
         "type": "scattergl",
         "x": [
          1,
          2,
          3,
          4,
          5,
          6,
          7,
          8
         ],
         "xaxis": "x23",
         "y": [
          315964,
          281068,
          328313,
          323368,
          339962,
          327421,
          343149,
          157512
         ],
         "yaxis": "y23"
        },
        {
         "hovertemplate": "year=2017<br>family=FROZEN FOODS<br>month=%{x}<br>counts=%{y}<extra></extra>",
         "legendgroup": "2017",
         "line": {
          "color": "#FFA15A",
          "dash": "solid"
         },
         "marker": {
          "symbol": "circle"
         },
         "mode": "lines+markers",
         "name": "2017",
         "showlegend": false,
         "type": "scattergl",
         "x": [
          1,
          2,
          3,
          4,
          5,
          6,
          7,
          8
         ],
         "xaxis": "x24",
         "y": [
          226038.717031,
          204147.453955,
          213862.301018,
          216887.845991,
          237068.306844,
          222727.432074,
          223713.929022,
          104319.183989
         ],
         "yaxis": "y24"
        },
        {
         "hovertemplate": "year=2017<br>family=GROCERY I<br>month=%{x}<br>counts=%{y}<extra></extra>",
         "legendgroup": "2017",
         "line": {
          "color": "#FFA15A",
          "dash": "solid"
         },
         "marker": {
          "symbol": "circle"
         },
         "mode": "lines+markers",
         "name": "2017",
         "showlegend": false,
         "type": "scattergl",
         "x": [
          1,
          2,
          3,
          4,
          5,
          6,
          7,
          8
         ],
         "xaxis": "x19",
         "y": [
          7419753.694,
          6774372.37,
          7887671.774,
          7813168.199,
          8043902.762,
          7617937.742,
          7873933.799,
          3710196.818
         ],
         "yaxis": "y19"
        },
        {
         "hovertemplate": "year=2017<br>family=GROCERY II<br>month=%{x}<br>counts=%{y}<extra></extra>",
         "legendgroup": "2017",
         "line": {
          "color": "#FFA15A",
          "dash": "solid"
         },
         "marker": {
          "symbol": "circle"
         },
         "mode": "lines+markers",
         "name": "2017",
         "showlegend": false,
         "type": "scattergl",
         "x": [
          1,
          2,
          3,
          4,
          5,
          6,
          7,
          8
         ],
         "xaxis": "x20",
         "y": [
          33194,
          31892,
          36378,
          36596,
          48938,
          47400,
          57942,
          23225
         ],
         "yaxis": "y20"
        },
        {
         "hovertemplate": "year=2017<br>family=HARDWARE<br>month=%{x}<br>counts=%{y}<extra></extra>",
         "legendgroup": "2017",
         "line": {
          "color": "#FFA15A",
          "dash": "solid"
         },
         "marker": {
          "symbol": "circle"
         },
         "mode": "lines+markers",
         "name": "2017",
         "showlegend": false,
         "type": "scattergl",
         "x": [
          1,
          2,
          3,
          4,
          5,
          6,
          7,
          8
         ],
         "xaxis": "x21",
         "y": [
          2015,
          1894,
          2379,
          2395,
          2672,
          2274,
          2552,
          1171
         ],
         "yaxis": "y21"
        },
        {
         "hovertemplate": "year=2017<br>family=HOME AND KITCHEN I<br>month=%{x}<br>counts=%{y}<extra></extra>",
         "legendgroup": "2017",
         "line": {
          "color": "#FFA15A",
          "dash": "solid"
         },
         "marker": {
          "symbol": "circle"
         },
         "mode": "lines+markers",
         "name": "2017",
         "showlegend": false,
         "type": "scattergl",
         "x": [
          1,
          2,
          3,
          4,
          5,
          6,
          7,
          8
         ],
         "xaxis": "x16",
         "y": [
          75119,
          58052,
          48023,
          47905,
          51365,
          54959,
          52719,
          25663
         ],
         "yaxis": "y16"
        },
        {
         "hovertemplate": "year=2017<br>family=HOME AND KITCHEN II<br>month=%{x}<br>counts=%{y}<extra></extra>",
         "legendgroup": "2017",
         "line": {
          "color": "#FFA15A",
          "dash": "solid"
         },
         "marker": {
          "symbol": "circle"
         },
         "mode": "lines+markers",
         "name": "2017",
         "showlegend": false,
         "type": "scattergl",
         "x": [
          1,
          2,
          3,
          4,
          5,
          6,
          7,
          8
         ],
         "xaxis": "x17",
         "y": [
          42719,
          44252,
          49206,
          45747,
          56786,
          49972,
          51493,
          24980
         ],
         "yaxis": "y17"
        },
        {
         "hovertemplate": "year=2017<br>family=HOME APPLIANCES<br>month=%{x}<br>counts=%{y}<extra></extra>",
         "legendgroup": "2017",
         "line": {
          "color": "#FFA15A",
          "dash": "solid"
         },
         "marker": {
          "symbol": "circle"
         },
         "mode": "lines+markers",
         "name": "2017",
         "showlegend": false,
         "type": "scattergl",
         "x": [
          1,
          2,
          3,
          4,
          5,
          6,
          7,
          8
         ],
         "xaxis": "x18",
         "y": [
          760,
          909,
          1159,
          1119,
          1190,
          1034,
          671,
          151
         ],
         "yaxis": "y18"
        },
        {
         "hovertemplate": "year=2017<br>family=HOME CARE<br>month=%{x}<br>counts=%{y}<extra></extra>",
         "legendgroup": "2017",
         "line": {
          "color": "#FFA15A",
          "dash": "solid"
         },
         "marker": {
          "symbol": "circle"
         },
         "mode": "lines+markers",
         "name": "2017",
         "showlegend": false,
         "type": "scattergl",
         "x": [
          1,
          2,
          3,
          4,
          5,
          6,
          7,
          8
         ],
         "xaxis": "x13",
         "y": [
          521093,
          459063,
          524287,
          498148,
          500220,
          464207,
          563416,
          232689
         ],
         "yaxis": "y13"
        },
        {
         "hovertemplate": "year=2017<br>family=LADIESWEAR<br>month=%{x}<br>counts=%{y}<extra></extra>",
         "legendgroup": "2017",
         "line": {
          "color": "#FFA15A",
          "dash": "solid"
         },
         "marker": {
          "symbol": "circle"
         },
         "mode": "lines+markers",
         "name": "2017",
         "showlegend": false,
         "type": "scattergl",
         "x": [
          1,
          2,
          3,
          4,
          5,
          6,
          7,
          8
         ],
         "xaxis": "x14",
         "y": [
          20809,
          17874,
          19647,
          19616,
          21431,
          19334,
          20067,
          8245
         ],
         "yaxis": "y14"
        },
        {
         "hovertemplate": "year=2017<br>family=LAWN AND GARDEN<br>month=%{x}<br>counts=%{y}<extra></extra>",
         "legendgroup": "2017",
         "line": {
          "color": "#FFA15A",
          "dash": "solid"
         },
         "marker": {
          "symbol": "circle"
         },
         "mode": "lines+markers",
         "name": "2017",
         "showlegend": false,
         "type": "scattergl",
         "x": [
          1,
          2,
          3,
          4,
          5,
          6,
          7,
          8
         ],
         "xaxis": "x15",
         "y": [
          24145,
          29609,
          24747,
          24314,
          34952,
          27310,
          27500,
          12341
         ],
         "yaxis": "y15"
        },
        {
         "hovertemplate": "year=2017<br>family=LINGERIE<br>month=%{x}<br>counts=%{y}<extra></extra>",
         "legendgroup": "2017",
         "line": {
          "color": "#FFA15A",
          "dash": "solid"
         },
         "marker": {
          "symbol": "circle"
         },
         "mode": "lines+markers",
         "name": "2017",
         "showlegend": false,
         "type": "scattergl",
         "x": [
          1,
          2,
          3,
          4,
          5,
          6,
          7,
          8
         ],
         "xaxis": "x10",
         "y": [
          10888,
          9875,
          11312,
          12634,
          13009,
          10987,
          10884,
          6387
         ],
         "yaxis": "y10"
        },
        {
         "hovertemplate": "year=2017<br>family=LIQUOR,WINE,BEER<br>month=%{x}<br>counts=%{y}<extra></extra>",
         "legendgroup": "2017",
         "line": {
          "color": "#FFA15A",
          "dash": "solid"
         },
         "marker": {
          "symbol": "circle"
         },
         "mode": "lines+markers",
         "name": "2017",
         "showlegend": false,
         "type": "scattergl",
         "x": [
          1,
          2,
          3,
          4,
          5,
          6,
          7,
          8
         ],
         "xaxis": "x11",
         "y": [
          130668,
          144882,
          147379,
          147650,
          147623,
          154555,
          159719,
          81295
         ],
         "yaxis": "y11"
        },
        {
         "hovertemplate": "year=2017<br>family=MAGAZINES<br>month=%{x}<br>counts=%{y}<extra></extra>",
         "legendgroup": "2017",
         "line": {
          "color": "#FFA15A",
          "dash": "solid"
         },
         "marker": {
          "symbol": "circle"
         },
         "mode": "lines+markers",
         "name": "2017",
         "showlegend": false,
         "type": "scattergl",
         "x": [
          1,
          2,
          3,
          4,
          5,
          6,
          7,
          8
         ],
         "xaxis": "x12",
         "y": [
          9563,
          10200,
          10315,
          11377,
          11117,
          10024,
          10511,
          5901
         ],
         "yaxis": "y12"
        },
        {
         "hovertemplate": "year=2017<br>family=MEATS<br>month=%{x}<br>counts=%{y}<extra></extra>",
         "legendgroup": "2017",
         "line": {
          "color": "#FFA15A",
          "dash": "solid"
         },
         "marker": {
          "symbol": "circle"
         },
         "mode": "lines+markers",
         "name": "2017",
         "showlegend": false,
         "type": "scattergl",
         "x": [
          1,
          2,
          3,
          4,
          5,
          6,
          7,
          8
         ],
         "xaxis": "x7",
         "y": [
          614947.5621559999,
          552648.962733,
          614945.529033,
          571203.879932,
          615677.415689,
          629180.8311749999,
          639327.439127,
          302968.667563
         ],
         "yaxis": "y7"
        },
        {
         "hovertemplate": "year=2017<br>family=PERSONAL CARE<br>month=%{x}<br>counts=%{y}<extra></extra>",
         "legendgroup": "2017",
         "line": {
          "color": "#FFA15A",
          "dash": "solid"
         },
         "marker": {
          "symbol": "circle"
         },
         "mode": "lines+markers",
         "name": "2017",
         "showlegend": false,
         "type": "scattergl",
         "x": [
          1,
          2,
          3,
          4,
          5,
          6,
          7,
          8
         ],
         "xaxis": "x8",
         "y": [
          599662,
          502036,
          544547,
          547866,
          519788,
          517485,
          539305,
          258967
         ],
         "yaxis": "y8"
        },
        {
         "hovertemplate": "year=2017<br>family=PET SUPPLIES<br>month=%{x}<br>counts=%{y}<extra></extra>",
         "legendgroup": "2017",
         "line": {
          "color": "#FFA15A",
          "dash": "solid"
         },
         "marker": {
          "symbol": "circle"
         },
         "mode": "lines+markers",
         "name": "2017",
         "showlegend": false,
         "type": "scattergl",
         "x": [
          1,
          2,
          3,
          4,
          5,
          6,
          7,
          8
         ],
         "xaxis": "x9",
         "y": [
          13286,
          12604,
          14443,
          14666,
          15027,
          14931,
          15003,
          6858
         ],
         "yaxis": "y9"
        },
        {
         "hovertemplate": "year=2017<br>family=PLAYERS AND ELECTRONICS<br>month=%{x}<br>counts=%{y}<extra></extra>",
         "legendgroup": "2017",
         "line": {
          "color": "#FFA15A",
          "dash": "solid"
         },
         "marker": {
          "symbol": "circle"
         },
         "mode": "lines+markers",
         "name": "2017",
         "showlegend": false,
         "type": "scattergl",
         "x": [
          1,
          2,
          3,
          4,
          5,
          6,
          7,
          8
         ],
         "xaxis": "x4",
         "y": [
          19958,
          17003,
          18716,
          19846,
          20173,
          18369,
          19805,
          9490
         ],
         "yaxis": "y4"
        },
        {
         "hovertemplate": "year=2017<br>family=POULTRY<br>month=%{x}<br>counts=%{y}<extra></extra>",
         "legendgroup": "2017",
         "line": {
          "color": "#FFA15A",
          "dash": "solid"
         },
         "marker": {
          "symbol": "circle"
         },
         "mode": "lines+markers",
         "name": "2017",
         "showlegend": false,
         "type": "scattergl",
         "x": [
          1,
          2,
          3,
          4,
          5,
          6,
          7,
          8
         ],
         "xaxis": "x5",
         "y": [
          677062.5948,
          591904.04385,
          649552.011313,
          605118.592948,
          657027.894173,
          658662.036049,
          671729.86887,
          303852.663914
         ],
         "yaxis": "y5"
        },
        {
         "hovertemplate": "year=2017<br>family=PREPARED FOODS<br>month=%{x}<br>counts=%{y}<extra></extra>",
         "legendgroup": "2017",
         "line": {
          "color": "#FFA15A",
          "dash": "solid"
         },
         "marker": {
          "symbol": "circle"
         },
         "mode": "lines+markers",
         "name": "2017",
         "showlegend": false,
         "type": "scattergl",
         "x": [
          1,
          2,
          3,
          4,
          5,
          6,
          7,
          8
         ],
         "xaxis": "x6",
         "y": [
          187944.610045,
          178282.747026,
          187348.545107,
          162727.748098,
          152694.8411065,
          147253.406053,
          151421.928938,
          71297.927038
         ],
         "yaxis": "y6"
        },
        {
         "hovertemplate": "year=2017<br>family=PRODUCE<br>month=%{x}<br>counts=%{y}<extra></extra>",
         "legendgroup": "2017",
         "line": {
          "color": "#FFA15A",
          "dash": "solid"
         },
         "marker": {
          "symbol": "circle"
         },
         "mode": "lines+markers",
         "name": "2017",
         "showlegend": false,
         "type": "scattergl",
         "x": [
          1,
          2,
          3,
          4,
          5,
          6,
          7,
          8
         ],
         "xaxis": "x",
         "y": [
          4060896.89895,
          3571332.77303,
          4012516.2995,
          3757053.268706,
          4119032.73671,
          3893588.65524,
          4005391.46987,
          1855594.78436
         ],
         "yaxis": "y"
        },
        {
         "hovertemplate": "year=2017<br>family=SCHOOL AND OFFICE SUPPLIES<br>month=%{x}<br>counts=%{y}<extra></extra>",
         "legendgroup": "2017",
         "line": {
          "color": "#FFA15A",
          "dash": "solid"
         },
         "marker": {
          "symbol": "circle"
         },
         "mode": "lines+markers",
         "name": "2017",
         "showlegend": false,
         "type": "scattergl",
         "x": [
          1,
          2,
          3,
          4,
          5,
          6,
          7,
          8
         ],
         "xaxis": "x2",
         "y": [
          2875,
          1789,
          8246,
          28689,
          9658,
          2555,
          8797,
          50169
         ],
         "yaxis": "y2"
        },
        {
         "hovertemplate": "year=2017<br>family=SEAFOOD<br>month=%{x}<br>counts=%{y}<extra></extra>",
         "legendgroup": "2017",
         "line": {
          "color": "#FFA15A",
          "dash": "solid"
         },
         "marker": {
          "symbol": "circle"
         },
         "mode": "lines+markers",
         "name": "2017",
         "showlegend": false,
         "type": "scattergl",
         "x": [
          1,
          2,
          3,
          4,
          5,
          6,
          7,
          8
         ],
         "xaxis": "x3",
         "y": [
          37421.7040731,
          33861.8139968,
          41956.9810183,
          36221.8819861,
          39666.3939985,
          31365.7759906,
          35040.6870057,
          16154.5490195
         ],
         "yaxis": "y3"
        }
       ],
       "layout": {
        "annotations": [
         {
          "font": {},
          "showarrow": false,
          "text": "family=PRODUCE",
          "x": 0.15999999999999998,
          "xanchor": "center",
          "xref": "paper",
          "y": 0.08181818181818182,
          "yanchor": "bottom",
          "yref": "paper"
         },
         {
          "font": {},
          "showarrow": false,
          "text": "family=SCHOOL AND OFFICE SUPPLIES",
          "x": 0.49999999999999994,
          "xanchor": "center",
          "xref": "paper",
          "y": 0.08181818181818182,
          "yanchor": "bottom",
          "yref": "paper"
         },
         {
          "font": {},
          "showarrow": false,
          "text": "family=SEAFOOD",
          "x": 0.8399999999999999,
          "xanchor": "center",
          "xref": "paper",
          "y": 0.08181818181818182,
          "yanchor": "bottom",
          "yref": "paper"
         },
         {
          "font": {},
          "showarrow": false,
          "text": "family=PLAYERS AND ELECTRONICS",
          "x": 0.15999999999999998,
          "xanchor": "center",
          "xref": "paper",
          "y": 0.17363636363636364,
          "yanchor": "bottom",
          "yref": "paper"
         },
         {
          "font": {},
          "showarrow": false,
          "text": "family=POULTRY",
          "x": 0.49999999999999994,
          "xanchor": "center",
          "xref": "paper",
          "y": 0.17363636363636364,
          "yanchor": "bottom",
          "yref": "paper"
         },
         {
          "font": {},
          "showarrow": false,
          "text": "family=PREPARED FOODS",
          "x": 0.8399999999999999,
          "xanchor": "center",
          "xref": "paper",
          "y": 0.17363636363636364,
          "yanchor": "bottom",
          "yref": "paper"
         },
         {
          "font": {},
          "showarrow": false,
          "text": "family=MEATS",
          "x": 0.15999999999999998,
          "xanchor": "center",
          "xref": "paper",
          "y": 0.26545454545454544,
          "yanchor": "bottom",
          "yref": "paper"
         },
         {
          "font": {},
          "showarrow": false,
          "text": "family=PERSONAL CARE",
          "x": 0.49999999999999994,
          "xanchor": "center",
          "xref": "paper",
          "y": 0.26545454545454544,
          "yanchor": "bottom",
          "yref": "paper"
         },
         {
          "font": {},
          "showarrow": false,
          "text": "family=PET SUPPLIES",
          "x": 0.8399999999999999,
          "xanchor": "center",
          "xref": "paper",
          "y": 0.26545454545454544,
          "yanchor": "bottom",
          "yref": "paper"
         },
         {
          "font": {},
          "showarrow": false,
          "text": "family=LINGERIE",
          "x": 0.15999999999999998,
          "xanchor": "center",
          "xref": "paper",
          "y": 0.3572727272727273,
          "yanchor": "bottom",
          "yref": "paper"
         },
         {
          "font": {},
          "showarrow": false,
          "text": "family=LIQUOR,WINE,BEER",
          "x": 0.49999999999999994,
          "xanchor": "center",
          "xref": "paper",
          "y": 0.3572727272727273,
          "yanchor": "bottom",
          "yref": "paper"
         },
         {
          "font": {},
          "showarrow": false,
          "text": "family=MAGAZINES",
          "x": 0.8399999999999999,
          "xanchor": "center",
          "xref": "paper",
          "y": 0.3572727272727273,
          "yanchor": "bottom",
          "yref": "paper"
         },
         {
          "font": {},
          "showarrow": false,
          "text": "family=HOME CARE",
          "x": 0.15999999999999998,
          "xanchor": "center",
          "xref": "paper",
          "y": 0.4490909090909091,
          "yanchor": "bottom",
          "yref": "paper"
         },
         {
          "font": {},
          "showarrow": false,
          "text": "family=LADIESWEAR",
          "x": 0.49999999999999994,
          "xanchor": "center",
          "xref": "paper",
          "y": 0.4490909090909091,
          "yanchor": "bottom",
          "yref": "paper"
         },
         {
          "font": {},
          "showarrow": false,
          "text": "family=LAWN AND GARDEN",
          "x": 0.8399999999999999,
          "xanchor": "center",
          "xref": "paper",
          "y": 0.4490909090909091,
          "yanchor": "bottom",
          "yref": "paper"
         },
         {
          "font": {},
          "showarrow": false,
          "text": "family=HOME AND KITCHEN I",
          "x": 0.15999999999999998,
          "xanchor": "center",
          "xref": "paper",
          "y": 0.5409090909090909,
          "yanchor": "bottom",
          "yref": "paper"
         },
         {
          "font": {},
          "showarrow": false,
          "text": "family=HOME AND KITCHEN II",
          "x": 0.49999999999999994,
          "xanchor": "center",
          "xref": "paper",
          "y": 0.5409090909090909,
          "yanchor": "bottom",
          "yref": "paper"
         },
         {
          "font": {},
          "showarrow": false,
          "text": "family=HOME APPLIANCES",
          "x": 0.8399999999999999,
          "xanchor": "center",
          "xref": "paper",
          "y": 0.5409090909090909,
          "yanchor": "bottom",
          "yref": "paper"
         },
         {
          "font": {},
          "showarrow": false,
          "text": "family=GROCERY I",
          "x": 0.15999999999999998,
          "xanchor": "center",
          "xref": "paper",
          "y": 0.6327272727272726,
          "yanchor": "bottom",
          "yref": "paper"
         },
         {
          "font": {},
          "showarrow": false,
          "text": "family=GROCERY II",
          "x": 0.49999999999999994,
          "xanchor": "center",
          "xref": "paper",
          "y": 0.6327272727272726,
          "yanchor": "bottom",
          "yref": "paper"
         },
         {
          "font": {},
          "showarrow": false,
          "text": "family=HARDWARE",
          "x": 0.8399999999999999,
          "xanchor": "center",
          "xref": "paper",
          "y": 0.6327272727272726,
          "yanchor": "bottom",
          "yref": "paper"
         },
         {
          "font": {},
          "showarrow": false,
          "text": "family=DELI",
          "x": 0.15999999999999998,
          "xanchor": "center",
          "xref": "paper",
          "y": 0.7245454545454544,
          "yanchor": "bottom",
          "yref": "paper"
         },
         {
          "font": {},
          "showarrow": false,
          "text": "family=EGGS",
          "x": 0.49999999999999994,
          "xanchor": "center",
          "xref": "paper",
          "y": 0.7245454545454544,
          "yanchor": "bottom",
          "yref": "paper"
         },
         {
          "font": {},
          "showarrow": false,
          "text": "family=FROZEN FOODS",
          "x": 0.8399999999999999,
          "xanchor": "center",
          "xref": "paper",
          "y": 0.7245454545454544,
          "yanchor": "bottom",
          "yref": "paper"
         },
         {
          "font": {},
          "showarrow": false,
          "text": "family=CELEBRATION",
          "x": 0.15999999999999998,
          "xanchor": "center",
          "xref": "paper",
          "y": 0.8163636363636362,
          "yanchor": "bottom",
          "yref": "paper"
         },
         {
          "font": {},
          "showarrow": false,
          "text": "family=CLEANING",
          "x": 0.49999999999999994,
          "xanchor": "center",
          "xref": "paper",
          "y": 0.8163636363636362,
          "yanchor": "bottom",
          "yref": "paper"
         },
         {
          "font": {},
          "showarrow": false,
          "text": "family=DAIRY",
          "x": 0.8399999999999999,
          "xanchor": "center",
          "xref": "paper",
          "y": 0.8163636363636362,
          "yanchor": "bottom",
          "yref": "paper"
         },
         {
          "font": {},
          "showarrow": false,
          "text": "family=BEVERAGES",
          "x": 0.15999999999999998,
          "xanchor": "center",
          "xref": "paper",
          "y": 0.908181818181818,
          "yanchor": "bottom",
          "yref": "paper"
         },
         {
          "font": {},
          "showarrow": false,
          "text": "family=BOOKS",
          "x": 0.49999999999999994,
          "xanchor": "center",
          "xref": "paper",
          "y": 0.908181818181818,
          "yanchor": "bottom",
          "yref": "paper"
         },
         {
          "font": {},
          "showarrow": false,
          "text": "family=BREAD/BAKERY",
          "x": 0.8399999999999999,
          "xanchor": "center",
          "xref": "paper",
          "y": 0.908181818181818,
          "yanchor": "bottom",
          "yref": "paper"
         },
         {
          "font": {},
          "showarrow": false,
          "text": "family=AUTOMOTIVE",
          "x": 0.15999999999999998,
          "xanchor": "center",
          "xref": "paper",
          "y": 0.9999999999999998,
          "yanchor": "bottom",
          "yref": "paper"
         },
         {
          "font": {},
          "showarrow": false,
          "text": "family=BABY CARE",
          "x": 0.49999999999999994,
          "xanchor": "center",
          "xref": "paper",
          "y": 0.9999999999999998,
          "yanchor": "bottom",
          "yref": "paper"
         },
         {
          "font": {},
          "showarrow": false,
          "text": "family=BEAUTY",
          "x": 0.8399999999999999,
          "xanchor": "center",
          "xref": "paper",
          "y": 0.9999999999999998,
          "yanchor": "bottom",
          "yref": "paper"
         }
        ],
        "height": 2000,
        "legend": {
         "title": {
          "text": "year"
         },
         "tracegroupgap": 0
        },
        "template": {
         "data": {
          "bar": [
           {
            "error_x": {
             "color": "#2a3f5f"
            },
            "error_y": {
             "color": "#2a3f5f"
            },
            "marker": {
             "line": {
              "color": "#E5ECF6",
              "width": 0.5
             },
             "pattern": {
              "fillmode": "overlay",
              "size": 10,
              "solidity": 0.2
             }
            },
            "type": "bar"
           }
          ],
          "barpolar": [
           {
            "marker": {
             "line": {
              "color": "#E5ECF6",
              "width": 0.5
             },
             "pattern": {
              "fillmode": "overlay",
              "size": 10,
              "solidity": 0.2
             }
            },
            "type": "barpolar"
           }
          ],
          "carpet": [
           {
            "aaxis": {
             "endlinecolor": "#2a3f5f",
             "gridcolor": "white",
             "linecolor": "white",
             "minorgridcolor": "white",
             "startlinecolor": "#2a3f5f"
            },
            "baxis": {
             "endlinecolor": "#2a3f5f",
             "gridcolor": "white",
             "linecolor": "white",
             "minorgridcolor": "white",
             "startlinecolor": "#2a3f5f"
            },
            "type": "carpet"
           }
          ],
          "choropleth": [
           {
            "colorbar": {
             "outlinewidth": 0,
             "ticks": ""
            },
            "type": "choropleth"
           }
          ],
          "contour": [
           {
            "colorbar": {
             "outlinewidth": 0,
             "ticks": ""
            },
            "colorscale": [
             [
              0,
              "#0d0887"
             ],
             [
              0.1111111111111111,
              "#46039f"
             ],
             [
              0.2222222222222222,
              "#7201a8"
             ],
             [
              0.3333333333333333,
              "#9c179e"
             ],
             [
              0.4444444444444444,
              "#bd3786"
             ],
             [
              0.5555555555555556,
              "#d8576b"
             ],
             [
              0.6666666666666666,
              "#ed7953"
             ],
             [
              0.7777777777777778,
              "#fb9f3a"
             ],
             [
              0.8888888888888888,
              "#fdca26"
             ],
             [
              1,
              "#f0f921"
             ]
            ],
            "type": "contour"
           }
          ],
          "contourcarpet": [
           {
            "colorbar": {
             "outlinewidth": 0,
             "ticks": ""
            },
            "type": "contourcarpet"
           }
          ],
          "heatmap": [
           {
            "colorbar": {
             "outlinewidth": 0,
             "ticks": ""
            },
            "colorscale": [
             [
              0,
              "#0d0887"
             ],
             [
              0.1111111111111111,
              "#46039f"
             ],
             [
              0.2222222222222222,
              "#7201a8"
             ],
             [
              0.3333333333333333,
              "#9c179e"
             ],
             [
              0.4444444444444444,
              "#bd3786"
             ],
             [
              0.5555555555555556,
              "#d8576b"
             ],
             [
              0.6666666666666666,
              "#ed7953"
             ],
             [
              0.7777777777777778,
              "#fb9f3a"
             ],
             [
              0.8888888888888888,
              "#fdca26"
             ],
             [
              1,
              "#f0f921"
             ]
            ],
            "type": "heatmap"
           }
          ],
          "heatmapgl": [
           {
            "colorbar": {
             "outlinewidth": 0,
             "ticks": ""
            },
            "colorscale": [
             [
              0,
              "#0d0887"
             ],
             [
              0.1111111111111111,
              "#46039f"
             ],
             [
              0.2222222222222222,
              "#7201a8"
             ],
             [
              0.3333333333333333,
              "#9c179e"
             ],
             [
              0.4444444444444444,
              "#bd3786"
             ],
             [
              0.5555555555555556,
              "#d8576b"
             ],
             [
              0.6666666666666666,
              "#ed7953"
             ],
             [
              0.7777777777777778,
              "#fb9f3a"
             ],
             [
              0.8888888888888888,
              "#fdca26"
             ],
             [
              1,
              "#f0f921"
             ]
            ],
            "type": "heatmapgl"
           }
          ],
          "histogram": [
           {
            "marker": {
             "pattern": {
              "fillmode": "overlay",
              "size": 10,
              "solidity": 0.2
             }
            },
            "type": "histogram"
           }
          ],
          "histogram2d": [
           {
            "colorbar": {
             "outlinewidth": 0,
             "ticks": ""
            },
            "colorscale": [
             [
              0,
              "#0d0887"
             ],
             [
              0.1111111111111111,
              "#46039f"
             ],
             [
              0.2222222222222222,
              "#7201a8"
             ],
             [
              0.3333333333333333,
              "#9c179e"
             ],
             [
              0.4444444444444444,
              "#bd3786"
             ],
             [
              0.5555555555555556,
              "#d8576b"
             ],
             [
              0.6666666666666666,
              "#ed7953"
             ],
             [
              0.7777777777777778,
              "#fb9f3a"
             ],
             [
              0.8888888888888888,
              "#fdca26"
             ],
             [
              1,
              "#f0f921"
             ]
            ],
            "type": "histogram2d"
           }
          ],
          "histogram2dcontour": [
           {
            "colorbar": {
             "outlinewidth": 0,
             "ticks": ""
            },
            "colorscale": [
             [
              0,
              "#0d0887"
             ],
             [
              0.1111111111111111,
              "#46039f"
             ],
             [
              0.2222222222222222,
              "#7201a8"
             ],
             [
              0.3333333333333333,
              "#9c179e"
             ],
             [
              0.4444444444444444,
              "#bd3786"
             ],
             [
              0.5555555555555556,
              "#d8576b"
             ],
             [
              0.6666666666666666,
              "#ed7953"
             ],
             [
              0.7777777777777778,
              "#fb9f3a"
             ],
             [
              0.8888888888888888,
              "#fdca26"
             ],
             [
              1,
              "#f0f921"
             ]
            ],
            "type": "histogram2dcontour"
           }
          ],
          "mesh3d": [
           {
            "colorbar": {
             "outlinewidth": 0,
             "ticks": ""
            },
            "type": "mesh3d"
           }
          ],
          "parcoords": [
           {
            "line": {
             "colorbar": {
              "outlinewidth": 0,
              "ticks": ""
             }
            },
            "type": "parcoords"
           }
          ],
          "pie": [
           {
            "automargin": true,
            "type": "pie"
           }
          ],
          "scatter": [
           {
            "fillpattern": {
             "fillmode": "overlay",
             "size": 10,
             "solidity": 0.2
            },
            "type": "scatter"
           }
          ],
          "scatter3d": [
           {
            "line": {
             "colorbar": {
              "outlinewidth": 0,
              "ticks": ""
             }
            },
            "marker": {
             "colorbar": {
              "outlinewidth": 0,
              "ticks": ""
             }
            },
            "type": "scatter3d"
           }
          ],
          "scattercarpet": [
           {
            "marker": {
             "colorbar": {
              "outlinewidth": 0,
              "ticks": ""
             }
            },
            "type": "scattercarpet"
           }
          ],
          "scattergeo": [
           {
            "marker": {
             "colorbar": {
              "outlinewidth": 0,
              "ticks": ""
             }
            },
            "type": "scattergeo"
           }
          ],
          "scattergl": [
           {
            "marker": {
             "colorbar": {
              "outlinewidth": 0,
              "ticks": ""
             }
            },
            "type": "scattergl"
           }
          ],
          "scattermapbox": [
           {
            "marker": {
             "colorbar": {
              "outlinewidth": 0,
              "ticks": ""
             }
            },
            "type": "scattermapbox"
           }
          ],
          "scatterpolar": [
           {
            "marker": {
             "colorbar": {
              "outlinewidth": 0,
              "ticks": ""
             }
            },
            "type": "scatterpolar"
           }
          ],
          "scatterpolargl": [
           {
            "marker": {
             "colorbar": {
              "outlinewidth": 0,
              "ticks": ""
             }
            },
            "type": "scatterpolargl"
           }
          ],
          "scatterternary": [
           {
            "marker": {
             "colorbar": {
              "outlinewidth": 0,
              "ticks": ""
             }
            },
            "type": "scatterternary"
           }
          ],
          "surface": [
           {
            "colorbar": {
             "outlinewidth": 0,
             "ticks": ""
            },
            "colorscale": [
             [
              0,
              "#0d0887"
             ],
             [
              0.1111111111111111,
              "#46039f"
             ],
             [
              0.2222222222222222,
              "#7201a8"
             ],
             [
              0.3333333333333333,
              "#9c179e"
             ],
             [
              0.4444444444444444,
              "#bd3786"
             ],
             [
              0.5555555555555556,
              "#d8576b"
             ],
             [
              0.6666666666666666,
              "#ed7953"
             ],
             [
              0.7777777777777778,
              "#fb9f3a"
             ],
             [
              0.8888888888888888,
              "#fdca26"
             ],
             [
              1,
              "#f0f921"
             ]
            ],
            "type": "surface"
           }
          ],
          "table": [
           {
            "cells": {
             "fill": {
              "color": "#EBF0F8"
             },
             "line": {
              "color": "white"
             }
            },
            "header": {
             "fill": {
              "color": "#C8D4E3"
             },
             "line": {
              "color": "white"
             }
            },
            "type": "table"
           }
          ]
         },
         "layout": {
          "annotationdefaults": {
           "arrowcolor": "#2a3f5f",
           "arrowhead": 0,
           "arrowwidth": 1
          },
          "autotypenumbers": "strict",
          "coloraxis": {
           "colorbar": {
            "outlinewidth": 0,
            "ticks": ""
           }
          },
          "colorscale": {
           "diverging": [
            [
             0,
             "#8e0152"
            ],
            [
             0.1,
             "#c51b7d"
            ],
            [
             0.2,
             "#de77ae"
            ],
            [
             0.3,
             "#f1b6da"
            ],
            [
             0.4,
             "#fde0ef"
            ],
            [
             0.5,
             "#f7f7f7"
            ],
            [
             0.6,
             "#e6f5d0"
            ],
            [
             0.7,
             "#b8e186"
            ],
            [
             0.8,
             "#7fbc41"
            ],
            [
             0.9,
             "#4d9221"
            ],
            [
             1,
             "#276419"
            ]
           ],
           "sequential": [
            [
             0,
             "#0d0887"
            ],
            [
             0.1111111111111111,
             "#46039f"
            ],
            [
             0.2222222222222222,
             "#7201a8"
            ],
            [
             0.3333333333333333,
             "#9c179e"
            ],
            [
             0.4444444444444444,
             "#bd3786"
            ],
            [
             0.5555555555555556,
             "#d8576b"
            ],
            [
             0.6666666666666666,
             "#ed7953"
            ],
            [
             0.7777777777777778,
             "#fb9f3a"
            ],
            [
             0.8888888888888888,
             "#fdca26"
            ],
            [
             1,
             "#f0f921"
            ]
           ],
           "sequentialminus": [
            [
             0,
             "#0d0887"
            ],
            [
             0.1111111111111111,
             "#46039f"
            ],
            [
             0.2222222222222222,
             "#7201a8"
            ],
            [
             0.3333333333333333,
             "#9c179e"
            ],
            [
             0.4444444444444444,
             "#bd3786"
            ],
            [
             0.5555555555555556,
             "#d8576b"
            ],
            [
             0.6666666666666666,
             "#ed7953"
            ],
            [
             0.7777777777777778,
             "#fb9f3a"
            ],
            [
             0.8888888888888888,
             "#fdca26"
            ],
            [
             1,
             "#f0f921"
            ]
           ]
          },
          "colorway": [
           "#636efa",
           "#EF553B",
           "#00cc96",
           "#ab63fa",
           "#FFA15A",
           "#19d3f3",
           "#FF6692",
           "#B6E880",
           "#FF97FF",
           "#FECB52"
          ],
          "font": {
           "color": "#2a3f5f"
          },
          "geo": {
           "bgcolor": "white",
           "lakecolor": "white",
           "landcolor": "#E5ECF6",
           "showlakes": true,
           "showland": true,
           "subunitcolor": "white"
          },
          "hoverlabel": {
           "align": "left"
          },
          "hovermode": "closest",
          "mapbox": {
           "style": "light"
          },
          "paper_bgcolor": "white",
          "plot_bgcolor": "#E5ECF6",
          "polar": {
           "angularaxis": {
            "gridcolor": "white",
            "linecolor": "white",
            "ticks": ""
           },
           "bgcolor": "#E5ECF6",
           "radialaxis": {
            "gridcolor": "white",
            "linecolor": "white",
            "ticks": ""
           }
          },
          "scene": {
           "xaxis": {
            "backgroundcolor": "#E5ECF6",
            "gridcolor": "white",
            "gridwidth": 2,
            "linecolor": "white",
            "showbackground": true,
            "ticks": "",
            "zerolinecolor": "white"
           },
           "yaxis": {
            "backgroundcolor": "#E5ECF6",
            "gridcolor": "white",
            "gridwidth": 2,
            "linecolor": "white",
            "showbackground": true,
            "ticks": "",
            "zerolinecolor": "white"
           },
           "zaxis": {
            "backgroundcolor": "#E5ECF6",
            "gridcolor": "white",
            "gridwidth": 2,
            "linecolor": "white",
            "showbackground": true,
            "ticks": "",
            "zerolinecolor": "white"
           }
          },
          "shapedefaults": {
           "line": {
            "color": "#2a3f5f"
           }
          },
          "ternary": {
           "aaxis": {
            "gridcolor": "white",
            "linecolor": "white",
            "ticks": ""
           },
           "baxis": {
            "gridcolor": "white",
            "linecolor": "white",
            "ticks": ""
           },
           "bgcolor": "#E5ECF6",
           "caxis": {
            "gridcolor": "white",
            "linecolor": "white",
            "ticks": ""
           }
          },
          "title": {
           "x": 0.05
          },
          "xaxis": {
           "automargin": true,
           "gridcolor": "white",
           "linecolor": "white",
           "ticks": "",
           "title": {
            "standoff": 15
           },
           "zerolinecolor": "white",
           "zerolinewidth": 2
          },
          "yaxis": {
           "automargin": true,
           "gridcolor": "white",
           "linecolor": "white",
           "ticks": "",
           "title": {
            "standoff": 15
           },
           "zerolinecolor": "white",
           "zerolinewidth": 2
          }
         }
        },
        "title": {
         "text": "Seasonal Patterns by Family"
        },
        "xaxis": {
         "anchor": "y",
         "domain": [
          0,
          0.31999999999999995
         ],
         "title": {
          "text": "month"
         }
        },
        "xaxis10": {
         "anchor": "y10",
         "domain": [
          0,
          0.31999999999999995
         ],
         "matches": "x",
         "showticklabels": false
        },
        "xaxis11": {
         "anchor": "y11",
         "domain": [
          0.33999999999999997,
          0.6599999999999999
         ],
         "matches": "x",
         "showticklabels": false
        },
        "xaxis12": {
         "anchor": "y12",
         "domain": [
          0.6799999999999999,
          0.9999999999999999
         ],
         "matches": "x",
         "showticklabels": false
        },
        "xaxis13": {
         "anchor": "y13",
         "domain": [
          0,
          0.31999999999999995
         ],
         "matches": "x",
         "showticklabels": false
        },
        "xaxis14": {
         "anchor": "y14",
         "domain": [
          0.33999999999999997,
          0.6599999999999999
         ],
         "matches": "x",
         "showticklabels": false
        },
        "xaxis15": {
         "anchor": "y15",
         "domain": [
          0.6799999999999999,
          0.9999999999999999
         ],
         "matches": "x",
         "showticklabels": false
        },
        "xaxis16": {
         "anchor": "y16",
         "domain": [
          0,
          0.31999999999999995
         ],
         "matches": "x",
         "showticklabels": false
        },
        "xaxis17": {
         "anchor": "y17",
         "domain": [
          0.33999999999999997,
          0.6599999999999999
         ],
         "matches": "x",
         "showticklabels": false
        },
        "xaxis18": {
         "anchor": "y18",
         "domain": [
          0.6799999999999999,
          0.9999999999999999
         ],
         "matches": "x",
         "showticklabels": false
        },
        "xaxis19": {
         "anchor": "y19",
         "domain": [
          0,
          0.31999999999999995
         ],
         "matches": "x",
         "showticklabels": false
        },
        "xaxis2": {
         "anchor": "y2",
         "domain": [
          0.33999999999999997,
          0.6599999999999999
         ],
         "matches": "x",
         "title": {
          "text": "month"
         }
        },
        "xaxis20": {
         "anchor": "y20",
         "domain": [
          0.33999999999999997,
          0.6599999999999999
         ],
         "matches": "x",
         "showticklabels": false
        },
        "xaxis21": {
         "anchor": "y21",
         "domain": [
          0.6799999999999999,
          0.9999999999999999
         ],
         "matches": "x",
         "showticklabels": false
        },
        "xaxis22": {
         "anchor": "y22",
         "domain": [
          0,
          0.31999999999999995
         ],
         "matches": "x",
         "showticklabels": false
        },
        "xaxis23": {
         "anchor": "y23",
         "domain": [
          0.33999999999999997,
          0.6599999999999999
         ],
         "matches": "x",
         "showticklabels": false
        },
        "xaxis24": {
         "anchor": "y24",
         "domain": [
          0.6799999999999999,
          0.9999999999999999
         ],
         "matches": "x",
         "showticklabels": false
        },
        "xaxis25": {
         "anchor": "y25",
         "domain": [
          0,
          0.31999999999999995
         ],
         "matches": "x",
         "showticklabels": false
        },
        "xaxis26": {
         "anchor": "y26",
         "domain": [
          0.33999999999999997,
          0.6599999999999999
         ],
         "matches": "x",
         "showticklabels": false
        },
        "xaxis27": {
         "anchor": "y27",
         "domain": [
          0.6799999999999999,
          0.9999999999999999
         ],
         "matches": "x",
         "showticklabels": false
        },
        "xaxis28": {
         "anchor": "y28",
         "domain": [
          0,
          0.31999999999999995
         ],
         "matches": "x",
         "showticklabels": false
        },
        "xaxis29": {
         "anchor": "y29",
         "domain": [
          0.33999999999999997,
          0.6599999999999999
         ],
         "matches": "x",
         "showticklabels": false
        },
        "xaxis3": {
         "anchor": "y3",
         "domain": [
          0.6799999999999999,
          0.9999999999999999
         ],
         "matches": "x",
         "title": {
          "text": "month"
         }
        },
        "xaxis30": {
         "anchor": "y30",
         "domain": [
          0.6799999999999999,
          0.9999999999999999
         ],
         "matches": "x",
         "showticklabels": false
        },
        "xaxis31": {
         "anchor": "y31",
         "domain": [
          0,
          0.31999999999999995
         ],
         "matches": "x",
         "showticklabels": false
        },
        "xaxis32": {
         "anchor": "y32",
         "domain": [
          0.33999999999999997,
          0.6599999999999999
         ],
         "matches": "x",
         "showticklabels": false
        },
        "xaxis33": {
         "anchor": "y33",
         "domain": [
          0.6799999999999999,
          0.9999999999999999
         ],
         "matches": "x",
         "showticklabels": false
        },
        "xaxis4": {
         "anchor": "y4",
         "domain": [
          0,
          0.31999999999999995
         ],
         "matches": "x",
         "showticklabels": false
        },
        "xaxis5": {
         "anchor": "y5",
         "domain": [
          0.33999999999999997,
          0.6599999999999999
         ],
         "matches": "x",
         "showticklabels": false
        },
        "xaxis6": {
         "anchor": "y6",
         "domain": [
          0.6799999999999999,
          0.9999999999999999
         ],
         "matches": "x",
         "showticklabels": false
        },
        "xaxis7": {
         "anchor": "y7",
         "domain": [
          0,
          0.31999999999999995
         ],
         "matches": "x",
         "showticklabels": false
        },
        "xaxis8": {
         "anchor": "y8",
         "domain": [
          0.33999999999999997,
          0.6599999999999999
         ],
         "matches": "x",
         "showticklabels": false
        },
        "xaxis9": {
         "anchor": "y9",
         "domain": [
          0.6799999999999999,
          0.9999999999999999
         ],
         "matches": "x",
         "showticklabels": false
        },
        "yaxis": {
         "anchor": "x",
         "domain": [
          0,
          0.08181818181818182
         ],
         "title": {
          "text": "counts"
         }
        },
        "yaxis10": {
         "anchor": "x10",
         "domain": [
          0.27545454545454545,
          0.3572727272727273
         ],
         "title": {
          "text": "counts"
         }
        },
        "yaxis11": {
         "anchor": "x11",
         "domain": [
          0.27545454545454545,
          0.3572727272727273
         ],
         "showticklabels": false
        },
        "yaxis12": {
         "anchor": "x12",
         "domain": [
          0.27545454545454545,
          0.3572727272727273
         ],
         "showticklabels": false
        },
        "yaxis13": {
         "anchor": "x13",
         "domain": [
          0.36727272727272725,
          0.4490909090909091
         ],
         "title": {
          "text": "counts"
         }
        },
        "yaxis14": {
         "anchor": "x14",
         "domain": [
          0.36727272727272725,
          0.4490909090909091
         ],
         "showticklabels": false
        },
        "yaxis15": {
         "anchor": "x15",
         "domain": [
          0.36727272727272725,
          0.4490909090909091
         ],
         "showticklabels": false
        },
        "yaxis16": {
         "anchor": "x16",
         "domain": [
          0.45909090909090905,
          0.5409090909090909
         ],
         "title": {
          "text": "counts"
         }
        },
        "yaxis17": {
         "anchor": "x17",
         "domain": [
          0.45909090909090905,
          0.5409090909090909
         ],
         "showticklabels": false
        },
        "yaxis18": {
         "anchor": "x18",
         "domain": [
          0.45909090909090905,
          0.5409090909090909
         ],
         "showticklabels": false
        },
        "yaxis19": {
         "anchor": "x19",
         "domain": [
          0.5509090909090908,
          0.6327272727272726
         ],
         "title": {
          "text": "counts"
         }
        },
        "yaxis2": {
         "anchor": "x2",
         "domain": [
          0,
          0.08181818181818182
         ],
         "showticklabels": false
        },
        "yaxis20": {
         "anchor": "x20",
         "domain": [
          0.5509090909090908,
          0.6327272727272726
         ],
         "showticklabels": false
        },
        "yaxis21": {
         "anchor": "x21",
         "domain": [
          0.5509090909090908,
          0.6327272727272726
         ],
         "showticklabels": false
        },
        "yaxis22": {
         "anchor": "x22",
         "domain": [
          0.6427272727272726,
          0.7245454545454544
         ],
         "title": {
          "text": "counts"
         }
        },
        "yaxis23": {
         "anchor": "x23",
         "domain": [
          0.6427272727272726,
          0.7245454545454544
         ],
         "showticklabels": false
        },
        "yaxis24": {
         "anchor": "x24",
         "domain": [
          0.6427272727272726,
          0.7245454545454544
         ],
         "showticklabels": false
        },
        "yaxis25": {
         "anchor": "x25",
         "domain": [
          0.7345454545454544,
          0.8163636363636362
         ],
         "title": {
          "text": "counts"
         }
        },
        "yaxis26": {
         "anchor": "x26",
         "domain": [
          0.7345454545454544,
          0.8163636363636362
         ],
         "showticklabels": false
        },
        "yaxis27": {
         "anchor": "x27",
         "domain": [
          0.7345454545454544,
          0.8163636363636362
         ],
         "showticklabels": false
        },
        "yaxis28": {
         "anchor": "x28",
         "domain": [
          0.8263636363636362,
          0.908181818181818
         ],
         "title": {
          "text": "counts"
         }
        },
        "yaxis29": {
         "anchor": "x29",
         "domain": [
          0.8263636363636362,
          0.908181818181818
         ],
         "showticklabels": false
        },
        "yaxis3": {
         "anchor": "x3",
         "domain": [
          0,
          0.08181818181818182
         ],
         "showticklabels": false
        },
        "yaxis30": {
         "anchor": "x30",
         "domain": [
          0.8263636363636362,
          0.908181818181818
         ],
         "showticklabels": false
        },
        "yaxis31": {
         "anchor": "x31",
         "domain": [
          0.918181818181818,
          0.9999999999999998
         ],
         "title": {
          "text": "counts"
         }
        },
        "yaxis32": {
         "anchor": "x32",
         "domain": [
          0.918181818181818,
          0.9999999999999998
         ],
         "showticklabels": false
        },
        "yaxis33": {
         "anchor": "x33",
         "domain": [
          0.918181818181818,
          0.9999999999999998
         ],
         "showticklabels": false
        },
        "yaxis4": {
         "anchor": "x4",
         "domain": [
          0.09181818181818181,
          0.17363636363636364
         ],
         "title": {
          "text": "counts"
         }
        },
        "yaxis5": {
         "anchor": "x5",
         "domain": [
          0.09181818181818181,
          0.17363636363636364
         ],
         "showticklabels": false
        },
        "yaxis6": {
         "anchor": "x6",
         "domain": [
          0.09181818181818181,
          0.17363636363636364
         ],
         "showticklabels": false
        },
        "yaxis7": {
         "anchor": "x7",
         "domain": [
          0.18363636363636363,
          0.26545454545454544
         ],
         "title": {
          "text": "counts"
         }
        },
        "yaxis8": {
         "anchor": "x8",
         "domain": [
          0.18363636363636363,
          0.26545454545454544
         ],
         "showticklabels": false
        },
        "yaxis9": {
         "anchor": "x9",
         "domain": [
          0.18363636363636363,
          0.26545454545454544
         ],
         "showticklabels": false
        }
       }
      }
     },
     "metadata": {},
     "output_type": "display_data"
    }
   ],
   "source": [
    "sales_monthly_family['month'] = sales_monthly_family['date'].dt.month\n",
    "sales_monthly_family['year'] = sales_monthly_family['date'].dt.year\n",
    "\n",
    "fig = px.line(sales_monthly_family, x='month', y='counts', title='Seasonal Patterns by Family', color='year', \n",
    "        facet_col='family', facet_col_wrap=3, markers=True, height=2000,\n",
    "        facet_row_spacing=0.01, facet_col_spacing=0)\n",
    "fig.update_yaxes(matches=None)\n",
    "fig"
   ]
  },
  {
   "cell_type": "markdown",
   "metadata": {},
   "source": [
    "* some families show increasing trend towards winter/december, some extremely\n",
    "increase towards winter, e.g. \"liquor, beer, wine\" family, \"frozen foods\"\n",
    "* \"School and office supplieds\" family peaks around september due to start of school (only 2014 introduced category)\n",
    "* again we see that 2017/08, last month of data, is often times not representative of previous years (problem with data?)\n",
    "* some categories show zig-zag behavior such as family \"Produce\"."
   ]
  },
  {
   "cell_type": "code",
   "execution_count": 436,
   "metadata": {},
   "outputs": [
    {
     "data": {
      "application/vnd.plotly.v1+json": {
       "config": {
        "plotlyServerURL": "https://plot.ly"
       },
       "data": [
        {
         "hovertemplate": "family=AUTOMOTIVE<br>date=%{x}<br>counts=%{y}<extra></extra>",
         "legendgroup": "",
         "line": {
          "color": "#636efa",
          "dash": "solid"
         },
         "marker": {
          "symbol": "circle"
         },
         "mode": "lines+markers",
         "name": "",
         "showlegend": false,
         "type": "scattergl",
         "x": [
          "2013-01-31T00:00:00",
          "2013-02-28T00:00:00",
          "2013-03-31T00:00:00",
          "2013-04-30T00:00:00",
          "2013-05-31T00:00:00",
          "2013-06-30T00:00:00",
          "2013-07-31T00:00:00",
          "2013-08-31T00:00:00",
          "2013-09-30T00:00:00",
          "2013-10-31T00:00:00",
          "2013-11-30T00:00:00",
          "2013-12-31T00:00:00",
          "2014-01-31T00:00:00",
          "2014-02-28T00:00:00",
          "2014-03-31T00:00:00",
          "2014-04-30T00:00:00",
          "2014-05-31T00:00:00",
          "2014-06-30T00:00:00",
          "2014-07-31T00:00:00",
          "2014-08-31T00:00:00",
          "2014-09-30T00:00:00",
          "2014-10-31T00:00:00",
          "2014-11-30T00:00:00",
          "2014-12-31T00:00:00",
          "2015-01-31T00:00:00",
          "2015-02-28T00:00:00",
          "2015-03-31T00:00:00",
          "2015-04-30T00:00:00",
          "2015-05-31T00:00:00",
          "2015-06-30T00:00:00",
          "2015-07-31T00:00:00",
          "2015-08-31T00:00:00",
          "2015-09-30T00:00:00",
          "2015-10-31T00:00:00",
          "2015-11-30T00:00:00",
          "2015-12-31T00:00:00",
          "2016-01-31T00:00:00",
          "2016-02-29T00:00:00",
          "2016-03-31T00:00:00",
          "2016-04-30T00:00:00",
          "2016-05-31T00:00:00",
          "2016-06-30T00:00:00",
          "2016-07-31T00:00:00",
          "2016-08-31T00:00:00",
          "2016-09-30T00:00:00",
          "2016-10-31T00:00:00",
          "2016-11-30T00:00:00",
          "2016-12-31T00:00:00",
          "2017-01-31T00:00:00",
          "2017-02-28T00:00:00",
          "2017-03-31T00:00:00",
          "2017-04-30T00:00:00",
          "2017-05-31T00:00:00",
          "2017-06-30T00:00:00",
          "2017-07-31T00:00:00",
          "2017-08-31T00:00:00"
         ],
         "xaxis": "x31",
         "y": [
          6557,
          7220,
          7635,
          7485,
          9034,
          8311,
          8508,
          8164,
          7029,
          6803,
          7166,
          8411,
          8491,
          7563,
          10115,
          8426,
          8075,
          8230,
          9481,
          9309,
          9229,
          9933,
          9452,
          10709,
          9103,
          9194,
          11554,
          9047,
          9329,
          9783,
          10555,
          11156,
          9699,
          13483,
          11777,
          12667,
          12119,
          12185,
          12058,
          11631,
          11839,
          9936,
          11549,
          10792,
          9058,
          10728,
          10778,
          12442,
          11134,
          11936,
          12794,
          13169,
          11818,
          11956,
          12197,
          6020
         ],
         "yaxis": "y31"
        },
        {
         "hovertemplate": "family=BABY CARE<br>date=%{x}<br>counts=%{y}<extra></extra>",
         "legendgroup": "",
         "line": {
          "color": "#636efa",
          "dash": "solid"
         },
         "marker": {
          "symbol": "circle"
         },
         "mode": "lines+markers",
         "name": "",
         "showlegend": false,
         "type": "scattergl",
         "x": [
          "2013-01-31T00:00:00",
          "2013-02-28T00:00:00",
          "2013-03-31T00:00:00",
          "2013-04-30T00:00:00",
          "2013-05-31T00:00:00",
          "2013-06-30T00:00:00",
          "2013-07-31T00:00:00",
          "2013-08-31T00:00:00",
          "2013-09-30T00:00:00",
          "2013-10-31T00:00:00",
          "2013-11-30T00:00:00",
          "2013-12-31T00:00:00",
          "2014-01-31T00:00:00",
          "2014-02-28T00:00:00",
          "2014-03-31T00:00:00",
          "2014-04-30T00:00:00",
          "2014-05-31T00:00:00",
          "2014-06-30T00:00:00",
          "2014-07-31T00:00:00",
          "2014-08-31T00:00:00",
          "2014-09-30T00:00:00",
          "2014-10-31T00:00:00",
          "2014-11-30T00:00:00",
          "2014-12-31T00:00:00",
          "2015-01-31T00:00:00",
          "2015-02-28T00:00:00",
          "2015-03-31T00:00:00",
          "2015-04-30T00:00:00",
          "2015-05-31T00:00:00",
          "2015-06-30T00:00:00",
          "2015-07-31T00:00:00",
          "2015-08-31T00:00:00",
          "2015-09-30T00:00:00",
          "2015-10-31T00:00:00",
          "2015-11-30T00:00:00",
          "2015-12-31T00:00:00",
          "2016-01-31T00:00:00",
          "2016-02-29T00:00:00",
          "2016-03-31T00:00:00",
          "2016-04-30T00:00:00",
          "2016-05-31T00:00:00",
          "2016-06-30T00:00:00",
          "2016-07-31T00:00:00",
          "2016-08-31T00:00:00",
          "2016-09-30T00:00:00",
          "2016-10-31T00:00:00",
          "2016-11-30T00:00:00",
          "2016-12-31T00:00:00",
          "2017-01-31T00:00:00",
          "2017-02-28T00:00:00",
          "2017-03-31T00:00:00",
          "2017-04-30T00:00:00",
          "2017-05-31T00:00:00",
          "2017-06-30T00:00:00",
          "2017-07-31T00:00:00",
          "2017-08-31T00:00:00"
         ],
         "xaxis": "x32",
         "y": [
          0,
          0,
          0,
          0,
          0,
          0,
          0,
          0,
          0,
          0,
          0,
          0,
          0,
          0,
          72,
          0,
          0,
          0,
          163,
          0,
          160,
          50,
          5,
          169,
          0,
          0,
          0,
          0,
          0,
          207,
          301,
          417,
          359,
          62,
          4,
          179,
          311,
          418,
          442,
          365,
          455,
          436,
          381,
          457,
          488,
          476,
          452,
          485,
          488,
          441,
          442,
          298,
          279,
          295,
          351,
          143
         ],
         "yaxis": "y32"
        },
        {
         "hovertemplate": "family=BEAUTY<br>date=%{x}<br>counts=%{y}<extra></extra>",
         "legendgroup": "",
         "line": {
          "color": "#636efa",
          "dash": "solid"
         },
         "marker": {
          "symbol": "circle"
         },
         "mode": "lines+markers",
         "name": "",
         "showlegend": false,
         "type": "scattergl",
         "x": [
          "2013-01-31T00:00:00",
          "2013-02-28T00:00:00",
          "2013-03-31T00:00:00",
          "2013-04-30T00:00:00",
          "2013-05-31T00:00:00",
          "2013-06-30T00:00:00",
          "2013-07-31T00:00:00",
          "2013-08-31T00:00:00",
          "2013-09-30T00:00:00",
          "2013-10-31T00:00:00",
          "2013-11-30T00:00:00",
          "2013-12-31T00:00:00",
          "2014-01-31T00:00:00",
          "2014-02-28T00:00:00",
          "2014-03-31T00:00:00",
          "2014-04-30T00:00:00",
          "2014-05-31T00:00:00",
          "2014-06-30T00:00:00",
          "2014-07-31T00:00:00",
          "2014-08-31T00:00:00",
          "2014-09-30T00:00:00",
          "2014-10-31T00:00:00",
          "2014-11-30T00:00:00",
          "2014-12-31T00:00:00",
          "2015-01-31T00:00:00",
          "2015-02-28T00:00:00",
          "2015-03-31T00:00:00",
          "2015-04-30T00:00:00",
          "2015-05-31T00:00:00",
          "2015-06-30T00:00:00",
          "2015-07-31T00:00:00",
          "2015-08-31T00:00:00",
          "2015-09-30T00:00:00",
          "2015-10-31T00:00:00",
          "2015-11-30T00:00:00",
          "2015-12-31T00:00:00",
          "2016-01-31T00:00:00",
          "2016-02-29T00:00:00",
          "2016-03-31T00:00:00",
          "2016-04-30T00:00:00",
          "2016-05-31T00:00:00",
          "2016-06-30T00:00:00",
          "2016-07-31T00:00:00",
          "2016-08-31T00:00:00",
          "2016-09-30T00:00:00",
          "2016-10-31T00:00:00",
          "2016-11-30T00:00:00",
          "2016-12-31T00:00:00",
          "2017-01-31T00:00:00",
          "2017-02-28T00:00:00",
          "2017-03-31T00:00:00",
          "2017-04-30T00:00:00",
          "2017-05-31T00:00:00",
          "2017-06-30T00:00:00",
          "2017-07-31T00:00:00",
          "2017-08-31T00:00:00"
         ],
         "xaxis": "x33",
         "y": [
          4019,
          3747,
          3901,
          3670,
          3716,
          3842,
          4780,
          4720,
          3607,
          3753,
          3446,
          4171,
          4133,
          3578,
          5166,
          3879,
          3622,
          3545,
          4996,
          4975,
          4990,
          5041,
          5222,
          6460,
          4160,
          4377,
          4249,
          3998,
          5042,
          5680,
          4905,
          6416,
          6338,
          7410,
          7884,
          8266,
          7020,
          6702,
          7133,
          8293,
          7460,
          7232,
          9043,
          8774,
          8284,
          9634,
          10307,
          9596,
          10272,
          8118,
          7051,
          7489,
          9877,
          8800,
          9623,
          5481
         ],
         "yaxis": "y33"
        },
        {
         "hovertemplate": "family=BEVERAGES<br>date=%{x}<br>counts=%{y}<extra></extra>",
         "legendgroup": "",
         "line": {
          "color": "#636efa",
          "dash": "solid"
         },
         "marker": {
          "symbol": "circle"
         },
         "mode": "lines+markers",
         "name": "",
         "showlegend": false,
         "type": "scattergl",
         "x": [
          "2013-01-31T00:00:00",
          "2013-02-28T00:00:00",
          "2013-03-31T00:00:00",
          "2013-04-30T00:00:00",
          "2013-05-31T00:00:00",
          "2013-06-30T00:00:00",
          "2013-07-31T00:00:00",
          "2013-08-31T00:00:00",
          "2013-09-30T00:00:00",
          "2013-10-31T00:00:00",
          "2013-11-30T00:00:00",
          "2013-12-31T00:00:00",
          "2014-01-31T00:00:00",
          "2014-02-28T00:00:00",
          "2014-03-31T00:00:00",
          "2014-04-30T00:00:00",
          "2014-05-31T00:00:00",
          "2014-06-30T00:00:00",
          "2014-07-31T00:00:00",
          "2014-08-31T00:00:00",
          "2014-09-30T00:00:00",
          "2014-10-31T00:00:00",
          "2014-11-30T00:00:00",
          "2014-12-31T00:00:00",
          "2015-01-31T00:00:00",
          "2015-02-28T00:00:00",
          "2015-03-31T00:00:00",
          "2015-04-30T00:00:00",
          "2015-05-31T00:00:00",
          "2015-06-30T00:00:00",
          "2015-07-31T00:00:00",
          "2015-08-31T00:00:00",
          "2015-09-30T00:00:00",
          "2015-10-31T00:00:00",
          "2015-11-30T00:00:00",
          "2015-12-31T00:00:00",
          "2016-01-31T00:00:00",
          "2016-02-29T00:00:00",
          "2016-03-31T00:00:00",
          "2016-04-30T00:00:00",
          "2016-05-31T00:00:00",
          "2016-06-30T00:00:00",
          "2016-07-31T00:00:00",
          "2016-08-31T00:00:00",
          "2016-09-30T00:00:00",
          "2016-10-31T00:00:00",
          "2016-11-30T00:00:00",
          "2016-12-31T00:00:00",
          "2017-01-31T00:00:00",
          "2017-02-28T00:00:00",
          "2017-03-31T00:00:00",
          "2017-04-30T00:00:00",
          "2017-05-31T00:00:00",
          "2017-06-30T00:00:00",
          "2017-07-31T00:00:00",
          "2017-08-31T00:00:00"
         ],
         "xaxis": "x28",
         "y": [
          1670653,
          1508254,
          1822220,
          1743121,
          1824123,
          1829106,
          1664465,
          1810927,
          1908153,
          1855355,
          1895439,
          2246064,
          4145798,
          1916753,
          4430194,
          2113125,
          2081778,
          2100878,
          4175817,
          2109229,
          4304900,
          4370286,
          4449114,
          4852560,
          2397121,
          2169912,
          2320034,
          2307147,
          3534100,
          4767226,
          4719130,
          4935188,
          5497255,
          5307322,
          4994499,
          5476961,
          5307788,
          4730609,
          4967615,
          5694504,
          5198351,
          4463076,
          4837784,
          4864024,
          4827054,
          5161401,
          5628678,
          6066803,
          6150083,
          5088308,
          6133553,
          5929467,
          5837405,
          5799818,
          6204055,
          2809903
         ],
         "yaxis": "y28"
        },
        {
         "hovertemplate": "family=BOOKS<br>date=%{x}<br>counts=%{y}<extra></extra>",
         "legendgroup": "",
         "line": {
          "color": "#636efa",
          "dash": "solid"
         },
         "marker": {
          "symbol": "circle"
         },
         "mode": "lines+markers",
         "name": "",
         "showlegend": false,
         "type": "scattergl",
         "x": [
          "2013-01-31T00:00:00",
          "2013-02-28T00:00:00",
          "2013-03-31T00:00:00",
          "2013-04-30T00:00:00",
          "2013-05-31T00:00:00",
          "2013-06-30T00:00:00",
          "2013-07-31T00:00:00",
          "2013-08-31T00:00:00",
          "2013-09-30T00:00:00",
          "2013-10-31T00:00:00",
          "2013-11-30T00:00:00",
          "2013-12-31T00:00:00",
          "2014-01-31T00:00:00",
          "2014-02-28T00:00:00",
          "2014-03-31T00:00:00",
          "2014-04-30T00:00:00",
          "2014-05-31T00:00:00",
          "2014-06-30T00:00:00",
          "2014-07-31T00:00:00",
          "2014-08-31T00:00:00",
          "2014-09-30T00:00:00",
          "2014-10-31T00:00:00",
          "2014-11-30T00:00:00",
          "2014-12-31T00:00:00",
          "2015-01-31T00:00:00",
          "2015-02-28T00:00:00",
          "2015-03-31T00:00:00",
          "2015-04-30T00:00:00",
          "2015-05-31T00:00:00",
          "2015-06-30T00:00:00",
          "2015-07-31T00:00:00",
          "2015-08-31T00:00:00",
          "2015-09-30T00:00:00",
          "2015-10-31T00:00:00",
          "2015-11-30T00:00:00",
          "2015-12-31T00:00:00",
          "2016-01-31T00:00:00",
          "2016-02-29T00:00:00",
          "2016-03-31T00:00:00",
          "2016-04-30T00:00:00",
          "2016-05-31T00:00:00",
          "2016-06-30T00:00:00",
          "2016-07-31T00:00:00",
          "2016-08-31T00:00:00",
          "2016-09-30T00:00:00",
          "2016-10-31T00:00:00",
          "2016-11-30T00:00:00",
          "2016-12-31T00:00:00",
          "2017-01-31T00:00:00",
          "2017-02-28T00:00:00",
          "2017-03-31T00:00:00",
          "2017-04-30T00:00:00",
          "2017-05-31T00:00:00",
          "2017-06-30T00:00:00",
          "2017-07-31T00:00:00",
          "2017-08-31T00:00:00"
         ],
         "xaxis": "x29",
         "y": [
          0,
          0,
          0,
          0,
          0,
          0,
          0,
          0,
          0,
          0,
          0,
          0,
          0,
          0,
          0,
          0,
          0,
          0,
          0,
          0,
          0,
          0,
          0,
          0,
          0,
          0,
          0,
          0,
          0,
          0,
          0,
          0,
          0,
          0,
          0,
          0,
          0,
          0,
          0,
          0,
          0,
          0,
          0,
          0,
          0,
          1783,
          1309,
          1027,
          774,
          549,
          472,
          258,
          152,
          60,
          46,
          8
         ],
         "yaxis": "y29"
        },
        {
         "hovertemplate": "family=BREAD/BAKERY<br>date=%{x}<br>counts=%{y}<extra></extra>",
         "legendgroup": "",
         "line": {
          "color": "#636efa",
          "dash": "solid"
         },
         "marker": {
          "symbol": "circle"
         },
         "mode": "lines+markers",
         "name": "",
         "showlegend": false,
         "type": "scattergl",
         "x": [
          "2013-01-31T00:00:00",
          "2013-02-28T00:00:00",
          "2013-03-31T00:00:00",
          "2013-04-30T00:00:00",
          "2013-05-31T00:00:00",
          "2013-06-30T00:00:00",
          "2013-07-31T00:00:00",
          "2013-08-31T00:00:00",
          "2013-09-30T00:00:00",
          "2013-10-31T00:00:00",
          "2013-11-30T00:00:00",
          "2013-12-31T00:00:00",
          "2014-01-31T00:00:00",
          "2014-02-28T00:00:00",
          "2014-03-31T00:00:00",
          "2014-04-30T00:00:00",
          "2014-05-31T00:00:00",
          "2014-06-30T00:00:00",
          "2014-07-31T00:00:00",
          "2014-08-31T00:00:00",
          "2014-09-30T00:00:00",
          "2014-10-31T00:00:00",
          "2014-11-30T00:00:00",
          "2014-12-31T00:00:00",
          "2015-01-31T00:00:00",
          "2015-02-28T00:00:00",
          "2015-03-31T00:00:00",
          "2015-04-30T00:00:00",
          "2015-05-31T00:00:00",
          "2015-06-30T00:00:00",
          "2015-07-31T00:00:00",
          "2015-08-31T00:00:00",
          "2015-09-30T00:00:00",
          "2015-10-31T00:00:00",
          "2015-11-30T00:00:00",
          "2015-12-31T00:00:00",
          "2016-01-31T00:00:00",
          "2016-02-29T00:00:00",
          "2016-03-31T00:00:00",
          "2016-04-30T00:00:00",
          "2016-05-31T00:00:00",
          "2016-06-30T00:00:00",
          "2016-07-31T00:00:00",
          "2016-08-31T00:00:00",
          "2016-09-30T00:00:00",
          "2016-10-31T00:00:00",
          "2016-11-30T00:00:00",
          "2016-12-31T00:00:00",
          "2017-01-31T00:00:00",
          "2017-02-28T00:00:00",
          "2017-03-31T00:00:00",
          "2017-04-30T00:00:00",
          "2017-05-31T00:00:00",
          "2017-06-30T00:00:00",
          "2017-07-31T00:00:00",
          "2017-08-31T00:00:00"
         ],
         "xaxis": "x30",
         "y": [
          549778.856175,
          499809.40377,
          594024.80169,
          568623.2191,
          616045.653359,
          607785.69002,
          568490.334004,
          574358.36818,
          615401.429876,
          610595.11039,
          585894.35193,
          601344.768866,
          633640.13015,
          560309.69892,
          651165.39597,
          573217.412024,
          621684.478954,
          649177.492126,
          687980.14383,
          767589.38916,
          818636.99019,
          777683.66482,
          742784.45008,
          744178.92184,
          804971.6302,
          711927.25407,
          838120.60417,
          799873.21899,
          882514.41012,
          824928.59909,
          844369.56907,
          859257.82827,
          850992.04703,
          838459.12483,
          791100.24677,
          774252.76412,
          814228.83333,
          746452.085035,
          824698.63703,
          854779.90178,
          929525.61024,
          875785.68722,
          904726.56619,
          859934.09698,
          850418.166,
          874873.8629,
          854292.54703,
          862895.51316,
          941283.9517,
          845823.21044,
          959907.15692,
          878030.28787,
          948895.65015,
          900139.18836,
          929873.40399,
          436413.76789
         ],
         "yaxis": "y30"
        },
        {
         "hovertemplate": "family=CELEBRATION<br>date=%{x}<br>counts=%{y}<extra></extra>",
         "legendgroup": "",
         "line": {
          "color": "#636efa",
          "dash": "solid"
         },
         "marker": {
          "symbol": "circle"
         },
         "mode": "lines+markers",
         "name": "",
         "showlegend": false,
         "type": "scattergl",
         "x": [
          "2013-01-31T00:00:00",
          "2013-02-28T00:00:00",
          "2013-03-31T00:00:00",
          "2013-04-30T00:00:00",
          "2013-05-31T00:00:00",
          "2013-06-30T00:00:00",
          "2013-07-31T00:00:00",
          "2013-08-31T00:00:00",
          "2013-09-30T00:00:00",
          "2013-10-31T00:00:00",
          "2013-11-30T00:00:00",
          "2013-12-31T00:00:00",
          "2014-01-31T00:00:00",
          "2014-02-28T00:00:00",
          "2014-03-31T00:00:00",
          "2014-04-30T00:00:00",
          "2014-05-31T00:00:00",
          "2014-06-30T00:00:00",
          "2014-07-31T00:00:00",
          "2014-08-31T00:00:00",
          "2014-09-30T00:00:00",
          "2014-10-31T00:00:00",
          "2014-11-30T00:00:00",
          "2014-12-31T00:00:00",
          "2015-01-31T00:00:00",
          "2015-02-28T00:00:00",
          "2015-03-31T00:00:00",
          "2015-04-30T00:00:00",
          "2015-05-31T00:00:00",
          "2015-06-30T00:00:00",
          "2015-07-31T00:00:00",
          "2015-08-31T00:00:00",
          "2015-09-30T00:00:00",
          "2015-10-31T00:00:00",
          "2015-11-30T00:00:00",
          "2015-12-31T00:00:00",
          "2016-01-31T00:00:00",
          "2016-02-29T00:00:00",
          "2016-03-31T00:00:00",
          "2016-04-30T00:00:00",
          "2016-05-31T00:00:00",
          "2016-06-30T00:00:00",
          "2016-07-31T00:00:00",
          "2016-08-31T00:00:00",
          "2016-09-30T00:00:00",
          "2016-10-31T00:00:00",
          "2016-11-30T00:00:00",
          "2016-12-31T00:00:00",
          "2017-01-31T00:00:00",
          "2017-02-28T00:00:00",
          "2017-03-31T00:00:00",
          "2017-04-30T00:00:00",
          "2017-05-31T00:00:00",
          "2017-06-30T00:00:00",
          "2017-07-31T00:00:00",
          "2017-08-31T00:00:00"
         ],
         "xaxis": "x25",
         "y": [
          0,
          0,
          0,
          0,
          0,
          0,
          0,
          0,
          0,
          0,
          0,
          0,
          19174,
          0,
          21478,
          0,
          0,
          0,
          18153,
          0,
          22283,
          21706,
          19609,
          19987,
          0,
          0,
          0,
          0,
          0,
          22116,
          22649,
          24634,
          23634,
          27909,
          23811,
          29133,
          22917,
          22105,
          23386,
          23010,
          23049,
          22204,
          23026,
          22353,
          22397,
          23307,
          20567,
          30438,
          22009,
          20470,
          23348,
          22611,
          22328,
          22352,
          22722,
          10302
         ],
         "yaxis": "y25"
        },
        {
         "hovertemplate": "family=CLEANING<br>date=%{x}<br>counts=%{y}<extra></extra>",
         "legendgroup": "",
         "line": {
          "color": "#636efa",
          "dash": "solid"
         },
         "marker": {
          "symbol": "circle"
         },
         "mode": "lines+markers",
         "name": "",
         "showlegend": false,
         "type": "scattergl",
         "x": [
          "2013-01-31T00:00:00",
          "2013-02-28T00:00:00",
          "2013-03-31T00:00:00",
          "2013-04-30T00:00:00",
          "2013-05-31T00:00:00",
          "2013-06-30T00:00:00",
          "2013-07-31T00:00:00",
          "2013-08-31T00:00:00",
          "2013-09-30T00:00:00",
          "2013-10-31T00:00:00",
          "2013-11-30T00:00:00",
          "2013-12-31T00:00:00",
          "2014-01-31T00:00:00",
          "2014-02-28T00:00:00",
          "2014-03-31T00:00:00",
          "2014-04-30T00:00:00",
          "2014-05-31T00:00:00",
          "2014-06-30T00:00:00",
          "2014-07-31T00:00:00",
          "2014-08-31T00:00:00",
          "2014-09-30T00:00:00",
          "2014-10-31T00:00:00",
          "2014-11-30T00:00:00",
          "2014-12-31T00:00:00",
          "2015-01-31T00:00:00",
          "2015-02-28T00:00:00",
          "2015-03-31T00:00:00",
          "2015-04-30T00:00:00",
          "2015-05-31T00:00:00",
          "2015-06-30T00:00:00",
          "2015-07-31T00:00:00",
          "2015-08-31T00:00:00",
          "2015-09-30T00:00:00",
          "2015-10-31T00:00:00",
          "2015-11-30T00:00:00",
          "2015-12-31T00:00:00",
          "2016-01-31T00:00:00",
          "2016-02-29T00:00:00",
          "2016-03-31T00:00:00",
          "2016-04-30T00:00:00",
          "2016-05-31T00:00:00",
          "2016-06-30T00:00:00",
          "2016-07-31T00:00:00",
          "2016-08-31T00:00:00",
          "2016-09-30T00:00:00",
          "2016-10-31T00:00:00",
          "2016-11-30T00:00:00",
          "2016-12-31T00:00:00",
          "2017-01-31T00:00:00",
          "2017-02-28T00:00:00",
          "2017-03-31T00:00:00",
          "2017-04-30T00:00:00",
          "2017-05-31T00:00:00",
          "2017-06-30T00:00:00",
          "2017-07-31T00:00:00",
          "2017-08-31T00:00:00"
         ],
         "xaxis": "x26",
         "y": [
          1448851,
          1302978,
          1505390,
          1421226,
          1486295,
          1483938,
          1420483,
          1462219,
          1435825,
          1414118,
          1408284,
          1724908,
          1599645,
          1425639,
          1770274,
          1452234,
          1498344,
          1482407,
          1679291,
          1576156,
          1644862,
          1686919,
          1700773,
          1981056,
          1859154,
          1705201,
          1866690,
          1830427,
          1914705,
          1765945,
          1842030,
          1920666,
          1898402,
          1900911,
          1783214,
          2094086,
          1969534,
          1759007,
          1770695,
          1984042,
          1954871,
          1762409,
          1857295,
          1765779,
          1808140,
          1880695,
          1884280,
          2232180,
          2057668,
          1887332,
          2004633,
          2019408,
          2264336,
          1990494,
          2299087,
          975858
         ],
         "yaxis": "y26"
        },
        {
         "hovertemplate": "family=DAIRY<br>date=%{x}<br>counts=%{y}<extra></extra>",
         "legendgroup": "",
         "line": {
          "color": "#636efa",
          "dash": "solid"
         },
         "marker": {
          "symbol": "circle"
         },
         "mode": "lines+markers",
         "name": "",
         "showlegend": false,
         "type": "scattergl",
         "x": [
          "2013-01-31T00:00:00",
          "2013-02-28T00:00:00",
          "2013-03-31T00:00:00",
          "2013-04-30T00:00:00",
          "2013-05-31T00:00:00",
          "2013-06-30T00:00:00",
          "2013-07-31T00:00:00",
          "2013-08-31T00:00:00",
          "2013-09-30T00:00:00",
          "2013-10-31T00:00:00",
          "2013-11-30T00:00:00",
          "2013-12-31T00:00:00",
          "2014-01-31T00:00:00",
          "2014-02-28T00:00:00",
          "2014-03-31T00:00:00",
          "2014-04-30T00:00:00",
          "2014-05-31T00:00:00",
          "2014-06-30T00:00:00",
          "2014-07-31T00:00:00",
          "2014-08-31T00:00:00",
          "2014-09-30T00:00:00",
          "2014-10-31T00:00:00",
          "2014-11-30T00:00:00",
          "2014-12-31T00:00:00",
          "2015-01-31T00:00:00",
          "2015-02-28T00:00:00",
          "2015-03-31T00:00:00",
          "2015-04-30T00:00:00",
          "2015-05-31T00:00:00",
          "2015-06-30T00:00:00",
          "2015-07-31T00:00:00",
          "2015-08-31T00:00:00",
          "2015-09-30T00:00:00",
          "2015-10-31T00:00:00",
          "2015-11-30T00:00:00",
          "2015-12-31T00:00:00",
          "2016-01-31T00:00:00",
          "2016-02-29T00:00:00",
          "2016-03-31T00:00:00",
          "2016-04-30T00:00:00",
          "2016-05-31T00:00:00",
          "2016-06-30T00:00:00",
          "2016-07-31T00:00:00",
          "2016-08-31T00:00:00",
          "2016-09-30T00:00:00",
          "2016-10-31T00:00:00",
          "2016-11-30T00:00:00",
          "2016-12-31T00:00:00",
          "2017-01-31T00:00:00",
          "2017-02-28T00:00:00",
          "2017-03-31T00:00:00",
          "2017-04-30T00:00:00",
          "2017-05-31T00:00:00",
          "2017-06-30T00:00:00",
          "2017-07-31T00:00:00",
          "2017-08-31T00:00:00"
         ],
         "xaxis": "x27",
         "y": [
          523737,
          499873,
          612508,
          559590,
          595657,
          590898,
          576927,
          572921,
          580773,
          584096,
          880313,
          1161600,
          1137883,
          1007519,
          1187829,
          1098719,
          1101502,
          1091265,
          1088790,
          1075861,
          1154050,
          1165505,
          1152036,
          1230826,
          1134521,
          1020747,
          1234851,
          1181180,
          1293308,
          1243588,
          1244815,
          1263428,
          1224619,
          1314827,
          1283672,
          1394582,
          1354875,
          1250980,
          1411860,
          1427146,
          1520885,
          1373631,
          1412688,
          1330689,
          1360984,
          1434197,
          1472571,
          1616687,
          1572252,
          1384714,
          1628448,
          1561745,
          1617789,
          1510696,
          1505515,
          674541
         ],
         "yaxis": "y27"
        },
        {
         "hovertemplate": "family=DELI<br>date=%{x}<br>counts=%{y}<extra></extra>",
         "legendgroup": "",
         "line": {
          "color": "#636efa",
          "dash": "solid"
         },
         "marker": {
          "symbol": "circle"
         },
         "mode": "lines+markers",
         "name": "",
         "showlegend": false,
         "type": "scattergl",
         "x": [
          "2013-01-31T00:00:00",
          "2013-02-28T00:00:00",
          "2013-03-31T00:00:00",
          "2013-04-30T00:00:00",
          "2013-05-31T00:00:00",
          "2013-06-30T00:00:00",
          "2013-07-31T00:00:00",
          "2013-08-31T00:00:00",
          "2013-09-30T00:00:00",
          "2013-10-31T00:00:00",
          "2013-11-30T00:00:00",
          "2013-12-31T00:00:00",
          "2014-01-31T00:00:00",
          "2014-02-28T00:00:00",
          "2014-03-31T00:00:00",
          "2014-04-30T00:00:00",
          "2014-05-31T00:00:00",
          "2014-06-30T00:00:00",
          "2014-07-31T00:00:00",
          "2014-08-31T00:00:00",
          "2014-09-30T00:00:00",
          "2014-10-31T00:00:00",
          "2014-11-30T00:00:00",
          "2014-12-31T00:00:00",
          "2015-01-31T00:00:00",
          "2015-02-28T00:00:00",
          "2015-03-31T00:00:00",
          "2015-04-30T00:00:00",
          "2015-05-31T00:00:00",
          "2015-06-30T00:00:00",
          "2015-07-31T00:00:00",
          "2015-08-31T00:00:00",
          "2015-09-30T00:00:00",
          "2015-10-31T00:00:00",
          "2015-11-30T00:00:00",
          "2015-12-31T00:00:00",
          "2016-01-31T00:00:00",
          "2016-02-29T00:00:00",
          "2016-03-31T00:00:00",
          "2016-04-30T00:00:00",
          "2016-05-31T00:00:00",
          "2016-06-30T00:00:00",
          "2016-07-31T00:00:00",
          "2016-08-31T00:00:00",
          "2016-09-30T00:00:00",
          "2016-10-31T00:00:00",
          "2016-11-30T00:00:00",
          "2016-12-31T00:00:00",
          "2017-01-31T00:00:00",
          "2017-02-28T00:00:00",
          "2017-03-31T00:00:00",
          "2017-04-30T00:00:00",
          "2017-05-31T00:00:00",
          "2017-06-30T00:00:00",
          "2017-07-31T00:00:00",
          "2017-08-31T00:00:00"
         ],
         "xaxis": "x22",
         "y": [
          304217.242018,
          283769.43102,
          327257.452028,
          316163.708962,
          347293.365026,
          335910.17701,
          298614.00193,
          325416.424971,
          347099.01406,
          346264.989962,
          337003.064948,
          388401.26798,
          361683.965712,
          329563.242532,
          380693.293516,
          348646.547894,
          379033.81404,
          374419.096704,
          375441.028308,
          398869.28309,
          389051.502884,
          394293.122998,
          432251.02703,
          476338.39706,
          474786.287988,
          439862.78801,
          504635.508104,
          480224.648004,
          525671.48905,
          492229.867984,
          511151.27598,
          525126.166004,
          518201.89304,
          500247.62201,
          432527.620994,
          490186.060992,
          481682.521008,
          439429.477934,
          456444.94902,
          475840.183096,
          491731.432006,
          446243.38405,
          483486.869006,
          456744.74002,
          451844.475966,
          478863.641948,
          503415.142948,
          565027.954086,
          515412.20295,
          472868.999906,
          536419.09297,
          518515.785024,
          539986.249922,
          514679.058052,
          543916.040008,
          245224.579004
         ],
         "yaxis": "y22"
        },
        {
         "hovertemplate": "family=EGGS<br>date=%{x}<br>counts=%{y}<extra></extra>",
         "legendgroup": "",
         "line": {
          "color": "#636efa",
          "dash": "solid"
         },
         "marker": {
          "symbol": "circle"
         },
         "mode": "lines+markers",
         "name": "",
         "showlegend": false,
         "type": "scattergl",
         "x": [
          "2013-01-31T00:00:00",
          "2013-02-28T00:00:00",
          "2013-03-31T00:00:00",
          "2013-04-30T00:00:00",
          "2013-05-31T00:00:00",
          "2013-06-30T00:00:00",
          "2013-07-31T00:00:00",
          "2013-08-31T00:00:00",
          "2013-09-30T00:00:00",
          "2013-10-31T00:00:00",
          "2013-11-30T00:00:00",
          "2013-12-31T00:00:00",
          "2014-01-31T00:00:00",
          "2014-02-28T00:00:00",
          "2014-03-31T00:00:00",
          "2014-04-30T00:00:00",
          "2014-05-31T00:00:00",
          "2014-06-30T00:00:00",
          "2014-07-31T00:00:00",
          "2014-08-31T00:00:00",
          "2014-09-30T00:00:00",
          "2014-10-31T00:00:00",
          "2014-11-30T00:00:00",
          "2014-12-31T00:00:00",
          "2015-01-31T00:00:00",
          "2015-02-28T00:00:00",
          "2015-03-31T00:00:00",
          "2015-04-30T00:00:00",
          "2015-05-31T00:00:00",
          "2015-06-30T00:00:00",
          "2015-07-31T00:00:00",
          "2015-08-31T00:00:00",
          "2015-09-30T00:00:00",
          "2015-10-31T00:00:00",
          "2015-11-30T00:00:00",
          "2015-12-31T00:00:00",
          "2016-01-31T00:00:00",
          "2016-02-29T00:00:00",
          "2016-03-31T00:00:00",
          "2016-04-30T00:00:00",
          "2016-05-31T00:00:00",
          "2016-06-30T00:00:00",
          "2016-07-31T00:00:00",
          "2016-08-31T00:00:00",
          "2016-09-30T00:00:00",
          "2016-10-31T00:00:00",
          "2016-11-30T00:00:00",
          "2016-12-31T00:00:00",
          "2017-01-31T00:00:00",
          "2017-02-28T00:00:00",
          "2017-03-31T00:00:00",
          "2017-04-30T00:00:00",
          "2017-05-31T00:00:00",
          "2017-06-30T00:00:00",
          "2017-07-31T00:00:00",
          "2017-08-31T00:00:00"
         ],
         "xaxis": "x23",
         "y": [
          203442,
          190424,
          225027,
          208200,
          229575,
          220594,
          209272,
          216552,
          236446,
          236916,
          230636,
          241805,
          252982,
          230477,
          276353,
          261829,
          268064,
          263067,
          264617,
          291326,
          302659,
          311349,
          305548,
          304481,
          313143,
          283264,
          320340,
          292364,
          314260,
          294412,
          299069,
          303087,
          285324,
          289616,
          279691,
          277802,
          284872,
          269977,
          291765,
          294315,
          307394,
          290942,
          304831,
          289890,
          290414,
          339491,
          334923,
          338712,
          315964,
          281068,
          328313,
          323368,
          339962,
          327421,
          343149,
          157512
         ],
         "yaxis": "y23"
        },
        {
         "hovertemplate": "family=FROZEN FOODS<br>date=%{x}<br>counts=%{y}<extra></extra>",
         "legendgroup": "",
         "line": {
          "color": "#636efa",
          "dash": "solid"
         },
         "marker": {
          "symbol": "circle"
         },
         "mode": "lines+markers",
         "name": "",
         "showlegend": false,
         "type": "scattergl",
         "x": [
          "2013-01-31T00:00:00",
          "2013-02-28T00:00:00",
          "2013-03-31T00:00:00",
          "2013-04-30T00:00:00",
          "2013-05-31T00:00:00",
          "2013-06-30T00:00:00",
          "2013-07-31T00:00:00",
          "2013-08-31T00:00:00",
          "2013-09-30T00:00:00",
          "2013-10-31T00:00:00",
          "2013-11-30T00:00:00",
          "2013-12-31T00:00:00",
          "2014-01-31T00:00:00",
          "2014-02-28T00:00:00",
          "2014-03-31T00:00:00",
          "2014-04-30T00:00:00",
          "2014-05-31T00:00:00",
          "2014-06-30T00:00:00",
          "2014-07-31T00:00:00",
          "2014-08-31T00:00:00",
          "2014-09-30T00:00:00",
          "2014-10-31T00:00:00",
          "2014-11-30T00:00:00",
          "2014-12-31T00:00:00",
          "2015-01-31T00:00:00",
          "2015-02-28T00:00:00",
          "2015-03-31T00:00:00",
          "2015-04-30T00:00:00",
          "2015-05-31T00:00:00",
          "2015-06-30T00:00:00",
          "2015-07-31T00:00:00",
          "2015-08-31T00:00:00",
          "2015-09-30T00:00:00",
          "2015-10-31T00:00:00",
          "2015-11-30T00:00:00",
          "2015-12-31T00:00:00",
          "2016-01-31T00:00:00",
          "2016-02-29T00:00:00",
          "2016-03-31T00:00:00",
          "2016-04-30T00:00:00",
          "2016-05-31T00:00:00",
          "2016-06-30T00:00:00",
          "2016-07-31T00:00:00",
          "2016-08-31T00:00:00",
          "2016-09-30T00:00:00",
          "2016-10-31T00:00:00",
          "2016-11-30T00:00:00",
          "2016-12-31T00:00:00",
          "2017-01-31T00:00:00",
          "2017-02-28T00:00:00",
          "2017-03-31T00:00:00",
          "2017-04-30T00:00:00",
          "2017-05-31T00:00:00",
          "2017-06-30T00:00:00",
          "2017-07-31T00:00:00",
          "2017-08-31T00:00:00"
         ],
         "xaxis": "x24",
         "y": [
          118057.1350672,
          98706.2020041,
          135552.357953,
          145692.047052,
          150769.849963,
          170314.649025,
          163838.4289985,
          163100.411023,
          161142.041982,
          161381.108939,
          173542.6359127,
          844150.361475,
          185148.746023,
          164225.935953,
          201682.213037,
          167466.028013,
          180817.965954,
          175937.427012,
          190003.149993,
          179060.996057,
          176918.065977,
          181085.456015,
          195512.906076,
          867860.477072,
          215616.5710355,
          187841.4619855,
          198538.323037,
          203933.23096,
          221964.151003,
          209088.005026,
          213218.051001,
          211230.015015,
          201180.617978,
          217848.296939,
          228244.666025,
          1236634.193202,
          243267.786982,
          218880.030053,
          215647.990991,
          212614.846006,
          226919.323943,
          205615.886953,
          215952.237985,
          196778.563997,
          193123.510981,
          208731.980014,
          229684.324995,
          1160601.887303,
          226038.717031,
          204147.453955,
          213862.301018,
          216887.845991,
          237068.306844,
          222727.432074,
          223713.929022,
          104319.183989
         ],
         "yaxis": "y24"
        },
        {
         "hovertemplate": "family=GROCERY I<br>date=%{x}<br>counts=%{y}<extra></extra>",
         "legendgroup": "",
         "line": {
          "color": "#636efa",
          "dash": "solid"
         },
         "marker": {
          "symbol": "circle"
         },
         "mode": "lines+markers",
         "name": "",
         "showlegend": false,
         "type": "scattergl",
         "x": [
          "2013-01-31T00:00:00",
          "2013-02-28T00:00:00",
          "2013-03-31T00:00:00",
          "2013-04-30T00:00:00",
          "2013-05-31T00:00:00",
          "2013-06-30T00:00:00",
          "2013-07-31T00:00:00",
          "2013-08-31T00:00:00",
          "2013-09-30T00:00:00",
          "2013-10-31T00:00:00",
          "2013-11-30T00:00:00",
          "2013-12-31T00:00:00",
          "2014-01-31T00:00:00",
          "2014-02-28T00:00:00",
          "2014-03-31T00:00:00",
          "2014-04-30T00:00:00",
          "2014-05-31T00:00:00",
          "2014-06-30T00:00:00",
          "2014-07-31T00:00:00",
          "2014-08-31T00:00:00",
          "2014-09-30T00:00:00",
          "2014-10-31T00:00:00",
          "2014-11-30T00:00:00",
          "2014-12-31T00:00:00",
          "2015-01-31T00:00:00",
          "2015-02-28T00:00:00",
          "2015-03-31T00:00:00",
          "2015-04-30T00:00:00",
          "2015-05-31T00:00:00",
          "2015-06-30T00:00:00",
          "2015-07-31T00:00:00",
          "2015-08-31T00:00:00",
          "2015-09-30T00:00:00",
          "2015-10-31T00:00:00",
          "2015-11-30T00:00:00",
          "2015-12-31T00:00:00",
          "2016-01-31T00:00:00",
          "2016-02-29T00:00:00",
          "2016-03-31T00:00:00",
          "2016-04-30T00:00:00",
          "2016-05-31T00:00:00",
          "2016-06-30T00:00:00",
          "2016-07-31T00:00:00",
          "2016-08-31T00:00:00",
          "2016-09-30T00:00:00",
          "2016-10-31T00:00:00",
          "2016-11-30T00:00:00",
          "2016-12-31T00:00:00",
          "2017-01-31T00:00:00",
          "2017-02-28T00:00:00",
          "2017-03-31T00:00:00",
          "2017-04-30T00:00:00",
          "2017-05-31T00:00:00",
          "2017-06-30T00:00:00",
          "2017-07-31T00:00:00",
          "2017-08-31T00:00:00"
         ],
         "xaxis": "x19",
         "y": [
          4032240,
          3919400,
          4679847,
          4554014,
          4806099,
          4919672,
          4861947,
          5077610,
          4979594,
          5030378,
          5027322,
          6451806,
          4938275.537,
          4690177,
          5546845.709,
          5056145.344,
          5316352.218,
          5263411.717,
          5286220.824,
          5503241.316,
          5348264.352,
          5544867.381,
          5707534.215,
          7465455.145,
          5557804.579,
          5284455.885,
          6149892.945,
          5795401.729,
          6373796.482,
          5855261.474,
          6194259.302,
          6558197.975,
          6432350.409,
          6985096.258,
          6687613.611,
          8354408.355,
          6679403.034,
          6302594.085,
          6717593.188,
          8408542.133,
          7428993.997,
          6630982.804,
          6970735.675,
          6523503.729,
          6529649.012,
          7116713.744,
          7322874.638,
          9454952.927,
          7419753.694,
          6774372.37,
          7887671.774,
          7813168.199,
          8043902.762,
          7617937.742,
          7873933.799,
          3710196.818
         ],
         "yaxis": "y19"
        },
        {
         "hovertemplate": "family=GROCERY II<br>date=%{x}<br>counts=%{y}<extra></extra>",
         "legendgroup": "",
         "line": {
          "color": "#636efa",
          "dash": "solid"
         },
         "marker": {
          "symbol": "circle"
         },
         "mode": "lines+markers",
         "name": "",
         "showlegend": false,
         "type": "scattergl",
         "x": [
          "2013-01-31T00:00:00",
          "2013-02-28T00:00:00",
          "2013-03-31T00:00:00",
          "2013-04-30T00:00:00",
          "2013-05-31T00:00:00",
          "2013-06-30T00:00:00",
          "2013-07-31T00:00:00",
          "2013-08-31T00:00:00",
          "2013-09-30T00:00:00",
          "2013-10-31T00:00:00",
          "2013-11-30T00:00:00",
          "2013-12-31T00:00:00",
          "2014-01-31T00:00:00",
          "2014-02-28T00:00:00",
          "2014-03-31T00:00:00",
          "2014-04-30T00:00:00",
          "2014-05-31T00:00:00",
          "2014-06-30T00:00:00",
          "2014-07-31T00:00:00",
          "2014-08-31T00:00:00",
          "2014-09-30T00:00:00",
          "2014-10-31T00:00:00",
          "2014-11-30T00:00:00",
          "2014-12-31T00:00:00",
          "2015-01-31T00:00:00",
          "2015-02-28T00:00:00",
          "2015-03-31T00:00:00",
          "2015-04-30T00:00:00",
          "2015-05-31T00:00:00",
          "2015-06-30T00:00:00",
          "2015-07-31T00:00:00",
          "2015-08-31T00:00:00",
          "2015-09-30T00:00:00",
          "2015-10-31T00:00:00",
          "2015-11-30T00:00:00",
          "2015-12-31T00:00:00",
          "2016-01-31T00:00:00",
          "2016-02-29T00:00:00",
          "2016-03-31T00:00:00",
          "2016-04-30T00:00:00",
          "2016-05-31T00:00:00",
          "2016-06-30T00:00:00",
          "2016-07-31T00:00:00",
          "2016-08-31T00:00:00",
          "2016-09-30T00:00:00",
          "2016-10-31T00:00:00",
          "2016-11-30T00:00:00",
          "2016-12-31T00:00:00",
          "2017-01-31T00:00:00",
          "2017-02-28T00:00:00",
          "2017-03-31T00:00:00",
          "2017-04-30T00:00:00",
          "2017-05-31T00:00:00",
          "2017-06-30T00:00:00",
          "2017-07-31T00:00:00",
          "2017-08-31T00:00:00"
         ],
         "xaxis": "x20",
         "y": [
          27039,
          25304,
          29500,
          29395,
          32690,
          30786,
          30109,
          31022,
          30629,
          30423,
          30297,
          49683,
          29574,
          25426,
          30956,
          29452,
          32084,
          33102,
          32961,
          33125,
          32813,
          33367,
          33254,
          55858,
          33508,
          30479,
          36465,
          37913,
          42787,
          37675,
          38093,
          37712,
          35638,
          33959,
          32543,
          61021,
          34735,
          31675,
          32494,
          34390,
          36873,
          34731,
          24388,
          29200,
          29064,
          31113,
          30836,
          61061,
          33194,
          31892,
          36378,
          36596,
          48938,
          47400,
          57942,
          23225
         ],
         "yaxis": "y20"
        },
        {
         "hovertemplate": "family=HARDWARE<br>date=%{x}<br>counts=%{y}<extra></extra>",
         "legendgroup": "",
         "line": {
          "color": "#636efa",
          "dash": "solid"
         },
         "marker": {
          "symbol": "circle"
         },
         "mode": "lines+markers",
         "name": "",
         "showlegend": false,
         "type": "scattergl",
         "x": [
          "2013-01-31T00:00:00",
          "2013-02-28T00:00:00",
          "2013-03-31T00:00:00",
          "2013-04-30T00:00:00",
          "2013-05-31T00:00:00",
          "2013-06-30T00:00:00",
          "2013-07-31T00:00:00",
          "2013-08-31T00:00:00",
          "2013-09-30T00:00:00",
          "2013-10-31T00:00:00",
          "2013-11-30T00:00:00",
          "2013-12-31T00:00:00",
          "2014-01-31T00:00:00",
          "2014-02-28T00:00:00",
          "2014-03-31T00:00:00",
          "2014-04-30T00:00:00",
          "2014-05-31T00:00:00",
          "2014-06-30T00:00:00",
          "2014-07-31T00:00:00",
          "2014-08-31T00:00:00",
          "2014-09-30T00:00:00",
          "2014-10-31T00:00:00",
          "2014-11-30T00:00:00",
          "2014-12-31T00:00:00",
          "2015-01-31T00:00:00",
          "2015-02-28T00:00:00",
          "2015-03-31T00:00:00",
          "2015-04-30T00:00:00",
          "2015-05-31T00:00:00",
          "2015-06-30T00:00:00",
          "2015-07-31T00:00:00",
          "2015-08-31T00:00:00",
          "2015-09-30T00:00:00",
          "2015-10-31T00:00:00",
          "2015-11-30T00:00:00",
          "2015-12-31T00:00:00",
          "2016-01-31T00:00:00",
          "2016-02-29T00:00:00",
          "2016-03-31T00:00:00",
          "2016-04-30T00:00:00",
          "2016-05-31T00:00:00",
          "2016-06-30T00:00:00",
          "2016-07-31T00:00:00",
          "2016-08-31T00:00:00",
          "2016-09-30T00:00:00",
          "2016-10-31T00:00:00",
          "2016-11-30T00:00:00",
          "2016-12-31T00:00:00",
          "2017-01-31T00:00:00",
          "2017-02-28T00:00:00",
          "2017-03-31T00:00:00",
          "2017-04-30T00:00:00",
          "2017-05-31T00:00:00",
          "2017-06-30T00:00:00",
          "2017-07-31T00:00:00",
          "2017-08-31T00:00:00"
         ],
         "xaxis": "x21",
         "y": [
          1612,
          1414,
          1582,
          1423,
          1431,
          1339,
          1164,
          1554,
          1565,
          1424,
          1501,
          1525,
          2199,
          1476,
          2185,
          1397,
          1519,
          1477,
          2042,
          1564,
          2103,
          1611,
          2200,
          2437,
          992,
          1630,
          1724,
          1637,
          1608,
          1946,
          1962,
          2180,
          2119,
          2027,
          2160,
          2417,
          1846,
          2107,
          2167,
          2385,
          2001,
          1722,
          2013,
          1966,
          1610,
          1768,
          2090,
          2297,
          2015,
          1894,
          2379,
          2395,
          2672,
          2274,
          2552,
          1171
         ],
         "yaxis": "y21"
        },
        {
         "hovertemplate": "family=HOME AND KITCHEN I<br>date=%{x}<br>counts=%{y}<extra></extra>",
         "legendgroup": "",
         "line": {
          "color": "#636efa",
          "dash": "solid"
         },
         "marker": {
          "symbol": "circle"
         },
         "mode": "lines+markers",
         "name": "",
         "showlegend": false,
         "type": "scattergl",
         "x": [
          "2013-01-31T00:00:00",
          "2013-02-28T00:00:00",
          "2013-03-31T00:00:00",
          "2013-04-30T00:00:00",
          "2013-05-31T00:00:00",
          "2013-06-30T00:00:00",
          "2013-07-31T00:00:00",
          "2013-08-31T00:00:00",
          "2013-09-30T00:00:00",
          "2013-10-31T00:00:00",
          "2013-11-30T00:00:00",
          "2013-12-31T00:00:00",
          "2014-01-31T00:00:00",
          "2014-02-28T00:00:00",
          "2014-03-31T00:00:00",
          "2014-04-30T00:00:00",
          "2014-05-31T00:00:00",
          "2014-06-30T00:00:00",
          "2014-07-31T00:00:00",
          "2014-08-31T00:00:00",
          "2014-09-30T00:00:00",
          "2014-10-31T00:00:00",
          "2014-11-30T00:00:00",
          "2014-12-31T00:00:00",
          "2015-01-31T00:00:00",
          "2015-02-28T00:00:00",
          "2015-03-31T00:00:00",
          "2015-04-30T00:00:00",
          "2015-05-31T00:00:00",
          "2015-06-30T00:00:00",
          "2015-07-31T00:00:00",
          "2015-08-31T00:00:00",
          "2015-09-30T00:00:00",
          "2015-10-31T00:00:00",
          "2015-11-30T00:00:00",
          "2015-12-31T00:00:00",
          "2016-01-31T00:00:00",
          "2016-02-29T00:00:00",
          "2016-03-31T00:00:00",
          "2016-04-30T00:00:00",
          "2016-05-31T00:00:00",
          "2016-06-30T00:00:00",
          "2016-07-31T00:00:00",
          "2016-08-31T00:00:00",
          "2016-09-30T00:00:00",
          "2016-10-31T00:00:00",
          "2016-11-30T00:00:00",
          "2016-12-31T00:00:00",
          "2017-01-31T00:00:00",
          "2017-02-28T00:00:00",
          "2017-03-31T00:00:00",
          "2017-04-30T00:00:00",
          "2017-05-31T00:00:00",
          "2017-06-30T00:00:00",
          "2017-07-31T00:00:00",
          "2017-08-31T00:00:00"
         ],
         "xaxis": "x16",
         "y": [
          0,
          0,
          0,
          0,
          0,
          0,
          0,
          0,
          0,
          0,
          0,
          0,
          36092,
          0,
          34705,
          0,
          0,
          0,
          41229,
          0,
          40569,
          44287,
          43126,
          72326,
          46108,
          34611,
          38050,
          37432,
          42200,
          40381,
          45790,
          41277,
          45328,
          59354,
          55080,
          73710,
          44227,
          34421,
          42891,
          41988,
          45617,
          45512,
          59254,
          45010,
          46986,
          47305,
          46169,
          76651,
          75119,
          58052,
          48023,
          47905,
          51365,
          54959,
          52719,
          25663
         ],
         "yaxis": "y16"
        },
        {
         "hovertemplate": "family=HOME AND KITCHEN II<br>date=%{x}<br>counts=%{y}<extra></extra>",
         "legendgroup": "",
         "line": {
          "color": "#636efa",
          "dash": "solid"
         },
         "marker": {
          "symbol": "circle"
         },
         "mode": "lines+markers",
         "name": "",
         "showlegend": false,
         "type": "scattergl",
         "x": [
          "2013-01-31T00:00:00",
          "2013-02-28T00:00:00",
          "2013-03-31T00:00:00",
          "2013-04-30T00:00:00",
          "2013-05-31T00:00:00",
          "2013-06-30T00:00:00",
          "2013-07-31T00:00:00",
          "2013-08-31T00:00:00",
          "2013-09-30T00:00:00",
          "2013-10-31T00:00:00",
          "2013-11-30T00:00:00",
          "2013-12-31T00:00:00",
          "2014-01-31T00:00:00",
          "2014-02-28T00:00:00",
          "2014-03-31T00:00:00",
          "2014-04-30T00:00:00",
          "2014-05-31T00:00:00",
          "2014-06-30T00:00:00",
          "2014-07-31T00:00:00",
          "2014-08-31T00:00:00",
          "2014-09-30T00:00:00",
          "2014-10-31T00:00:00",
          "2014-11-30T00:00:00",
          "2014-12-31T00:00:00",
          "2015-01-31T00:00:00",
          "2015-02-28T00:00:00",
          "2015-03-31T00:00:00",
          "2015-04-30T00:00:00",
          "2015-05-31T00:00:00",
          "2015-06-30T00:00:00",
          "2015-07-31T00:00:00",
          "2015-08-31T00:00:00",
          "2015-09-30T00:00:00",
          "2015-10-31T00:00:00",
          "2015-11-30T00:00:00",
          "2015-12-31T00:00:00",
          "2016-01-31T00:00:00",
          "2016-02-29T00:00:00",
          "2016-03-31T00:00:00",
          "2016-04-30T00:00:00",
          "2016-05-31T00:00:00",
          "2016-06-30T00:00:00",
          "2016-07-31T00:00:00",
          "2016-08-31T00:00:00",
          "2016-09-30T00:00:00",
          "2016-10-31T00:00:00",
          "2016-11-30T00:00:00",
          "2016-12-31T00:00:00",
          "2017-01-31T00:00:00",
          "2017-02-28T00:00:00",
          "2017-03-31T00:00:00",
          "2017-04-30T00:00:00",
          "2017-05-31T00:00:00",
          "2017-06-30T00:00:00",
          "2017-07-31T00:00:00",
          "2017-08-31T00:00:00"
         ],
         "xaxis": "x17",
         "y": [
          0,
          0,
          0,
          0,
          0,
          0,
          0,
          0,
          0,
          0,
          0,
          0,
          17155,
          0,
          18247,
          0,
          0,
          0,
          17353,
          0,
          17974,
          18436,
          18150,
          25054,
          23644,
          26125,
          28568,
          26089,
          37133,
          46924,
          40924,
          44678,
          43258,
          91028,
          34511,
          59209,
          47808,
          49257,
          42174,
          46397,
          45026,
          39878,
          40157,
          37050,
          38618,
          39857,
          42352,
          52481,
          42719,
          44252,
          49206,
          45747,
          56786,
          49972,
          51493,
          24980
         ],
         "yaxis": "y17"
        },
        {
         "hovertemplate": "family=HOME APPLIANCES<br>date=%{x}<br>counts=%{y}<extra></extra>",
         "legendgroup": "",
         "line": {
          "color": "#636efa",
          "dash": "solid"
         },
         "marker": {
          "symbol": "circle"
         },
         "mode": "lines+markers",
         "name": "",
         "showlegend": false,
         "type": "scattergl",
         "x": [
          "2013-01-31T00:00:00",
          "2013-02-28T00:00:00",
          "2013-03-31T00:00:00",
          "2013-04-30T00:00:00",
          "2013-05-31T00:00:00",
          "2013-06-30T00:00:00",
          "2013-07-31T00:00:00",
          "2013-08-31T00:00:00",
          "2013-09-30T00:00:00",
          "2013-10-31T00:00:00",
          "2013-11-30T00:00:00",
          "2013-12-31T00:00:00",
          "2014-01-31T00:00:00",
          "2014-02-28T00:00:00",
          "2014-03-31T00:00:00",
          "2014-04-30T00:00:00",
          "2014-05-31T00:00:00",
          "2014-06-30T00:00:00",
          "2014-07-31T00:00:00",
          "2014-08-31T00:00:00",
          "2014-09-30T00:00:00",
          "2014-10-31T00:00:00",
          "2014-11-30T00:00:00",
          "2014-12-31T00:00:00",
          "2015-01-31T00:00:00",
          "2015-02-28T00:00:00",
          "2015-03-31T00:00:00",
          "2015-04-30T00:00:00",
          "2015-05-31T00:00:00",
          "2015-06-30T00:00:00",
          "2015-07-31T00:00:00",
          "2015-08-31T00:00:00",
          "2015-09-30T00:00:00",
          "2015-10-31T00:00:00",
          "2015-11-30T00:00:00",
          "2015-12-31T00:00:00",
          "2016-01-31T00:00:00",
          "2016-02-29T00:00:00",
          "2016-03-31T00:00:00",
          "2016-04-30T00:00:00",
          "2016-05-31T00:00:00",
          "2016-06-30T00:00:00",
          "2016-07-31T00:00:00",
          "2016-08-31T00:00:00",
          "2016-09-30T00:00:00",
          "2016-10-31T00:00:00",
          "2016-11-30T00:00:00",
          "2016-12-31T00:00:00",
          "2017-01-31T00:00:00",
          "2017-02-28T00:00:00",
          "2017-03-31T00:00:00",
          "2017-04-30T00:00:00",
          "2017-05-31T00:00:00",
          "2017-06-30T00:00:00",
          "2017-07-31T00:00:00",
          "2017-08-31T00:00:00"
         ],
         "xaxis": "x18",
         "y": [
          210,
          119,
          1137,
          1067,
          1046,
          999,
          846,
          880,
          909,
          792,
          880,
          892,
          835,
          928,
          1040,
          961,
          655,
          593,
          644,
          867,
          964,
          818,
          200,
          636,
          1074,
          959,
          1301,
          1131,
          866,
          185,
          26,
          644,
          317,
          758,
          904,
          992,
          979,
          950,
          503,
          430,
          1020,
          455,
          358,
          537,
          399,
          188,
          225,
          489,
          760,
          909,
          1159,
          1119,
          1190,
          1034,
          671,
          151
         ],
         "yaxis": "y18"
        },
        {
         "hovertemplate": "family=HOME CARE<br>date=%{x}<br>counts=%{y}<extra></extra>",
         "legendgroup": "",
         "line": {
          "color": "#636efa",
          "dash": "solid"
         },
         "marker": {
          "symbol": "circle"
         },
         "mode": "lines+markers",
         "name": "",
         "showlegend": false,
         "type": "scattergl",
         "x": [
          "2013-01-31T00:00:00",
          "2013-02-28T00:00:00",
          "2013-03-31T00:00:00",
          "2013-04-30T00:00:00",
          "2013-05-31T00:00:00",
          "2013-06-30T00:00:00",
          "2013-07-31T00:00:00",
          "2013-08-31T00:00:00",
          "2013-09-30T00:00:00",
          "2013-10-31T00:00:00",
          "2013-11-30T00:00:00",
          "2013-12-31T00:00:00",
          "2014-01-31T00:00:00",
          "2014-02-28T00:00:00",
          "2014-03-31T00:00:00",
          "2014-04-30T00:00:00",
          "2014-05-31T00:00:00",
          "2014-06-30T00:00:00",
          "2014-07-31T00:00:00",
          "2014-08-31T00:00:00",
          "2014-09-30T00:00:00",
          "2014-10-31T00:00:00",
          "2014-11-30T00:00:00",
          "2014-12-31T00:00:00",
          "2015-01-31T00:00:00",
          "2015-02-28T00:00:00",
          "2015-03-31T00:00:00",
          "2015-04-30T00:00:00",
          "2015-05-31T00:00:00",
          "2015-06-30T00:00:00",
          "2015-07-31T00:00:00",
          "2015-08-31T00:00:00",
          "2015-09-30T00:00:00",
          "2015-10-31T00:00:00",
          "2015-11-30T00:00:00",
          "2015-12-31T00:00:00",
          "2016-01-31T00:00:00",
          "2016-02-29T00:00:00",
          "2016-03-31T00:00:00",
          "2016-04-30T00:00:00",
          "2016-05-31T00:00:00",
          "2016-06-30T00:00:00",
          "2016-07-31T00:00:00",
          "2016-08-31T00:00:00",
          "2016-09-30T00:00:00",
          "2016-10-31T00:00:00",
          "2016-11-30T00:00:00",
          "2016-12-31T00:00:00",
          "2017-01-31T00:00:00",
          "2017-02-28T00:00:00",
          "2017-03-31T00:00:00",
          "2017-04-30T00:00:00",
          "2017-05-31T00:00:00",
          "2017-06-30T00:00:00",
          "2017-07-31T00:00:00",
          "2017-08-31T00:00:00"
         ],
         "xaxis": "x13",
         "y": [
          0,
          0,
          0,
          0,
          0,
          0,
          0,
          0,
          0,
          0,
          0,
          0,
          435920,
          0,
          433804,
          0,
          0,
          0,
          426838,
          0,
          426419,
          430591,
          414424,
          441482,
          0,
          0,
          0,
          0,
          389532,
          432310,
          465652,
          495183,
          464185,
          460249,
          432222,
          480217,
          474959,
          418817,
          439423,
          540762,
          480596,
          414720,
          477706,
          458403,
          456890,
          476315,
          490281,
          501721,
          521093,
          459063,
          524287,
          498148,
          500220,
          464207,
          563416,
          232689
         ],
         "yaxis": "y13"
        },
        {
         "hovertemplate": "family=LADIESWEAR<br>date=%{x}<br>counts=%{y}<extra></extra>",
         "legendgroup": "",
         "line": {
          "color": "#636efa",
          "dash": "solid"
         },
         "marker": {
          "symbol": "circle"
         },
         "mode": "lines+markers",
         "name": "",
         "showlegend": false,
         "type": "scattergl",
         "x": [
          "2013-01-31T00:00:00",
          "2013-02-28T00:00:00",
          "2013-03-31T00:00:00",
          "2013-04-30T00:00:00",
          "2013-05-31T00:00:00",
          "2013-06-30T00:00:00",
          "2013-07-31T00:00:00",
          "2013-08-31T00:00:00",
          "2013-09-30T00:00:00",
          "2013-10-31T00:00:00",
          "2013-11-30T00:00:00",
          "2013-12-31T00:00:00",
          "2014-01-31T00:00:00",
          "2014-02-28T00:00:00",
          "2014-03-31T00:00:00",
          "2014-04-30T00:00:00",
          "2014-05-31T00:00:00",
          "2014-06-30T00:00:00",
          "2014-07-31T00:00:00",
          "2014-08-31T00:00:00",
          "2014-09-30T00:00:00",
          "2014-10-31T00:00:00",
          "2014-11-30T00:00:00",
          "2014-12-31T00:00:00",
          "2015-01-31T00:00:00",
          "2015-02-28T00:00:00",
          "2015-03-31T00:00:00",
          "2015-04-30T00:00:00",
          "2015-05-31T00:00:00",
          "2015-06-30T00:00:00",
          "2015-07-31T00:00:00",
          "2015-08-31T00:00:00",
          "2015-09-30T00:00:00",
          "2015-10-31T00:00:00",
          "2015-11-30T00:00:00",
          "2015-12-31T00:00:00",
          "2016-01-31T00:00:00",
          "2016-02-29T00:00:00",
          "2016-03-31T00:00:00",
          "2016-04-30T00:00:00",
          "2016-05-31T00:00:00",
          "2016-06-30T00:00:00",
          "2016-07-31T00:00:00",
          "2016-08-31T00:00:00",
          "2016-09-30T00:00:00",
          "2016-10-31T00:00:00",
          "2016-11-30T00:00:00",
          "2016-12-31T00:00:00",
          "2017-01-31T00:00:00",
          "2017-02-28T00:00:00",
          "2017-03-31T00:00:00",
          "2017-04-30T00:00:00",
          "2017-05-31T00:00:00",
          "2017-06-30T00:00:00",
          "2017-07-31T00:00:00",
          "2017-08-31T00:00:00"
         ],
         "xaxis": "x14",
         "y": [
          0,
          0,
          0,
          0,
          0,
          0,
          0,
          0,
          0,
          0,
          0,
          0,
          20131,
          0,
          19608,
          0,
          0,
          0,
          19988,
          0,
          21962,
          21009,
          20830,
          22165,
          0,
          0,
          0,
          0,
          0,
          20263,
          19655,
          20255,
          20785,
          18756,
          18063,
          19045,
          18331,
          16438,
          18504,
          18301,
          20948,
          18149,
          19037,
          17133,
          19328,
          19503,
          17775,
          18174,
          20809,
          17874,
          19647,
          19616,
          21431,
          19334,
          20067,
          8245
         ],
         "yaxis": "y14"
        },
        {
         "hovertemplate": "family=LAWN AND GARDEN<br>date=%{x}<br>counts=%{y}<extra></extra>",
         "legendgroup": "",
         "line": {
          "color": "#636efa",
          "dash": "solid"
         },
         "marker": {
          "symbol": "circle"
         },
         "mode": "lines+markers",
         "name": "",
         "showlegend": false,
         "type": "scattergl",
         "x": [
          "2013-01-31T00:00:00",
          "2013-02-28T00:00:00",
          "2013-03-31T00:00:00",
          "2013-04-30T00:00:00",
          "2013-05-31T00:00:00",
          "2013-06-30T00:00:00",
          "2013-07-31T00:00:00",
          "2013-08-31T00:00:00",
          "2013-09-30T00:00:00",
          "2013-10-31T00:00:00",
          "2013-11-30T00:00:00",
          "2013-12-31T00:00:00",
          "2014-01-31T00:00:00",
          "2014-02-28T00:00:00",
          "2014-03-31T00:00:00",
          "2014-04-30T00:00:00",
          "2014-05-31T00:00:00",
          "2014-06-30T00:00:00",
          "2014-07-31T00:00:00",
          "2014-08-31T00:00:00",
          "2014-09-30T00:00:00",
          "2014-10-31T00:00:00",
          "2014-11-30T00:00:00",
          "2014-12-31T00:00:00",
          "2015-01-31T00:00:00",
          "2015-02-28T00:00:00",
          "2015-03-31T00:00:00",
          "2015-04-30T00:00:00",
          "2015-05-31T00:00:00",
          "2015-06-30T00:00:00",
          "2015-07-31T00:00:00",
          "2015-08-31T00:00:00",
          "2015-09-30T00:00:00",
          "2015-10-31T00:00:00",
          "2015-11-30T00:00:00",
          "2015-12-31T00:00:00",
          "2016-01-31T00:00:00",
          "2016-02-29T00:00:00",
          "2016-03-31T00:00:00",
          "2016-04-30T00:00:00",
          "2016-05-31T00:00:00",
          "2016-06-30T00:00:00",
          "2016-07-31T00:00:00",
          "2016-08-31T00:00:00",
          "2016-09-30T00:00:00",
          "2016-10-31T00:00:00",
          "2016-11-30T00:00:00",
          "2016-12-31T00:00:00",
          "2017-01-31T00:00:00",
          "2017-02-28T00:00:00",
          "2017-03-31T00:00:00",
          "2017-04-30T00:00:00",
          "2017-05-31T00:00:00",
          "2017-06-30T00:00:00",
          "2017-07-31T00:00:00",
          "2017-08-31T00:00:00"
         ],
         "xaxis": "x15",
         "y": [
          3808,
          3625,
          4413,
          4029,
          4514,
          4533,
          3980,
          4264,
          4310,
          4406,
          4192,
          5097,
          5787,
          5085,
          7685,
          6298,
          7093,
          5871,
          7230,
          7461,
          6789,
          8194,
          7496,
          7666,
          6882,
          7400,
          7694,
          7340,
          8351,
          7434,
          7649,
          7424,
          7567,
          8367,
          7569,
          7822,
          7585,
          7977,
          8285,
          7710,
          8964,
          8484,
          8640,
          8968,
          8620,
          8571,
          8859,
          25936,
          24145,
          29609,
          24747,
          24314,
          34952,
          27310,
          27500,
          12341
         ],
         "yaxis": "y15"
        },
        {
         "hovertemplate": "family=LINGERIE<br>date=%{x}<br>counts=%{y}<extra></extra>",
         "legendgroup": "",
         "line": {
          "color": "#636efa",
          "dash": "solid"
         },
         "marker": {
          "symbol": "circle"
         },
         "mode": "lines+markers",
         "name": "",
         "showlegend": false,
         "type": "scattergl",
         "x": [
          "2013-01-31T00:00:00",
          "2013-02-28T00:00:00",
          "2013-03-31T00:00:00",
          "2013-04-30T00:00:00",
          "2013-05-31T00:00:00",
          "2013-06-30T00:00:00",
          "2013-07-31T00:00:00",
          "2013-08-31T00:00:00",
          "2013-09-30T00:00:00",
          "2013-10-31T00:00:00",
          "2013-11-30T00:00:00",
          "2013-12-31T00:00:00",
          "2014-01-31T00:00:00",
          "2014-02-28T00:00:00",
          "2014-03-31T00:00:00",
          "2014-04-30T00:00:00",
          "2014-05-31T00:00:00",
          "2014-06-30T00:00:00",
          "2014-07-31T00:00:00",
          "2014-08-31T00:00:00",
          "2014-09-30T00:00:00",
          "2014-10-31T00:00:00",
          "2014-11-30T00:00:00",
          "2014-12-31T00:00:00",
          "2015-01-31T00:00:00",
          "2015-02-28T00:00:00",
          "2015-03-31T00:00:00",
          "2015-04-30T00:00:00",
          "2015-05-31T00:00:00",
          "2015-06-30T00:00:00",
          "2015-07-31T00:00:00",
          "2015-08-31T00:00:00",
          "2015-09-30T00:00:00",
          "2015-10-31T00:00:00",
          "2015-11-30T00:00:00",
          "2015-12-31T00:00:00",
          "2016-01-31T00:00:00",
          "2016-02-29T00:00:00",
          "2016-03-31T00:00:00",
          "2016-04-30T00:00:00",
          "2016-05-31T00:00:00",
          "2016-06-30T00:00:00",
          "2016-07-31T00:00:00",
          "2016-08-31T00:00:00",
          "2016-09-30T00:00:00",
          "2016-10-31T00:00:00",
          "2016-11-30T00:00:00",
          "2016-12-31T00:00:00",
          "2017-01-31T00:00:00",
          "2017-02-28T00:00:00",
          "2017-03-31T00:00:00",
          "2017-04-30T00:00:00",
          "2017-05-31T00:00:00",
          "2017-06-30T00:00:00",
          "2017-07-31T00:00:00",
          "2017-08-31T00:00:00"
         ],
         "xaxis": "x10",
         "y": [
          18266,
          15453,
          13302,
          12736,
          13833,
          12484,
          12477,
          13676,
          13137,
          12254,
          11567,
          15449,
          13332,
          11416,
          12372,
          12273,
          13393,
          12383,
          12308,
          13172,
          14686,
          13102,
          10747,
          12895,
          9566,
          9480,
          9976,
          11273,
          13736,
          11748,
          13005,
          14640,
          13715,
          12827,
          10663,
          10072,
          7914,
          8609,
          8083,
          8843,
          11327,
          7038,
          8040,
          8893,
          10181,
          9798,
          9398,
          11600,
          10888,
          9875,
          11312,
          12634,
          13009,
          10987,
          10884,
          6387
         ],
         "yaxis": "y10"
        },
        {
         "hovertemplate": "family=LIQUOR,WINE,BEER<br>date=%{x}<br>counts=%{y}<extra></extra>",
         "legendgroup": "",
         "line": {
          "color": "#636efa",
          "dash": "solid"
         },
         "marker": {
          "symbol": "circle"
         },
         "mode": "lines+markers",
         "name": "",
         "showlegend": false,
         "type": "scattergl",
         "x": [
          "2013-01-31T00:00:00",
          "2013-02-28T00:00:00",
          "2013-03-31T00:00:00",
          "2013-04-30T00:00:00",
          "2013-05-31T00:00:00",
          "2013-06-30T00:00:00",
          "2013-07-31T00:00:00",
          "2013-08-31T00:00:00",
          "2013-09-30T00:00:00",
          "2013-10-31T00:00:00",
          "2013-11-30T00:00:00",
          "2013-12-31T00:00:00",
          "2014-01-31T00:00:00",
          "2014-02-28T00:00:00",
          "2014-03-31T00:00:00",
          "2014-04-30T00:00:00",
          "2014-05-31T00:00:00",
          "2014-06-30T00:00:00",
          "2014-07-31T00:00:00",
          "2014-08-31T00:00:00",
          "2014-09-30T00:00:00",
          "2014-10-31T00:00:00",
          "2014-11-30T00:00:00",
          "2014-12-31T00:00:00",
          "2015-01-31T00:00:00",
          "2015-02-28T00:00:00",
          "2015-03-31T00:00:00",
          "2015-04-30T00:00:00",
          "2015-05-31T00:00:00",
          "2015-06-30T00:00:00",
          "2015-07-31T00:00:00",
          "2015-08-31T00:00:00",
          "2015-09-30T00:00:00",
          "2015-10-31T00:00:00",
          "2015-11-30T00:00:00",
          "2015-12-31T00:00:00",
          "2016-01-31T00:00:00",
          "2016-02-29T00:00:00",
          "2016-03-31T00:00:00",
          "2016-04-30T00:00:00",
          "2016-05-31T00:00:00",
          "2016-06-30T00:00:00",
          "2016-07-31T00:00:00",
          "2016-08-31T00:00:00",
          "2016-09-30T00:00:00",
          "2016-10-31T00:00:00",
          "2016-11-30T00:00:00",
          "2016-12-31T00:00:00",
          "2017-01-31T00:00:00",
          "2017-02-28T00:00:00",
          "2017-03-31T00:00:00",
          "2017-04-30T00:00:00",
          "2017-05-31T00:00:00",
          "2017-06-30T00:00:00",
          "2017-07-31T00:00:00",
          "2017-08-31T00:00:00"
         ],
         "xaxis": "x11",
         "y": [
          88568,
          99682,
          106233,
          92334,
          108818,
          106692,
          98754,
          110217,
          100412,
          111366,
          111098,
          239186,
          111023,
          110314,
          139649,
          120097,
          126235,
          135899,
          114929,
          114941,
          100081,
          116431,
          109157,
          253019,
          124571,
          135762,
          139452,
          142980,
          147419,
          151923,
          143987,
          142775,
          123645,
          148053,
          139034,
          275241,
          127514,
          151467,
          147530,
          129750,
          138220,
          135339,
          179266,
          151444,
          130865,
          138363,
          155417,
          307717,
          130668,
          144882,
          147379,
          147650,
          147623,
          154555,
          159719,
          81295
         ],
         "yaxis": "y11"
        },
        {
         "hovertemplate": "family=MAGAZINES<br>date=%{x}<br>counts=%{y}<extra></extra>",
         "legendgroup": "",
         "line": {
          "color": "#636efa",
          "dash": "solid"
         },
         "marker": {
          "symbol": "circle"
         },
         "mode": "lines+markers",
         "name": "",
         "showlegend": false,
         "type": "scattergl",
         "x": [
          "2013-01-31T00:00:00",
          "2013-02-28T00:00:00",
          "2013-03-31T00:00:00",
          "2013-04-30T00:00:00",
          "2013-05-31T00:00:00",
          "2013-06-30T00:00:00",
          "2013-07-31T00:00:00",
          "2013-08-31T00:00:00",
          "2013-09-30T00:00:00",
          "2013-10-31T00:00:00",
          "2013-11-30T00:00:00",
          "2013-12-31T00:00:00",
          "2014-01-31T00:00:00",
          "2014-02-28T00:00:00",
          "2014-03-31T00:00:00",
          "2014-04-30T00:00:00",
          "2014-05-31T00:00:00",
          "2014-06-30T00:00:00",
          "2014-07-31T00:00:00",
          "2014-08-31T00:00:00",
          "2014-09-30T00:00:00",
          "2014-10-31T00:00:00",
          "2014-11-30T00:00:00",
          "2014-12-31T00:00:00",
          "2015-01-31T00:00:00",
          "2015-02-28T00:00:00",
          "2015-03-31T00:00:00",
          "2015-04-30T00:00:00",
          "2015-05-31T00:00:00",
          "2015-06-30T00:00:00",
          "2015-07-31T00:00:00",
          "2015-08-31T00:00:00",
          "2015-09-30T00:00:00",
          "2015-10-31T00:00:00",
          "2015-11-30T00:00:00",
          "2015-12-31T00:00:00",
          "2016-01-31T00:00:00",
          "2016-02-29T00:00:00",
          "2016-03-31T00:00:00",
          "2016-04-30T00:00:00",
          "2016-05-31T00:00:00",
          "2016-06-30T00:00:00",
          "2016-07-31T00:00:00",
          "2016-08-31T00:00:00",
          "2016-09-30T00:00:00",
          "2016-10-31T00:00:00",
          "2016-11-30T00:00:00",
          "2016-12-31T00:00:00",
          "2017-01-31T00:00:00",
          "2017-02-28T00:00:00",
          "2017-03-31T00:00:00",
          "2017-04-30T00:00:00",
          "2017-05-31T00:00:00",
          "2017-06-30T00:00:00",
          "2017-07-31T00:00:00",
          "2017-08-31T00:00:00"
         ],
         "xaxis": "x12",
         "y": [
          0,
          0,
          0,
          0,
          0,
          0,
          0,
          0,
          0,
          0,
          0,
          0,
          1726,
          0,
          1959,
          0,
          0,
          0,
          1898,
          0,
          2628,
          1959,
          1988,
          2788,
          0,
          0,
          0,
          2180,
          2960,
          2300,
          3025,
          2678,
          2402,
          11712,
          8615,
          12504,
          8376,
          10715,
          9977,
          11227,
          10676,
          9022,
          10498,
          9904,
          9987,
          10993,
          9962,
          12692,
          9563,
          10200,
          10315,
          11377,
          11117,
          10024,
          10511,
          5901
         ],
         "yaxis": "y12"
        },
        {
         "hovertemplate": "family=MEATS<br>date=%{x}<br>counts=%{y}<extra></extra>",
         "legendgroup": "",
         "line": {
          "color": "#636efa",
          "dash": "solid"
         },
         "marker": {
          "symbol": "circle"
         },
         "mode": "lines+markers",
         "name": "",
         "showlegend": false,
         "type": "scattergl",
         "x": [
          "2013-01-31T00:00:00",
          "2013-02-28T00:00:00",
          "2013-03-31T00:00:00",
          "2013-04-30T00:00:00",
          "2013-05-31T00:00:00",
          "2013-06-30T00:00:00",
          "2013-07-31T00:00:00",
          "2013-08-31T00:00:00",
          "2013-09-30T00:00:00",
          "2013-10-31T00:00:00",
          "2013-11-30T00:00:00",
          "2013-12-31T00:00:00",
          "2014-01-31T00:00:00",
          "2014-02-28T00:00:00",
          "2014-03-31T00:00:00",
          "2014-04-30T00:00:00",
          "2014-05-31T00:00:00",
          "2014-06-30T00:00:00",
          "2014-07-31T00:00:00",
          "2014-08-31T00:00:00",
          "2014-09-30T00:00:00",
          "2014-10-31T00:00:00",
          "2014-11-30T00:00:00",
          "2014-12-31T00:00:00",
          "2015-01-31T00:00:00",
          "2015-02-28T00:00:00",
          "2015-03-31T00:00:00",
          "2015-04-30T00:00:00",
          "2015-05-31T00:00:00",
          "2015-06-30T00:00:00",
          "2015-07-31T00:00:00",
          "2015-08-31T00:00:00",
          "2015-09-30T00:00:00",
          "2015-10-31T00:00:00",
          "2015-11-30T00:00:00",
          "2015-12-31T00:00:00",
          "2016-01-31T00:00:00",
          "2016-02-29T00:00:00",
          "2016-03-31T00:00:00",
          "2016-04-30T00:00:00",
          "2016-05-31T00:00:00",
          "2016-06-30T00:00:00",
          "2016-07-31T00:00:00",
          "2016-08-31T00:00:00",
          "2016-09-30T00:00:00",
          "2016-10-31T00:00:00",
          "2016-11-30T00:00:00",
          "2016-12-31T00:00:00",
          "2017-01-31T00:00:00",
          "2017-02-28T00:00:00",
          "2017-03-31T00:00:00",
          "2017-04-30T00:00:00",
          "2017-05-31T00:00:00",
          "2017-06-30T00:00:00",
          "2017-07-31T00:00:00",
          "2017-08-31T00:00:00"
         ],
         "xaxis": "x7",
         "y": [
          533154.783758,
          480354.959696,
          525533.343087,
          521173.160301,
          547487.049146,
          549834.749027,
          536148.232708,
          543110.259599,
          548558.753157,
          572478.35895,
          554302.615027,
          550748.469551,
          490276.380212,
          472934.441401,
          557430.866019,
          490231.051883,
          547591.432618,
          552050.965793,
          538998.210029,
          563615.859131,
          556392.882056,
          569356.219706,
          511825.362873,
          531165.753638,
          543117.728891,
          498735.076839,
          546517.159221,
          522304.280744,
          591691.899734,
          565014.130035,
          594903.677368,
          581214.143026,
          562711.633157,
          580788.361242,
          535908.927954,
          567381.391078,
          591097.190342,
          544954.45565,
          543454.35006,
          583662.4468129,
          591532.731223,
          557547.144229,
          607702.419729,
          568488.623049,
          564988.491109,
          672115.441115,
          578954.065451,
          606028.189242,
          614947.5621559999,
          552648.962733,
          614945.529033,
          571203.879932,
          615677.415689,
          629180.8311749999,
          639327.439127,
          302968.667563
         ],
         "yaxis": "y7"
        },
        {
         "hovertemplate": "family=PERSONAL CARE<br>date=%{x}<br>counts=%{y}<extra></extra>",
         "legendgroup": "",
         "line": {
          "color": "#636efa",
          "dash": "solid"
         },
         "marker": {
          "symbol": "circle"
         },
         "mode": "lines+markers",
         "name": "",
         "showlegend": false,
         "type": "scattergl",
         "x": [
          "2013-01-31T00:00:00",
          "2013-02-28T00:00:00",
          "2013-03-31T00:00:00",
          "2013-04-30T00:00:00",
          "2013-05-31T00:00:00",
          "2013-06-30T00:00:00",
          "2013-07-31T00:00:00",
          "2013-08-31T00:00:00",
          "2013-09-30T00:00:00",
          "2013-10-31T00:00:00",
          "2013-11-30T00:00:00",
          "2013-12-31T00:00:00",
          "2014-01-31T00:00:00",
          "2014-02-28T00:00:00",
          "2014-03-31T00:00:00",
          "2014-04-30T00:00:00",
          "2014-05-31T00:00:00",
          "2014-06-30T00:00:00",
          "2014-07-31T00:00:00",
          "2014-08-31T00:00:00",
          "2014-09-30T00:00:00",
          "2014-10-31T00:00:00",
          "2014-11-30T00:00:00",
          "2014-12-31T00:00:00",
          "2015-01-31T00:00:00",
          "2015-02-28T00:00:00",
          "2015-03-31T00:00:00",
          "2015-04-30T00:00:00",
          "2015-05-31T00:00:00",
          "2015-06-30T00:00:00",
          "2015-07-31T00:00:00",
          "2015-08-31T00:00:00",
          "2015-09-30T00:00:00",
          "2015-10-31T00:00:00",
          "2015-11-30T00:00:00",
          "2015-12-31T00:00:00",
          "2016-01-31T00:00:00",
          "2016-02-29T00:00:00",
          "2016-03-31T00:00:00",
          "2016-04-30T00:00:00",
          "2016-05-31T00:00:00",
          "2016-06-30T00:00:00",
          "2016-07-31T00:00:00",
          "2016-08-31T00:00:00",
          "2016-09-30T00:00:00",
          "2016-10-31T00:00:00",
          "2016-11-30T00:00:00",
          "2016-12-31T00:00:00",
          "2017-01-31T00:00:00",
          "2017-02-28T00:00:00",
          "2017-03-31T00:00:00",
          "2017-04-30T00:00:00",
          "2017-05-31T00:00:00",
          "2017-06-30T00:00:00",
          "2017-07-31T00:00:00",
          "2017-08-31T00:00:00"
         ],
         "xaxis": "x8",
         "y": [
          317716,
          274064,
          319254,
          326543,
          308987,
          304725,
          303655,
          310536,
          309791,
          289730,
          342552,
          407935,
          369497,
          321063,
          387192,
          365345,
          399326,
          388943,
          401355,
          419124,
          376891,
          425426,
          430732,
          502389,
          492686,
          429345,
          484740,
          455173,
          503729,
          446045,
          466584,
          499242,
          498625,
          499639,
          472022,
          547757,
          560083,
          473164,
          487105,
          621247,
          553838,
          465449,
          498521,
          462022,
          471682,
          481666,
          505907,
          583353,
          599662,
          502036,
          544547,
          547866,
          519788,
          517485,
          539305,
          258967
         ],
         "yaxis": "y8"
        },
        {
         "hovertemplate": "family=PET SUPPLIES<br>date=%{x}<br>counts=%{y}<extra></extra>",
         "legendgroup": "",
         "line": {
          "color": "#636efa",
          "dash": "solid"
         },
         "marker": {
          "symbol": "circle"
         },
         "mode": "lines+markers",
         "name": "",
         "showlegend": false,
         "type": "scattergl",
         "x": [
          "2013-01-31T00:00:00",
          "2013-02-28T00:00:00",
          "2013-03-31T00:00:00",
          "2013-04-30T00:00:00",
          "2013-05-31T00:00:00",
          "2013-06-30T00:00:00",
          "2013-07-31T00:00:00",
          "2013-08-31T00:00:00",
          "2013-09-30T00:00:00",
          "2013-10-31T00:00:00",
          "2013-11-30T00:00:00",
          "2013-12-31T00:00:00",
          "2014-01-31T00:00:00",
          "2014-02-28T00:00:00",
          "2014-03-31T00:00:00",
          "2014-04-30T00:00:00",
          "2014-05-31T00:00:00",
          "2014-06-30T00:00:00",
          "2014-07-31T00:00:00",
          "2014-08-31T00:00:00",
          "2014-09-30T00:00:00",
          "2014-10-31T00:00:00",
          "2014-11-30T00:00:00",
          "2014-12-31T00:00:00",
          "2015-01-31T00:00:00",
          "2015-02-28T00:00:00",
          "2015-03-31T00:00:00",
          "2015-04-30T00:00:00",
          "2015-05-31T00:00:00",
          "2015-06-30T00:00:00",
          "2015-07-31T00:00:00",
          "2015-08-31T00:00:00",
          "2015-09-30T00:00:00",
          "2015-10-31T00:00:00",
          "2015-11-30T00:00:00",
          "2015-12-31T00:00:00",
          "2016-01-31T00:00:00",
          "2016-02-29T00:00:00",
          "2016-03-31T00:00:00",
          "2016-04-30T00:00:00",
          "2016-05-31T00:00:00",
          "2016-06-30T00:00:00",
          "2016-07-31T00:00:00",
          "2016-08-31T00:00:00",
          "2016-09-30T00:00:00",
          "2016-10-31T00:00:00",
          "2016-11-30T00:00:00",
          "2016-12-31T00:00:00",
          "2017-01-31T00:00:00",
          "2017-02-28T00:00:00",
          "2017-03-31T00:00:00",
          "2017-04-30T00:00:00",
          "2017-05-31T00:00:00",
          "2017-06-30T00:00:00",
          "2017-07-31T00:00:00",
          "2017-08-31T00:00:00"
         ],
         "xaxis": "x9",
         "y": [
          0,
          0,
          0,
          0,
          0,
          0,
          0,
          0,
          0,
          0,
          0,
          0,
          6430,
          0,
          8011,
          0,
          0,
          0,
          7549,
          0,
          7964,
          8185,
          9041,
          9810,
          0,
          0,
          0,
          0,
          186,
          8810,
          8056,
          9231,
          7010,
          8782,
          10338,
          10370,
          10644,
          8959,
          9677,
          10963,
          11160,
          9463,
          10279,
          10211,
          10978,
          12477,
          11452,
          13730,
          13286,
          12604,
          14443,
          14666,
          15027,
          14931,
          15003,
          6858
         ],
         "yaxis": "y9"
        },
        {
         "hovertemplate": "family=PLAYERS AND ELECTRONICS<br>date=%{x}<br>counts=%{y}<extra></extra>",
         "legendgroup": "",
         "line": {
          "color": "#636efa",
          "dash": "solid"
         },
         "marker": {
          "symbol": "circle"
         },
         "mode": "lines+markers",
         "name": "",
         "showlegend": false,
         "type": "scattergl",
         "x": [
          "2013-01-31T00:00:00",
          "2013-02-28T00:00:00",
          "2013-03-31T00:00:00",
          "2013-04-30T00:00:00",
          "2013-05-31T00:00:00",
          "2013-06-30T00:00:00",
          "2013-07-31T00:00:00",
          "2013-08-31T00:00:00",
          "2013-09-30T00:00:00",
          "2013-10-31T00:00:00",
          "2013-11-30T00:00:00",
          "2013-12-31T00:00:00",
          "2014-01-31T00:00:00",
          "2014-02-28T00:00:00",
          "2014-03-31T00:00:00",
          "2014-04-30T00:00:00",
          "2014-05-31T00:00:00",
          "2014-06-30T00:00:00",
          "2014-07-31T00:00:00",
          "2014-08-31T00:00:00",
          "2014-09-30T00:00:00",
          "2014-10-31T00:00:00",
          "2014-11-30T00:00:00",
          "2014-12-31T00:00:00",
          "2015-01-31T00:00:00",
          "2015-02-28T00:00:00",
          "2015-03-31T00:00:00",
          "2015-04-30T00:00:00",
          "2015-05-31T00:00:00",
          "2015-06-30T00:00:00",
          "2015-07-31T00:00:00",
          "2015-08-31T00:00:00",
          "2015-09-30T00:00:00",
          "2015-10-31T00:00:00",
          "2015-11-30T00:00:00",
          "2015-12-31T00:00:00",
          "2016-01-31T00:00:00",
          "2016-02-29T00:00:00",
          "2016-03-31T00:00:00",
          "2016-04-30T00:00:00",
          "2016-05-31T00:00:00",
          "2016-06-30T00:00:00",
          "2016-07-31T00:00:00",
          "2016-08-31T00:00:00",
          "2016-09-30T00:00:00",
          "2016-10-31T00:00:00",
          "2016-11-30T00:00:00",
          "2016-12-31T00:00:00",
          "2017-01-31T00:00:00",
          "2017-02-28T00:00:00",
          "2017-03-31T00:00:00",
          "2017-04-30T00:00:00",
          "2017-05-31T00:00:00",
          "2017-06-30T00:00:00",
          "2017-07-31T00:00:00",
          "2017-08-31T00:00:00"
         ],
         "xaxis": "x4",
         "y": [
          0,
          0,
          0,
          0,
          0,
          0,
          0,
          0,
          0,
          0,
          0,
          0,
          16539,
          0,
          16061,
          0,
          0,
          0,
          12768,
          0,
          13432,
          13015,
          14396,
          19936,
          0,
          0,
          0,
          0,
          0,
          13084,
          14650,
          19021,
          18213,
          16580,
          15864,
          19916,
          14277,
          13385,
          14326,
          18583,
          15911,
          13517,
          15342,
          15084,
          14950,
          16738,
          17485,
          26175,
          19958,
          17003,
          18716,
          19846,
          20173,
          18369,
          19805,
          9490
         ],
         "yaxis": "y4"
        },
        {
         "hovertemplate": "family=POULTRY<br>date=%{x}<br>counts=%{y}<extra></extra>",
         "legendgroup": "",
         "line": {
          "color": "#636efa",
          "dash": "solid"
         },
         "marker": {
          "symbol": "circle"
         },
         "mode": "lines+markers",
         "name": "",
         "showlegend": false,
         "type": "scattergl",
         "x": [
          "2013-01-31T00:00:00",
          "2013-02-28T00:00:00",
          "2013-03-31T00:00:00",
          "2013-04-30T00:00:00",
          "2013-05-31T00:00:00",
          "2013-06-30T00:00:00",
          "2013-07-31T00:00:00",
          "2013-08-31T00:00:00",
          "2013-09-30T00:00:00",
          "2013-10-31T00:00:00",
          "2013-11-30T00:00:00",
          "2013-12-31T00:00:00",
          "2014-01-31T00:00:00",
          "2014-02-28T00:00:00",
          "2014-03-31T00:00:00",
          "2014-04-30T00:00:00",
          "2014-05-31T00:00:00",
          "2014-06-30T00:00:00",
          "2014-07-31T00:00:00",
          "2014-08-31T00:00:00",
          "2014-09-30T00:00:00",
          "2014-10-31T00:00:00",
          "2014-11-30T00:00:00",
          "2014-12-31T00:00:00",
          "2015-01-31T00:00:00",
          "2015-02-28T00:00:00",
          "2015-03-31T00:00:00",
          "2015-04-30T00:00:00",
          "2015-05-31T00:00:00",
          "2015-06-30T00:00:00",
          "2015-07-31T00:00:00",
          "2015-08-31T00:00:00",
          "2015-09-30T00:00:00",
          "2015-10-31T00:00:00",
          "2015-11-30T00:00:00",
          "2015-12-31T00:00:00",
          "2016-01-31T00:00:00",
          "2016-02-29T00:00:00",
          "2016-03-31T00:00:00",
          "2016-04-30T00:00:00",
          "2016-05-31T00:00:00",
          "2016-06-30T00:00:00",
          "2016-07-31T00:00:00",
          "2016-08-31T00:00:00",
          "2016-09-30T00:00:00",
          "2016-10-31T00:00:00",
          "2016-11-30T00:00:00",
          "2016-12-31T00:00:00",
          "2017-01-31T00:00:00",
          "2017-02-28T00:00:00",
          "2017-03-31T00:00:00",
          "2017-04-30T00:00:00",
          "2017-05-31T00:00:00",
          "2017-06-30T00:00:00",
          "2017-07-31T00:00:00",
          "2017-08-31T00:00:00"
         ],
         "xaxis": "x5",
         "y": [
          304256.8359325,
          284366.357897,
          318799.460727,
          305240.522839,
          321628.685602,
          327351.3931176,
          313583.927932,
          326411.2138817,
          332689.069863,
          336496.272221,
          576809.102294,
          672213.165255,
          627749.216033,
          581511.244009,
          654438.654697,
          562509.106268,
          600606.514715,
          589002.147832,
          600019.099819,
          626266.605564,
          630431.932034,
          635465.697194,
          638615.99734,
          684696.359094,
          641383.382107,
          566082.175503,
          644374.724782,
          604203.471045,
          663035.941336,
          616524.182189,
          641989.035386,
          635224.973362,
          614447.425565,
          679503.3993027,
          662504.421116,
          679621.19214,
          647947.552835,
          623956.104828,
          616070.227746,
          645681.331094,
          645478.513026,
          593441.9426755,
          643886.70543,
          586723.178445,
          591788.740321,
          631524.957142,
          633331.222286,
          701211.383981,
          677062.5948,
          591904.04385,
          649552.011313,
          605118.592948,
          657027.894173,
          658662.036049,
          671729.86887,
          303852.663914
         ],
         "yaxis": "y5"
        },
        {
         "hovertemplate": "family=PREPARED FOODS<br>date=%{x}<br>counts=%{y}<extra></extra>",
         "legendgroup": "",
         "line": {
          "color": "#636efa",
          "dash": "solid"
         },
         "marker": {
          "symbol": "circle"
         },
         "mode": "lines+markers",
         "name": "",
         "showlegend": false,
         "type": "scattergl",
         "x": [
          "2013-01-31T00:00:00",
          "2013-02-28T00:00:00",
          "2013-03-31T00:00:00",
          "2013-04-30T00:00:00",
          "2013-05-31T00:00:00",
          "2013-06-30T00:00:00",
          "2013-07-31T00:00:00",
          "2013-08-31T00:00:00",
          "2013-09-30T00:00:00",
          "2013-10-31T00:00:00",
          "2013-11-30T00:00:00",
          "2013-12-31T00:00:00",
          "2014-01-31T00:00:00",
          "2014-02-28T00:00:00",
          "2014-03-31T00:00:00",
          "2014-04-30T00:00:00",
          "2014-05-31T00:00:00",
          "2014-06-30T00:00:00",
          "2014-07-31T00:00:00",
          "2014-08-31T00:00:00",
          "2014-09-30T00:00:00",
          "2014-10-31T00:00:00",
          "2014-11-30T00:00:00",
          "2014-12-31T00:00:00",
          "2015-01-31T00:00:00",
          "2015-02-28T00:00:00",
          "2015-03-31T00:00:00",
          "2015-04-30T00:00:00",
          "2015-05-31T00:00:00",
          "2015-06-30T00:00:00",
          "2015-07-31T00:00:00",
          "2015-08-31T00:00:00",
          "2015-09-30T00:00:00",
          "2015-10-31T00:00:00",
          "2015-11-30T00:00:00",
          "2015-12-31T00:00:00",
          "2016-01-31T00:00:00",
          "2016-02-29T00:00:00",
          "2016-03-31T00:00:00",
          "2016-04-30T00:00:00",
          "2016-05-31T00:00:00",
          "2016-06-30T00:00:00",
          "2016-07-31T00:00:00",
          "2016-08-31T00:00:00",
          "2016-09-30T00:00:00",
          "2016-10-31T00:00:00",
          "2016-11-30T00:00:00",
          "2016-12-31T00:00:00",
          "2017-01-31T00:00:00",
          "2017-02-28T00:00:00",
          "2017-03-31T00:00:00",
          "2017-04-30T00:00:00",
          "2017-05-31T00:00:00",
          "2017-06-30T00:00:00",
          "2017-07-31T00:00:00",
          "2017-08-31T00:00:00"
         ],
         "xaxis": "x6",
         "y": [
          136488.049961,
          127108.537064,
          151266.292022,
          131131.67577,
          142367.145905,
          142008.431049,
          141222.711093,
          142408.42181,
          136714.758933,
          133955.487036,
          141686.397899,
          150117.81589600001,
          158104.841101,
          136125.602996,
          163798.515854,
          149931.333846,
          147016.807927,
          145496.405228,
          151042.76095,
          147313.44107,
          151729.928132,
          160802.076142,
          156105.036057,
          153037.453056,
          154989.042965,
          141031.645971,
          160126.780967,
          154670.12103,
          157764.039051,
          162337.996924,
          173992.749984,
          175323.635927,
          175876.483981,
          182636.189045,
          177277.299061,
          178843.000085,
          178495.95,
          166330.143981,
          180492.361001,
          175991.307998,
          175327.396089,
          166893.046994,
          174941.788953,
          165052.257914,
          168945.953003,
          174430.583864,
          164817.207884,
          177356.454062,
          187944.610045,
          178282.747026,
          187348.545107,
          162727.748098,
          152694.8411065,
          147253.406053,
          151421.928938,
          71297.927038
         ],
         "yaxis": "y6"
        },
        {
         "hovertemplate": "family=PRODUCE<br>date=%{x}<br>counts=%{y}<extra></extra>",
         "legendgroup": "",
         "line": {
          "color": "#636efa",
          "dash": "solid"
         },
         "marker": {
          "symbol": "circle"
         },
         "mode": "lines+markers",
         "name": "",
         "showlegend": false,
         "type": "scattergl",
         "x": [
          "2013-01-31T00:00:00",
          "2013-02-28T00:00:00",
          "2013-03-31T00:00:00",
          "2013-04-30T00:00:00",
          "2013-05-31T00:00:00",
          "2013-06-30T00:00:00",
          "2013-07-31T00:00:00",
          "2013-08-31T00:00:00",
          "2013-09-30T00:00:00",
          "2013-10-31T00:00:00",
          "2013-11-30T00:00:00",
          "2013-12-31T00:00:00",
          "2014-01-31T00:00:00",
          "2014-02-28T00:00:00",
          "2014-03-31T00:00:00",
          "2014-04-30T00:00:00",
          "2014-05-31T00:00:00",
          "2014-06-30T00:00:00",
          "2014-07-31T00:00:00",
          "2014-08-31T00:00:00",
          "2014-09-30T00:00:00",
          "2014-10-31T00:00:00",
          "2014-11-30T00:00:00",
          "2014-12-31T00:00:00",
          "2015-01-31T00:00:00",
          "2015-02-28T00:00:00",
          "2015-03-31T00:00:00",
          "2015-04-30T00:00:00",
          "2015-05-31T00:00:00",
          "2015-06-30T00:00:00",
          "2015-07-31T00:00:00",
          "2015-08-31T00:00:00",
          "2015-09-30T00:00:00",
          "2015-10-31T00:00:00",
          "2015-11-30T00:00:00",
          "2015-12-31T00:00:00",
          "2016-01-31T00:00:00",
          "2016-02-29T00:00:00",
          "2016-03-31T00:00:00",
          "2016-04-30T00:00:00",
          "2016-05-31T00:00:00",
          "2016-06-30T00:00:00",
          "2016-07-31T00:00:00",
          "2016-08-31T00:00:00",
          "2016-09-30T00:00:00",
          "2016-10-31T00:00:00",
          "2016-11-30T00:00:00",
          "2016-12-31T00:00:00",
          "2017-01-31T00:00:00",
          "2017-02-28T00:00:00",
          "2017-03-31T00:00:00",
          "2017-04-30T00:00:00",
          "2017-05-31T00:00:00",
          "2017-06-30T00:00:00",
          "2017-07-31T00:00:00",
          "2017-08-31T00:00:00"
         ],
         "xaxis": "x",
         "y": [
          0,
          0,
          4037,
          6308,
          8836,
          8631,
          7463,
          8118,
          6821,
          5910,
          6887,
          9794,
          3243616.58327,
          6576,
          3352346.250876,
          7152,
          9094,
          8283,
          3216023.256304,
          8265,
          3388714.61249,
          3380437.00928,
          3346861.56419,
          3545158.514066,
          7554,
          7907,
          6905,
          7163,
          10172,
          3519216.54399,
          3583142.789944,
          3562251.92368,
          3599059.59415,
          3615706.45023,
          3624200.81428,
          4052565.440184,
          3980591.69598,
          3585008.59157,
          3786813.37098,
          3621327.48513,
          3832996.612716,
          3560052.78525,
          3609957.43776,
          3489905.476504,
          3427137.60763,
          3673368.54929,
          3605235.8078,
          4075705.02255,
          4060896.89895,
          3571332.77303,
          4012516.2995,
          3757053.268706,
          4119032.73671,
          3893588.65524,
          4005391.46987,
          1855594.78436
         ],
         "yaxis": "y"
        },
        {
         "hovertemplate": "family=SCHOOL AND OFFICE SUPPLIES<br>date=%{x}<br>counts=%{y}<extra></extra>",
         "legendgroup": "",
         "line": {
          "color": "#636efa",
          "dash": "solid"
         },
         "marker": {
          "symbol": "circle"
         },
         "mode": "lines+markers",
         "name": "",
         "showlegend": false,
         "type": "scattergl",
         "x": [
          "2013-01-31T00:00:00",
          "2013-02-28T00:00:00",
          "2013-03-31T00:00:00",
          "2013-04-30T00:00:00",
          "2013-05-31T00:00:00",
          "2013-06-30T00:00:00",
          "2013-07-31T00:00:00",
          "2013-08-31T00:00:00",
          "2013-09-30T00:00:00",
          "2013-10-31T00:00:00",
          "2013-11-30T00:00:00",
          "2013-12-31T00:00:00",
          "2014-01-31T00:00:00",
          "2014-02-28T00:00:00",
          "2014-03-31T00:00:00",
          "2014-04-30T00:00:00",
          "2014-05-31T00:00:00",
          "2014-06-30T00:00:00",
          "2014-07-31T00:00:00",
          "2014-08-31T00:00:00",
          "2014-09-30T00:00:00",
          "2014-10-31T00:00:00",
          "2014-11-30T00:00:00",
          "2014-12-31T00:00:00",
          "2015-01-31T00:00:00",
          "2015-02-28T00:00:00",
          "2015-03-31T00:00:00",
          "2015-04-30T00:00:00",
          "2015-05-31T00:00:00",
          "2015-06-30T00:00:00",
          "2015-07-31T00:00:00",
          "2015-08-31T00:00:00",
          "2015-09-30T00:00:00",
          "2015-10-31T00:00:00",
          "2015-11-30T00:00:00",
          "2015-12-31T00:00:00",
          "2016-01-31T00:00:00",
          "2016-02-29T00:00:00",
          "2016-03-31T00:00:00",
          "2016-04-30T00:00:00",
          "2016-05-31T00:00:00",
          "2016-06-30T00:00:00",
          "2016-07-31T00:00:00",
          "2016-08-31T00:00:00",
          "2016-09-30T00:00:00",
          "2016-10-31T00:00:00",
          "2016-11-30T00:00:00",
          "2016-12-31T00:00:00",
          "2017-01-31T00:00:00",
          "2017-02-28T00:00:00",
          "2017-03-31T00:00:00",
          "2017-04-30T00:00:00",
          "2017-05-31T00:00:00",
          "2017-06-30T00:00:00",
          "2017-07-31T00:00:00",
          "2017-08-31T00:00:00"
         ],
         "xaxis": "x2",
         "y": [
          0,
          0,
          0,
          0,
          0,
          0,
          0,
          0,
          0,
          0,
          0,
          0,
          1861,
          0,
          2235,
          0,
          0,
          0,
          1958,
          0,
          18367,
          3026,
          2546,
          1992,
          0,
          0,
          0,
          0,
          0,
          1994,
          1545,
          16148,
          15719,
          2927,
          2612,
          2392,
          3108,
          2815,
          3218,
          8950,
          10427,
          2461,
          1746,
          17214,
          23556,
          3128,
          2543,
          2050,
          2875,
          1789,
          8246,
          28689,
          9658,
          2555,
          8797,
          50169
         ],
         "yaxis": "y2"
        },
        {
         "hovertemplate": "family=SEAFOOD<br>date=%{x}<br>counts=%{y}<extra></extra>",
         "legendgroup": "",
         "line": {
          "color": "#636efa",
          "dash": "solid"
         },
         "marker": {
          "symbol": "circle"
         },
         "mode": "lines+markers",
         "name": "",
         "showlegend": false,
         "type": "scattergl",
         "x": [
          "2013-01-31T00:00:00",
          "2013-02-28T00:00:00",
          "2013-03-31T00:00:00",
          "2013-04-30T00:00:00",
          "2013-05-31T00:00:00",
          "2013-06-30T00:00:00",
          "2013-07-31T00:00:00",
          "2013-08-31T00:00:00",
          "2013-09-30T00:00:00",
          "2013-10-31T00:00:00",
          "2013-11-30T00:00:00",
          "2013-12-31T00:00:00",
          "2014-01-31T00:00:00",
          "2014-02-28T00:00:00",
          "2014-03-31T00:00:00",
          "2014-04-30T00:00:00",
          "2014-05-31T00:00:00",
          "2014-06-30T00:00:00",
          "2014-07-31T00:00:00",
          "2014-08-31T00:00:00",
          "2014-09-30T00:00:00",
          "2014-10-31T00:00:00",
          "2014-11-30T00:00:00",
          "2014-12-31T00:00:00",
          "2015-01-31T00:00:00",
          "2015-02-28T00:00:00",
          "2015-03-31T00:00:00",
          "2015-04-30T00:00:00",
          "2015-05-31T00:00:00",
          "2015-06-30T00:00:00",
          "2015-07-31T00:00:00",
          "2015-08-31T00:00:00",
          "2015-09-30T00:00:00",
          "2015-10-31T00:00:00",
          "2015-11-30T00:00:00",
          "2015-12-31T00:00:00",
          "2016-01-31T00:00:00",
          "2016-02-29T00:00:00",
          "2016-03-31T00:00:00",
          "2016-04-30T00:00:00",
          "2016-05-31T00:00:00",
          "2016-06-30T00:00:00",
          "2016-07-31T00:00:00",
          "2016-08-31T00:00:00",
          "2016-09-30T00:00:00",
          "2016-10-31T00:00:00",
          "2016-11-30T00:00:00",
          "2016-12-31T00:00:00",
          "2017-01-31T00:00:00",
          "2017-02-28T00:00:00",
          "2017-03-31T00:00:00",
          "2017-04-30T00:00:00",
          "2017-05-31T00:00:00",
          "2017-06-30T00:00:00",
          "2017-07-31T00:00:00",
          "2017-08-31T00:00:00"
         ],
         "xaxis": "x3",
         "y": [
          34953.8339978,
          33287.8859857,
          40077.3299805,
          34299.4039878,
          37458.2580258,
          29588.972995,
          30672.9710153,
          29603.820008,
          32327.1639969,
          26725.0330211,
          25741.1249754,
          27815.2989516,
          36938.3019024,
          29692.4681673,
          39993.117508,
          31917.2332214,
          35898.0289895,
          34519.9213066,
          33804.5705894,
          33844.5289822,
          35500.8480466,
          41864.6870221,
          40098.6449972,
          35862.343004199996,
          40465.835012,
          36066.5610027,
          43808.473074300004,
          39983.4710025,
          42506.832015,
          38780.5520041,
          38535.5880059,
          37767.5809975,
          41906.3740102,
          41423.9629634,
          38823.7610112,
          33728.2769727,
          39268.3209571,
          37064.8269518,
          39254.8089919,
          39353.4670453,
          40018.6439847,
          36849.8990121,
          39440.7330506,
          39486.6519859,
          39019.1399867,
          40272.056019,
          35419.2409995,
          32011.2480011,
          37421.7040731,
          33861.8139968,
          41956.9810183,
          36221.8819861,
          39666.3939985,
          31365.7759906,
          35040.6870057,
          16154.5490195
         ],
         "yaxis": "y3"
        }
       ],
       "layout": {
        "annotations": [
         {
          "font": {},
          "showarrow": false,
          "text": "family=PRODUCE",
          "x": 0.15999999999999998,
          "xanchor": "center",
          "xref": "paper",
          "y": 0.08181818181818182,
          "yanchor": "bottom",
          "yref": "paper"
         },
         {
          "font": {},
          "showarrow": false,
          "text": "family=SCHOOL AND OFFICE SUPPLIES",
          "x": 0.49999999999999994,
          "xanchor": "center",
          "xref": "paper",
          "y": 0.08181818181818182,
          "yanchor": "bottom",
          "yref": "paper"
         },
         {
          "font": {},
          "showarrow": false,
          "text": "family=SEAFOOD",
          "x": 0.8399999999999999,
          "xanchor": "center",
          "xref": "paper",
          "y": 0.08181818181818182,
          "yanchor": "bottom",
          "yref": "paper"
         },
         {
          "font": {},
          "showarrow": false,
          "text": "family=PLAYERS AND ELECTRONICS",
          "x": 0.15999999999999998,
          "xanchor": "center",
          "xref": "paper",
          "y": 0.17363636363636364,
          "yanchor": "bottom",
          "yref": "paper"
         },
         {
          "font": {},
          "showarrow": false,
          "text": "family=POULTRY",
          "x": 0.49999999999999994,
          "xanchor": "center",
          "xref": "paper",
          "y": 0.17363636363636364,
          "yanchor": "bottom",
          "yref": "paper"
         },
         {
          "font": {},
          "showarrow": false,
          "text": "family=PREPARED FOODS",
          "x": 0.8399999999999999,
          "xanchor": "center",
          "xref": "paper",
          "y": 0.17363636363636364,
          "yanchor": "bottom",
          "yref": "paper"
         },
         {
          "font": {},
          "showarrow": false,
          "text": "family=MEATS",
          "x": 0.15999999999999998,
          "xanchor": "center",
          "xref": "paper",
          "y": 0.26545454545454544,
          "yanchor": "bottom",
          "yref": "paper"
         },
         {
          "font": {},
          "showarrow": false,
          "text": "family=PERSONAL CARE",
          "x": 0.49999999999999994,
          "xanchor": "center",
          "xref": "paper",
          "y": 0.26545454545454544,
          "yanchor": "bottom",
          "yref": "paper"
         },
         {
          "font": {},
          "showarrow": false,
          "text": "family=PET SUPPLIES",
          "x": 0.8399999999999999,
          "xanchor": "center",
          "xref": "paper",
          "y": 0.26545454545454544,
          "yanchor": "bottom",
          "yref": "paper"
         },
         {
          "font": {},
          "showarrow": false,
          "text": "family=LINGERIE",
          "x": 0.15999999999999998,
          "xanchor": "center",
          "xref": "paper",
          "y": 0.3572727272727273,
          "yanchor": "bottom",
          "yref": "paper"
         },
         {
          "font": {},
          "showarrow": false,
          "text": "family=LIQUOR,WINE,BEER",
          "x": 0.49999999999999994,
          "xanchor": "center",
          "xref": "paper",
          "y": 0.3572727272727273,
          "yanchor": "bottom",
          "yref": "paper"
         },
         {
          "font": {},
          "showarrow": false,
          "text": "family=MAGAZINES",
          "x": 0.8399999999999999,
          "xanchor": "center",
          "xref": "paper",
          "y": 0.3572727272727273,
          "yanchor": "bottom",
          "yref": "paper"
         },
         {
          "font": {},
          "showarrow": false,
          "text": "family=HOME CARE",
          "x": 0.15999999999999998,
          "xanchor": "center",
          "xref": "paper",
          "y": 0.4490909090909091,
          "yanchor": "bottom",
          "yref": "paper"
         },
         {
          "font": {},
          "showarrow": false,
          "text": "family=LADIESWEAR",
          "x": 0.49999999999999994,
          "xanchor": "center",
          "xref": "paper",
          "y": 0.4490909090909091,
          "yanchor": "bottom",
          "yref": "paper"
         },
         {
          "font": {},
          "showarrow": false,
          "text": "family=LAWN AND GARDEN",
          "x": 0.8399999999999999,
          "xanchor": "center",
          "xref": "paper",
          "y": 0.4490909090909091,
          "yanchor": "bottom",
          "yref": "paper"
         },
         {
          "font": {},
          "showarrow": false,
          "text": "family=HOME AND KITCHEN I",
          "x": 0.15999999999999998,
          "xanchor": "center",
          "xref": "paper",
          "y": 0.5409090909090909,
          "yanchor": "bottom",
          "yref": "paper"
         },
         {
          "font": {},
          "showarrow": false,
          "text": "family=HOME AND KITCHEN II",
          "x": 0.49999999999999994,
          "xanchor": "center",
          "xref": "paper",
          "y": 0.5409090909090909,
          "yanchor": "bottom",
          "yref": "paper"
         },
         {
          "font": {},
          "showarrow": false,
          "text": "family=HOME APPLIANCES",
          "x": 0.8399999999999999,
          "xanchor": "center",
          "xref": "paper",
          "y": 0.5409090909090909,
          "yanchor": "bottom",
          "yref": "paper"
         },
         {
          "font": {},
          "showarrow": false,
          "text": "family=GROCERY I",
          "x": 0.15999999999999998,
          "xanchor": "center",
          "xref": "paper",
          "y": 0.6327272727272726,
          "yanchor": "bottom",
          "yref": "paper"
         },
         {
          "font": {},
          "showarrow": false,
          "text": "family=GROCERY II",
          "x": 0.49999999999999994,
          "xanchor": "center",
          "xref": "paper",
          "y": 0.6327272727272726,
          "yanchor": "bottom",
          "yref": "paper"
         },
         {
          "font": {},
          "showarrow": false,
          "text": "family=HARDWARE",
          "x": 0.8399999999999999,
          "xanchor": "center",
          "xref": "paper",
          "y": 0.6327272727272726,
          "yanchor": "bottom",
          "yref": "paper"
         },
         {
          "font": {},
          "showarrow": false,
          "text": "family=DELI",
          "x": 0.15999999999999998,
          "xanchor": "center",
          "xref": "paper",
          "y": 0.7245454545454544,
          "yanchor": "bottom",
          "yref": "paper"
         },
         {
          "font": {},
          "showarrow": false,
          "text": "family=EGGS",
          "x": 0.49999999999999994,
          "xanchor": "center",
          "xref": "paper",
          "y": 0.7245454545454544,
          "yanchor": "bottom",
          "yref": "paper"
         },
         {
          "font": {},
          "showarrow": false,
          "text": "family=FROZEN FOODS",
          "x": 0.8399999999999999,
          "xanchor": "center",
          "xref": "paper",
          "y": 0.7245454545454544,
          "yanchor": "bottom",
          "yref": "paper"
         },
         {
          "font": {},
          "showarrow": false,
          "text": "family=CELEBRATION",
          "x": 0.15999999999999998,
          "xanchor": "center",
          "xref": "paper",
          "y": 0.8163636363636362,
          "yanchor": "bottom",
          "yref": "paper"
         },
         {
          "font": {},
          "showarrow": false,
          "text": "family=CLEANING",
          "x": 0.49999999999999994,
          "xanchor": "center",
          "xref": "paper",
          "y": 0.8163636363636362,
          "yanchor": "bottom",
          "yref": "paper"
         },
         {
          "font": {},
          "showarrow": false,
          "text": "family=DAIRY",
          "x": 0.8399999999999999,
          "xanchor": "center",
          "xref": "paper",
          "y": 0.8163636363636362,
          "yanchor": "bottom",
          "yref": "paper"
         },
         {
          "font": {},
          "showarrow": false,
          "text": "family=BEVERAGES",
          "x": 0.15999999999999998,
          "xanchor": "center",
          "xref": "paper",
          "y": 0.908181818181818,
          "yanchor": "bottom",
          "yref": "paper"
         },
         {
          "font": {},
          "showarrow": false,
          "text": "family=BOOKS",
          "x": 0.49999999999999994,
          "xanchor": "center",
          "xref": "paper",
          "y": 0.908181818181818,
          "yanchor": "bottom",
          "yref": "paper"
         },
         {
          "font": {},
          "showarrow": false,
          "text": "family=BREAD/BAKERY",
          "x": 0.8399999999999999,
          "xanchor": "center",
          "xref": "paper",
          "y": 0.908181818181818,
          "yanchor": "bottom",
          "yref": "paper"
         },
         {
          "font": {},
          "showarrow": false,
          "text": "family=AUTOMOTIVE",
          "x": 0.15999999999999998,
          "xanchor": "center",
          "xref": "paper",
          "y": 0.9999999999999998,
          "yanchor": "bottom",
          "yref": "paper"
         },
         {
          "font": {},
          "showarrow": false,
          "text": "family=BABY CARE",
          "x": 0.49999999999999994,
          "xanchor": "center",
          "xref": "paper",
          "y": 0.9999999999999998,
          "yanchor": "bottom",
          "yref": "paper"
         },
         {
          "font": {},
          "showarrow": false,
          "text": "family=BEAUTY",
          "x": 0.8399999999999999,
          "xanchor": "center",
          "xref": "paper",
          "y": 0.9999999999999998,
          "yanchor": "bottom",
          "yref": "paper"
         }
        ],
        "height": 2000,
        "legend": {
         "tracegroupgap": 0
        },
        "template": {
         "data": {
          "bar": [
           {
            "error_x": {
             "color": "#2a3f5f"
            },
            "error_y": {
             "color": "#2a3f5f"
            },
            "marker": {
             "line": {
              "color": "#E5ECF6",
              "width": 0.5
             },
             "pattern": {
              "fillmode": "overlay",
              "size": 10,
              "solidity": 0.2
             }
            },
            "type": "bar"
           }
          ],
          "barpolar": [
           {
            "marker": {
             "line": {
              "color": "#E5ECF6",
              "width": 0.5
             },
             "pattern": {
              "fillmode": "overlay",
              "size": 10,
              "solidity": 0.2
             }
            },
            "type": "barpolar"
           }
          ],
          "carpet": [
           {
            "aaxis": {
             "endlinecolor": "#2a3f5f",
             "gridcolor": "white",
             "linecolor": "white",
             "minorgridcolor": "white",
             "startlinecolor": "#2a3f5f"
            },
            "baxis": {
             "endlinecolor": "#2a3f5f",
             "gridcolor": "white",
             "linecolor": "white",
             "minorgridcolor": "white",
             "startlinecolor": "#2a3f5f"
            },
            "type": "carpet"
           }
          ],
          "choropleth": [
           {
            "colorbar": {
             "outlinewidth": 0,
             "ticks": ""
            },
            "type": "choropleth"
           }
          ],
          "contour": [
           {
            "colorbar": {
             "outlinewidth": 0,
             "ticks": ""
            },
            "colorscale": [
             [
              0,
              "#0d0887"
             ],
             [
              0.1111111111111111,
              "#46039f"
             ],
             [
              0.2222222222222222,
              "#7201a8"
             ],
             [
              0.3333333333333333,
              "#9c179e"
             ],
             [
              0.4444444444444444,
              "#bd3786"
             ],
             [
              0.5555555555555556,
              "#d8576b"
             ],
             [
              0.6666666666666666,
              "#ed7953"
             ],
             [
              0.7777777777777778,
              "#fb9f3a"
             ],
             [
              0.8888888888888888,
              "#fdca26"
             ],
             [
              1,
              "#f0f921"
             ]
            ],
            "type": "contour"
           }
          ],
          "contourcarpet": [
           {
            "colorbar": {
             "outlinewidth": 0,
             "ticks": ""
            },
            "type": "contourcarpet"
           }
          ],
          "heatmap": [
           {
            "colorbar": {
             "outlinewidth": 0,
             "ticks": ""
            },
            "colorscale": [
             [
              0,
              "#0d0887"
             ],
             [
              0.1111111111111111,
              "#46039f"
             ],
             [
              0.2222222222222222,
              "#7201a8"
             ],
             [
              0.3333333333333333,
              "#9c179e"
             ],
             [
              0.4444444444444444,
              "#bd3786"
             ],
             [
              0.5555555555555556,
              "#d8576b"
             ],
             [
              0.6666666666666666,
              "#ed7953"
             ],
             [
              0.7777777777777778,
              "#fb9f3a"
             ],
             [
              0.8888888888888888,
              "#fdca26"
             ],
             [
              1,
              "#f0f921"
             ]
            ],
            "type": "heatmap"
           }
          ],
          "heatmapgl": [
           {
            "colorbar": {
             "outlinewidth": 0,
             "ticks": ""
            },
            "colorscale": [
             [
              0,
              "#0d0887"
             ],
             [
              0.1111111111111111,
              "#46039f"
             ],
             [
              0.2222222222222222,
              "#7201a8"
             ],
             [
              0.3333333333333333,
              "#9c179e"
             ],
             [
              0.4444444444444444,
              "#bd3786"
             ],
             [
              0.5555555555555556,
              "#d8576b"
             ],
             [
              0.6666666666666666,
              "#ed7953"
             ],
             [
              0.7777777777777778,
              "#fb9f3a"
             ],
             [
              0.8888888888888888,
              "#fdca26"
             ],
             [
              1,
              "#f0f921"
             ]
            ],
            "type": "heatmapgl"
           }
          ],
          "histogram": [
           {
            "marker": {
             "pattern": {
              "fillmode": "overlay",
              "size": 10,
              "solidity": 0.2
             }
            },
            "type": "histogram"
           }
          ],
          "histogram2d": [
           {
            "colorbar": {
             "outlinewidth": 0,
             "ticks": ""
            },
            "colorscale": [
             [
              0,
              "#0d0887"
             ],
             [
              0.1111111111111111,
              "#46039f"
             ],
             [
              0.2222222222222222,
              "#7201a8"
             ],
             [
              0.3333333333333333,
              "#9c179e"
             ],
             [
              0.4444444444444444,
              "#bd3786"
             ],
             [
              0.5555555555555556,
              "#d8576b"
             ],
             [
              0.6666666666666666,
              "#ed7953"
             ],
             [
              0.7777777777777778,
              "#fb9f3a"
             ],
             [
              0.8888888888888888,
              "#fdca26"
             ],
             [
              1,
              "#f0f921"
             ]
            ],
            "type": "histogram2d"
           }
          ],
          "histogram2dcontour": [
           {
            "colorbar": {
             "outlinewidth": 0,
             "ticks": ""
            },
            "colorscale": [
             [
              0,
              "#0d0887"
             ],
             [
              0.1111111111111111,
              "#46039f"
             ],
             [
              0.2222222222222222,
              "#7201a8"
             ],
             [
              0.3333333333333333,
              "#9c179e"
             ],
             [
              0.4444444444444444,
              "#bd3786"
             ],
             [
              0.5555555555555556,
              "#d8576b"
             ],
             [
              0.6666666666666666,
              "#ed7953"
             ],
             [
              0.7777777777777778,
              "#fb9f3a"
             ],
             [
              0.8888888888888888,
              "#fdca26"
             ],
             [
              1,
              "#f0f921"
             ]
            ],
            "type": "histogram2dcontour"
           }
          ],
          "mesh3d": [
           {
            "colorbar": {
             "outlinewidth": 0,
             "ticks": ""
            },
            "type": "mesh3d"
           }
          ],
          "parcoords": [
           {
            "line": {
             "colorbar": {
              "outlinewidth": 0,
              "ticks": ""
             }
            },
            "type": "parcoords"
           }
          ],
          "pie": [
           {
            "automargin": true,
            "type": "pie"
           }
          ],
          "scatter": [
           {
            "fillpattern": {
             "fillmode": "overlay",
             "size": 10,
             "solidity": 0.2
            },
            "type": "scatter"
           }
          ],
          "scatter3d": [
           {
            "line": {
             "colorbar": {
              "outlinewidth": 0,
              "ticks": ""
             }
            },
            "marker": {
             "colorbar": {
              "outlinewidth": 0,
              "ticks": ""
             }
            },
            "type": "scatter3d"
           }
          ],
          "scattercarpet": [
           {
            "marker": {
             "colorbar": {
              "outlinewidth": 0,
              "ticks": ""
             }
            },
            "type": "scattercarpet"
           }
          ],
          "scattergeo": [
           {
            "marker": {
             "colorbar": {
              "outlinewidth": 0,
              "ticks": ""
             }
            },
            "type": "scattergeo"
           }
          ],
          "scattergl": [
           {
            "marker": {
             "colorbar": {
              "outlinewidth": 0,
              "ticks": ""
             }
            },
            "type": "scattergl"
           }
          ],
          "scattermapbox": [
           {
            "marker": {
             "colorbar": {
              "outlinewidth": 0,
              "ticks": ""
             }
            },
            "type": "scattermapbox"
           }
          ],
          "scatterpolar": [
           {
            "marker": {
             "colorbar": {
              "outlinewidth": 0,
              "ticks": ""
             }
            },
            "type": "scatterpolar"
           }
          ],
          "scatterpolargl": [
           {
            "marker": {
             "colorbar": {
              "outlinewidth": 0,
              "ticks": ""
             }
            },
            "type": "scatterpolargl"
           }
          ],
          "scatterternary": [
           {
            "marker": {
             "colorbar": {
              "outlinewidth": 0,
              "ticks": ""
             }
            },
            "type": "scatterternary"
           }
          ],
          "surface": [
           {
            "colorbar": {
             "outlinewidth": 0,
             "ticks": ""
            },
            "colorscale": [
             [
              0,
              "#0d0887"
             ],
             [
              0.1111111111111111,
              "#46039f"
             ],
             [
              0.2222222222222222,
              "#7201a8"
             ],
             [
              0.3333333333333333,
              "#9c179e"
             ],
             [
              0.4444444444444444,
              "#bd3786"
             ],
             [
              0.5555555555555556,
              "#d8576b"
             ],
             [
              0.6666666666666666,
              "#ed7953"
             ],
             [
              0.7777777777777778,
              "#fb9f3a"
             ],
             [
              0.8888888888888888,
              "#fdca26"
             ],
             [
              1,
              "#f0f921"
             ]
            ],
            "type": "surface"
           }
          ],
          "table": [
           {
            "cells": {
             "fill": {
              "color": "#EBF0F8"
             },
             "line": {
              "color": "white"
             }
            },
            "header": {
             "fill": {
              "color": "#C8D4E3"
             },
             "line": {
              "color": "white"
             }
            },
            "type": "table"
           }
          ]
         },
         "layout": {
          "annotationdefaults": {
           "arrowcolor": "#2a3f5f",
           "arrowhead": 0,
           "arrowwidth": 1
          },
          "autotypenumbers": "strict",
          "coloraxis": {
           "colorbar": {
            "outlinewidth": 0,
            "ticks": ""
           }
          },
          "colorscale": {
           "diverging": [
            [
             0,
             "#8e0152"
            ],
            [
             0.1,
             "#c51b7d"
            ],
            [
             0.2,
             "#de77ae"
            ],
            [
             0.3,
             "#f1b6da"
            ],
            [
             0.4,
             "#fde0ef"
            ],
            [
             0.5,
             "#f7f7f7"
            ],
            [
             0.6,
             "#e6f5d0"
            ],
            [
             0.7,
             "#b8e186"
            ],
            [
             0.8,
             "#7fbc41"
            ],
            [
             0.9,
             "#4d9221"
            ],
            [
             1,
             "#276419"
            ]
           ],
           "sequential": [
            [
             0,
             "#0d0887"
            ],
            [
             0.1111111111111111,
             "#46039f"
            ],
            [
             0.2222222222222222,
             "#7201a8"
            ],
            [
             0.3333333333333333,
             "#9c179e"
            ],
            [
             0.4444444444444444,
             "#bd3786"
            ],
            [
             0.5555555555555556,
             "#d8576b"
            ],
            [
             0.6666666666666666,
             "#ed7953"
            ],
            [
             0.7777777777777778,
             "#fb9f3a"
            ],
            [
             0.8888888888888888,
             "#fdca26"
            ],
            [
             1,
             "#f0f921"
            ]
           ],
           "sequentialminus": [
            [
             0,
             "#0d0887"
            ],
            [
             0.1111111111111111,
             "#46039f"
            ],
            [
             0.2222222222222222,
             "#7201a8"
            ],
            [
             0.3333333333333333,
             "#9c179e"
            ],
            [
             0.4444444444444444,
             "#bd3786"
            ],
            [
             0.5555555555555556,
             "#d8576b"
            ],
            [
             0.6666666666666666,
             "#ed7953"
            ],
            [
             0.7777777777777778,
             "#fb9f3a"
            ],
            [
             0.8888888888888888,
             "#fdca26"
            ],
            [
             1,
             "#f0f921"
            ]
           ]
          },
          "colorway": [
           "#636efa",
           "#EF553B",
           "#00cc96",
           "#ab63fa",
           "#FFA15A",
           "#19d3f3",
           "#FF6692",
           "#B6E880",
           "#FF97FF",
           "#FECB52"
          ],
          "font": {
           "color": "#2a3f5f"
          },
          "geo": {
           "bgcolor": "white",
           "lakecolor": "white",
           "landcolor": "#E5ECF6",
           "showlakes": true,
           "showland": true,
           "subunitcolor": "white"
          },
          "hoverlabel": {
           "align": "left"
          },
          "hovermode": "closest",
          "mapbox": {
           "style": "light"
          },
          "paper_bgcolor": "white",
          "plot_bgcolor": "#E5ECF6",
          "polar": {
           "angularaxis": {
            "gridcolor": "white",
            "linecolor": "white",
            "ticks": ""
           },
           "bgcolor": "#E5ECF6",
           "radialaxis": {
            "gridcolor": "white",
            "linecolor": "white",
            "ticks": ""
           }
          },
          "scene": {
           "xaxis": {
            "backgroundcolor": "#E5ECF6",
            "gridcolor": "white",
            "gridwidth": 2,
            "linecolor": "white",
            "showbackground": true,
            "ticks": "",
            "zerolinecolor": "white"
           },
           "yaxis": {
            "backgroundcolor": "#E5ECF6",
            "gridcolor": "white",
            "gridwidth": 2,
            "linecolor": "white",
            "showbackground": true,
            "ticks": "",
            "zerolinecolor": "white"
           },
           "zaxis": {
            "backgroundcolor": "#E5ECF6",
            "gridcolor": "white",
            "gridwidth": 2,
            "linecolor": "white",
            "showbackground": true,
            "ticks": "",
            "zerolinecolor": "white"
           }
          },
          "shapedefaults": {
           "line": {
            "color": "#2a3f5f"
           }
          },
          "ternary": {
           "aaxis": {
            "gridcolor": "white",
            "linecolor": "white",
            "ticks": ""
           },
           "baxis": {
            "gridcolor": "white",
            "linecolor": "white",
            "ticks": ""
           },
           "bgcolor": "#E5ECF6",
           "caxis": {
            "gridcolor": "white",
            "linecolor": "white",
            "ticks": ""
           }
          },
          "title": {
           "x": 0.05
          },
          "xaxis": {
           "automargin": true,
           "gridcolor": "white",
           "linecolor": "white",
           "ticks": "",
           "title": {
            "standoff": 15
           },
           "zerolinecolor": "white",
           "zerolinewidth": 2
          },
          "yaxis": {
           "automargin": true,
           "gridcolor": "white",
           "linecolor": "white",
           "ticks": "",
           "title": {
            "standoff": 15
           },
           "zerolinecolor": "white",
           "zerolinewidth": 2
          }
         }
        },
        "title": {
         "text": "Total Sales by Family"
        },
        "xaxis": {
         "anchor": "y",
         "domain": [
          0,
          0.31999999999999995
         ],
         "title": {
          "text": "date"
         }
        },
        "xaxis10": {
         "anchor": "y10",
         "domain": [
          0,
          0.31999999999999995
         ],
         "matches": "x",
         "showticklabels": false
        },
        "xaxis11": {
         "anchor": "y11",
         "domain": [
          0.33999999999999997,
          0.6599999999999999
         ],
         "matches": "x",
         "showticklabels": false
        },
        "xaxis12": {
         "anchor": "y12",
         "domain": [
          0.6799999999999999,
          0.9999999999999999
         ],
         "matches": "x",
         "showticklabels": false
        },
        "xaxis13": {
         "anchor": "y13",
         "domain": [
          0,
          0.31999999999999995
         ],
         "matches": "x",
         "showticklabels": false
        },
        "xaxis14": {
         "anchor": "y14",
         "domain": [
          0.33999999999999997,
          0.6599999999999999
         ],
         "matches": "x",
         "showticklabels": false
        },
        "xaxis15": {
         "anchor": "y15",
         "domain": [
          0.6799999999999999,
          0.9999999999999999
         ],
         "matches": "x",
         "showticklabels": false
        },
        "xaxis16": {
         "anchor": "y16",
         "domain": [
          0,
          0.31999999999999995
         ],
         "matches": "x",
         "showticklabels": false
        },
        "xaxis17": {
         "anchor": "y17",
         "domain": [
          0.33999999999999997,
          0.6599999999999999
         ],
         "matches": "x",
         "showticklabels": false
        },
        "xaxis18": {
         "anchor": "y18",
         "domain": [
          0.6799999999999999,
          0.9999999999999999
         ],
         "matches": "x",
         "showticklabels": false
        },
        "xaxis19": {
         "anchor": "y19",
         "domain": [
          0,
          0.31999999999999995
         ],
         "matches": "x",
         "showticklabels": false
        },
        "xaxis2": {
         "anchor": "y2",
         "domain": [
          0.33999999999999997,
          0.6599999999999999
         ],
         "matches": "x",
         "title": {
          "text": "date"
         }
        },
        "xaxis20": {
         "anchor": "y20",
         "domain": [
          0.33999999999999997,
          0.6599999999999999
         ],
         "matches": "x",
         "showticklabels": false
        },
        "xaxis21": {
         "anchor": "y21",
         "domain": [
          0.6799999999999999,
          0.9999999999999999
         ],
         "matches": "x",
         "showticklabels": false
        },
        "xaxis22": {
         "anchor": "y22",
         "domain": [
          0,
          0.31999999999999995
         ],
         "matches": "x",
         "showticklabels": false
        },
        "xaxis23": {
         "anchor": "y23",
         "domain": [
          0.33999999999999997,
          0.6599999999999999
         ],
         "matches": "x",
         "showticklabels": false
        },
        "xaxis24": {
         "anchor": "y24",
         "domain": [
          0.6799999999999999,
          0.9999999999999999
         ],
         "matches": "x",
         "showticklabels": false
        },
        "xaxis25": {
         "anchor": "y25",
         "domain": [
          0,
          0.31999999999999995
         ],
         "matches": "x",
         "showticklabels": false
        },
        "xaxis26": {
         "anchor": "y26",
         "domain": [
          0.33999999999999997,
          0.6599999999999999
         ],
         "matches": "x",
         "showticklabels": false
        },
        "xaxis27": {
         "anchor": "y27",
         "domain": [
          0.6799999999999999,
          0.9999999999999999
         ],
         "matches": "x",
         "showticklabels": false
        },
        "xaxis28": {
         "anchor": "y28",
         "domain": [
          0,
          0.31999999999999995
         ],
         "matches": "x",
         "showticklabels": false
        },
        "xaxis29": {
         "anchor": "y29",
         "domain": [
          0.33999999999999997,
          0.6599999999999999
         ],
         "matches": "x",
         "showticklabels": false
        },
        "xaxis3": {
         "anchor": "y3",
         "domain": [
          0.6799999999999999,
          0.9999999999999999
         ],
         "matches": "x",
         "title": {
          "text": "date"
         }
        },
        "xaxis30": {
         "anchor": "y30",
         "domain": [
          0.6799999999999999,
          0.9999999999999999
         ],
         "matches": "x",
         "showticklabels": false
        },
        "xaxis31": {
         "anchor": "y31",
         "domain": [
          0,
          0.31999999999999995
         ],
         "matches": "x",
         "showticklabels": false
        },
        "xaxis32": {
         "anchor": "y32",
         "domain": [
          0.33999999999999997,
          0.6599999999999999
         ],
         "matches": "x",
         "showticklabels": false
        },
        "xaxis33": {
         "anchor": "y33",
         "domain": [
          0.6799999999999999,
          0.9999999999999999
         ],
         "matches": "x",
         "showticklabels": false
        },
        "xaxis4": {
         "anchor": "y4",
         "domain": [
          0,
          0.31999999999999995
         ],
         "matches": "x",
         "showticklabels": false
        },
        "xaxis5": {
         "anchor": "y5",
         "domain": [
          0.33999999999999997,
          0.6599999999999999
         ],
         "matches": "x",
         "showticklabels": false
        },
        "xaxis6": {
         "anchor": "y6",
         "domain": [
          0.6799999999999999,
          0.9999999999999999
         ],
         "matches": "x",
         "showticklabels": false
        },
        "xaxis7": {
         "anchor": "y7",
         "domain": [
          0,
          0.31999999999999995
         ],
         "matches": "x",
         "showticklabels": false
        },
        "xaxis8": {
         "anchor": "y8",
         "domain": [
          0.33999999999999997,
          0.6599999999999999
         ],
         "matches": "x",
         "showticklabels": false
        },
        "xaxis9": {
         "anchor": "y9",
         "domain": [
          0.6799999999999999,
          0.9999999999999999
         ],
         "matches": "x",
         "showticklabels": false
        },
        "yaxis": {
         "anchor": "x",
         "domain": [
          0,
          0.08181818181818182
         ],
         "title": {
          "text": "counts"
         }
        },
        "yaxis10": {
         "anchor": "x10",
         "domain": [
          0.27545454545454545,
          0.3572727272727273
         ],
         "title": {
          "text": "counts"
         }
        },
        "yaxis11": {
         "anchor": "x11",
         "domain": [
          0.27545454545454545,
          0.3572727272727273
         ],
         "showticklabels": false
        },
        "yaxis12": {
         "anchor": "x12",
         "domain": [
          0.27545454545454545,
          0.3572727272727273
         ],
         "showticklabels": false
        },
        "yaxis13": {
         "anchor": "x13",
         "domain": [
          0.36727272727272725,
          0.4490909090909091
         ],
         "title": {
          "text": "counts"
         }
        },
        "yaxis14": {
         "anchor": "x14",
         "domain": [
          0.36727272727272725,
          0.4490909090909091
         ],
         "showticklabels": false
        },
        "yaxis15": {
         "anchor": "x15",
         "domain": [
          0.36727272727272725,
          0.4490909090909091
         ],
         "showticklabels": false
        },
        "yaxis16": {
         "anchor": "x16",
         "domain": [
          0.45909090909090905,
          0.5409090909090909
         ],
         "title": {
          "text": "counts"
         }
        },
        "yaxis17": {
         "anchor": "x17",
         "domain": [
          0.45909090909090905,
          0.5409090909090909
         ],
         "showticklabels": false
        },
        "yaxis18": {
         "anchor": "x18",
         "domain": [
          0.45909090909090905,
          0.5409090909090909
         ],
         "showticklabels": false
        },
        "yaxis19": {
         "anchor": "x19",
         "domain": [
          0.5509090909090908,
          0.6327272727272726
         ],
         "title": {
          "text": "counts"
         }
        },
        "yaxis2": {
         "anchor": "x2",
         "domain": [
          0,
          0.08181818181818182
         ],
         "showticklabels": false
        },
        "yaxis20": {
         "anchor": "x20",
         "domain": [
          0.5509090909090908,
          0.6327272727272726
         ],
         "showticklabels": false
        },
        "yaxis21": {
         "anchor": "x21",
         "domain": [
          0.5509090909090908,
          0.6327272727272726
         ],
         "showticklabels": false
        },
        "yaxis22": {
         "anchor": "x22",
         "domain": [
          0.6427272727272726,
          0.7245454545454544
         ],
         "title": {
          "text": "counts"
         }
        },
        "yaxis23": {
         "anchor": "x23",
         "domain": [
          0.6427272727272726,
          0.7245454545454544
         ],
         "showticklabels": false
        },
        "yaxis24": {
         "anchor": "x24",
         "domain": [
          0.6427272727272726,
          0.7245454545454544
         ],
         "showticklabels": false
        },
        "yaxis25": {
         "anchor": "x25",
         "domain": [
          0.7345454545454544,
          0.8163636363636362
         ],
         "title": {
          "text": "counts"
         }
        },
        "yaxis26": {
         "anchor": "x26",
         "domain": [
          0.7345454545454544,
          0.8163636363636362
         ],
         "showticklabels": false
        },
        "yaxis27": {
         "anchor": "x27",
         "domain": [
          0.7345454545454544,
          0.8163636363636362
         ],
         "showticklabels": false
        },
        "yaxis28": {
         "anchor": "x28",
         "domain": [
          0.8263636363636362,
          0.908181818181818
         ],
         "title": {
          "text": "counts"
         }
        },
        "yaxis29": {
         "anchor": "x29",
         "domain": [
          0.8263636363636362,
          0.908181818181818
         ],
         "showticklabels": false
        },
        "yaxis3": {
         "anchor": "x3",
         "domain": [
          0,
          0.08181818181818182
         ],
         "showticklabels": false
        },
        "yaxis30": {
         "anchor": "x30",
         "domain": [
          0.8263636363636362,
          0.908181818181818
         ],
         "showticklabels": false
        },
        "yaxis31": {
         "anchor": "x31",
         "domain": [
          0.918181818181818,
          0.9999999999999998
         ],
         "title": {
          "text": "counts"
         }
        },
        "yaxis32": {
         "anchor": "x32",
         "domain": [
          0.918181818181818,
          0.9999999999999998
         ],
         "showticklabels": false
        },
        "yaxis33": {
         "anchor": "x33",
         "domain": [
          0.918181818181818,
          0.9999999999999998
         ],
         "showticklabels": false
        },
        "yaxis4": {
         "anchor": "x4",
         "domain": [
          0.09181818181818181,
          0.17363636363636364
         ],
         "title": {
          "text": "counts"
         }
        },
        "yaxis5": {
         "anchor": "x5",
         "domain": [
          0.09181818181818181,
          0.17363636363636364
         ],
         "showticklabels": false
        },
        "yaxis6": {
         "anchor": "x6",
         "domain": [
          0.09181818181818181,
          0.17363636363636364
         ],
         "showticklabels": false
        },
        "yaxis7": {
         "anchor": "x7",
         "domain": [
          0.18363636363636363,
          0.26545454545454544
         ],
         "title": {
          "text": "counts"
         }
        },
        "yaxis8": {
         "anchor": "x8",
         "domain": [
          0.18363636363636363,
          0.26545454545454544
         ],
         "showticklabels": false
        },
        "yaxis9": {
         "anchor": "x9",
         "domain": [
          0.18363636363636363,
          0.26545454545454544
         ],
         "showticklabels": false
        }
       }
      }
     },
     "metadata": {},
     "output_type": "display_data"
    }
   ],
   "source": [
    "sales_monthly_family['month'] = sales_monthly_family['date'].dt.month\n",
    "sales_monthly_family['year'] = sales_monthly_family['date'].dt.year\n",
    "\n",
    "fig = px.line(sales_monthly_family, x='date', y='counts', title='Total Sales by Family',\n",
    "        facet_col='family', facet_col_wrap=3, markers=True, height=2000,\n",
    "        facet_row_spacing=0.01, facet_col_spacing=0)\n",
    "fig.update_yaxes(matches=None)\n",
    "fig"
   ]
  },
  {
   "cell_type": "markdown",
   "metadata": {},
   "source": [
    "* some products show that they were introduced at some point, others \n",
    "were not available for time periods, e.g. family books"
   ]
  },
  {
   "cell_type": "markdown",
   "metadata": {},
   "source": [
    "## Missing Transactions \n",
    "\n",
    "We have 8% transactions missing for  train.csv. What properties of missingnes?"
   ]
  },
  {
   "cell_type": "code",
   "execution_count": null,
   "metadata": {},
   "outputs": [
    {
     "data": {
      "text/html": [
       "<div>\n",
       "<style scoped>\n",
       "    .dataframe tbody tr th:only-of-type {\n",
       "        vertical-align: middle;\n",
       "    }\n",
       "\n",
       "    .dataframe tbody tr th {\n",
       "        vertical-align: top;\n",
       "    }\n",
       "\n",
       "    .dataframe thead th {\n",
       "        text-align: right;\n",
       "    }\n",
       "</style>\n",
       "<table border=\"1\" class=\"dataframe\">\n",
       "  <thead>\n",
       "    <tr style=\"text-align: right;\">\n",
       "      <th></th>\n",
       "      <th>id</th>\n",
       "      <th>date</th>\n",
       "      <th>store_nbr</th>\n",
       "      <th>family</th>\n",
       "      <th>sales</th>\n",
       "      <th>onpromotion</th>\n",
       "      <th>city</th>\n",
       "      <th>state</th>\n",
       "      <th>type</th>\n",
       "      <th>cluster</th>\n",
       "      <th>transactions</th>\n",
       "    </tr>\n",
       "  </thead>\n",
       "  <tbody>\n",
       "    <tr>\n",
       "      <th>0</th>\n",
       "      <td>0</td>\n",
       "      <td>2013-01-01</td>\n",
       "      <td>1</td>\n",
       "      <td>AUTOMOTIVE</td>\n",
       "      <td>0.000</td>\n",
       "      <td>0</td>\n",
       "      <td>Quito</td>\n",
       "      <td>Pichincha</td>\n",
       "      <td>D</td>\n",
       "      <td>13</td>\n",
       "      <td>NaN</td>\n",
       "    </tr>\n",
       "    <tr>\n",
       "      <th>1</th>\n",
       "      <td>1</td>\n",
       "      <td>2013-01-01</td>\n",
       "      <td>1</td>\n",
       "      <td>BABY CARE</td>\n",
       "      <td>0.000</td>\n",
       "      <td>0</td>\n",
       "      <td>Quito</td>\n",
       "      <td>Pichincha</td>\n",
       "      <td>D</td>\n",
       "      <td>13</td>\n",
       "      <td>NaN</td>\n",
       "    </tr>\n",
       "    <tr>\n",
       "      <th>2</th>\n",
       "      <td>2</td>\n",
       "      <td>2013-01-01</td>\n",
       "      <td>1</td>\n",
       "      <td>BEAUTY</td>\n",
       "      <td>0.000</td>\n",
       "      <td>0</td>\n",
       "      <td>Quito</td>\n",
       "      <td>Pichincha</td>\n",
       "      <td>D</td>\n",
       "      <td>13</td>\n",
       "      <td>NaN</td>\n",
       "    </tr>\n",
       "    <tr>\n",
       "      <th>3</th>\n",
       "      <td>3</td>\n",
       "      <td>2013-01-01</td>\n",
       "      <td>1</td>\n",
       "      <td>BEVERAGES</td>\n",
       "      <td>0.000</td>\n",
       "      <td>0</td>\n",
       "      <td>Quito</td>\n",
       "      <td>Pichincha</td>\n",
       "      <td>D</td>\n",
       "      <td>13</td>\n",
       "      <td>NaN</td>\n",
       "    </tr>\n",
       "    <tr>\n",
       "      <th>4</th>\n",
       "      <td>4</td>\n",
       "      <td>2013-01-01</td>\n",
       "      <td>1</td>\n",
       "      <td>BOOKS</td>\n",
       "      <td>0.000</td>\n",
       "      <td>0</td>\n",
       "      <td>Quito</td>\n",
       "      <td>Pichincha</td>\n",
       "      <td>D</td>\n",
       "      <td>13</td>\n",
       "      <td>NaN</td>\n",
       "    </tr>\n",
       "    <tr>\n",
       "      <th>...</th>\n",
       "      <td>...</td>\n",
       "      <td>...</td>\n",
       "      <td>...</td>\n",
       "      <td>...</td>\n",
       "      <td>...</td>\n",
       "      <td>...</td>\n",
       "      <td>...</td>\n",
       "      <td>...</td>\n",
       "      <td>...</td>\n",
       "      <td>...</td>\n",
       "      <td>...</td>\n",
       "    </tr>\n",
       "    <tr>\n",
       "      <th>3000883</th>\n",
       "      <td>3000883</td>\n",
       "      <td>2017-08-15</td>\n",
       "      <td>9</td>\n",
       "      <td>POULTRY</td>\n",
       "      <td>438.133</td>\n",
       "      <td>0</td>\n",
       "      <td>Quito</td>\n",
       "      <td>Pichincha</td>\n",
       "      <td>B</td>\n",
       "      <td>6</td>\n",
       "      <td>2155.0</td>\n",
       "    </tr>\n",
       "    <tr>\n",
       "      <th>3000884</th>\n",
       "      <td>3000884</td>\n",
       "      <td>2017-08-15</td>\n",
       "      <td>9</td>\n",
       "      <td>PREPARED FOODS</td>\n",
       "      <td>154.553</td>\n",
       "      <td>1</td>\n",
       "      <td>Quito</td>\n",
       "      <td>Pichincha</td>\n",
       "      <td>B</td>\n",
       "      <td>6</td>\n",
       "      <td>2155.0</td>\n",
       "    </tr>\n",
       "    <tr>\n",
       "      <th>3000885</th>\n",
       "      <td>3000885</td>\n",
       "      <td>2017-08-15</td>\n",
       "      <td>9</td>\n",
       "      <td>PRODUCE</td>\n",
       "      <td>2419.729</td>\n",
       "      <td>148</td>\n",
       "      <td>Quito</td>\n",
       "      <td>Pichincha</td>\n",
       "      <td>B</td>\n",
       "      <td>6</td>\n",
       "      <td>2155.0</td>\n",
       "    </tr>\n",
       "    <tr>\n",
       "      <th>3000886</th>\n",
       "      <td>3000886</td>\n",
       "      <td>2017-08-15</td>\n",
       "      <td>9</td>\n",
       "      <td>SCHOOL AND OFFICE SUPPLIES</td>\n",
       "      <td>121.000</td>\n",
       "      <td>8</td>\n",
       "      <td>Quito</td>\n",
       "      <td>Pichincha</td>\n",
       "      <td>B</td>\n",
       "      <td>6</td>\n",
       "      <td>2155.0</td>\n",
       "    </tr>\n",
       "    <tr>\n",
       "      <th>3000887</th>\n",
       "      <td>3000887</td>\n",
       "      <td>2017-08-15</td>\n",
       "      <td>9</td>\n",
       "      <td>SEAFOOD</td>\n",
       "      <td>16.000</td>\n",
       "      <td>0</td>\n",
       "      <td>Quito</td>\n",
       "      <td>Pichincha</td>\n",
       "      <td>B</td>\n",
       "      <td>6</td>\n",
       "      <td>2155.0</td>\n",
       "    </tr>\n",
       "  </tbody>\n",
       "</table>\n",
       "<p>3000888 rows × 11 columns</p>\n",
       "</div>"
      ],
      "text/plain": [
       "              id       date store_nbr                      family     sales  \\\n",
       "0              0 2013-01-01         1                  AUTOMOTIVE     0.000   \n",
       "1              1 2013-01-01         1                   BABY CARE     0.000   \n",
       "2              2 2013-01-01         1                      BEAUTY     0.000   \n",
       "3              3 2013-01-01         1                   BEVERAGES     0.000   \n",
       "4              4 2013-01-01         1                       BOOKS     0.000   \n",
       "...          ...        ...       ...                         ...       ...   \n",
       "3000883  3000883 2017-08-15         9                     POULTRY   438.133   \n",
       "3000884  3000884 2017-08-15         9              PREPARED FOODS   154.553   \n",
       "3000885  3000885 2017-08-15         9                     PRODUCE  2419.729   \n",
       "3000886  3000886 2017-08-15         9  SCHOOL AND OFFICE SUPPLIES   121.000   \n",
       "3000887  3000887 2017-08-15         9                     SEAFOOD    16.000   \n",
       "\n",
       "         onpromotion   city      state type cluster  transactions  \n",
       "0                  0  Quito  Pichincha    D      13           NaN  \n",
       "1                  0  Quito  Pichincha    D      13           NaN  \n",
       "2                  0  Quito  Pichincha    D      13           NaN  \n",
       "3                  0  Quito  Pichincha    D      13           NaN  \n",
       "4                  0  Quito  Pichincha    D      13           NaN  \n",
       "...              ...    ...        ...  ...     ...           ...  \n",
       "3000883            0  Quito  Pichincha    B       6        2155.0  \n",
       "3000884            1  Quito  Pichincha    B       6        2155.0  \n",
       "3000885          148  Quito  Pichincha    B       6        2155.0  \n",
       "3000886            8  Quito  Pichincha    B       6        2155.0  \n",
       "3000887            0  Quito  Pichincha    B       6        2155.0  \n",
       "\n",
       "[3000888 rows x 11 columns]"
      ]
     },
     "execution_count": 440,
     "metadata": {},
     "output_type": "execute_result"
    }
   ],
   "source": [
    "train_extended.head()"
   ]
  },
  {
   "cell_type": "code",
   "execution_count": 443,
   "metadata": {},
   "outputs": [],
   "source": [
    "train_extended['transactions_na'] = train_extended['transactions'].isna()"
   ]
  },
  {
   "cell_type": "code",
   "execution_count": 445,
   "metadata": {},
   "outputs": [
    {
     "data": {
      "text/plain": [
       "transactions_na\n",
       "False    1.071263e+09\n",
       "True     2.382034e+06\n",
       "Name: sales, dtype: float64"
      ]
     },
     "execution_count": 445,
     "metadata": {},
     "output_type": "execute_result"
    }
   ],
   "source": [
    "train_extended.groupby(\"transactions_na\").sum()['sales']"
   ]
  },
  {
   "cell_type": "code",
   "execution_count": 451,
   "metadata": {},
   "outputs": [
    {
     "data": {
      "text/html": [
       "<div>\n",
       "<style scoped>\n",
       "    .dataframe tbody tr th:only-of-type {\n",
       "        vertical-align: middle;\n",
       "    }\n",
       "\n",
       "    .dataframe tbody tr th {\n",
       "        vertical-align: top;\n",
       "    }\n",
       "\n",
       "    .dataframe thead tr th {\n",
       "        text-align: left;\n",
       "    }\n",
       "\n",
       "    .dataframe thead tr:last-of-type th {\n",
       "        text-align: right;\n",
       "    }\n",
       "</style>\n",
       "<table border=\"1\" class=\"dataframe\">\n",
       "  <thead>\n",
       "    <tr>\n",
       "      <th></th>\n",
       "      <th colspan=\"8\" halign=\"left\">sales</th>\n",
       "      <th colspan=\"8\" halign=\"left\">onpromotion</th>\n",
       "    </tr>\n",
       "    <tr>\n",
       "      <th></th>\n",
       "      <th>count</th>\n",
       "      <th>mean</th>\n",
       "      <th>std</th>\n",
       "      <th>min</th>\n",
       "      <th>25%</th>\n",
       "      <th>50%</th>\n",
       "      <th>75%</th>\n",
       "      <th>max</th>\n",
       "      <th>count</th>\n",
       "      <th>mean</th>\n",
       "      <th>std</th>\n",
       "      <th>min</th>\n",
       "      <th>25%</th>\n",
       "      <th>50%</th>\n",
       "      <th>75%</th>\n",
       "      <th>max</th>\n",
       "    </tr>\n",
       "    <tr>\n",
       "      <th>transactions_na</th>\n",
       "      <th></th>\n",
       "      <th></th>\n",
       "      <th></th>\n",
       "      <th></th>\n",
       "      <th></th>\n",
       "      <th></th>\n",
       "      <th></th>\n",
       "      <th></th>\n",
       "      <th></th>\n",
       "      <th></th>\n",
       "      <th></th>\n",
       "      <th></th>\n",
       "      <th></th>\n",
       "      <th></th>\n",
       "      <th></th>\n",
       "      <th></th>\n",
       "    </tr>\n",
       "  </thead>\n",
       "  <tbody>\n",
       "    <tr>\n",
       "      <th>False</th>\n",
       "      <td>2755104.0</td>\n",
       "      <td>388.828486</td>\n",
       "      <td>1142.828508</td>\n",
       "      <td>0.0</td>\n",
       "      <td>0.0</td>\n",
       "      <td>17.0</td>\n",
       "      <td>230.61299</td>\n",
       "      <td>124717.000</td>\n",
       "      <td>2755104.0</td>\n",
       "      <td>2.833035</td>\n",
       "      <td>12.724993</td>\n",
       "      <td>0.0</td>\n",
       "      <td>0.0</td>\n",
       "      <td>0.0</td>\n",
       "      <td>0.0</td>\n",
       "      <td>741.0</td>\n",
       "    </tr>\n",
       "    <tr>\n",
       "      <th>True</th>\n",
       "      <td>245784.0</td>\n",
       "      <td>9.691574</td>\n",
       "      <td>234.503322</td>\n",
       "      <td>0.0</td>\n",
       "      <td>0.0</td>\n",
       "      <td>0.0</td>\n",
       "      <td>0.00000</td>\n",
       "      <td>19988.629</td>\n",
       "      <td>245784.0</td>\n",
       "      <td>0.021633</td>\n",
       "      <td>0.729582</td>\n",
       "      <td>0.0</td>\n",
       "      <td>0.0</td>\n",
       "      <td>0.0</td>\n",
       "      <td>0.0</td>\n",
       "      <td>77.0</td>\n",
       "    </tr>\n",
       "  </tbody>\n",
       "</table>\n",
       "</div>"
      ],
      "text/plain": [
       "                     sales                                           \\\n",
       "                     count        mean          std  min  25%   50%   \n",
       "transactions_na                                                       \n",
       "False            2755104.0  388.828486  1142.828508  0.0  0.0  17.0   \n",
       "True              245784.0    9.691574   234.503322  0.0  0.0   0.0   \n",
       "\n",
       "                                       onpromotion                            \\\n",
       "                       75%         max       count      mean        std  min   \n",
       "transactions_na                                                                \n",
       "False            230.61299  124717.000   2755104.0  2.833035  12.724993  0.0   \n",
       "True               0.00000   19988.629    245784.0  0.021633   0.729582  0.0   \n",
       "\n",
       "                                       \n",
       "                 25%  50%  75%    max  \n",
       "transactions_na                        \n",
       "False            0.0  0.0  0.0  741.0  \n",
       "True             0.0  0.0  0.0   77.0  "
      ]
     },
     "execution_count": 451,
     "metadata": {},
     "output_type": "execute_result"
    }
   ],
   "source": [
    "train_extended.groupby(\"transactions_na\").describe()[['sales', 'onpromotion']]"
   ]
  },
  {
   "cell_type": "code",
   "execution_count": 472,
   "metadata": {},
   "outputs": [],
   "source": [
    "train_extended['sales_zero'] = train_extended['sales'].apply(lambda x: x ==0)"
   ]
  },
  {
   "cell_type": "code",
   "execution_count": 474,
   "metadata": {},
   "outputs": [
    {
     "data": {
      "text/html": [
       "<div>\n",
       "<style scoped>\n",
       "    .dataframe tbody tr th:only-of-type {\n",
       "        vertical-align: middle;\n",
       "    }\n",
       "\n",
       "    .dataframe tbody tr th {\n",
       "        vertical-align: top;\n",
       "    }\n",
       "\n",
       "    .dataframe thead th {\n",
       "        text-align: right;\n",
       "    }\n",
       "</style>\n",
       "<table border=\"1\" class=\"dataframe\">\n",
       "  <thead>\n",
       "    <tr style=\"text-align: right;\">\n",
       "      <th></th>\n",
       "      <th>transactions_na</th>\n",
       "    </tr>\n",
       "    <tr>\n",
       "      <th>sales_zero</th>\n",
       "      <th></th>\n",
       "    </tr>\n",
       "  </thead>\n",
       "  <tbody>\n",
       "    <tr>\n",
       "      <th>False</th>\n",
       "      <td>2061758</td>\n",
       "    </tr>\n",
       "    <tr>\n",
       "      <th>True</th>\n",
       "      <td>939130</td>\n",
       "    </tr>\n",
       "  </tbody>\n",
       "</table>\n",
       "</div>"
      ],
      "text/plain": [
       "            transactions_na\n",
       "sales_zero                 \n",
       "False               2061758\n",
       "True                 939130"
      ]
     },
     "execution_count": 474,
     "metadata": {},
     "output_type": "execute_result"
    }
   ],
   "source": [
    "train_extended.pivot_table(index='sales_zero', values='transactions_na', aggfunc='count')"
   ]
  },
  {
   "cell_type": "markdown",
   "metadata": {},
   "source": [
    "> Hypothesis that transactions are NaN if the sales are missing, no recording, is\n",
    "not fully correct, but clearly there are less cases of sales. Outcome of feature\n",
    "transaction might depend on target variable. "
   ]
  },
  {
   "cell_type": "code",
   "execution_count": 453,
   "metadata": {},
   "outputs": [
    {
     "data": {
      "text/html": [
       "<div>\n",
       "<style scoped>\n",
       "    .dataframe tbody tr th:only-of-type {\n",
       "        vertical-align: middle;\n",
       "    }\n",
       "\n",
       "    .dataframe tbody tr th {\n",
       "        vertical-align: top;\n",
       "    }\n",
       "\n",
       "    .dataframe thead th {\n",
       "        text-align: right;\n",
       "    }\n",
       "</style>\n",
       "<table border=\"1\" class=\"dataframe\">\n",
       "  <thead>\n",
       "    <tr style=\"text-align: right;\">\n",
       "      <th></th>\n",
       "      <th>transactions_na</th>\n",
       "      <th>False</th>\n",
       "      <th>True</th>\n",
       "    </tr>\n",
       "  </thead>\n",
       "  <tbody>\n",
       "    <tr>\n",
       "      <th rowspan=\"4\" valign=\"top\">id</th>\n",
       "      <th>count</th>\n",
       "      <td>2755104</td>\n",
       "      <td>245784</td>\n",
       "    </tr>\n",
       "    <tr>\n",
       "      <th>unique</th>\n",
       "      <td>2755104</td>\n",
       "      <td>245784</td>\n",
       "    </tr>\n",
       "    <tr>\n",
       "      <th>top</th>\n",
       "      <td>561</td>\n",
       "      <td>0</td>\n",
       "    </tr>\n",
       "    <tr>\n",
       "      <th>freq</th>\n",
       "      <td>1</td>\n",
       "      <td>1</td>\n",
       "    </tr>\n",
       "    <tr>\n",
       "      <th rowspan=\"4\" valign=\"top\">store_nbr</th>\n",
       "      <th>count</th>\n",
       "      <td>2755104</td>\n",
       "      <td>245784</td>\n",
       "    </tr>\n",
       "    <tr>\n",
       "      <th>unique</th>\n",
       "      <td>54</td>\n",
       "      <td>54</td>\n",
       "    </tr>\n",
       "    <tr>\n",
       "      <th>top</th>\n",
       "      <td>39</td>\n",
       "      <td>52</td>\n",
       "    </tr>\n",
       "    <tr>\n",
       "      <th>freq</th>\n",
       "      <td>55374</td>\n",
       "      <td>51678</td>\n",
       "    </tr>\n",
       "    <tr>\n",
       "      <th rowspan=\"4\" valign=\"top\">family</th>\n",
       "      <th>count</th>\n",
       "      <td>2755104</td>\n",
       "      <td>245784</td>\n",
       "    </tr>\n",
       "    <tr>\n",
       "      <th>unique</th>\n",
       "      <td>33</td>\n",
       "      <td>33</td>\n",
       "    </tr>\n",
       "    <tr>\n",
       "      <th>top</th>\n",
       "      <td>AUTOMOTIVE</td>\n",
       "      <td>AUTOMOTIVE</td>\n",
       "    </tr>\n",
       "    <tr>\n",
       "      <th>freq</th>\n",
       "      <td>83488</td>\n",
       "      <td>7448</td>\n",
       "    </tr>\n",
       "    <tr>\n",
       "      <th rowspan=\"4\" valign=\"top\">city</th>\n",
       "      <th>count</th>\n",
       "      <td>2755104</td>\n",
       "      <td>245784</td>\n",
       "    </tr>\n",
       "    <tr>\n",
       "      <th>unique</th>\n",
       "      <td>22</td>\n",
       "      <td>22</td>\n",
       "    </tr>\n",
       "    <tr>\n",
       "      <th>top</th>\n",
       "      <td>Quito</td>\n",
       "      <td>Manta</td>\n",
       "    </tr>\n",
       "    <tr>\n",
       "      <th>freq</th>\n",
       "      <td>966702</td>\n",
       "      <td>68739</td>\n",
       "    </tr>\n",
       "    <tr>\n",
       "      <th rowspan=\"4\" valign=\"top\">state</th>\n",
       "      <th>count</th>\n",
       "      <td>2755104</td>\n",
       "      <td>245784</td>\n",
       "    </tr>\n",
       "    <tr>\n",
       "      <th>unique</th>\n",
       "      <td>16</td>\n",
       "      <td>16</td>\n",
       "    </tr>\n",
       "    <tr>\n",
       "      <th>top</th>\n",
       "      <td>Pichincha</td>\n",
       "      <td>Manabi</td>\n",
       "    </tr>\n",
       "    <tr>\n",
       "      <th>freq</th>\n",
       "      <td>1022010</td>\n",
       "      <td>69003</td>\n",
       "    </tr>\n",
       "    <tr>\n",
       "      <th rowspan=\"4\" valign=\"top\">type</th>\n",
       "      <th>count</th>\n",
       "      <td>2755104</td>\n",
       "      <td>245784</td>\n",
       "    </tr>\n",
       "    <tr>\n",
       "      <th>unique</th>\n",
       "      <td>5</td>\n",
       "      <td>5</td>\n",
       "    </tr>\n",
       "    <tr>\n",
       "      <th>top</th>\n",
       "      <td>D</td>\n",
       "      <td>B</td>\n",
       "    </tr>\n",
       "    <tr>\n",
       "      <th>freq</th>\n",
       "      <td>942249</td>\n",
       "      <td>61479</td>\n",
       "    </tr>\n",
       "    <tr>\n",
       "      <th rowspan=\"4\" valign=\"top\">cluster</th>\n",
       "      <th>count</th>\n",
       "      <td>2755104</td>\n",
       "      <td>245784</td>\n",
       "    </tr>\n",
       "    <tr>\n",
       "      <th>unique</th>\n",
       "      <td>17</td>\n",
       "      <td>17</td>\n",
       "    </tr>\n",
       "    <tr>\n",
       "      <th>top</th>\n",
       "      <td>3</td>\n",
       "      <td>6</td>\n",
       "    </tr>\n",
       "    <tr>\n",
       "      <th>freq</th>\n",
       "      <td>386628</td>\n",
       "      <td>57387</td>\n",
       "    </tr>\n",
       "  </tbody>\n",
       "</table>\n",
       "</div>"
      ],
      "text/plain": [
       "transactions_na        False        True\n",
       "id        count      2755104      245784\n",
       "          unique     2755104      245784\n",
       "          top            561           0\n",
       "          freq             1           1\n",
       "store_nbr count      2755104      245784\n",
       "          unique          54          54\n",
       "          top             39          52\n",
       "          freq         55374       51678\n",
       "family    count      2755104      245784\n",
       "          unique          33          33\n",
       "          top     AUTOMOTIVE  AUTOMOTIVE\n",
       "          freq         83488        7448\n",
       "city      count      2755104      245784\n",
       "          unique          22          22\n",
       "          top          Quito       Manta\n",
       "          freq        966702       68739\n",
       "state     count      2755104      245784\n",
       "          unique          16          16\n",
       "          top      Pichincha      Manabi\n",
       "          freq       1022010       69003\n",
       "type      count      2755104      245784\n",
       "          unique           5           5\n",
       "          top              D           B\n",
       "          freq        942249       61479\n",
       "cluster   count      2755104      245784\n",
       "          unique          17          17\n",
       "          top              3           6\n",
       "          freq        386628       57387"
      ]
     },
     "execution_count": 453,
     "metadata": {},
     "output_type": "execute_result"
    }
   ],
   "source": [
    "train_extended.groupby(\"transactions_na\").describe(include=['object']).T"
   ]
  },
  {
   "cell_type": "markdown",
   "metadata": {},
   "source": [
    "> Unclear reason for missing transaction values and it could be dangerous to\n",
    "build a feature from it, if we don't know how/when missing values appear."
   ]
  },
  {
   "cell_type": "code",
   "execution_count": null,
   "metadata": {},
   "outputs": [],
   "source": []
  }
 ],
 "metadata": {
  "interpreter": {
   "hash": "9e8f3a279aa87927c1099ed2ea47558c7dbc06666bddea539215509337de3c21"
  },
  "kernelspec": {
   "display_name": "Python 3.7.13 ('kaggle_storesales_forecasting')",
   "language": "python",
   "name": "python3"
  },
  "language_info": {
   "codemirror_mode": {
    "name": "ipython",
    "version": 3
   },
   "file_extension": ".py",
   "mimetype": "text/x-python",
   "name": "python",
   "nbconvert_exporter": "python",
   "pygments_lexer": "ipython3",
   "version": "3.7.13"
  },
  "orig_nbformat": 4
 },
 "nbformat": 4,
 "nbformat_minor": 2
}
