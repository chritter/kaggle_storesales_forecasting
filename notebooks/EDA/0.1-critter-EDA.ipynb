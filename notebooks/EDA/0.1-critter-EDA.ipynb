{
 "cells": [
  {
   "cell_type": "markdown",
   "metadata": {},
   "source": [
    "# EDA 1\n",
    "\n",
    "### Goals\n",
    "\n",
    "* Initial Exploration of Dataset\n",
    "* Identify data c\n",
    "\n",
    "### Commments"
   ]
  },
  {
   "cell_type": "code",
   "execution_count": null,
   "metadata": {},
   "outputs": [],
   "source": []
  }
 ],
 "metadata": {
  "interpreter": {
   "hash": "9e8f3a279aa87927c1099ed2ea47558c7dbc06666bddea539215509337de3c21"
  },
  "kernelspec": {
   "display_name": "Python 3.7.13 ('kaggle_storesales_forecasting')",
   "language": "python",
   "name": "python3"
  },
  "language_info": {
   "codemirror_mode": {
    "name": "ipython",
    "version": 3
   },
   "file_extension": ".py",
   "mimetype": "text/x-python",
   "name": "python",
   "nbconvert_exporter": "python",
   "pygments_lexer": "ipython3",
   "version": "3.7.13"
  },
  "orig_nbformat": 4
 },
 "nbformat": 4,
 "nbformat_minor": 2
}
